{
 "cells": [
  {
   "cell_type": "markdown",
   "id": "bb67515b-5892-478c-b31f-77a20c4ef72c",
   "metadata": {},
   "source": [
    "## Non-variational fixed-depth Hamiltonian simulation\n",
    "\n",
    "Here we reproduce the the main demonstration example of \"Fixed-depth Hamiltonian simulation via Cartan decomposition\"\n",
    "with our recursive KAK decomposition tool."
   ]
  },
  {
   "cell_type": "code",
   "execution_count": 1,
   "id": "a78e07f6-0c7a-4b6d-9b67-7b7bbad8bc3d",
   "metadata": {
    "execution": {
     "iopub.execute_input": "2025-03-03T14:48:12.396589Z",
     "iopub.status.busy": "2025-03-03T14:48:12.396040Z",
     "iopub.status.idle": "2025-03-03T14:48:13.392190Z",
     "shell.execute_reply": "2025-03-03T14:48:13.391767Z",
     "shell.execute_reply.started": "2025-03-03T14:48:12.396562Z"
    }
   },
   "outputs": [],
   "source": [
    "from functools import partial\n",
    "from itertools import combinations, product\n",
    "import numpy as np\n",
    "np.random.seed(2415)\n",
    "from scipy.linalg import expm\n",
    "import matplotlib.pyplot as plt\n",
    "from matplotlib.cm import get_cmap\n",
    "from tqdm.notebook import tqdm\n",
    "\n",
    "import jax\n",
    "jax.config.update(\"jax_enable_x64\", True)\n",
    "\n",
    "import pennylane as qml\n",
    "from pennylane import X, Y, Z, I\n",
    "from pennylane.devices.default_qubit import stopping_condition as sc_def\n",
    "\n",
    "from kak_tools import (\n",
    "    map_simple_to_irrep,\n",
    "    map_irrep_to_matrices,\n",
    "    identify_algebra,\n",
    "    split_pauli_algebra,\n",
    "    bdi,\n",
    "    lie_closure_pauli_words,\n",
    "    recursive_bdi,\n",
    "    map_recursive_decomp_to_reducible,\n",
    "    map_matrix_to_reducible,\n",
    "    make_so_2n_full_mapping,\n",
    "    make_signs,\n",
    ")"
   ]
  },
  {
   "cell_type": "markdown",
   "id": "0cf0151d-c9a0-4abd-acd1-0ca8c3cc1f80",
   "metadata": {},
   "source": [
    "We begin by defining the Pauli words in the Hamiltonian \n",
    "\n",
    "$\n",
    "H = \\sum_{j=1}^{n-1} \\alpha_j X_j X_{j+1} + \\beta_j Y_j Y_{j+1} + \\sum_{j=1}^n \\gamma_j Z_j\n",
    "$\n",
    "\n",
    "and computing their Lie closure. We obtain a reducible representation of $\\mathfrak{so}(2n)$ on $\\mathbb{C}^{2^n}$."
   ]
  },
  {
   "cell_type": "code",
   "execution_count": 32,
   "id": "5c8941c0-0a27-4fe6-b3c3-c74db10aee60",
   "metadata": {
    "execution": {
     "iopub.execute_input": "2025-03-03T15:01:58.881245Z",
     "iopub.status.busy": "2025-03-03T15:01:58.880962Z",
     "iopub.status.idle": "2025-03-03T15:01:58.919973Z",
     "shell.execute_reply": "2025-03-03T15:01:58.919440Z",
     "shell.execute_reply.started": "2025-03-03T15:01:58.881224Z"
    }
   },
   "outputs": [
    {
     "name": "stdout",
     "output_type": "stream",
     "text": [
      "Hamiltonian algebra on 10 qubits with size 190; expected size is 190\n"
     ]
    }
   ],
   "source": [
    "n = 10 # Number of qubits\n",
    "\n",
    "# Hamiltonian terms\n",
    "couplings = [X(w) @ X(w+1) for w in range(n-1)] + [Y(w) @ Y(w+1) for w in range(n-1)]# + [X(n-1) @ X(0), Y(n-1) @ Y(0)]\n",
    "Zs = [Z(w) for w in range(n)]\n",
    "generators = couplings + Zs\n",
    "# Map from general qml.operation.Operator instances to qml.pauli.PauliWord instances\n",
    "generators = [next(iter(op.pauli_rep)) for op in generators]\n",
    "\n",
    "# Compute Hamiltonian Lie algebra\n",
    "algebra = lie_closure_pauli_words(generators, verbose=False)\n",
    "\n",
    "# Compare algebra size to expected size of so(2n)\n",
    "n_so = 2 * n # The \"n\" in so(n)\n",
    "so_dim = (n_so**2-n_so) // 2\n",
    "\n",
    "print(f\"Hamiltonian algebra on {n} qubits with size {len(algebra)}; expected size is {so_dim}\")"
   ]
  },
  {
   "cell_type": "markdown",
   "id": "a0e6b35c-f824-4122-a5c6-3bf8a2e45113",
   "metadata": {},
   "source": [
    "Next, we map this irreducible representation to an irreducible representation on $\\mathbb{R}^{2n}$,\n",
    "by creating a `mapping` of each Pauli word to a basis element $F_{ij} = E_{ij} - E_{ji}$, where $E_{ij}$ is the real $2n \\times 2n$ matrix with a $1$\n",
    "at position $(i, j)$ and zeros else (we will use zero-based indexing). This mapping does not contain the signs required to make it an algebra homomorphism,\n",
    "but we compute them in a separate lookup table `signs`.\n",
    "\n",
    "We have one more requirement for this mapping, though:\n",
    "The Pauli words from $H$ stored in `generators` are horizontal with respect to an involution on the reducible representation.\n",
    "In order to use the KAK theorem for the mapping of $H$, we need to make sure that these generators are mapped to basis elements that\n",
    "are horizontal with respect to the involution on the irreducible representation of the same type.\n",
    "We will use an involution of type BDI and in the irreducible representation, we choose the canonical form of the involution\n",
    "\n",
    "$\n",
    "\\theta(x) = I_{n, n} x I_{n, n} \\text{ with } I_{n, n} = \\operatorname{diag}(\\underset{\\times n}{\\underbrace{1, \\cdots, 1}}, \\underset{\\times n}{\\underbrace{-1, \\cdots, -1}}).\n",
    "$\n",
    "\n",
    "The basis elements $F_{ij}$ above are eigenstates of this involution, and the horizontal (eigenvalue $-1$) elements are those with $i<n$ and $j\\geq n$:\n",
    "\n",
    "$$\n",
    "\\theta(F_{ij}) \n",
    "= \\delta_{k\\ell} (\\lambda(k<n) - \\lambda(k>=n)) (E_{ij} - E_{ji})_{\\ell m} \\delta_{mp} (\\lambda(m<n) - \\lambda(m>=n))\n",
    "= (-1)^{i>n} (-1)^{j>n} F_{ij} \n",
    "$$\n",
    "\n",
    "We therefore make sure to map the Hamiltonian Pauli words to such elements with $i<n$ and $j\\geq n$, by passing `generators` to `map_simple_to_irrep`\n",
    "and the involution type `\"BDI\"`."
   ]
  },
  {
   "cell_type": "code",
   "execution_count": 33,
   "id": "13d10284-67c9-4fb9-8c8e-85f8c8f4c21a",
   "metadata": {
    "execution": {
     "iopub.execute_input": "2025-03-03T15:01:59.242888Z",
     "iopub.status.busy": "2025-03-03T15:01:59.241964Z",
     "iopub.status.idle": "2025-03-03T15:01:59.247128Z",
     "shell.execute_reply": "2025-03-03T15:01:59.246413Z",
     "shell.execute_reply.started": "2025-03-03T15:01:59.242844Z"
    }
   },
   "outputs": [],
   "source": [
    "# mapping, signs = map_simple_to_irrep(algebra, horizontal_ops=generators, n=n_so, invol_type=\"BDI\", invol_kwargs={\"p\": n_so//2, \"q\": n_so//2})\n",
    "mapping, signs = make_so_2n_full_mapping(n)\n",
    "# signs = make_signs(mapping, n_so, \"BDI\")"
   ]
  },
  {
   "cell_type": "markdown",
   "id": "ba1150a5-03b6-465f-af13-e338374b715b",
   "metadata": {},
   "source": [
    "This mapping can now be used to create dense matrices in the irreducible representation:"
   ]
  },
  {
   "cell_type": "code",
   "execution_count": 34,
   "id": "c47d9f2c-5cca-462d-87df-fe1e1f7d0c6a",
   "metadata": {
    "execution": {
     "iopub.execute_input": "2025-03-03T15:01:59.543994Z",
     "iopub.status.busy": "2025-03-03T15:01:59.543377Z",
     "iopub.status.idle": "2025-03-03T15:01:59.549956Z",
     "shell.execute_reply": "2025-03-03T15:01:59.549301Z",
     "shell.execute_reply.started": "2025-03-03T15:01:59.543948Z"
    }
   },
   "outputs": [],
   "source": [
    "matrix_map = map_irrep_to_matrices(mapping, signs, n_so, invol_type=\"BDI\")"
   ]
  },
  {
   "cell_type": "markdown",
   "id": "020c0134-40e6-470c-8eb9-f896f229e0a7",
   "metadata": {},
   "source": [
    "Now we can map individual Pauli operators to basis elements $F_{ij}$ in a homomorphic manner:"
   ]
  },
  {
   "cell_type": "code",
   "execution_count": 35,
   "id": "59a73fbe-972b-44c3-ab27-8791ec159037",
   "metadata": {
    "execution": {
     "iopub.execute_input": "2025-03-03T15:01:59.852059Z",
     "iopub.status.busy": "2025-03-03T15:01:59.851769Z",
     "iopub.status.idle": "2025-03-03T15:01:59.856970Z",
     "shell.execute_reply": "2025-03-03T15:01:59.856412Z",
     "shell.execute_reply.started": "2025-03-03T15:01:59.852041Z"
    }
   },
   "outputs": [
    {
     "name": "stdout",
     "output_type": "stream",
     "text": [
      "True\n"
     ]
    }
   ],
   "source": [
    "op1, op2 = algebra[0], algebra[n]\n",
    "# Compute operator commutator, taking imaginary unit into account\n",
    "ops_com = (qml.commutator(1j * op1, 1j * op2) / 1j).pauli_rep\n",
    "# Make sure the commutator really is just a rescaled Pauli word\n",
    "assert len(ops_com) == 1\n",
    "# Extract Pauli word and scalar prefactor from operator commutator\n",
    "[(ops_com_pw, ops_com_prefactor)] = ops_com.items()\n",
    "# Map the Pauli word to irreducible basis element and include scalar prefactor\n",
    "commutator_from_ops = matrix_map[ops_com_pw] * ops_com_prefactor\n",
    "\n",
    "# Map the original operators to matrices directly and compute the matrix commutator\n",
    "mat1, mat2 = matrix_map[op1], matrix_map[op2]\n",
    "commutator_from_mats = mat1 @ mat2 - mat2 @ mat1\n",
    "\n",
    "# Check whether the commutators agree\n",
    "print(np.allclose(commutator_from_ops, commutator_from_mats))"
   ]
  },
  {
   "cell_type": "markdown",
   "id": "73eb3994-0eb2-4855-9521-b36403b16585",
   "metadata": {},
   "source": [
    "Here we had to take into account that we store Pauli words in `algebra` but mathematically, the algebra consists of Pauli words multiplied\n",
    "by the imaginary unit.\n",
    "\n",
    "To take this one step further, we can compute the structure constants, which capture the essence of a Lie algebra without its representation,\n",
    "in both representations. If our mapping is a homomorphism, it will maintain the structure constants."
   ]
  },
  {
   "cell_type": "code",
   "execution_count": 36,
   "id": "ecd99b26-5899-407f-b383-7f91ec1b0150",
   "metadata": {
    "execution": {
     "iopub.execute_input": "2025-03-03T15:02:00.316973Z",
     "iopub.status.busy": "2025-03-03T15:02:00.316578Z",
     "iopub.status.idle": "2025-03-03T15:02:04.801473Z",
     "shell.execute_reply": "2025-03-03T15:02:04.800703Z",
     "shell.execute_reply.started": "2025-03-03T15:02:00.316954Z"
    }
   },
   "outputs": [
    {
     "name": "stdout",
     "output_type": "stream",
     "text": [
      "False\n"
     ]
    }
   ],
   "source": [
    "# Only run this cell if the size of the structure constants tensor is manageable.\n",
    "if n <= 10:\n",
    "    from pennylane.labs.dla import structure_constants_dense\n",
    "    \n",
    "    # Compute structure constants for dense, low-dimensional irreducible representation\n",
    "    # Convention: supply Hermitian instead of skew-Hermitian operators to structure_constants_dense\n",
    "    adj_dense = structure_constants_dense([matrix_map[op]/1j for op in algebra], is_orthonormal=False)\n",
    "    # Compute structure constants for sparse reducible representation\n",
    "    adj = qml.pauli.dla.structure_constants(algebra, pauli=True)\n",
    "    # Compare the two\n",
    "    print(np.allclose(adj, adj_dense))"
   ]
  },
  {
   "cell_type": "markdown",
   "id": "b4cd1d8a-3412-44cf-b399-c71a0fb86314",
   "metadata": {},
   "source": [
    "Next, we can sample some random coefficients for the Hamiltonian and then construct it in the reducible and irreducible representations.\n",
    "For the former, we simply use `qml.dot` with the coefficients and the Pauli operators that generated the algebra.\n",
    "For the former, we map the Hamiltonian generators to matrices and then combine those with the coefficients $\\alpha$, $\\beta$, $\\gamma$.\n",
    "\n",
    "Note that we renormalize the Hamiltonian by its trace norm, similar to the experiment performed in the model paper."
   ]
  },
  {
   "cell_type": "code",
   "execution_count": 37,
   "id": "8d1fc5df-90a9-4f04-9998-b52e4d5e4e0a",
   "metadata": {
    "execution": {
     "iopub.execute_input": "2025-03-03T15:02:04.802449Z",
     "iopub.status.busy": "2025-03-03T15:02:04.802245Z",
     "iopub.status.idle": "2025-03-03T15:02:04.913750Z",
     "shell.execute_reply": "2025-03-03T15:02:04.913283Z",
     "shell.execute_reply.started": "2025-03-03T15:02:04.802436Z"
    }
   },
   "outputs": [
    {
     "data": {
      "text/plain": [
       "<matplotlib.image.AxesImage at 0x734b5b5e7fd0>"
      ]
     },
     "execution_count": 37,
     "metadata": {},
     "output_type": "execute_result"
    },
    {
     "data": {
      "image/png": "[encoded data removed]",
      "text/plain": [
       "<Figure size 640x480 with 1 Axes>"
      ]
     },
     "metadata": {},
     "output_type": "display_data"
    }
   ],
   "source": [
    "# alphas = np.random.normal(0.6, 1., size=n-1)\n",
    "# betas = np.random.normal(0.3, 1.2, size=n-1)\n",
    "alphas = np.ones(n-1)\n",
    "betas = np.ones(n-1)\n",
    "gammas = np.random.normal(0., 0.3, size=n)\n",
    "coeffs = np.concatenate([alphas, betas, gammas])\n",
    "coeffs /= np.linalg.norm(coeffs) # Normalization\n",
    "H = qml.dot(coeffs, generators)\n",
    "terms_irrep = np.stack([matrix_map[gen] for gen in generators])\n",
    "H_irrep = np.tensordot(coeffs, terms_irrep, axes=[[0], [0]])\n",
    "\n",
    "# Show pattern in H, which is BDI-horizontal\n",
    "plt.imshow(H_irrep, cmap=plt.get_cmap(\"RdYlGn\"))\n"
   ]
  },
  {
   "cell_type": "markdown",
   "id": "fe59ce7d-40ee-492f-84ff-d967c0378811",
   "metadata": {},
   "source": [
    "Now we can move on to the KAK decomposition. For this we create an \"exemplary\" time evolution operator\n",
    "$\\exp(-i\\epsilon H)$ with a small time scale of $\\epsilon=10^{-3}$. This will ensure that we compile in a neighbourhood of the identity, where extracting\n",
    "Pauli rotations from the irreducible representation works well.\n",
    "\n",
    "Note that we will not have to include the imaginary unit here, because the implemented matrix `H_irrep` is an _algebra_ element, so that it already corresponds to $iH$.\n",
    "As we are moving in the irreducible representation of $\\mathfrak{so}(2n)$ here, `H_irrep` and the time evolution operator are just real $2n \\times 2n$ matrices."
   ]
  },
  {
   "cell_type": "code",
   "execution_count": 38,
   "id": "59d92406-4d66-4527-9d95-ac7c60e953f7",
   "metadata": {
    "execution": {
     "iopub.execute_input": "2025-03-03T15:02:04.914385Z",
     "iopub.status.busy": "2025-03-03T15:02:04.914187Z",
     "iopub.status.idle": "2025-03-03T15:02:04.917650Z",
     "shell.execute_reply": "2025-03-03T15:02:04.916983Z",
     "shell.execute_reply.started": "2025-03-03T15:02:04.914369Z"
    }
   },
   "outputs": [
    {
     "name": "stdout",
     "output_type": "stream",
     "text": [
      "(20, 20) 20\n"
     ]
    }
   ],
   "source": [
    "epsilon = 0.01\n",
    "U = expm(epsilon * H_irrep)\n",
    "print(U.shape, n_so)"
   ]
  },
  {
   "cell_type": "markdown",
   "id": "ef3c7970-c913-4c27-ae16-ff5358cdf5d3",
   "metadata": {},
   "source": [
    "Then we apply our recursive BDI KAK decomposition to the time evolution operator, which will decompose the vertical operators in each step until we arrive at matrices of the form\n",
    "\n",
    "$\n",
    "\\left(\\begin{array}{cccc}\n",
    "    \\cos(a) & -\\sin(a) & 0 & 0 \\\\\n",
    "    \\sin(a) & \\cos(a) & 0 & 0 \\\\\n",
    "    0 & 0 & \\cos(b) & -\\sin(b) \\\\\n",
    "    0 & 0 & \\sin(b) & \\cos(b)\n",
    "\\end{array}\\right),\n",
    "$\n",
    "\n",
    "corresponding to the operation $\\exp(-i(aP_1+bP_2))$ where $P_1$ ($P_2$)is the Pauli word mapped to the basis element $F_{ij}$ matching the entry $-\\sin(a)$ ($-\\sin(b)$) in the matrix above. In particular, because those basis elements commute, $P_1$ and $P_2$ will, too, allowing us to pull the exponential apart into individual Pauli rotations, $\\exp(-iaP_1)\\exp(-ibP_2)$."
   ]
  },
  {
   "cell_type": "code",
   "execution_count": 39,
   "id": "ea3e58be-b2ea-4358-8e29-7fc920e05716",
   "metadata": {
    "execution": {
     "iopub.execute_input": "2025-03-03T15:02:04.918565Z",
     "iopub.status.busy": "2025-03-03T15:02:04.918428Z",
     "iopub.status.idle": "2025-03-03T15:02:04.925638Z",
     "shell.execute_reply": "2025-03-03T15:02:04.924694Z",
     "shell.execute_reply.started": "2025-03-03T15:02:04.918553Z"
    }
   },
   "outputs": [],
   "source": [
    "recursive_decomp = recursive_bdi(U, n_so, validate=False, return_all=True)\n",
    "num_iter = max(recursive_decomp.keys())"
   ]
  },
  {
   "cell_type": "code",
   "execution_count": 40,
   "id": "b017e9c4-e192-40f7-9c2b-74545ff177e6",
   "metadata": {
    "execution": {
     "iopub.execute_input": "2025-03-03T15:02:04.926956Z",
     "iopub.status.busy": "2025-03-03T15:02:04.926638Z",
     "iopub.status.idle": "2025-03-03T15:02:04.936787Z",
     "shell.execute_reply": "2025-03-03T15:02:04.936319Z",
     "shell.execute_reply.started": "2025-03-03T15:02:04.926934Z"
    }
   },
   "outputs": [],
   "source": [
    "from kak_tools import recursive_bdi, map_recursive_decomp_to_reducible\n",
    "\n",
    "recursive_decomp = recursive_bdi(U, n_so, validate=False)"
   ]
  },
  {
   "cell_type": "code",
   "execution_count": null,
   "id": "a98948bb-63fc-4bb1-b198-98a74f131ddc",
   "metadata": {},
   "outputs": [],
   "source": []
  },
  {
   "cell_type": "markdown",
   "id": "0021e53a-2cb3-4d46-8645-6df1465e355b",
   "metadata": {},
   "source": [
    "To arrive at a circuit that can be implemented in terms of Pauli rotation, we need to map back to the reducible representation.\n",
    "This is done by the following function, which also takes the time scale $\\epsilon=10^{-3}$ from above into account to arrive at a neutral \n",
    "decomposition of $\\exp(iH)$ instead of $\\exp(i\\epsilon H)$"
   ]
  },
  {
   "cell_type": "code",
   "execution_count": 41,
   "id": "9398e0dc-2f31-42fe-96f1-b5b803cb0f34",
   "metadata": {
    "execution": {
     "iopub.execute_input": "2025-03-03T15:02:04.937494Z",
     "iopub.status.busy": "2025-03-03T15:02:04.937253Z",
     "iopub.status.idle": "2025-03-03T15:02:04.948763Z",
     "shell.execute_reply": "2025-03-03T15:02:04.947313Z",
     "shell.execute_reply.started": "2025-03-03T15:02:04.937468Z"
    }
   },
   "outputs": [],
   "source": [
    "pauli_decomp = map_recursive_decomp_to_reducible(recursive_decomp, mapping, signs, time=epsilon, validate=False)"
   ]
  },
  {
   "cell_type": "markdown",
   "id": "b810acb9-cdc7-4ef0-8bf6-f7f62f99f442",
   "metadata": {},
   "source": [
    "As we can see, `pauli_decomp` now contains tuples of a Pauli word, a coefficient, and a string that indicates whether the term stems from a\n",
    "vertical space (`\"k\"`), an intermediate Cartan subalgebra (`\"a\"`), or the very first Cartan subalgebra (`\"a0\"`).\n",
    "The distinction between `\"k\"` and `\"a\"` on one side and `\"a0\"` on the other will be important when we implement `exp(iHt)` for arbitrary times.\n",
    "\n",
    "To make this data easier to use in a PennyLane circuit with `PauliRot`, let's rewrite it into tuples of 1) the coefficient, 2) a string summarizing\n",
    "the non-identity Pauli operators of the Pauli word, 3) a `Wires` object to indicate where the Pauli word will act, and 4) the original type string."
   ]
  },
  {
   "cell_type": "code",
   "execution_count": 42,
   "id": "28e856a5-83fe-4a38-961a-2b1001207616",
   "metadata": {
    "execution": {
     "iopub.execute_input": "2025-03-03T15:02:04.950673Z",
     "iopub.status.busy": "2025-03-03T15:02:04.950248Z",
     "iopub.status.idle": "2025-03-03T15:02:04.962909Z",
     "shell.execute_reply": "2025-03-03T15:02:04.961913Z",
     "shell.execute_reply.started": "2025-03-03T15:02:04.950634Z"
    }
   },
   "outputs": [
    {
     "name": "stdout",
     "output_type": "stream",
     "text": [
      "We decomposed the time evolution into 190 Pauli rotations.\n"
     ]
    }
   ],
   "source": [
    "paulirot_decomp = [(coeff, qml.pauli.pauli_word_to_string(pw), pw.wires, _type) for pw, coeff, _type in pauli_decomp]\n",
    "# The following does not work, of course: sum_i Z_i is a symmetry of H but does not commute with K.\n",
    "# Note how otherwise the time evolution would become trivial.\n",
    "# for i in range(n):\n",
    "#     print(paulirot_decomp[(len(paulirot_decomp) - n) // 2+i])\n",
    "# del paulirot_decomp[(len(paulirot_decomp) - n) // 2+n-1]\n",
    "print(f\"We decomposed the time evolution into {len(paulirot_decomp)} Pauli rotations.\")"
   ]
  },
  {
   "cell_type": "markdown",
   "id": "de75dee6-a3ad-4299-b3f4-fc08b0bc0d4b",
   "metadata": {},
   "source": [
    "With this decomposition in our hands, we can construct a circuit implementing the time evolution operator. For\n",
    "this we implement a function that translates our pre-processed Pauli rotation data into actual `PauliRot` gates.\n",
    "It also takes into account that for a flexible-time evolution operator $\\exp(-itH)$ with $t$ other than $\\epsilon=10^{-3}$\n",
    "from above, the central CSA element (as indicated by the string `\"a0\"`) needs to be rescaled by $t$."
   ]
  },
  {
   "cell_type": "code",
   "execution_count": 43,
   "id": "c9d8b878-f930-477d-ae72-6d39419c421d",
   "metadata": {
    "execution": {
     "iopub.execute_input": "2025-03-03T15:02:08.433522Z",
     "iopub.status.busy": "2025-03-03T15:02:08.433047Z",
     "iopub.status.idle": "2025-03-03T15:02:08.444059Z",
     "shell.execute_reply": "2025-03-03T15:02:08.443561Z",
     "shell.execute_reply.started": "2025-03-03T15:02:08.433487Z"
    }
   },
   "outputs": [],
   "source": [
    "def kak_time_evolution(time):\n",
    "    # invert order because circuits and matrix products are written in opposite order\n",
    "    for coeff, pauli_str, wires, _type in paulirot_decomp[::-1]:\n",
    "        # Rescale the coefficient by the evolution time if the Pauli term is in the\n",
    "        # central Cartan subalgebra\n",
    "        if _type == \"a0\":\n",
    "            coeff = coeff * time\n",
    "        # Multiply by (-2) to undo the conventional builtin prefactor of -1/2 for PauliRot\n",
    "        qml.PauliRot(-2 * coeff, pauli_word=pauli_str, wires=wires)\n",
    "\n",
    "N = qml.dot([(1 - r) / 2 for r in range(1, n+1)], Zs) + sum([(r-1)/2 for r in range(1, n+1)])\n",
    "N_sq = qml.simplify(N @ N)\n",
    "\n",
    "if n < 28:\n",
    "    dev_light = qml.device(\"lightning.qubit\", wires=n) # Fast simulator\n",
    "    dev_def = qml.device(\"default.qubit\", wires=n) # Slower but supports large dense matrices\n",
    "\n",
    "@qml.qnode(dev_def, grad_on_execution=False)\n",
    "def kak_circuit(time):\n",
    "    qml.X(0)\n",
    "    kak_time_evolution(-time)\n",
    "    return qml.expval(N_sq)"
   ]
  },
  {
   "cell_type": "code",
   "execution_count": 44,
   "id": "7548252c-9d6a-4995-8d87-7a4176f1a949",
   "metadata": {
    "execution": {
     "iopub.execute_input": "2025-03-03T15:02:08.616951Z",
     "iopub.status.busy": "2025-03-03T15:02:08.616418Z",
     "iopub.status.idle": "2025-03-03T15:02:08.620749Z",
     "shell.execute_reply": "2025-03-03T15:02:08.620079Z",
     "shell.execute_reply.started": "2025-03-03T15:02:08.616915Z"
    }
   },
   "outputs": [],
   "source": [
    "# qml.about()"
   ]
  },
  {
   "cell_type": "markdown",
   "id": "cfdc939b-7588-4cf9-924f-faac6add7319",
   "metadata": {},
   "source": [
    "We will compare this circuit to an exact implementation of the time evolution and a Trotterized circuit. Let's set up those as well.\n",
    "To allow us to count gates later on, we apply a decomposition transform to the Trotterized circuit that decomposes `Exp` operators\n",
    "into more meaningful, concrete operations."
   ]
  },
  {
   "cell_type": "code",
   "execution_count": 45,
   "id": "c1671d0a-784d-4339-be5e-a3a9e8eee009",
   "metadata": {
    "execution": {
     "iopub.execute_input": "2025-03-03T15:02:08.929863Z",
     "iopub.status.busy": "2025-03-03T15:02:08.929515Z",
     "iopub.status.idle": "2025-03-03T15:02:08.938775Z",
     "shell.execute_reply": "2025-03-03T15:02:08.938055Z",
     "shell.execute_reply.started": "2025-03-03T15:02:08.929836Z"
    }
   },
   "outputs": [],
   "source": [
    "def stopping_condition(obj):\n",
    "    return sc_def(obj) and not isinstance(obj, qml.ops.Exp)\n",
    "\n",
    "@partial(qml.devices.preprocess.decompose, stopping_condition=stopping_condition)\n",
    "@qml.qnode(dev_def, grad_on_execution=False)\n",
    "def trotter_circuit(time, num_steps):\n",
    "    qml.X(0)\n",
    "    qml.exp(-1j * time * H, num_steps=num_steps)\n",
    "    return qml.expval(N_sq)\n",
    "\n",
    "@qml.qnode(dev_def, interface=\"jax\", grad_on_execution=False)\n",
    "def exact_circuit(time):\n",
    "    qml.X(0)\n",
    "    qml.exp(-1j * time * H)\n",
    "    return qml.expval(N_sq)"
   ]
  },
  {
   "cell_type": "code",
   "execution_count": 46,
   "id": "f3f0b184-ab24-47a2-8e70-a35d40480d1e",
   "metadata": {
    "execution": {
     "iopub.execute_input": "2025-03-03T15:02:09.299850Z",
     "iopub.status.busy": "2025-03-03T15:02:09.299591Z",
     "iopub.status.idle": "2025-03-03T15:02:11.553751Z",
     "shell.execute_reply": "2025-03-03T15:02:11.553208Z",
     "shell.execute_reply.started": "2025-03-03T15:02:09.299833Z"
    }
   },
   "outputs": [],
   "source": [
    "if n < 28:\n",
    "    times = np.linspace(0, 25, 50)\n",
    "    all_num_steps = [2, 5, 10, 20]\n",
    "    kak_out = jax.vmap(kak_circuit, in_axes=0)(times)\n",
    "    assert np.allclose(np.abs(kak_out), kak_out)\n",
    "    kak_out = np.abs(kak_out)"
   ]
  },
  {
   "cell_type": "code",
   "execution_count": 47,
   "id": "9384ee27-6d77-4186-bcf1-841e92684875",
   "metadata": {
    "execution": {
     "iopub.execute_input": "2025-03-03T15:02:11.554458Z",
     "iopub.status.busy": "2025-03-03T15:02:11.554314Z",
     "iopub.status.idle": "2025-03-03T15:02:51.138252Z",
     "shell.execute_reply": "2025-03-03T15:02:51.137528Z",
     "shell.execute_reply.started": "2025-03-03T15:02:11.554446Z"
    }
   },
   "outputs": [
    {
     "data": {
      "application/vnd.jupyter.widget-view+json": {
       "model_id": "912a053bf62d49858dc04dc25227b2ab",
       "version_major": 2,
       "version_minor": 0
      },
      "text/plain": [
       "  0%|          | 0/50 [00:00<?, ?it/s]"
      ]
     },
     "metadata": {},
     "output_type": "display_data"
    }
   ],
   "source": [
    "if n <= 10:\n",
    "    if n<=6:\n",
    "        exact_out = jax.vmap(exact_circuit, in_axes=0)(times)\n",
    "    else:\n",
    "        exact_circuit = jax.jit(exact_circuit)\n",
    "        exact_out = np.array([exact_circuit(t) for t in tqdm(times)])"
   ]
  },
  {
   "cell_type": "code",
   "execution_count": 48,
   "id": "eab69e41-3c32-4373-abfe-d3667c0787b4",
   "metadata": {
    "execution": {
     "iopub.execute_input": "2025-03-03T15:02:51.139040Z",
     "iopub.status.busy": "2025-03-03T15:02:51.138827Z",
     "iopub.status.idle": "2025-03-03T15:02:54.906639Z",
     "shell.execute_reply": "2025-03-03T15:02:54.906011Z",
     "shell.execute_reply.started": "2025-03-03T15:02:51.139021Z"
    }
   },
   "outputs": [
    {
     "data": {
      "application/vnd.jupyter.widget-view+json": {
       "model_id": "8d32b7c4a4cd469fb46ec0af15441bf9",
       "version_major": 2,
       "version_minor": 0
      },
      "text/plain": [
       "  0%|          | 0/4 [00:00<?, ?it/s]"
      ]
     },
     "metadata": {},
     "output_type": "display_data"
    }
   ],
   "source": [
    "if n < 28:\n",
    "    trotter_out = [\n",
    "        jax.vmap(partial(trotter_circuit, num_steps=ns), in_axes=0)(times)\n",
    "        for ns in tqdm(all_num_steps)\n",
    "    ]"
   ]
  },
  {
   "cell_type": "code",
   "execution_count": 49,
   "id": "5a8538c1-53f0-4e36-b934-1775efc6c2e5",
   "metadata": {
    "execution": {
     "iopub.execute_input": "2025-03-03T15:02:54.907684Z",
     "iopub.status.busy": "2025-03-03T15:02:54.907511Z",
     "iopub.status.idle": "2025-03-03T15:02:55.205215Z",
     "shell.execute_reply": "2025-03-03T15:02:55.204576Z",
     "shell.execute_reply.started": "2025-03-03T15:02:54.907668Z"
    }
   },
   "outputs": [
    {
     "data": {
      "image/png": "[encoded data removed]",
      "text/plain": [
       "<Figure size 640x480 with 2 Axes>"
      ]
     },
     "metadata": {},
     "output_type": "display_data"
    }
   ],
   "source": [
    "if n < 28:\n",
    "    fig, axs = plt.subplots(2, 1)\n",
    "    ax = axs[0]\n",
    "    ax.plot(times, np.sqrt(kak_out), label=\"KAK decomposition\", color=\"xkcd:spring green\")\n",
    "    if n <= 10:\n",
    "        ax.plot(times, np.sqrt(exact_out), label=\"Exact\", color=\"xkcd:brick red\", ls=\":\")\n",
    "    for ns, out in zip(all_num_steps, trotter_out):\n",
    "        ax.plot(times, np.sqrt(out), label=f\"Trotter ({ns} steps)\", ls=\"--\")\n",
    "    ax.legend()\n",
    "    ax.set_ylabel(\"$\\sqrt{\\\\langle N^2\\\\rangle}$\")\n",
    "    ax.set_xlabel(\"Time\")\n",
    "    \n",
    "    if n <= 10:\n",
    "        ax = axs[1]\n",
    "        ax.plot(times, np.abs(np.sqrt(kak_out)-np.sqrt(exact_out)), label=\"KAK decomposition\", color=\"xkcd:spring green\")\n",
    "        for ns, out in zip(all_num_steps, trotter_out):\n",
    "            ax.plot(times, np.abs(np.sqrt(out)-np.sqrt(exact_out)), label=f\"Trotter ({ns} steps)\", ls=\"--\")\n",
    "        ax.legend()\n",
    "        ax.set_yscale(\"log\")\n",
    "        ax.set_ylabel(\"Error in $\\sqrt{\\\\langle N^2\\\\rangle}$\")\n",
    "        ax.set_xlabel(\"Time\");"
   ]
  },
  {
   "cell_type": "code",
   "execution_count": 50,
   "id": "ead12b72-22b1-4d3a-a743-dbccb2ad28fb",
   "metadata": {
    "execution": {
     "iopub.execute_input": "2025-03-03T15:02:55.205838Z",
     "iopub.status.busy": "2025-03-03T15:02:55.205705Z",
     "iopub.status.idle": "2025-03-03T15:02:55.618373Z",
     "shell.execute_reply": "2025-03-03T15:02:55.617679Z",
     "shell.execute_reply.started": "2025-03-03T15:02:55.205826Z"
    }
   },
   "outputs": [
    {
     "name": "stdout",
     "output_type": "stream",
     "text": [
      "190\n",
      "56\n",
      "140\n",
      "280\n",
      "560\n"
     ]
    }
   ],
   "source": [
    "def get_paulirot_count(qnode):\n",
    "    var_types = {\"PauliRot\", \"IsingXX\", \"IsingYY\", \"RZ\"}\n",
    "    def wrapper(*args, **kwargs):\n",
    "        specs = qml.specs(qnode)(*args, **kwargs)\n",
    "        gate_count = specs['resources'].num_gates\n",
    "        gate_types = specs['resources'].gate_types\n",
    "        assert set(gate_types).issubset(var_types | {\"PauliX\"}), f\"{gate_types}\"\n",
    "        assert gate_types[\"PauliX\"] == 1\n",
    "        var_gate_count = 0\n",
    "        for t in var_types:\n",
    "            var_gate_count += gate_types.get(t, 0) \n",
    "        assert gate_count == var_gate_count + 1\n",
    "        return var_gate_count\n",
    "    return wrapper\n",
    "\n",
    "print(get_paulirot_count(kak_circuit)(times[-1]))\n",
    "for ns in all_num_steps:\n",
    "    print(get_paulirot_count(trotter_circuit)(times[-1], num_steps=ns))"
   ]
  },
  {
   "cell_type": "code",
   "execution_count": 51,
   "id": "78a5a9e0-47b8-4976-8033-3c040d94a3e1",
   "metadata": {
    "execution": {
     "iopub.execute_input": "2025-03-03T15:02:55.618889Z",
     "iopub.status.busy": "2025-03-03T15:02:55.618776Z",
     "iopub.status.idle": "2025-03-03T15:02:55.628555Z",
     "shell.execute_reply": "2025-03-03T15:02:55.628166Z",
     "shell.execute_reply.started": "2025-03-03T15:02:55.618878Z"
    }
   },
   "outputs": [
    {
     "name": "stdout",
     "output_type": "stream",
     "text": [
      "0: ──X──────────╭RXY(-2.89)──╭RXYZ(4.27)─╭RXY(-4.03)───────────────╭RXYZZ(3.92)─╭RXY(1.55)─\n",
      "1: ─────────────╰RXY(-2.89)──├RXYZ(4.27)─╰RXY(-4.03)──╭RXYZZ(1.20)─├RXYZZ(3.92)─╰RXY(1.55)─\n",
      "2: ──────────────────────────╰RXYZ(4.27)──────────────├RXYZZ(1.20)─├RXYZZ(3.92)────────────\n",
      "3: ─╭RXY(0.51)────────────────────────────────────────├RXYZZ(1.20)─╰RXYZZ(3.92)─╭RXY(-3.08)\n",
      "4: ─╰RXY(0.51)────────────────────────────────────────╰RXYZZ(1.20)──────────────╰RXY(-3.08)\n",
      "5: ─╭RXY(-3.73)─╭RXYZ(-1.25)─╭RXY(-0.55)──────────────╭RXYZZ(3.65)─╭RXY(-0.60)──╭RXYZ(3.84)\n",
      "6: ─╰RXY(-3.73)─├RXYZ(-1.25)─╰RXY(-0.55)─╭RXYZZ(1.05)─├RXYZZ(3.65)─╰RXY(-0.60)──├RXYZ(3.84)\n",
      "7: ─────────────╰RXYZ(-1.25)─────────────├RXYZZ(1.05)─├RXYZZ(3.65)──────────────╰RXYZ(3.84)\n",
      "8: ─╭RXY(1.24)───────────────────────────├RXYZZ(1.05)─╰RXYZZ(3.65)─╭RXY(-1.88)─────────────\n",
      "9: ─╰RXY(1.24)───────────────────────────╰RXYZZ(1.05)──────────────╰RXY(-1.88)─────────────\n",
      "\n",
      "──╭RXYZ(-1.41)─╭RXY(-3.02)─────────────────────────────────────────────────╭RXYZZZZ(0.02)\n",
      "──├RXYZ(-1.41)─╰RXY(-3.02)──────────────────────────────────╭RXYZZZZ(0.20)─├RXYZZZZ(0.02)\n",
      "──╰RXYZ(-1.41)───────────────────────────────╭RXYZZZZ(0.67)─├RXYZZZZ(0.20)─├RXYZZZZ(0.02)\n",
      "──────────────────────────────╭RXYZZZZ(1.41)─├RXYZZZZ(0.67)─├RXYZZZZ(0.20)─├RXYZZZZ(0.02)\n",
      "───────────────╭RXYZZZZ(1.54)─├RXYZZZZ(1.41)─├RXYZZZZ(0.67)─├RXYZZZZ(0.20)─├RXYZZZZ(0.02)\n",
      "──╭RXY(-2.75)──├RXYZZZZ(1.54)─├RXYZZZZ(1.41)─├RXYZZZZ(0.67)─├RXYZZZZ(0.20)─╰RXYZZZZ(0.02)\n",
      "──╰RXY(-2.75)──├RXYZZZZ(1.54)─├RXYZZZZ(1.41)─├RXYZZZZ(0.67)─╰RXYZZZZ(0.20)───────────────\n",
      "───────────────├RXYZZZZ(1.54)─├RXYZZZZ(1.41)─╰RXYZZZZ(0.67)──────────────────────────────\n",
      "───────────────├RXYZZZZ(1.54)─╰RXYZZZZ(1.41)─╭RXY(-3.54)─────────────────────────────────\n",
      "───────────────╰RXYZZZZ(1.54)────────────────╰RXY(-3.54)─────────────────────────────────\n",
      "\n",
      "──╭RXY(-3.08)─╭RXYZ(-1.27)─╭RXY(1.38)───────────────╭RXYZZ(2.28)─╭RXY(-0.64)─╭RXYZ(-1.19)\n",
      "──╰RXY(-3.08)─├RXYZ(-1.27)─╰RXY(1.38)──╭RXYZZ(1.29)─├RXYZZ(2.28)─╰RXY(-0.64)─├RXYZ(-1.19)\n",
      "──────────────╰RXYZ(-1.27)─────────────├RXYZZ(1.29)─├RXYZZ(2.28)─────────────╰RXYZ(-1.19)\n",
      "──╭RXY(-3.15)──────────────────────────├RXYZZ(1.29)─╰RXYZZ(2.28)─╭RXY(-0.93)─╭RYX(2.63)──\n",
      "──╰RXY(-3.15)──────────────────────────╰RXYZZ(1.29)──────────────╰RXY(-0.93)─╰RYX(2.63)──\n",
      "──╭RXY(-3.15)─╭RXYZ(3.78)──╭RXY(-1.53)──────────────╭RXYZZ(2.83)─╭RXY(-4.49)─╭RXYZ(4.18)─\n",
      "──╰RXY(-3.15)─├RXYZ(3.78)──╰RXY(-1.53)─╭RXYZZ(1.26)─├RXYZZ(2.83)─╰RXY(-4.49)─├RXYZ(4.18)─\n",
      "──────────────╰RXYZ(3.78)──────────────├RXYZZ(1.26)─├RXYZZ(2.83)─────────────╰RXYZ(4.18)─\n",
      "───────────────────────────────────────├RXYZZ(1.26)─╰RXYZZ(2.83)─╭RXY(-0.11)─╭RYX(1.90)──\n",
      "───────────────────────────────────────╰RXYZZ(1.26)──────────────╰RXY(-0.11)─╰RYX(1.90)──\n",
      "\n",
      "──╭RXY(-0.69)─╭RYX(2.89)─╭RYXZ(-4.27)─╭RYX(0.89)───────────────╭RYXZZ(-0.78)─╭RYX(1.55)─\n",
      "──╰RXY(-0.69)─╰RYX(2.89)─├RYXZ(-4.27)─╰RYX(0.89)─╭RYXZZ(-1.20)─├RYXZZ(-0.78)─╰RYX(1.55)─\n",
      "─────────────────────────╰RYXZ(-4.27)────────────├RYXZZ(-1.20)─├RYXZZ(-0.78)────────────\n",
      "─────────────────────────────────────────────────├RYXZZ(-1.20)─╰RYXZZ(-0.78)─╭RYX(0.06)─\n",
      "─────────────────────────────────────────────────╰RYXZZ(-1.20)───────────────╰RYX(0.06)─\n",
      "──╭RXY(-2.77)─╭RYX(3.73)─╭RYXZ(1.25)──╭RYX(3.69)───────────────╭RYXZZ(-0.51)─╭RYX(-0.60)\n",
      "──╰RXY(-2.77)─╰RYX(3.73)─├RYXZ(1.25)──╰RYX(3.69)─╭RYXZZ(-1.05)─├RYXZZ(-0.51)─╰RYX(-0.60)\n",
      "─────────────────────────╰RYXZ(1.25)─────────────├RYXZZ(-1.05)─├RYXZZ(-0.51)────────────\n",
      "─────────────────────────────────────────────────├RYXZZ(-1.05)─╰RYXZZ(-0.51)─╭RYX(1.26)─\n",
      "─────────────────────────────────────────────────╰RYXZZ(-1.05)───────────────╰RYX(1.26)─\n",
      "\n",
      "──╭RYXZ(1.41)──╭RYX(3.26)────────────────────────────────────────────────────────────────\n",
      "──├RYXZ(1.41)──╰RYX(3.26)─────────────────────────────────────────────────╭RYXZZZZ(-0.20)\n",
      "──╰RYXZ(1.41)─────────────────────────────────────────────╭RYXZZZZ(-0.67)─├RYXZZZZ(-0.20)\n",
      "──────────────────────────────────────────╭RYXZZZZ(-1.41)─├RYXZZZZ(-0.67)─├RYXZZZZ(-0.20)\n",
      "──────────────────────────╭RYXZZZZ(-1.54)─├RYXZZZZ(-1.41)─├RYXZZZZ(-0.67)─├RYXZZZZ(-0.20)\n",
      "──╭RYXZ(-3.84)─╭RYX(3.53)─├RYXZZZZ(-1.54)─├RYXZZZZ(-1.41)─├RYXZZZZ(-0.67)─├RYXZZZZ(-0.20)\n",
      "──├RYXZ(-3.84)─╰RYX(3.53)─├RYXZZZZ(-1.54)─├RYXZZZZ(-1.41)─├RYXZZZZ(-0.67)─╰RYXZZZZ(-0.20)\n",
      "──╰RYXZ(-3.84)────────────├RYXZZZZ(-1.54)─├RYXZZZZ(-1.41)─╰RYXZZZZ(-0.67)────────────────\n",
      "──────────────────────────├RYXZZZZ(-1.54)─╰RYXZZZZ(-1.41)─╭RYX(-0.40)────────────────────\n",
      "──────────────────────────╰RYXZZZZ(-1.54)─────────────────╰RYX(-0.40)────────────────────\n",
      "\n",
      "──╭RYXZZZZ(-0.02)─╭RYX(0.07)──╭RYXZ(-4.41)─╭RYX(-1.38)───────────────╭RYXZZ(-4.01)─╭RYX(3.78)\n",
      "──├RYXZZZZ(-0.02)─╰RYX(0.07)──├RYXZ(-4.41)─╰RYX(-1.38)─╭RYXZZ(-1.29)─├RYXZZ(-4.01)─╰RYX(3.78)\n",
      "──├RYXZZZZ(-0.02)─────────────╰RYXZ(-4.41)─────────────├RYXZZ(-1.29)─├RYXZZ(-4.01)───────────\n",
      "──├RYXZZZZ(-0.02)─╭RYX(3.13)───────────────────────────├RYXZZ(-1.29)─╰RYXZZ(-4.01)─╭RYX(2.21)\n",
      "──├RYXZZZZ(-0.02)─╰RYX(3.13)───────────────────────────╰RYXZZ(-1.29)───────────────╰RYX(2.21)\n",
      "──╰RYXZZZZ(-0.02)─╭RYX(-0.01)─╭RYXZ(0.64)──╭RYX(4.67)────────────────╭RYXZZ(-3.45)─╭RYX(1.35)\n",
      "──────────────────╰RYX(-0.01)─├RYXZ(0.64)──╰RYX(4.67)──╭RYXZZ(-1.26)─├RYXZZ(-3.45)─╰RYX(1.35)\n",
      "──────────────────────────────╰RYXZ(0.64)──────────────├RYXZZ(-1.26)─├RYXZZ(-3.45)───────────\n",
      "───────────────────────────────────────────────────────├RYXZZ(-1.26)─╰RYXZZ(-3.45)─╭RYX(3.04)\n",
      "───────────────────────────────────────────────────────╰RYXZZ(-1.26)───────────────╰RYX(3.04)\n",
      "\n",
      "──╭RYXZ(1.19)─╭RYX(3.83)──RZ(-0.06)─╭RYX(2.45)──╭RYXZ(-1.19)─╭RYX(2.51)───────────────╭RYXZZ(4.01)\n",
      "──├RYXZ(1.19)─╰RYX(3.83)──RZ(0.07)──╰RYX(2.45)──├RYXZ(-1.19)─╰RYX(2.51)──╭RYXZZ(1.29)─├RYXZZ(4.01)\n",
      "──╰RYXZ(1.19)──RZ(0.17)─────────────────────────╰RYXZ(-1.19)─────────────├RYXZZ(1.29)─├RYXZZ(4.01)\n",
      "───RZ(0.22)───╭RYX(4.07)─────────────────────────────────────────────────├RYXZZ(1.29)─╰RYXZZ(4.01)\n",
      "───RZ(0.27)───╰RYX(4.07)─────────────────────────────────────────────────╰RYXZZ(1.29)─────────────\n",
      "──╭RYXZ(1.04)─╭RYX(0.37)──RZ(0.34)──╭RYX(-0.37)─╭RYXZ(-1.04)─╭RYX(-1.35)──────────────╭RYXZZ(3.45)\n",
      "──├RYXZ(1.04)─╰RYX(0.37)──RZ(0.37)──╰RYX(-0.37)─├RYXZ(-1.04)─╰RYX(-1.35)─╭RYXZZ(1.26)─├RYXZZ(3.45)\n",
      "──╰RYXZ(1.04)──RZ(0.40)─────────────────────────╰RYXZ(-1.04)─────────────├RYXZZ(1.26)─├RYXZZ(3.45)\n",
      "───RZ(0.44)───╭RYX(3.25)─────────────────────────────────────────────────├RYXZZ(1.26)─╰RYXZZ(3.45)\n",
      "───RZ(0.49)───╰RYX(3.25)─────────────────────────────────────────────────╰RYXZZ(1.26)─────────────\n",
      "\n",
      "──╭RYX(1.38)─╭RYXZ(4.41)──╭RYX(-0.07)────────────────────────────────────────────────────────────\n",
      "──╰RYX(1.38)─├RYXZ(4.41)──╰RYX(-0.07)──────────────────────────────────────────────╭RYXZZZZ(0.20)\n",
      "─────────────╰RYXZ(4.41)────────────────────────────────────────────╭RYXZZZZ(0.67)─├RYXZZZZ(0.20)\n",
      "──╭RYX(3.15)─────────────────────────────────────────╭RYXZZZZ(1.41)─├RYXZZZZ(0.67)─├RYXZZZZ(0.20)\n",
      "──╰RYX(3.15)──────────────────────────╭RYXZZZZ(1.54)─├RYXZZZZ(1.41)─├RYXZZZZ(0.67)─├RYXZZZZ(0.20)\n",
      "──╭RYX(1.61)─╭RYXZ(-0.64)─╭RYX(0.01)──├RYXZZZZ(1.54)─├RYXZZZZ(1.41)─├RYXZZZZ(0.67)─├RYXZZZZ(0.20)\n",
      "──╰RYX(1.61)─├RYXZ(-0.64)─╰RYX(0.01)──├RYXZZZZ(1.54)─├RYXZZZZ(1.41)─├RYXZZZZ(0.67)─╰RYXZZZZ(0.20)\n",
      "─────────────╰RYXZ(-0.64)─────────────├RYXZZZZ(1.54)─├RYXZZZZ(1.41)─╰RYXZZZZ(0.67)───────────────\n",
      "──╭RYX(0.40)──────────────────────────├RYXZZZZ(1.54)─╰RYXZZZZ(1.41)─╭RYX(-1.26)──────────────────\n",
      "──╰RYX(0.40)──────────────────────────╰RYXZZZZ(1.54)────────────────╰RYX(-1.26)──────────────────\n",
      "\n",
      "──╭RYXZZZZ(0.02)─╭RYX(3.02)──╭RYXZ(-1.41)─╭RYX(-1.55)──────────────╭RYXZZ(0.78)─╭RYX(-0.89)\n",
      "──├RYXZZZZ(0.02)─╰RYX(3.02)──├RYXZ(-1.41)─╰RYX(-1.55)─╭RYXZZ(1.20)─├RYXZZ(0.78)─╰RYX(-0.89)\n",
      "──├RYXZZZZ(0.02)─────────────╰RYXZ(-1.41)─────────────├RYXZZ(1.20)─├RYXZZ(0.78)────────────\n",
      "──├RYXZZZZ(0.02)─╭RYX(-0.06)──────────────────────────├RYXZZ(1.20)─╰RYXZZ(0.78)─╭RYX(3.65)─\n",
      "──├RYXZZZZ(0.02)─╰RYX(-0.06)──────────────────────────╰RYXZZ(1.20)──────────────╰RYX(3.65)─\n",
      "──╰RYXZZZZ(0.02)─╭RYX(2.75)──╭RYXZ(3.84)──╭RYX(0.60)───────────────╭RYXZZ(0.51)─╭RYX(2.59)─\n",
      "─────────────────╰RYX(2.75)──├RYXZ(3.84)──╰RYX(0.60)──╭RYXZZ(1.05)─├RYXZZ(0.51)─╰RYX(2.59)─\n",
      "─────────────────────────────╰RYXZ(3.84)──────────────├RYXZZ(1.05)─├RYXZZ(0.51)────────────\n",
      "──────────────────────────────────────────────────────├RYXZZ(1.05)─╰RYXZZ(0.51)─╭RYX(4.38)─\n",
      "──────────────────────────────────────────────────────╰RYXZZ(1.05)──────────────╰RYX(4.38)─\n",
      "\n",
      "──╭RYXZ(4.27)──╭RYX(3.39)─╭RXY(0.69)──╭RXYZ(1.19)──╭RXY(0.64)────────────────╭RXYZZ(-2.28)\n",
      "──├RYXZ(4.27)──╰RYX(3.39)─╰RXY(0.69)──├RXYZ(1.19)──╰RXY(0.64)──╭RXYZZ(-1.29)─├RXYZZ(-2.28)\n",
      "──╰RYXZ(4.27)─────────────────────────╰RXYZ(1.19)──────────────├RXYZZ(-1.29)─├RXYZZ(-2.28)\n",
      "──╭RXY(0.93)───────────────────────────────────────────────────├RXYZZ(-1.29)─╰RXYZZ(-2.28)\n",
      "──╰RXY(0.93)───────────────────────────────────────────────────╰RXYZZ(-1.29)──────────────\n",
      "──╭RYXZ(-1.25)─╭RYX(2.55)─╭RXY(-3.51)─╭RXYZ(-4.18)─╭RXY(-1.80)───────────────╭RXYZZ(-2.83)\n",
      "──├RYXZ(-1.25)─╰RYX(2.55)─╰RXY(-3.51)─├RXYZ(-4.18)─╰RXY(-1.80)─╭RXYZZ(-1.26)─├RXYZZ(-2.83)\n",
      "──╰RYXZ(-1.25)────────────────────────╰RXYZ(-4.18)─────────────├RXYZZ(-1.26)─├RXYZZ(-2.83)\n",
      "──╭RXY(0.11)───────────────────────────────────────────────────├RXYZZ(-1.26)─╰RXYZZ(-2.83)\n",
      "──╰RXY(0.11)───────────────────────────────────────────────────╰RXYZZ(-1.26)──────────────\n",
      "\n",
      "──╭RXY(-1.38)─╭RXYZ(1.27)──╭RXY(-3.21)────────────────────────────────────────────────\n",
      "──╰RXY(-1.38)─├RXYZ(1.27)──╰RXY(-3.21)────────────────────────────────────────────────\n",
      "──────────────╰RXYZ(1.27)──────────────────────────────────────────────╭RXYZZZZ(-0.67)\n",
      "──╭RXY(-3.13)──────────────────────────────────────────╭RXYZZZZ(-1.41)─├RXYZZZZ(-0.67)\n",
      "──╰RXY(-3.13)──────────────────────────╭RXYZZZZ(-1.54)─├RXYZZZZ(-1.41)─├RXYZZZZ(-0.67)\n",
      "──╭RXY(1.53)──╭RXYZ(-3.78)─╭RXY(-3.14)─├RXYZZZZ(-1.54)─├RXYZZZZ(-1.41)─├RXYZZZZ(-0.67)\n",
      "──╰RXY(1.53)──├RXYZ(-3.78)─╰RXY(-3.14)─├RXYZZZZ(-1.54)─├RXYZZZZ(-1.41)─├RXYZZZZ(-0.67)\n",
      "──────────────╰RXYZ(-3.78)─────────────├RXYZZZZ(-1.54)─├RXYZZZZ(-1.41)─╰RXYZZZZ(-0.67)\n",
      "──╭RXY(-2.74)──────────────────────────├RXYZZZZ(-1.54)─╰RXYZZZZ(-1.41)─╭RXY(-4.41)────\n",
      "──╰RXY(-2.74)──────────────────────────╰RXYZZZZ(-1.54)─────────────────╰RXY(-4.41)────\n",
      "\n",
      "──────────────────╭RXYZZZZ(-0.02)─╭RXY(-3.26)─╭RXYZ(1.41)──╭RXY(-1.55)───────────────╭RXYZZ(-3.92)\n",
      "──╭RXYZZZZ(-0.20)─├RXYZZZZ(-0.02)─╰RXY(-3.26)─├RXYZ(1.41)──╰RXY(-1.55)─╭RXYZZ(-1.20)─├RXYZZ(-3.92)\n",
      "──├RXYZZZZ(-0.20)─├RXYZZZZ(-0.02)─────────────╰RXYZ(1.41)──────────────├RXYZZ(-1.20)─├RXYZZ(-3.92)\n",
      "──├RXYZZZZ(-0.20)─├RXYZZZZ(-0.02)─╭RXY(-3.20)──────────────────────────├RXYZZ(-1.20)─╰RXYZZ(-3.92)\n",
      "──├RXYZZZZ(-0.20)─├RXYZZZZ(-0.02)─╰RXY(-3.20)──────────────────────────╰RXYZZ(-1.20)──────────────\n",
      "──├RXYZZZZ(-0.20)─╰RXYZZZZ(-0.02)─╭RXY(-3.53)─╭RXYZ(-3.84)─╭RXY(0.60)────────────────╭RXYZZ(-3.65)\n",
      "──╰RXYZZZZ(-0.20)─────────────────╰RXY(-3.53)─├RXYZ(-3.84)─╰RXY(0.60)──╭RXYZZ(-1.05)─├RXYZZ(-3.65)\n",
      "──────────────────────────────────────────────╰RXYZ(-3.84)─────────────├RXYZZ(-1.05)─├RXYZZ(-3.65)\n",
      "───────────────────────────────────────────────────────────────────────├RXYZZ(-1.05)─╰RXYZZ(-3.65)\n",
      "───────────────────────────────────────────────────────────────────────╰RXYZZ(-1.05)──────────────\n",
      "\n",
      "──╭RXY(-2.25)─╭RXYZ(-4.27)─╭RXY(-3.39)─┤ ╭<𝓗>\n",
      "──╰RXY(-2.25)─├RXYZ(-4.27)─╰RXY(-3.39)─┤ ├<𝓗>\n",
      "──────────────╰RXYZ(-4.27)─────────────┤ ├<𝓗>\n",
      "──╭RXY(-0.51)──────────────────────────┤ ├<𝓗>\n",
      "──╰RXY(-0.51)──────────────────────────┤ ├<𝓗>\n",
      "──╭RXY(0.55)──╭RXYZ(1.25)──╭RXY(-2.55)─┤ ├<𝓗>\n",
      "──╰RXY(0.55)──├RXYZ(1.25)──╰RXY(-2.55)─┤ ├<𝓗>\n",
      "──────────────╰RXYZ(1.25)──────────────┤ ├<𝓗>\n",
      "──╭RXY(-1.24)──────────────────────────┤ ├<𝓗>\n",
      "──╰RXY(-1.24)──────────────────────────┤ ╰<𝓗>\n"
     ]
    }
   ],
   "source": [
    "print(qml.draw(kak_circuit)(0.5))"
   ]
  },
  {
   "cell_type": "code",
   "execution_count": null,
   "id": "fda0f898-6cb8-4c20-ad9e-a51fd33b5d03",
   "metadata": {},
   "outputs": [],
   "source": []
  }
 ],
 "metadata": {
  "kernelspec": {
   "display_name": "Python 3 (ipykernel)",
   "language": "python",
   "name": "python3"
  },
  "language_info": {
   "codemirror_mode": {
    "name": "ipython",
    "version": 3
   },
   "file_extension": ".py",
   "mimetype": "text/x-python",
   "name": "python",
   "nbconvert_exporter": "python",
   "pygments_lexer": "ipython3",
   "version": "3.10.12"
  }
 },
 "nbformat": 4,
 "nbformat_minor": 5
}

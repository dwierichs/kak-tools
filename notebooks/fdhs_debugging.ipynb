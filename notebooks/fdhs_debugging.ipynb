{
 "cells": [
  {
   "cell_type": "markdown",
   "id": "bb67515b-5892-478c-b31f-77a20c4ef72c",
   "metadata": {},
   "source": [
    "## Non-variational fixed-depth Hamiltonian simulation\n",
    "\n",
    "Here we reproduce the the main demonstration example of \"Fixed-depth Hamiltonian simulation via Cartan decomposition\"\n",
    "with our recursive KAK decomposition tool."
   ]
  },
  {
   "cell_type": "code",
   "execution_count": 1,
   "id": "a78e07f6-0c7a-4b6d-9b67-7b7bbad8bc3d",
   "metadata": {
    "execution": {
     "iopub.execute_input": "2024-12-13T11:06:38.099202Z",
     "iopub.status.busy": "2024-12-13T11:06:38.098937Z",
     "iopub.status.idle": "2024-12-13T11:06:39.057494Z",
     "shell.execute_reply": "2024-12-13T11:06:39.056811Z",
     "shell.execute_reply.started": "2024-12-13T11:06:38.099188Z"
    }
   },
   "outputs": [],
   "source": [
    "import pennylane as qml\n",
    "import numpy as np\n",
    "from itertools import combinations, product\n",
    "from functools import partial\n",
    "from pennylane import X, Y, Z, I\n",
    "from scipy.linalg import expm, logm\n",
    "import matplotlib.pyplot as plt\n",
    "import jax\n",
    "jax.config.update(\"jax_enable_x64\", True)\n",
    "np.random.seed(2415)\n",
    "from kak_tools import map_simple_to_irrep, map_irrep_to_matrices, identify_algebra, split_pauli_algebra, bdi, lie_closure_pauli_words, recursive_bdi, map_recursive_decomp_to_reducible, map_matrix_to_reducible, make_so_2n_full_mapping, make_signs"
   ]
  },
  {
   "cell_type": "markdown",
   "id": "0cf0151d-c9a0-4abd-acd1-0ca8c3cc1f80",
   "metadata": {},
   "source": [
    "We begin by defining the Pauli words in the Hamiltonian \n",
    "\n",
    "$\n",
    "H = \\sum_{j=1}^{n-1} \\alpha_j X_j X_{j+1} + \\beta_j Y_j Y_{j+1} + \\sum_{j=1}^n \\gamma_j Z_j\n",
    "$\n",
    "\n",
    "and computing their Lie closure. We obtain a reducible representation of $\\mathfrak{so}(2n)$ on $\\mathbb{C}^{2^n}$."
   ]
  },
  {
   "cell_type": "code",
   "execution_count": 2,
   "id": "5c8941c0-0a27-4fe6-b3c3-c74db10aee60",
   "metadata": {
    "execution": {
     "iopub.execute_input": "2024-12-13T11:06:39.058111Z",
     "iopub.status.busy": "2024-12-13T11:06:39.057862Z",
     "iopub.status.idle": "2024-12-13T11:06:39.063894Z",
     "shell.execute_reply": "2024-12-13T11:06:39.063475Z",
     "shell.execute_reply.started": "2024-12-13T11:06:39.058096Z"
    }
   },
   "outputs": [
    {
     "name": "stdout",
     "output_type": "stream",
     "text": [
      "Hamiltonian algebra on 4 qubits with size 28; expected size is 28\n"
     ]
    }
   ],
   "source": [
    "n = 4 # Number of qubits\n",
    "\n",
    "# Hamiltonian terms\n",
    "generators = [X(w) @ X(w+1) for w in range(n-1)] + [Y(w) @ Y(w+1) for w in range(n-1)] + [Z(w) for w in range(n)]\n",
    "# Map from general qml.operation.Operator instances to qml.pauli.PauliWord instances\n",
    "generators = [next(iter(op.pauli_rep)) for op in generators]\n",
    "\n",
    "# Compute Hamiltonian Lie algebra\n",
    "algebra = lie_closure_pauli_words(generators, verbose=False)\n",
    "\n",
    "# Compare algebra size to expected size of so(2n)\n",
    "n_so = 2 * n # The \"n\" in so(n)\n",
    "so_dim = (n_so**2-n_so) // 2\n",
    "\n",
    "print(f\"Hamiltonian algebra on {n} qubits with size {len(algebra)}; expected size is {so_dim}\")"
   ]
  },
  {
   "cell_type": "markdown",
   "id": "a0e6b35c-f824-4122-a5c6-3bf8a2e45113",
   "metadata": {},
   "source": [
    "Next, we map this irreducible representation to an irreducible representation on $\\mathbb{R}^{2n}$,\n",
    "by creating a `mapping` of each Pauli word to a basis element $F_{ij} = E_{ij} - E_{ji}$, where $E_{ij}$ is the real $2n \\times 2n$ matrix with a $1$\n",
    "at position $(i, j)$ and zeros else (we will use zero-based indexing). This mapping does not contain the signs required to make it an algebra homomorphism,\n",
    "but we compute them in a separate lookup table `signs`.\n",
    "\n",
    "We have one more requirement for this mapping, though:\n",
    "The Pauli words from $H$ stored in `generators` are horizontal with respect to an involution on the reducible representation.\n",
    "In order to use the KAK theorem for the mapping of $H$, we need to make sure that these generators are mapped to basis elements that\n",
    "are horizontal with respect to the involution on the irreducible representation of the same type.\n",
    "We will use an involution of type BDI and in the irreducible representation, we choose the canonical form of the involution\n",
    "\n",
    "$\n",
    "\\theta(x) = I_{n, n} x I_{n, n} \\text{ with } I_{n, n} = \\operatorname{diag}(\\underset{\\times n}{\\underbrace{1, \\cdots, 1}}, \\underset{\\times n}{\\underbrace{-1, \\cdots, -1}}).\n",
    "$\n",
    "\n",
    "The basis elements $F_{ij}$ above are eigenstates of this involution, and the horizontal (eigenvalue $-1$) elements are those with $i<n$ and $j\\geq n$:\n",
    "\n",
    "$$\n",
    "\\theta(F_{ij}) \n",
    "= \\delta_{k\\ell} (\\lambda(k<n) - \\lambda(k>=n)) (E_{ij} - E_{ji})_{\\ell m} \\delta_{mp} (\\lambda(m<n) - \\lambda(m>=n))\n",
    "= (-1)^{i>n} (-1)^{j>n} F_{ij} \n",
    "$$\n",
    "\n",
    "We therefore make sure to map the Hamiltonian Pauli words to such elements with $i<n$ and $j\\geq n$, by passing `generators` to `map_simple_to_irrep`\n",
    "and the involution type `\"BDI\"`."
   ]
  },
  {
   "cell_type": "code",
   "execution_count": 11,
   "id": "13d10284-67c9-4fb9-8c8e-85f8c8f4c21a",
   "metadata": {
    "execution": {
     "iopub.execute_input": "2024-12-13T11:07:19.516994Z",
     "iopub.status.busy": "2024-12-13T11:07:19.516579Z",
     "iopub.status.idle": "2024-12-13T11:07:19.523405Z",
     "shell.execute_reply": "2024-12-13T11:07:19.522839Z",
     "shell.execute_reply.started": "2024-12-13T11:07:19.516959Z"
    }
   },
   "outputs": [],
   "source": [
    "mapping, signs = map_simple_to_irrep(algebra, horizontal_ops=generators, n=n_so, invol_type=\"BDI\")\n",
    "mapping = make_so_2n_full_mapping(n)\n",
    "signs = make_signs(mapping, n=n_so, invol_type=\"BDI\")"
   ]
  },
  {
   "cell_type": "markdown",
   "id": "ba1150a5-03b6-465f-af13-e338374b715b",
   "metadata": {},
   "source": [
    "This mapping can now be used to create dense matrices in the irreducible representation:"
   ]
  },
  {
   "cell_type": "code",
   "execution_count": 12,
   "id": "c47d9f2c-5cca-462d-87df-fe1e1f7d0c6a",
   "metadata": {
    "execution": {
     "iopub.execute_input": "2024-12-13T11:07:21.189534Z",
     "iopub.status.busy": "2024-12-13T11:07:21.189370Z",
     "iopub.status.idle": "2024-12-13T11:07:21.192389Z",
     "shell.execute_reply": "2024-12-13T11:07:21.191955Z",
     "shell.execute_reply.started": "2024-12-13T11:07:21.189524Z"
    }
   },
   "outputs": [],
   "source": [
    "matrix_map = map_irrep_to_matrices(mapping, signs, n_so, invol_type=\"BDI\")"
   ]
  },
  {
   "cell_type": "code",
   "execution_count": 13,
   "id": "17117e2b-4ffb-4815-9410-f78efda25ede",
   "metadata": {
    "execution": {
     "iopub.execute_input": "2024-12-13T11:07:21.623320Z",
     "iopub.status.busy": "2024-12-13T11:07:21.623073Z",
     "iopub.status.idle": "2024-12-13T11:07:21.626387Z",
     "shell.execute_reply": "2024-12-13T11:07:21.625577Z",
     "shell.execute_reply.started": "2024-12-13T11:07:21.623305Z"
    }
   },
   "outputs": [],
   "source": [
    "# from pennylane.labs.dla import structure_constants_dense\n",
    "# adj_dense = structure_constants_dense([matrix_map[op]/1j for op in algebra], is_orthonormal=False)\n",
    "# adj = qml.pauli.dla.structure_constants(algebra, pauli=True)\n",
    "# print(np.allclose(np.abs(adj), np.abs(adj_dense)))\n",
    "# print(np.allclose(np.sign(adj), np.sign(adj_dense)))\n",
    "# print(np.allclose(adj, adj_dense))\n",
    "# print(np.unique(adj_dense), np.unique(adj))"
   ]
  },
  {
   "cell_type": "markdown",
   "id": "020c0134-40e6-470c-8eb9-f896f229e0a7",
   "metadata": {},
   "source": [
    "Now we can map individual Pauli operators to basis elements $F_{ij}$ in a homomorphic manner:"
   ]
  },
  {
   "cell_type": "code",
   "execution_count": 14,
   "id": "59a73fbe-972b-44c3-ab27-8791ec159037",
   "metadata": {
    "execution": {
     "iopub.execute_input": "2024-12-13T11:07:22.291406Z",
     "iopub.status.busy": "2024-12-13T11:07:22.291097Z",
     "iopub.status.idle": "2024-12-13T11:07:22.296416Z",
     "shell.execute_reply": "2024-12-13T11:07:22.295875Z",
     "shell.execute_reply.started": "2024-12-13T11:07:22.291383Z"
    }
   },
   "outputs": [
    {
     "name": "stdout",
     "output_type": "stream",
     "text": [
      "True\n"
     ]
    }
   ],
   "source": [
    "op1, op2 = algebra[0], algebra[n]\n",
    "# Compute operator commutator, taking imaginary unit into account\n",
    "ops_com = (qml.commutator(1j * op1, 1j * op2) / 1j).pauli_rep\n",
    "# Make sure the commutator really is just a rescaled Pauli word\n",
    "assert len(ops_com) == 1\n",
    "# Extract Pauli word and scalar prefactor from operator commutator\n",
    "[(ops_com_pw, ops_com_prefactor)] = ops_com.items()\n",
    "# Map the Pauli word to irreducible basis element and include scalar prefactor\n",
    "commutator_from_ops = matrix_map[ops_com_pw] * ops_com_prefactor\n",
    "\n",
    "# Map the original operators to matrices directly and compute the matrix commutator\n",
    "mat1, mat2 = matrix_map[op1], matrix_map[op2]\n",
    "commutator_from_mats = mat1 @ mat2 - mat2 @ mat1\n",
    "\n",
    "# Check whether the commutators agree\n",
    "print(np.allclose(commutator_from_ops, commutator_from_mats))"
   ]
  },
  {
   "cell_type": "code",
   "execution_count": 20,
   "id": "08f206cd-e079-4ef8-9229-12fea863aaeb",
   "metadata": {
    "execution": {
     "iopub.execute_input": "2024-12-13T11:33:34.850540Z",
     "iopub.status.busy": "2024-12-13T11:33:34.850022Z",
     "iopub.status.idle": "2024-12-13T11:33:34.856601Z",
     "shell.execute_reply": "2024-12-13T11:33:34.855974Z",
     "shell.execute_reply.started": "2024-12-13T11:33:34.850497Z"
    }
   },
   "outputs": [
    {
     "data": {
      "text/plain": [
       "array([[ 0.,  1.,  1.,  1.,  1.,  1.,  1.,  1.],\n",
       "       [ 1.,  0.,  1.,  1., -1., -1.,  1.,  1.],\n",
       "       [ 1.,  1.,  0.,  1., -1.,  1., -1.,  1.],\n",
       "       [ 1.,  1.,  1.,  0., -1.,  1.,  1., -1.],\n",
       "       [ 1.,  1.,  1.,  1.,  0.,  1.,  1.,  1.],\n",
       "       [ 1.,  1.,  1.,  1.,  1.,  0., -1., -1.],\n",
       "       [ 1.,  1.,  1.,  1.,  1.,  1.,  0., -1.],\n",
       "       [ 1.,  1.,  1.,  1.,  1.,  1.,  1.,  0.]])"
      ]
     },
     "execution_count": 20,
     "metadata": {},
     "output_type": "execute_result"
    }
   ],
   "source": [
    "signs\n",
    "mat = np.ones((n_so, n_so)) - np.diag(np.ones(n_so))\n",
    "for (i, j), val in signs.items():\n",
    "    mat[i, j] = val\n",
    "mat"
   ]
  },
  {
   "cell_type": "markdown",
   "id": "51994db1-e9d8-40a3-b09d-d39232e37dab",
   "metadata": {},
   "source": [
    "Here we had to take into account that we store Pauli words in `algebra` but mathematically, the algebra consists of Pauli words multiplied\n",
    "by the imaginary unit.\n",
    "\n",
    "Next, we can construct the Hamiltonian operator in the irreducible representation. For this, we map the Hamiltonian generators to matrices and\n",
    "combine them with coefficients $\\alpha$, $\\beta$, $\\gamma$."
   ]
  },
  {
   "cell_type": "code",
   "execution_count": 18,
   "id": "8d1fc5df-90a9-4f04-9998-b52e4d5e4e0a",
   "metadata": {
    "execution": {
     "iopub.execute_input": "2024-12-13T11:31:42.594088Z",
     "iopub.status.busy": "2024-12-13T11:31:42.593824Z",
     "iopub.status.idle": "2024-12-13T11:31:42.609146Z",
     "shell.execute_reply": "2024-12-13T11:31:42.608331Z",
     "shell.execute_reply.started": "2024-12-13T11:31:42.594070Z"
    }
   },
   "outputs": [
    {
     "name": "stdout",
     "output_type": "stream",
     "text": [
      "[ 0.0289441   1.71935714  0.86138697 -0.08214203  1.16041628 -1.96764199\n",
      "  0.37899559 -1.40810531  2.73828535  0.65674372]\n",
      "[[ 0.  0.  0.  0.  2.  2.  0.  0.]\n",
      " [ 0.  0.  0.  0. -2. -2.  2.  0.]\n",
      " [ 0.  0.  0.  0.  0.  2. -2.  2.]\n",
      " [ 0.  0.  0.  0.  0.  0.  2. -2.]\n",
      " [-2.  2.  0.  0.  0.  0.  0.  0.]\n",
      " [-2.  2. -2.  0.  0.  0.  0.  0.]\n",
      " [ 0. -2.  2. -2.  0.  0.  0.  0.]\n",
      " [ 0.  0. -2.  2.  0.  0.  0.  0.]]\n",
      "[[ 0.       0.       0.       0.       0.75799  0.05789  0.       0.     ]\n",
      " [ 0.       0.       0.       0.       0.16428  2.81621  3.43871  0.     ]\n",
      " [ 0.       0.       0.       0.       0.       2.32083 -5.47657  1.72277]\n",
      " [ 0.       0.       0.       0.       0.       0.      -3.93528 -1.31349]\n",
      " [-0.75799 -0.16428  0.       0.       0.       0.       0.       0.     ]\n",
      " [-0.05789 -2.81621 -2.32083  0.       0.       0.       0.       0.     ]\n",
      " [ 0.      -3.43871  5.47657  3.93528  0.       0.       0.       0.     ]\n",
      " [ 0.       0.      -1.72277  1.31349  0.       0.       0.       0.     ]]\n"
     ]
    }
   ],
   "source": [
    "alphas = np.random.normal(0.6, 1., size=n-1)\n",
    "betas = np.random.normal(0.3, 1.2, size=n-1)\n",
    "gammas = np.random.normal(0.8, 1., size=n)\n",
    "coeffs = np.concatenate([alphas, betas, gammas])\n",
    "# coeffs = np.eye(3*n-2)[0] * 1e-2\n",
    "print(coeffs)\n",
    "H = qml.dot(coeffs, generators)\n",
    "terms_irrep = np.stack([matrix_map[gen] for gen in generators])\n",
    "H_irrep = np.tensordot(coeffs, terms_irrep, axes=[[0], [0]])\n",
    "assert np.allclose(H_irrep.imag, 0.)\n",
    "H_irrep = H_irrep.real\n",
    "print(np.round(H_irrep, 5))"
   ]
  },
  {
   "cell_type": "markdown",
   "id": "fe59ce7d-40ee-492f-84ff-d967c0378811",
   "metadata": {},
   "source": [
    "Now we can move on to the KAK decomposition. For this we create an \"exemplary\" time evolution operator\n",
    "$\\exp(-itH)$ with, say, $t=1$. Note that we will not have to include the imaginary unit here, because the implemented matrix is an _algebra_ element, so that `H_irrep` already corresponds to $iH$. As we are moving in the irreducible representation of $\\mathfrak{so}(2n)=\\mathfrak{so}(32)$ here, `H_irrep` and the time evolution operator are just real $32 \\times 32$ matrices."
   ]
  },
  {
   "cell_type": "code",
   "execution_count": 16,
   "id": "59d92406-4d66-4527-9d95-ac7c60e953f7",
   "metadata": {
    "execution": {
     "iopub.execute_input": "2024-12-13T11:07:25.882854Z",
     "iopub.status.busy": "2024-12-13T11:07:25.881866Z",
     "iopub.status.idle": "2024-12-13T11:07:25.887376Z",
     "shell.execute_reply": "2024-12-13T11:07:25.886614Z",
     "shell.execute_reply.started": "2024-12-13T11:07:25.882820Z"
    }
   },
   "outputs": [
    {
     "name": "stdout",
     "output_type": "stream",
     "text": [
      "(8, 8) 8\n"
     ]
    }
   ],
   "source": [
    "time = 0.01\n",
    "U = expm(time * H_irrep)\n",
    "print(U.shape, n_so)"
   ]
  },
  {
   "cell_type": "markdown",
   "id": "ef3c7970-c913-4c27-ae16-ff5358cdf5d3",
   "metadata": {},
   "source": [
    "Then we apply our recursive BDI KAK decomposition to the time evolution operator, which will decompose the vertical operators in each step until we arrive at matrices of the form\n",
    "\n",
    "$\n",
    "\\left(\\begin{array}{cccc}\n",
    "    \\cos(a) & -\\sin(a) & 0 & 0 \\\\\n",
    "    \\sin(a) & \\cos(a) & 0 & 0 \\\\\n",
    "    0 & 0 & \\cos(b) & -\\sin(b) \\\\\n",
    "    0 & 0 & \\sin(b) & \\cos(b)\n",
    "\\end{array}\\right),\n",
    "$\n",
    "\n",
    "corresponding to the operation $\\exp(-i(aP_1+bP_2))$ where $P_1$ ($P_2$)is the Pauli word mapped to the basis element $F_{ij}$ matching the entry $-\\sin(a)$ ($-\\sin(b)$) in the matrix above. In particular, because those basis elements commute, $P_1$ and $P_2$ will, too, allowing us to pull the exponential apart into individual Pauli rotations, $\\exp(-iaP_1)\\exp(-ibP_2)$."
   ]
  },
  {
   "cell_type": "code",
   "execution_count": 17,
   "id": "ea3e58be-b2ea-4358-8e29-7fc920e05716",
   "metadata": {
    "execution": {
     "iopub.execute_input": "2024-12-13T11:07:26.764642Z",
     "iopub.status.busy": "2024-12-13T11:07:26.763836Z",
     "iopub.status.idle": "2024-12-13T11:07:26.770809Z",
     "shell.execute_reply": "2024-12-13T11:07:26.770057Z",
     "shell.execute_reply.started": "2024-12-13T11:07:26.764611Z"
    }
   },
   "outputs": [],
   "source": [
    "recursive_decomp = recursive_bdi(U, n_so)\n",
    "num_iter = max(recursive_decomp.keys())"
   ]
  },
  {
   "cell_type": "markdown",
   "id": "0021e53a-2cb3-4d46-8645-6df1465e355b",
   "metadata": {},
   "source": [
    "To arrive at a circuit that can be implemented in terms of Pauli rotation, we need to map back to the reducible representation.\n",
    "This is done by the following function:"
   ]
  },
  {
   "cell_type": "code",
   "execution_count": 10,
   "id": "9398e0dc-2f31-42fe-96f1-b5b803cb0f34",
   "metadata": {
    "execution": {
     "iopub.execute_input": "2024-12-13T11:06:39.106325Z",
     "iopub.status.busy": "2024-12-13T11:06:39.105898Z",
     "iopub.status.idle": "2024-12-13T11:06:39.458620Z",
     "shell.execute_reply": "2024-12-13T11:06:39.456736Z",
     "shell.execute_reply.started": "2024-12-13T11:06:39.106303Z"
    },
    "scrolled": true
   },
   "outputs": [
    {
     "ename": "ValueError",
     "evalue": "operands could not be broadcast together with shapes (4,4) (8,8) ",
     "output_type": "error",
     "traceback": [
      "\u001b[0;31m---------------------------------------------------------------------------\u001b[0m",
      "\u001b[0;31mValueError\u001b[0m                                Traceback (most recent call last)",
      "Cell \u001b[0;32mIn[10], line 1\u001b[0m\n\u001b[0;32m----> 1\u001b[0m pauli_decomp \u001b[38;5;241m=\u001b[39m \u001b[43mmap_recursive_decomp_to_reducible\u001b[49m\u001b[43m(\u001b[49m\u001b[43mrecursive_decomp\u001b[49m\u001b[43m,\u001b[49m\u001b[43m \u001b[49m\u001b[43mmapping\u001b[49m\u001b[43m,\u001b[49m\u001b[43m \u001b[49m\u001b[43msigns\u001b[49m\u001b[43m,\u001b[49m\u001b[43m \u001b[49m\u001b[38;5;124;43m\"\u001b[39;49m\u001b[38;5;124;43mBDI\u001b[39;49m\u001b[38;5;124;43m\"\u001b[39;49m\u001b[43m,\u001b[49m\u001b[43m \u001b[49m\u001b[43mtime\u001b[49m\u001b[38;5;241;43m=\u001b[39;49m\u001b[43mtime\u001b[49m\u001b[43m,\u001b[49m\u001b[43m \u001b[49m\u001b[43massertions\u001b[49m\u001b[38;5;241;43m=\u001b[39;49m\u001b[38;5;28;43;01mTrue\u001b[39;49;00m\u001b[43m)\u001b[49m\n",
      "File \u001b[0;32m~/repos/kak-tools/kak_tools/dense_cartan.py:226\u001b[0m, in \u001b[0;36mmap_recursive_decomp_to_reducible\u001b[0;34m(recursive_decomp, mapping, signs, invol_type, time, tol, assertions)\u001b[0m\n\u001b[1;32m    224\u001b[0m     i, j \u001b[38;5;241m=\u001b[39m inv_mapping[pw]\n\u001b[1;32m    225\u001b[0m     rec_mat \u001b[38;5;241m=\u001b[39m rec_mat \u001b[38;5;241m@\u001b[39m expm(E((i, j), n, \u001b[38;5;124m\"\u001b[39m\u001b[38;5;124mBDI\u001b[39m\u001b[38;5;124m\"\u001b[39m) \u001b[38;5;241m*\u001b[39m signs[(i, j)] \u001b[38;5;241m*\u001b[39m coeff)\n\u001b[0;32m--> 226\u001b[0m \u001b[38;5;28;01mif\u001b[39;00m \u001b[38;5;129;01mnot\u001b[39;00m \u001b[43mnp\u001b[49m\u001b[38;5;241;43m.\u001b[39;49m\u001b[43mallclose\u001b[49m\u001b[43m(\u001b[49m\u001b[43mmat\u001b[49m\u001b[43m,\u001b[49m\u001b[43m \u001b[49m\u001b[43mrec_mat\u001b[49m\u001b[43m)\u001b[49m:\n\u001b[1;32m    227\u001b[0m     \u001b[38;5;28mprint\u001b[39m(np\u001b[38;5;241m.\u001b[39mround(mat, \u001b[38;5;241m4\u001b[39m))\n\u001b[1;32m    228\u001b[0m     \u001b[38;5;28mprint\u001b[39m(np\u001b[38;5;241m.\u001b[39mround(rec_mat, \u001b[38;5;241m4\u001b[39m))\n",
      "File \u001b[0;32m~/venvs/dev/lib/python3.10/site-packages/numpy/_core/numeric.py:2307\u001b[0m, in \u001b[0;36mallclose\u001b[0;34m(a, b, rtol, atol, equal_nan)\u001b[0m\n\u001b[1;32m   2225\u001b[0m \u001b[38;5;129m@array_function_dispatch\u001b[39m(_allclose_dispatcher)\n\u001b[1;32m   2226\u001b[0m \u001b[38;5;28;01mdef\u001b[39;00m \u001b[38;5;21mallclose\u001b[39m(a, b, rtol\u001b[38;5;241m=\u001b[39m\u001b[38;5;241m1.e-5\u001b[39m, atol\u001b[38;5;241m=\u001b[39m\u001b[38;5;241m1.e-8\u001b[39m, equal_nan\u001b[38;5;241m=\u001b[39m\u001b[38;5;28;01mFalse\u001b[39;00m):\n\u001b[1;32m   2227\u001b[0m \u001b[38;5;250m    \u001b[39m\u001b[38;5;124;03m\"\"\"\u001b[39;00m\n\u001b[1;32m   2228\u001b[0m \u001b[38;5;124;03m    Returns True if two arrays are element-wise equal within a tolerance.\u001b[39;00m\n\u001b[1;32m   2229\u001b[0m \n\u001b[0;32m   (...)\u001b[0m\n\u001b[1;32m   2305\u001b[0m \n\u001b[1;32m   2306\u001b[0m \u001b[38;5;124;03m    \"\"\"\u001b[39;00m\n\u001b[0;32m-> 2307\u001b[0m     res \u001b[38;5;241m=\u001b[39m \u001b[38;5;28mall\u001b[39m(\u001b[43misclose\u001b[49m\u001b[43m(\u001b[49m\u001b[43ma\u001b[49m\u001b[43m,\u001b[49m\u001b[43m \u001b[49m\u001b[43mb\u001b[49m\u001b[43m,\u001b[49m\u001b[43m \u001b[49m\u001b[43mrtol\u001b[49m\u001b[38;5;241;43m=\u001b[39;49m\u001b[43mrtol\u001b[49m\u001b[43m,\u001b[49m\u001b[43m \u001b[49m\u001b[43matol\u001b[49m\u001b[38;5;241;43m=\u001b[39;49m\u001b[43matol\u001b[49m\u001b[43m,\u001b[49m\u001b[43m \u001b[49m\u001b[43mequal_nan\u001b[49m\u001b[38;5;241;43m=\u001b[39;49m\u001b[43mequal_nan\u001b[49m\u001b[43m)\u001b[49m)\n\u001b[1;32m   2308\u001b[0m     \u001b[38;5;28;01mreturn\u001b[39;00m builtins\u001b[38;5;241m.\u001b[39mbool(res)\n",
      "File \u001b[0;32m~/venvs/dev/lib/python3.10/site-packages/numpy/_core/numeric.py:2417\u001b[0m, in \u001b[0;36misclose\u001b[0;34m(a, b, rtol, atol, equal_nan)\u001b[0m\n\u001b[1;32m   2414\u001b[0m     y \u001b[38;5;241m=\u001b[39m \u001b[38;5;28mfloat\u001b[39m(y)\n\u001b[1;32m   2416\u001b[0m \u001b[38;5;28;01mwith\u001b[39;00m errstate(invalid\u001b[38;5;241m=\u001b[39m\u001b[38;5;124m'\u001b[39m\u001b[38;5;124mignore\u001b[39m\u001b[38;5;124m'\u001b[39m), _no_nep50_warning():\n\u001b[0;32m-> 2417\u001b[0m     result \u001b[38;5;241m=\u001b[39m (less_equal(\u001b[38;5;28mabs\u001b[39m(\u001b[43mx\u001b[49m\u001b[38;5;241;43m-\u001b[39;49m\u001b[43my\u001b[49m), atol \u001b[38;5;241m+\u001b[39m rtol \u001b[38;5;241m*\u001b[39m \u001b[38;5;28mabs\u001b[39m(y))\n\u001b[1;32m   2418\u001b[0m               \u001b[38;5;241m&\u001b[39m isfinite(y)\n\u001b[1;32m   2419\u001b[0m               \u001b[38;5;241m|\u001b[39m (x \u001b[38;5;241m==\u001b[39m y))\n\u001b[1;32m   2420\u001b[0m     \u001b[38;5;28;01mif\u001b[39;00m equal_nan:\n\u001b[1;32m   2421\u001b[0m         result \u001b[38;5;241m|\u001b[39m\u001b[38;5;241m=\u001b[39m isnan(x) \u001b[38;5;241m&\u001b[39m isnan(y)\n",
      "\u001b[0;31mValueError\u001b[0m: operands could not be broadcast together with shapes (4,4) (8,8) "
     ]
    }
   ],
   "source": [
    "pauli_decomp = map_recursive_decomp_to_reducible(recursive_decomp, mapping, signs, \"BDI\", time=time, assertions=True)"
   ]
  },
  {
   "cell_type": "code",
   "execution_count": null,
   "id": "e3c6e74d-a9be-4629-9406-eae38e0b8c3c",
   "metadata": {
    "execution": {
     "iopub.status.busy": "2024-12-13T11:06:39.459231Z",
     "iopub.status.idle": "2024-12-13T11:06:39.459491Z",
     "shell.execute_reply": "2024-12-13T11:06:39.459410Z",
     "shell.execute_reply.started": "2024-12-13T11:06:39.459402Z"
    }
   },
   "outputs": [],
   "source": [
    "np.cos(3.307582192828685*2)"
   ]
  },
  {
   "cell_type": "code",
   "execution_count": null,
   "id": "4fc65fdc-f06f-46d0-a85b-75d068ffbd13",
   "metadata": {
    "execution": {
     "iopub.status.busy": "2024-12-13T11:06:39.460141Z",
     "iopub.status.idle": "2024-12-13T11:06:39.460342Z",
     "shell.execute_reply": "2024-12-13T11:06:39.460261Z",
     "shell.execute_reply.started": "2024-12-13T11:06:39.460251Z"
    }
   },
   "outputs": [],
   "source": [
    "def all_commuting(pws1, pws2):\n",
    "    for pw1, pw2 in product(pws1, pws2):\n",
    "        if not pw1.commutes_with(pw2):\n",
    "            return False\n",
    "    return True\n",
    "\n",
    "pws_from_pauli_decomp = [pw for pw, *_ in pauli_decomp]\n",
    "assert all_commuting(pws_from_pauli_decomp[:6], pws_from_pauli_decomp[6:12])\n",
    "assert all_commuting(pws_from_pauli_decomp[12:16], pws_from_pauli_decomp[12:16])\n",
    "assert all_commuting(pws_from_pauli_decomp[16:22], pws_from_pauli_decomp[22:28])     \n",
    "        "
   ]
  },
  {
   "cell_type": "code",
   "execution_count": null,
   "id": "28e856a5-83fe-4a38-961a-2b1001207616",
   "metadata": {
    "execution": {
     "iopub.status.busy": "2024-12-13T11:06:39.461191Z",
     "iopub.status.idle": "2024-12-13T11:06:39.461424Z",
     "shell.execute_reply": "2024-12-13T11:06:39.461354Z",
     "shell.execute_reply.started": "2024-12-13T11:06:39.461348Z"
    },
    "scrolled": true
   },
   "outputs": [],
   "source": [
    "postproc = []\n",
    "for pauli_word, coeff, t in pauli_decomp:\n",
    "    assert np.isclose(coeff.imag, 0.), f\"{coeff}\"\n",
    "    postproc.append((coeff.real, qml.pauli.pauli_word_to_string(pauli_word), pauli_word.wires, t))\n",
    "    # print(pauli_word, qml.pauli.pauli_word_to_string(pauli_word), pauli_word.wires)\n",
    "print(*postproc, sep=\"\\n\")"
   ]
  },
  {
   "cell_type": "code",
   "execution_count": null,
   "id": "0b808bce-4624-41ee-acb4-d9bb38623e68",
   "metadata": {
    "execution": {
     "iopub.status.busy": "2024-12-13T11:06:39.461768Z",
     "iopub.status.idle": "2024-12-13T11:06:39.461892Z",
     "shell.execute_reply": "2024-12-13T11:06:39.461836Z",
     "shell.execute_reply.started": "2024-12-13T11:06:39.461830Z"
    },
    "scrolled": true
   },
   "outputs": [],
   "source": [
    "print(*recursive_decomp[0], sep=\"\\n\")"
   ]
  },
  {
   "cell_type": "code",
   "execution_count": null,
   "id": "3c249ff8-281c-43fb-b866-fc65a045950d",
   "metadata": {
    "execution": {
     "iopub.status.busy": "2024-12-13T11:06:39.462414Z",
     "iopub.status.idle": "2024-12-13T11:06:39.462556Z",
     "shell.execute_reply": "2024-12-13T11:06:39.462497Z",
     "shell.execute_reply.started": "2024-12-13T11:06:39.462491Z"
    }
   },
   "outputs": [],
   "source": [
    "len(postproc)"
   ]
  },
  {
   "cell_type": "code",
   "execution_count": null,
   "id": "870258c3-a2fc-407a-a216-2075eb8bc78f",
   "metadata": {
    "execution": {
     "iopub.status.busy": "2024-12-13T11:06:39.463357Z",
     "iopub.status.idle": "2024-12-13T11:06:39.463569Z",
     "shell.execute_reply": "2024-12-13T11:06:39.463485Z",
     "shell.execute_reply.started": "2024-12-13T11:06:39.463476Z"
    },
    "scrolled": true
   },
   "outputs": [],
   "source": [
    "if n == 2:\n",
    "    assert len(postproc) == len(pauli_decomp) == 6\n",
    "    splits = [2, 4, 6]\n",
    "elif n== 4:\n",
    "    assert len(postproc) == len(pauli_decomp) == 28\n",
    "    splits = [12, 16, 28]\n",
    "elif n== 8:\n",
    "    assert len(postproc) == len(pauli_decomp) == 120\n",
    "    splits = [56, 64, 120]\n",
    "\n",
    "K_1 = np.eye(2**n, dtype=\"complex\")\n",
    "for coeff, pauli_str, wires, t in postproc[:splits[0]]:\n",
    "    assert t in \"ak\"\n",
    "    K_1 = K_1 @ qml.matrix(qml.PauliRot(-2 * coeff, pauli_word=pauli_str, wires=wires), wire_order=range(n))\n",
    "    print(\"\".join([pauli_str[wires.index(w)] if w in wires else \"I\" for w in range(n)]))\n",
    "\n",
    "K_2 = np.eye(2**n, dtype=\"complex\")\n",
    "for coeff, pauli_str, wires, t in postproc[splits[1]:splits[2]]:\n",
    "    assert t in \"ak\"\n",
    "    K_2 = K_2 @ qml.matrix(qml.PauliRot(-2 * coeff, pauli_word=pauli_str, wires=wires), wire_order=range(n))\n",
    "\n",
    "a = 0\n",
    "a_irrep = 0\n",
    "for pauli_word, coeff, t in pauli_decomp[splits[0]:splits[1]]:\n",
    "    assert t==\"a0\"\n",
    "    a = a + pauli_word * coeff\n",
    "    a_irrep = a_irrep + matrix_map[pauli_word] * coeff\n",
    "\n",
    "\n",
    "U_rec = np.eye(2*n)\n",
    "        \n",
    "for pauli_word, coeff, t in pauli_decomp:\n",
    "    print(pauli_word, coeff, t)\n",
    "    T = time if t==\"a0\" else 1.\n",
    "    print(expm(matrix_map[pauli_word] * coeff * T))\n",
    "    U_rec = U_rec @ expm(matrix_map[pauli_word] * coeff * T)\n",
    "\n",
    "for th in recursive_decomp[0]:\n",
    "    print(th)\n",
    "\n",
    "assert np.allclose(expm(time * H_irrep), U_rec)\n",
    "\n",
    "a_mat = qml.matrix(a, wire_order=range(n))\n",
    "H_mat = qml.matrix(H, wire_order=range(n))\n",
    "a_eigvals = qml.eigvals(a.operation())\n",
    "H_eigvals = qml.eigvals(H)\n",
    "# print(np.exp(1j * a_eigvals), np.exp(1j * H_eigvals))\n",
    "print((a_eigvals, H_eigvals))\n",
    "# print(a_eigvals[1]-a_eigvals[0])\n",
    "# print(H_eigvals[1]-H_eigvals[0])\n",
    "# print(a_eigvals[0]-H_eigvals[0])\n",
    "assert np.allclose(a_eigvals, H_eigvals)\n",
    "\n",
    "\n",
    "A = np.eye(2**n, dtype=\"complex\")\n",
    "for coeff, pauli_str, wires, t in postproc[splits[0]:splits[1]]:\n",
    "    assert t == \"a0\"\n",
    "    A = A @ qml.matrix(qml.PauliRot(-2 * coeff, pauli_word=pauli_str, wires=wires), wire_order=range(n))\n",
    "    print(\"\".join([pauli_str[wires.index(w)] if w in wires else \"I\" for w in range(n)]))\n",
    "\n",
    "assert np.allclose(expm(1j * a_mat), A)\n",
    "assert np.allclose(K_1 @ K_1.conj().T, np.eye(2**n))\n",
    "assert np.allclose(K_2 @ K_2.conj().T, np.eye(2**n))\n",
    "print(np.allclose(K_1, K_2.conj().T), np.allclose(K_1, K_2))\n",
    "assert np.allclose(recursive_decomp[0][0][0], recursive_decomp[0][2][0].T)\n",
    "assert np.allclose(recursive_decomp[0][0][0] @ recursive_decomp[0][1][0] @ recursive_decomp[0][2][0], U)\n",
    "# assert np.allclose(np.linalg.multi_dot([entry[0] for entry in recursive_decomp[1][:6]]), recursive_decomp[0][0][0])\n",
    "# assert np.allclose(recursive_decomp[1][6][0], recursive_decomp[0][1][0])\n",
    "# assert np.allclose(np.linalg.multi_dot([entry[0] for entry in recursive_decomp[1][7:13]]), recursive_decomp[0][2][0])\n",
    "for _iter in range(max(recursive_decomp.keys())):\n",
    "    assert all(entry[0].shape==(n_so, n_so) for entry in recursive_decomp[_iter])\n",
    "\n",
    "H_from_H_irrep = map_matrix_to_reducible(H_irrep, mapping, signs, \"BDI\")\n",
    "assert np.allclose(qml.matrix(H_from_H_irrep, wire_order=range(n)), H_mat)\n",
    "print(np.allclose(recursive_decomp[0][0][0] @ a_irrep @ recursive_decomp[0][2][0], H_irrep))\n",
    "print(np.allclose(K_1 @ a_mat @ K_2, H_mat))\n",
    "print(np.round(K_1 @ a_mat @ K_2, 5))\n",
    "print(np.round(H_mat, 5))\n",
    "print(np.allclose(K_1 @ a_mat @ K_1.conj().T, H_mat))"
   ]
  },
  {
   "cell_type": "code",
   "execution_count": null,
   "id": "134d9bbf-cb61-481d-83cb-39ce24a43242",
   "metadata": {
    "execution": {
     "iopub.status.busy": "2024-12-13T11:06:39.464042Z",
     "iopub.status.idle": "2024-12-13T11:06:39.464208Z",
     "shell.execute_reply": "2024-12-13T11:06:39.464141Z",
     "shell.execute_reply.started": "2024-12-13T11:06:39.464133Z"
    },
    "scrolled": true
   },
   "outputs": [],
   "source": [
    "print(np.round(K_1, 4))\n",
    "print(np.round(K_2, 4))\n",
    "print()\n",
    "print(recursive_decomp[0][0][0])\n",
    "print(recursive_decomp[0][2][0])"
   ]
  },
  {
   "cell_type": "code",
   "execution_count": null,
   "id": "5864d9c8-fe22-4f6c-908f-fba809bb3108",
   "metadata": {},
   "outputs": [],
   "source": []
  },
  {
   "cell_type": "markdown",
   "id": "de75dee6-a3ad-4299-b3f4-fc08b0bc0d4b",
   "metadata": {},
   "source": [
    "With this decomposition in our hands, we can construct a circuit implementing the time evolution operator. For\n",
    "this we implement a convenience function that maps from our Pauli word output to `PauliRot` gates.\n",
    "It also takes into account that for a flexible-time evolution operator $\\exp(-itH)$ with $t$ other than $1$, the central\n",
    "CSA element needs to be rescaled by $t$."
   ]
  },
  {
   "cell_type": "code",
   "execution_count": null,
   "id": "915ee65b-b589-4322-853c-3c7141cab3a7",
   "metadata": {
    "execution": {
     "iopub.status.busy": "2024-12-13T11:06:39.464739Z",
     "iopub.status.idle": "2024-12-13T11:06:39.464883Z",
     "shell.execute_reply": "2024-12-13T11:06:39.464823Z",
     "shell.execute_reply.started": "2024-12-13T11:06:39.464817Z"
    }
   },
   "outputs": [],
   "source": [
    "def pauli_rot(coeff, pauli_str, wires, t, time):\n",
    "    if t == \"a0\":\n",
    "        coeff = coeff * time\n",
    "    qml.PauliRot(-2 * coeff, pauli_word=pauli_str, wires=wires)"
   ]
  },
  {
   "cell_type": "code",
   "execution_count": null,
   "id": "c323e295-113c-436d-b474-75afddf646a5",
   "metadata": {
    "execution": {
     "iopub.status.busy": "2024-12-13T11:06:39.465164Z",
     "iopub.status.idle": "2024-12-13T11:06:39.465288Z",
     "shell.execute_reply": "2024-12-13T11:06:39.465233Z",
     "shell.execute_reply.started": "2024-12-13T11:06:39.465227Z"
    }
   },
   "outputs": [],
   "source": [
    "def time_evolution(time):\n",
    "    for pauli_term in postproc[::-1]:\n",
    "        pauli_rot(*pauli_term, time)\n",
    "\n",
    "obs = Z(0)\n",
    "dev = qml.device(\"lightning.qubit\", wires=n)\n",
    "dev_def = qml.device(\"default.qubit\", wires=n)\n",
    "\n",
    "@qml.qnode(dev, grad_on_execution=False)\n",
    "def kak_circuit(time):\n",
    "    qml.X(0)\n",
    "    time_evolution(-time)\n",
    "    return qml.expval(obs)\n",
    "\n",
    "H_red = qml.dot(coeffs, generators)\n",
    "H_red_ps = H_red.pauli_rep\n",
    "H_red_ps.simplify()\n",
    "H_red_rec = map_matrix_to_reducible(H_irrep, mapping, signs, \"BDI\")\n",
    "H_red_rec.simplify()\n",
    "assert set(H_red_ps) == set(H_red_rec)\n",
    "for k in H_red_ps:\n",
    "    assert np.isclose(H_red_ps[k], H_red_rec[k])\n",
    "\n",
    "from pennylane.devices.default_qubit import stopping_condition as sc_def\n",
    "\n",
    "def stopping_condition(obj):\n",
    "    return sc_def(obj) and not isinstance(obj, qml.ops.Exp)\n",
    "\n",
    "@partial(qml.devices.preprocess.decompose, stopping_condition=stopping_condition)\n",
    "@qml.qnode(dev, grad_on_execution=False)\n",
    "def trotter_circuit(time, num_steps):\n",
    "    qml.X(0)\n",
    "    qml.exp(-1j * time * H_red, num_steps=num_steps)\n",
    "    return qml.expval(obs)\n",
    "\n",
    "@qml.qnode(dev_def, interface=\"jax\", grad_on_execution=False)\n",
    "def exact_circuit(time):\n",
    "    qml.X(0)\n",
    "    qml.exp(-1j * time * H_red)\n",
    "    return qml.expval(obs)"
   ]
  },
  {
   "cell_type": "code",
   "execution_count": null,
   "id": "a65e15ff-83ab-48eb-b8b8-0b2e7fbd731f",
   "metadata": {},
   "outputs": [],
   "source": []
  },
  {
   "cell_type": "code",
   "execution_count": null,
   "id": "f3f0b184-ab24-47a2-8e70-a35d40480d1e",
   "metadata": {
    "execution": {
     "iopub.status.busy": "2024-12-13T11:06:39.465954Z",
     "iopub.status.idle": "2024-12-13T11:06:39.466108Z",
     "shell.execute_reply": "2024-12-13T11:06:39.466017Z",
     "shell.execute_reply.started": "2024-12-13T11:06:39.466011Z"
    }
   },
   "outputs": [],
   "source": [
    "times = np.linspace(0, 1, 200)\n",
    "all_num_steps = [2, 5, 10, 20, 100]\n",
    "kak_out = jax.vmap(kak_circuit, in_axes=0)(times)"
   ]
  },
  {
   "cell_type": "code",
   "execution_count": null,
   "id": "9384ee27-6d77-4186-bcf1-841e92684875",
   "metadata": {
    "execution": {
     "iopub.status.busy": "2024-12-13T11:06:39.467516Z",
     "iopub.status.idle": "2024-12-13T11:06:39.467845Z",
     "shell.execute_reply": "2024-12-13T11:06:39.467722Z",
     "shell.execute_reply.started": "2024-12-13T11:06:39.467711Z"
    }
   },
   "outputs": [],
   "source": [
    "exact_out = jax.vmap(exact_circuit, in_axes=0)(times)"
   ]
  },
  {
   "cell_type": "code",
   "execution_count": null,
   "id": "eab69e41-3c32-4373-abfe-d3667c0787b4",
   "metadata": {
    "execution": {
     "iopub.status.busy": "2024-12-13T11:06:39.468549Z",
     "iopub.status.idle": "2024-12-13T11:06:39.468834Z",
     "shell.execute_reply": "2024-12-13T11:06:39.468715Z",
     "shell.execute_reply.started": "2024-12-13T11:06:39.468704Z"
    }
   },
   "outputs": [],
   "source": [
    "trotter_out = [\n",
    "    jax.vmap(partial(trotter_circuit, num_steps=ns), in_axes=0)(times)\n",
    "    for ns in all_num_steps\n",
    "]"
   ]
  },
  {
   "cell_type": "code",
   "execution_count": null,
   "id": "5a8538c1-53f0-4e36-b934-1775efc6c2e5",
   "metadata": {
    "execution": {
     "iopub.status.busy": "2024-12-13T11:06:39.469782Z",
     "iopub.status.idle": "2024-12-13T11:06:39.470017Z",
     "shell.execute_reply": "2024-12-13T11:06:39.469935Z",
     "shell.execute_reply.started": "2024-12-13T11:06:39.469924Z"
    }
   },
   "outputs": [],
   "source": [
    "fig, axs = plt.subplots(2, 1)\n",
    "ax = axs[0]\n",
    "ax.plot(times, kak_out, label=\"KAK decomposition\", color=\"xkcd:spring green\")\n",
    "ax.plot(times, exact_out, label=\"Exact\", color=\"xkcd:brick red\", ls=\":\")\n",
    "for ns, out in zip(all_num_steps, trotter_out):\n",
    "    ax.plot(times, out, label=f\"Trotter ({ns} steps)\", ls=\"--\")\n",
    "ax.legend()\n",
    "ax.set_ylabel(\"$\\\\langle X_0Y_1\\\\rangle$\")\n",
    "ax.set_xlabel(\"Time\")\n",
    "\n",
    "ax = axs[1]\n",
    "ax.plot(times, np.abs(kak_out-exact_out), label=\"KAK decomposition\", color=\"xkcd:spring green\")\n",
    "for ns, out in zip(all_num_steps, trotter_out):\n",
    "    ax.plot(times, np.abs(out-exact_out), label=f\"Trotter ({ns} steps)\", ls=\"--\")\n",
    "ax.legend()\n",
    "ax.set_yscale(\"log\")\n",
    "ax.set_ylabel(\"Error in $\\\\langle X_0Y_1\\\\rangle$\")\n",
    "ax.set_xlabel(\"Time\");\n"
   ]
  },
  {
   "cell_type": "code",
   "execution_count": null,
   "id": "ead12b72-22b1-4d3a-a743-dbccb2ad28fb",
   "metadata": {
    "execution": {
     "iopub.status.busy": "2024-12-13T11:06:39.470533Z",
     "iopub.status.idle": "2024-12-13T11:06:39.470696Z",
     "shell.execute_reply": "2024-12-13T11:06:39.470627Z",
     "shell.execute_reply.started": "2024-12-13T11:06:39.470619Z"
    }
   },
   "outputs": [],
   "source": [
    "def get_paulirot_count(qnode):\n",
    "    var_types = {\"PauliRot\", \"IsingXX\", \"IsingYY\", \"RZ\"}\n",
    "    def wrapper(*args, **kwargs):\n",
    "        specs = qml.specs(qnode)(*args, **kwargs)\n",
    "        gate_count = specs['resources'].num_gates\n",
    "        gate_types = specs['resources'].gate_types\n",
    "        assert set(gate_types).issubset(var_types | {\"PauliX\"}), f\"{gate_types}\"\n",
    "        assert gate_types[\"PauliX\"] == 1\n",
    "        var_gate_count = 0\n",
    "        for t in var_types:\n",
    "            var_gate_count += gate_types.get(t, 0) \n",
    "        assert gate_count == var_gate_count + 1\n",
    "        return var_gate_count\n",
    "    return wrapper\n",
    "\n",
    "print(get_paulirot_count(kak_circuit)(times[-1]))\n",
    "for ns in all_num_steps:\n",
    "    print(get_paulirot_count(trotter_circuit)(times[-1], num_steps=ns))"
   ]
  },
  {
   "cell_type": "code",
   "execution_count": null,
   "id": "ba4082ee-5579-4a55-9ce5-9ca179fae141",
   "metadata": {
    "execution": {
     "iopub.status.busy": "2024-12-13T11:06:39.471113Z",
     "iopub.status.idle": "2024-12-13T11:06:39.471392Z",
     "shell.execute_reply": "2024-12-13T11:06:39.471322Z",
     "shell.execute_reply.started": "2024-12-13T11:06:39.471315Z"
    }
   },
   "outputs": [],
   "source": [
    "op0 = algebra[n]\n",
    "print(op0)\n",
    "mat0 = matrix_map[op0]\n",
    "from kak_tools import map_matrix_to_reducible, group_matrix_to_reducible\n",
    "map_matrix_to_reducible(mat0, mapping, signs, \"BDI\")"
   ]
  },
  {
   "cell_type": "code",
   "execution_count": null,
   "id": "55353bda-037c-4272-ac5a-05d8d63208c3",
   "metadata": {
    "execution": {
     "iopub.status.busy": "2024-12-13T11:06:39.471826Z",
     "iopub.status.idle": "2024-12-13T11:06:39.471961Z",
     "shell.execute_reply": "2024-12-13T11:06:39.471901Z",
     "shell.execute_reply.started": "2024-12-13T11:06:39.471895Z"
    }
   },
   "outputs": [],
   "source": [
    "c1 = np.random.random(len(algebra))\n",
    "op1 = qml.dot(c1, algebra).pauli_rep\n",
    "mat1 = np.tensordot(c1, [matrix_map[op] for op in algebra], axes=[[0], [0]])\n",
    "# u1 = expm(mat1)\n",
    "# op1_out = group_matrix_to_reducible(u1, mapping, signs, \"BDI\").pauli_rep\n",
    "op1_out = map_matrix_to_reducible(mat1, mapping, signs, \"BDI\").pauli_rep\n",
    "assert set(op1_out) == set(op1), f\"{set(op1_out)}\\n{set(op1)}\"\n",
    "for k in op1:\n",
    "    assert np.isclose(op1_out[k], op1[k]), f\"{op1_out[k]}, {op1[k]}\""
   ]
  },
  {
   "cell_type": "code",
   "execution_count": null,
   "id": "41d5bb27-8faf-4c8d-b3ee-2b672e605e9e",
   "metadata": {
    "execution": {
     "iopub.status.busy": "2024-12-13T11:06:39.472246Z",
     "iopub.status.idle": "2024-12-13T11:06:39.472374Z",
     "shell.execute_reply": "2024-12-13T11:06:39.472314Z",
     "shell.execute_reply.started": "2024-12-13T11:06:39.472308Z"
    }
   },
   "outputs": [],
   "source": [
    "time = 0.613\n",
    "op2 = algebra[n]\n",
    "print(op2)\n",
    "mat2 = matrix_map[op2]\n",
    "gmat2 = expm(-time * mat2)\n",
    "from kak_tools import group_matrix_to_reducible\n",
    "group_matrix_to_reducible(gmat2, mapping, signs, \"BDI\") / (-time)"
   ]
  },
  {
   "cell_type": "code",
   "execution_count": null,
   "id": "04c267ad-0daf-4cd1-b90a-01bbdbac88a3",
   "metadata": {
    "execution": {
     "iopub.status.busy": "2024-12-13T11:06:39.472699Z",
     "iopub.status.idle": "2024-12-13T11:06:39.472864Z",
     "shell.execute_reply": "2024-12-13T11:06:39.472790Z",
     "shell.execute_reply.started": "2024-12-13T11:06:39.472779Z"
    }
   },
   "outputs": [],
   "source": [
    "com_set = [algebra[0], algebra[n//2], algebra[n-1]]\n",
    "for a, b in combinations(com_set, r=2):\n",
    "    assert a.commutes_with(b)\n",
    "c3 = np.random.random(len(com_set))\n",
    "op3 = qml.dot(c3, com_set).pauli_rep\n",
    "mat3 = np.tensordot(c3, [matrix_map[op] for op in com_set], axes=[[0], [0]])\n",
    "gmat3 = expm(-time * mat3)\n",
    "op3_out = group_matrix_to_reducible(gmat3, mapping, signs, \"BDI\") / (-time)\n",
    "op3_out.simplify()\n",
    "\n",
    "print(op3)\n",
    "print(op3_out)\n",
    "# for pw, val in op3_out.items():\n",
    "#     print(pw, val)\n",
    "reconstruct_mat3 = np.sum([val.real * matrix_map[pw] for pw, val in op3_out.items()], axis=0)\n",
    "assert np.allclose(expm(-time * reconstruct_mat3), gmat3), f\"\\n{expm(-time * reconstruct_mat3)}\\n{gmat3}\"\n",
    "\n",
    "assert set(op3_out) == set(op3), f\"{set(op3_out)}\\n{set(op3)}\"\n",
    "op_mat3 = qml.matrix(op3, wire_order=range(n))\n",
    "op_mat3_out = qml.matrix(op3_out, wire_order=range(n))\n",
    "for k in op3:\n",
    "    assert np.isclose(op3_out[k], op3[k]), f\"{expm(op_mat3-op_mat3_out)}\"\n",
    "#f\"{np.divide(op_mat3, op_mat3_out, out=np.ones_like(op_mat3), where=np.abs(op_mat3_out)>1e-15)}\""
   ]
  },
  {
   "cell_type": "code",
   "execution_count": null,
   "id": "017dd3db-a40a-403b-83c1-60fa2ba187f6",
   "metadata": {
    "execution": {
     "iopub.status.busy": "2024-12-13T11:06:39.473530Z",
     "iopub.status.idle": "2024-12-13T11:06:39.473775Z",
     "shell.execute_reply": "2024-12-13T11:06:39.473698Z",
     "shell.execute_reply.started": "2024-12-13T11:06:39.473690Z"
    }
   },
   "outputs": [],
   "source": [
    "# Check that products are compatible with representations\n",
    "def matrix(op):\n",
    "    return qml.matrix(op, wire_order=range(n))\n",
    "\n",
    "op1 = algebra[0]\n",
    "op2 = algebra[n]\n",
    "c1, c2 = 0.63, -0.215\n",
    "assert not op1.commutes_with(op2)\n",
    "exp_prod_red = qml.pauli_decompose(logm(expm(1j * matrix(op1) * c1) @ expm(1j * matrix(op2) * c2))/1j)\n",
    "print(type(exp_prod_red))\n",
    "print(exp_prod_red)\n",
    "\n",
    "expm(matrix_map[op1] * c1) @ expm(matrix_map[op2] * c2)"
   ]
  },
  {
   "cell_type": "code",
   "execution_count": null,
   "id": "aab4f3ae-4ad7-4c9d-aac6-b209c18cfdef",
   "metadata": {
    "execution": {
     "iopub.status.busy": "2024-12-13T11:06:39.474145Z",
     "iopub.status.idle": "2024-12-13T11:06:39.474316Z",
     "shell.execute_reply": "2024-12-13T11:06:39.474240Z",
     "shell.execute_reply.started": "2024-12-13T11:06:39.474234Z"
    }
   },
   "outputs": [],
   "source": [
    "# time = 0.6\n",
    "# # U = expm(-time * H)\n",
    "\n",
    "# ops = recursive_bdi(U, n_so, num_iter=None)\n",
    "# num_iter = max(ops.keys())\n",
    "\n",
    "# widths = [e-s for _, s, e, _ in ops[num_iter]]\n",
    "# widths, counts = np.unique(widths, return_counts=True)\n",
    "# widths_dict = dict(zip(map(int, widths), map(int, counts)))\n",
    "    \n",
    "# print(f\"Decomposed into {len(ops[num_iter])} blocks with (partially large) CSA blocks and K blocks with sizes\\n{widths_dict}\")\n",
    "\n",
    "# num_paulirots = 0\n",
    "# for op, s, e, t in ops[num_iter]:\n",
    "#     if e - s > 4:\n",
    "#         assert t.startswith(\"a\")\n",
    "#     num_paulirots += (e - s) // 2\n",
    "\n",
    "# print(f\"This decomposition consists of {num_paulirots} individual Pauli rotations\")\n",
    "\n",
    "# def num_ops(_iter):\n",
    "#     if _iter==0:\n",
    "#         return 3\n",
    "#     return num_ops(_iter - 1) + 4 ** _iter * 5 // 2\n",
    "\n",
    "# # Validate\n",
    "# for i in range(num_iter+1):\n",
    "#     print(f\"{i=}\")\n",
    "#     print(f\"{len(ops[i])}, {num_ops(i)}\")\n",
    "#     assert len(ops[i]) == num_ops(i), f\"{len(ops[i])}, {num_ops(i)}\"\n",
    "#     for tup in ops[i]:\n",
    "#         assert isinstance(tup, tuple) and len(tup) == 4\n",
    "#         assert isinstance(tup[0], np.ndarray) and tup[0].shape == (n_so, n_so)\n",
    "#         for val in tup[1:3]:\n",
    "#             assert isinstance(val, int) and 0<=val<=n_so\n",
    "#         assert tup[3] in {\"a\", \"k\", \"a0\"}\n",
    "\n",
    "#     pos = 0\n",
    "#     if i > 0:\n",
    "#         for j in range(len(ops[i-1])):\n",
    "#             if ops[i-1][j][3] == \"k\":\n",
    "#                 rec = ops[i][pos][0] @ ops[i][pos+1][0] @ ops[i][pos+2][0] @ ops[i][pos+3][0] @ ops[i][pos+4][0] @ ops[i][pos+5][0]\n",
    "#                 assert np.allclose(rec, ops[i-1][j][0])\n",
    "#                 pos += 6\n",
    "#             else:\n",
    "#                 assert ops[i-1][j][3].startswith(\"a\")\n",
    "#                 assert np.allclose(ops[i][pos][0], ops[i-1][j][0])\n",
    "#                 pos += 1"
   ]
  },
  {
   "cell_type": "code",
   "execution_count": null,
   "id": "78a5a9e0-47b8-4976-8033-3c040d94a3e1",
   "metadata": {},
   "outputs": [],
   "source": []
  }
 ],
 "metadata": {
  "kernelspec": {
   "display_name": "Python 3 (ipykernel)",
   "language": "python",
   "name": "python3"
  },
  "language_info": {
   "codemirror_mode": {
    "name": "ipython",
    "version": 3
   },
   "file_extension": ".py",
   "mimetype": "text/x-python",
   "name": "python",
   "nbconvert_exporter": "python",
   "pygments_lexer": "ipython3",
   "version": "3.10.12"
  }
 },
 "nbformat": 4,
 "nbformat_minor": 5
}

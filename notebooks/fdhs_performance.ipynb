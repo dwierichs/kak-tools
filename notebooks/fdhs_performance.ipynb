{
 "cells": [
  {
   "cell_type": "markdown",
   "id": "bb67515b-5892-478c-b31f-77a20c4ef72c",
   "metadata": {},
   "source": [
    "## Non-variational fixed-depth Hamiltonian simulation\n",
    "\n",
    "Here we time the FDHS example with non-variational KAK decomposition."
   ]
  },
  {
   "cell_type": "code",
   "execution_count": 1,
   "id": "a78e07f6-0c7a-4b6d-9b67-7b7bbad8bc3d",
   "metadata": {
    "execution": {
     "iopub.execute_input": "2024-12-16T12:20:18.846262Z",
     "iopub.status.busy": "2024-12-16T12:20:18.845871Z",
     "iopub.status.idle": "2024-12-16T12:20:19.818887Z",
     "shell.execute_reply": "2024-12-16T12:20:19.817872Z",
     "shell.execute_reply.started": "2024-12-16T12:20:18.846241Z"
    }
   },
   "outputs": [],
   "source": [
    "from itertools import combinations, product\n",
    "import numpy as np\n",
    "import time\n",
    "np.random.seed(2415)\n",
    "from scipy.linalg import expm\n",
    "from scipy.optimize import curve_fit\n",
    "import matplotlib.pyplot as plt\n",
    "\n",
    "import jax\n",
    "jax.config.update(\"jax_enable_x64\", True)\n",
    "\n",
    "import pennylane as qml\n",
    "from pennylane import X, Y, Z, I\n",
    "\n",
    "from kak_tools import (\n",
    "    map_simple_to_irrep,\n",
    "    map_irrep_to_matrices,\n",
    "    lie_closure_pauli_words,\n",
    "    recursive_bdi,\n",
    "    map_recursive_decomp_to_reducible,\n",
    "    irrep_dot,\n",
    "    make_signs,\n",
    "    make_so_2n,\n",
    "    make_so_2n_horizontal_mapping,\n",
    "    make_so_2n_full_mapping,\n",
    ")"
   ]
  },
  {
   "cell_type": "code",
   "execution_count": 2,
   "id": "03bc9084-c269-4e46-b6fb-7c0ed0948173",
   "metadata": {
    "execution": {
     "iopub.execute_input": "2024-12-16T12:20:19.819663Z",
     "iopub.status.busy": "2024-12-16T12:20:19.819460Z",
     "iopub.status.idle": "2024-12-16T12:20:19.824242Z",
     "shell.execute_reply": "2024-12-16T12:20:19.823660Z",
     "shell.execute_reply.started": "2024-12-16T12:20:19.819651Z"
    }
   },
   "outputs": [],
   "source": [
    "# Helper functions\n",
    "def make_so_2n_hamiltonian(n, coefficients=\"random\"):\n",
    "    couplings = [X(w) @ X(w+1) for w in range(n-1)] + [Y(w) @ Y(w+1) for w in range(n-1)]\n",
    "    Zs = [Z(w) for w in range(n)]\n",
    "    generators = couplings + Zs\n",
    "    if coefficients == \"random\":\n",
    "        alphas = np.random.normal(0.6, 1., size=n-1)\n",
    "        betas = np.random.normal(0.3, 1.2, size=n-1)\n",
    "        gammas = np.random.normal(0., 0.3, size=n)\n",
    "    elif coefficients == \"random TF\":\n",
    "        alphas = np.ones(n-1)\n",
    "        betas = np.ones(n-1)\n",
    "        gammas = np.random.normal(0., 0.3, size=n)\n",
    "    elif coefficients == \"uniform\":\n",
    "        alphas = np.ones(n-1)\n",
    "        betas = np.ones(n-1)\n",
    "        gammas = np.ones(n)\n",
    "    \n",
    "    coeffs = np.concatenate([alphas, betas, gammas])\n",
    "    coeffs /= np.linalg.norm(coeffs) # Normalization\n",
    "    H = qml.dot(coeffs, generators)\n",
    "    generators = [next(iter(op.pauli_rep)) for op in generators]\n",
    "    return H, generators, coeffs"
   ]
  },
  {
   "cell_type": "code",
   "execution_count": 3,
   "id": "a560da69-fcf0-4ccb-9d32-48e2b414b9f6",
   "metadata": {
    "execution": {
     "iopub.execute_input": "2024-12-16T12:20:19.824959Z",
     "iopub.status.busy": "2024-12-16T12:20:19.824753Z",
     "iopub.status.idle": "2024-12-16T12:20:19.831490Z",
     "shell.execute_reply": "2024-12-16T12:20:19.830798Z",
     "shell.execute_reply.started": "2024-12-16T12:20:19.824940Z"
    }
   },
   "outputs": [],
   "source": [
    "# Config\n",
    "\n",
    "coefficients = \"random\"\n",
    "use_predefined_algebra = True\n",
    "use_predefined_horizontal_mapping = True\n",
    "use_hardcoded_mapping = True\n",
    "ns = np.arange(2, 20, dtype=int) ** 2\n",
    "# ns = [10]"
   ]
  },
  {
   "cell_type": "code",
   "execution_count": null,
   "id": "b61313c3-9220-470a-b4c5-2e145f527889",
   "metadata": {
    "execution": {
     "iopub.execute_input": "2024-12-16T12:20:19.832443Z",
     "iopub.status.busy": "2024-12-16T12:20:19.832218Z"
    }
   },
   "outputs": [
    {
     "name": "stdout",
     "output_type": "stream",
     "text": [
      "Decomposed exp(iHt) on 4 qubits into 28 Pauli rotations (DLA dimension: 28, Duration: 0.00564s).\n",
      "Decomposed exp(iHt) on 9 qubits into 153 Pauli rotations (DLA dimension: 153, Duration: 0.0221s).\n",
      "Decomposed exp(iHt) on 16 qubits into 496 Pauli rotations (DLA dimension: 496, Duration: 0.0475s).\n",
      "Decomposed exp(iHt) on 25 qubits into 1225 Pauli rotations (DLA dimension: 1225, Duration: 0.146s).\n",
      "Decomposed exp(iHt) on 36 qubits into 2552 Pauli rotations (DLA dimension: 2556, Duration: 0.288s).\n",
      "Decomposed exp(iHt) on 49 qubits into 4731 Pauli rotations (DLA dimension: 4753, Duration: 0.582s).\n",
      "Decomposed exp(iHt) on 64 qubits into 8044 Pauli rotations (DLA dimension: 8128, Duration: 0.607s).\n"
     ]
    },
    {
     "name": "stderr",
     "output_type": "stream",
     "text": [
      "/home/david/repos/kak-tools/kak_tools/dense_cartan.py:179: RuntimeWarning: invalid value encountered in arcsin\n",
      "  angle = np.arcsin(matrix[i, j])\n"
     ]
    },
    {
     "name": "stdout",
     "output_type": "stream",
     "text": [
      "Decomposed exp(iHt) on 81 qubits into 12879 Pauli rotations (DLA dimension: 13041, Duration: 1.18s).\n",
      "Decomposed exp(iHt) on 100 qubits into 19666 Pauli rotations (DLA dimension: 19900, Duration: 1.62s).\n",
      "Decomposed exp(iHt) on 121 qubits into 28857 Pauli rotations (DLA dimension: 29161, Duration: 2.06s).\n",
      "Decomposed exp(iHt) on 144 qubits into 40776 Pauli rotations (DLA dimension: 41328, Duration: 3.63s).\n",
      "Decomposed exp(iHt) on 169 qubits into 56213 Pauli rotations (DLA dimension: 56953, Duration: 5.16s).\n",
      "Decomposed exp(iHt) on 196 qubits into 75542 Pauli rotations (DLA dimension: 76636, Duration: 6.69s).\n"
     ]
    }
   ],
   "source": [
    "times_mapping = []\n",
    "times_decomposing = []\n",
    "times_mapping_back = []\n",
    "times_rest = []\n",
    "times_total = []\n",
    "\n",
    "for n in ns:\n",
    "    n = int(n)\n",
    "    H, generators, coeffs = make_so_2n_hamiltonian(n, coefficients)\n",
    "    n_so = 2 * n\n",
    "    so_dim = (n_so**2-n_so) // 2\n",
    "    \n",
    "    start = time.process_time()\n",
    "\n",
    "    if use_predefined_algebra:\n",
    "        algebra = make_so_2n(n)\n",
    "    else:\n",
    "        algebra = lie_closure_pauli_words(generators, verbose=False)\n",
    "    start = time.process_time()\n",
    "    assert len(algebra) == so_dim, f\"{len(algebra)}, {so_dim}\"\n",
    "\n",
    "    start_mapping = time.process_time()\n",
    "\n",
    "    if not use_hardcoded_mapping:\n",
    "        if use_predefined_horizontal_mapping:\n",
    "            horizontal_ops = make_so_2n_horizontal_mapping(n)\n",
    "        else:\n",
    "            horizontal_ops = generators\n",
    "        # print(f\"Mapping simple to irrep\")\n",
    "        mapping, signs = map_simple_to_irrep(algebra, horizontal_ops=horizontal_ops, n=n_so, invol_type=\"BDI\", invol_kwargs={\"p\": n_so//2, \"q\": (n_so+1)//2})\n",
    "        # print(f\"Mapping irrep to matrices\")\n",
    "    else:\n",
    "        mapping = make_so_2n_full_mapping(n)\n",
    "        signs = make_signs(mapping, n_so, \"BDI\")\n",
    "\n",
    "    end_mapping = time.process_time()\n",
    "\n",
    "    epsilon = 0.01\n",
    "    # print(f\"Computing H and time evolution\")\n",
    "    H_irrep = irrep_dot(coeffs, generators, mapping, signs, n=n_so, invol_type=\"BDI\")\n",
    "    U = expm(epsilon * H_irrep)\n",
    "\n",
    "    # print(f\"Computing recursive decomposition\")\n",
    "    start_decomposing = time.process_time()\n",
    "    recursive_decomp = recursive_bdi(U, n_so)\n",
    "    end_decomposing = time.process_time()\n",
    "\n",
    "    # print(f\"Mapping recursive decomposition to Paulis\")\n",
    "    start_mapping_back = time.process_time()\n",
    "    pauli_decomp = map_recursive_decomp_to_reducible(recursive_decomp, mapping, signs, invol_type=\"BDI\", time=epsilon, tol=None, assertions=False)\n",
    "    end_mapping_back = time.process_time()\n",
    "    paulirot_decomp = [(coeff, qml.pauli.pauli_word_to_string(pw), pw.wires, _type) for pw, coeff, _type in pauli_decomp]\n",
    "\n",
    "    end = time.process_time()\n",
    "    \n",
    "    times_mapping.append(end_mapping - start_mapping)\n",
    "    times_decomposing.append(end_decomposing - start_decomposing)\n",
    "    times_mapping_back.append(end_mapping_back - start_mapping_back)\n",
    "    times_total.append(end - start)\n",
    "    times_rest.append(times_total[-1] - times_mapping[-1] - times_mapping_back[-1] - times_decomposing[-1])\n",
    "    \n",
    "    print(f\"Decomposed exp(iHt) on {n} qubits into {len(paulirot_decomp)} Pauli rotations (DLA dimension: {so_dim}, Duration: {times_total[-1]:.3}s).\")"
   ]
  },
  {
   "cell_type": "code",
   "execution_count": null,
   "id": "e1f0de6e-a9a8-4dd0-a34a-e2679305c6e8",
   "metadata": {},
   "outputs": [],
   "source": [
    "fig, axs = plt.subplots(1, 2, figsize=(12, 5))\n",
    "all_times = [times_total, times_mapping, times_decomposing, times_mapping_back, times_rest]\n",
    "colors = [\"xkcd:indigo\", \"xkcd:blue violet\", \"xkcd:red pink\", \"xkcd:orange yellow\", \"xkcd:seafoam green\"]\n",
    "labels = [\"Total\", \"Mapping\", \"Decomposing\", \"Mapping back\", \"Rest\"]\n",
    "for times, label, c in zip(all_times, labels, colors):\n",
    "    # f = lambda x, a, b: a * x + b\n",
    "    f = lambda x, a, b: (b * x)**a\n",
    "    # popt, pcov = curve_fit(f, np.log(ns)[3:], np.log(times)[3:])\n",
    "    popt, pcov = curve_fit(f, ns, times)\n",
    "    cont_ns = np.linspace(ns[0], ns[-1], 100)\n",
    "    \n",
    "    ax = axs[0]\n",
    "    ax.plot(ns, times, marker=\"s\", c=c, label=label, ls=\"\")\n",
    "    # ax.plot(cont_ns, np.exp(f(np.log(cont_ns), *popt)), ls = \"--\", c=\"xkcd:red pink\", label=f\"${popt[1]:.1f}n^{{{popt[0]:.2f}}}$\")\n",
    "    ax.plot(cont_ns, f(cont_ns, *popt), ls = \"--\", c=c, label=f\"$({popt[1]:.3f}n)^{{{popt[0]:.2f}}}$\")\n",
    "    ax.set_xlabel(\"Number of qubits $n$\")\n",
    "    ax.set_ylabel(\"Decomposition runtime $t$ / s\")\n",
    "    ax.legend()\n",
    "    ax = axs[1]\n",
    "    ax.plot(np.log(ns), np.log(times), marker=\"s\", c=c, label=label, ls=\"\")\n",
    "    # ax.plot(np.log(ns), f(np.log(ns), *popt), ls = \"--\", c=\"xkcd:red pink\", label=f\"${popt[0]:.2f}\\ \\log n {popt[1]:.1f}$\")\n",
    "    ax.plot(np.log(cont_ns), np.log(f(cont_ns, *popt)), ls = \"--\", c=c, label=f\"${popt[0]:.2f}\\ \\log n {popt[0] * np.log(popt[1]):.2f}$\")\n",
    "    ax.set_xlabel(\"$\\log n$\")\n",
    "    ax.set_ylabel(\"$\\log (t/\\\\text{s})$\")\n",
    "    ax.legend()"
   ]
  },
  {
   "cell_type": "code",
   "execution_count": null,
   "id": "ff332153-9746-407b-9ff4-c0a009361f86",
   "metadata": {},
   "outputs": [],
   "source": []
  }
 ],
 "metadata": {
  "kernelspec": {
   "display_name": "Python 3 (ipykernel)",
   "language": "python",
   "name": "python3"
  },
  "language_info": {
   "codemirror_mode": {
    "name": "ipython",
    "version": 3
   },
   "file_extension": ".py",
   "mimetype": "text/x-python",
   "name": "python",
   "nbconvert_exporter": "python",
   "pygments_lexer": "ipython3",
   "version": "3.10.12"
  }
 },
 "nbformat": 4,
 "nbformat_minor": 5
}

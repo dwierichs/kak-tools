{
 "cells": [
  {
   "cell_type": "markdown",
   "id": "bb67515b-5892-478c-b31f-77a20c4ef72c",
   "metadata": {},
   "source": [
    "## Non-variational fixed-depth Hamiltonian simulation\n",
    "\n",
    "Here we time the FDHS example with non-variational KAK decomposition."
   ]
  },
  {
   "cell_type": "code",
   "execution_count": 3,
   "id": "a78e07f6-0c7a-4b6d-9b67-7b7bbad8bc3d",
   "metadata": {
    "execution": {
     "iopub.execute_input": "2025-01-17T15:35:52.161523Z",
     "iopub.status.busy": "2025-01-17T15:35:52.161346Z",
     "iopub.status.idle": "2025-01-17T15:35:53.317490Z",
     "shell.execute_reply": "2025-01-17T15:35:53.316895Z",
     "shell.execute_reply.started": "2025-01-17T15:35:52.161512Z"
    }
   },
   "outputs": [],
   "source": [
    "from itertools import combinations, product\n",
    "import numpy as np\n",
    "import time\n",
    "np.random.seed(2415)\n",
    "from scipy.linalg import expm\n",
    "from scipy.optimize import curve_fit\n",
    "import matplotlib.pyplot as plt\n",
    "from tqdm import tqdm\n",
    "import jax\n",
    "jax.config.update(\"jax_enable_x64\", True)\n",
    "\n",
    "import pennylane as qml\n",
    "from pennylane import X, Y, Z, I\n",
    "\n",
    "from kak_tools import (\n",
    "    map_simple_to_irrep,\n",
    "    map_irrep_to_matrices,\n",
    "    lie_closure_pauli_words,\n",
    "    recursive_bdi,\n",
    "    map_recursive_decomp_to_reducible,\n",
    "    irrep_dot,\n",
    "    make_signs,\n",
    "    make_so_2n,\n",
    "    make_so_2n_horizontal_mapping,\n",
    "    make_so_2n_full_mapping,\n",
    ")"
   ]
  },
  {
   "cell_type": "code",
   "execution_count": 4,
   "id": "03bc9084-c269-4e46-b6fb-7c0ed0948173",
   "metadata": {
    "execution": {
     "iopub.execute_input": "2025-01-17T15:35:53.318556Z",
     "iopub.status.busy": "2025-01-17T15:35:53.318152Z",
     "iopub.status.idle": "2025-01-17T15:35:53.323572Z",
     "shell.execute_reply": "2025-01-17T15:35:53.322873Z",
     "shell.execute_reply.started": "2025-01-17T15:35:53.318392Z"
    }
   },
   "outputs": [],
   "source": [
    "# Helper functions\n",
    "def make_so_2n_hamiltonian(n, coefficients=\"random\"):\n",
    "    couplings = [X(w) @ X(w+1) for w in range(n-1)] + [Y(w) @ Y(w+1) for w in range(n-1)]\n",
    "    Zs = [Z(w) for w in range(n)]\n",
    "    generators = couplings + Zs\n",
    "    if coefficients == \"random\":\n",
    "        alphas = np.random.normal(0.6, 1., size=n-1)\n",
    "        betas = np.random.normal(0.3, 1.2, size=n-1)\n",
    "        gammas = np.random.normal(0., 0.3, size=n)\n",
    "    elif coefficients == \"random TF\":\n",
    "        alphas = np.ones(n-1)\n",
    "        betas = np.ones(n-1)\n",
    "        gammas = np.random.normal(0., 0.3, size=n)\n",
    "    elif coefficients == \"uniform\":\n",
    "        alphas = np.ones(n-1)\n",
    "        betas = np.ones(n-1)\n",
    "        gammas = np.ones(n)\n",
    "    \n",
    "    coeffs = np.concatenate([alphas, betas, gammas])\n",
    "    coeffs /= np.linalg.norm(coeffs) # Normalization\n",
    "    H = qml.dot(coeffs, generators)\n",
    "    generators = [next(iter(op.pauli_rep)) for op in generators]\n",
    "    return H, generators, coeffs"
   ]
  },
  {
   "cell_type": "code",
   "execution_count": 5,
   "id": "a560da69-fcf0-4ccb-9d32-48e2b414b9f6",
   "metadata": {
    "execution": {
     "iopub.execute_input": "2025-01-17T15:35:53.324196Z",
     "iopub.status.busy": "2025-01-17T15:35:53.324049Z",
     "iopub.status.idle": "2025-01-17T15:35:53.347257Z",
     "shell.execute_reply": "2025-01-17T15:35:53.346800Z",
     "shell.execute_reply.started": "2025-01-17T15:35:53.324185Z"
    }
   },
   "outputs": [
    {
     "name": "stdout",
     "output_type": "stream",
     "text": [
      "[  4   9  16  25  36  49  64  81 100 121 144 169 196 225 256 289 324 361 400 441 484]\n"
     ]
    }
   ],
   "source": [
    "# Config\n",
    "\n",
    "coefficients = \"random\"\n",
    "use_predefined_algebra = True\n",
    "use_predefined_horizontal_mapping = True\n",
    "use_hardcoded_mapping = True\n",
    "ns = np.arange(2, 23, dtype=int) ** 2\n",
    "num_reps = 5\n",
    "# ns = [529]\n",
    "print(ns)"
   ]
  },
  {
   "cell_type": "code",
   "execution_count": 6,
   "id": "814eb5a4-5913-4692-a295-eceb091d1337",
   "metadata": {
    "execution": {
     "iopub.execute_input": "2025-01-17T15:35:57.262631Z",
     "iopub.status.busy": "2025-01-17T15:35:57.262095Z",
     "iopub.status.idle": "2025-01-17T15:35:57.266892Z",
     "shell.execute_reply": "2025-01-17T15:35:57.266476Z",
     "shell.execute_reply.started": "2025-01-17T15:35:57.262614Z"
    }
   },
   "outputs": [],
   "source": [
    "def run(n, coefficients, algebra):\n",
    "    H, generators, coeffs = make_so_2n_hamiltonian(n, coefficients)\n",
    "    n_so = 2 * n\n",
    "    so_dim = (n_so**2-n_so) // 2\n",
    "    print(\"hamiltonian done\")\n",
    "    \n",
    "    ################################################\n",
    "    start = time.process_time()\n",
    "    assert len(algebra) == so_dim, f\"{len(algebra)}, {so_dim}\"\n",
    "\n",
    "    ###   ###   ###   ###   ###   ###   ###   ###   ###\n",
    "    start_mapping = time.process_time()\n",
    "    \n",
    "    if not use_hardcoded_mapping:\n",
    "        if use_predefined_horizontal_mapping:\n",
    "            horizontal_ops = make_so_2n_horizontal_mapping(n)\n",
    "        else:\n",
    "            horizontal_ops = generators\n",
    "        # print(f\"Mapping simple to irrep\")\n",
    "        mapping, signs = map_simple_to_irrep(algebra, horizontal_ops=horizontal_ops, n=n_so, invol_type=\"BDI\", invol_kwargs={\"p\": n_so//2, \"q\": (n_so+1)//2})\n",
    "        # print(f\"Mapping irrep to matrices\")\n",
    "    else:\n",
    "        mapping, signs = make_so_2n_full_mapping(n)\n",
    "        # signs = make_signs(mapping, n_so, \"BDI\")\n",
    "\n",
    "    end_mapping = time.process_time()\n",
    "    ###   ###   ###   ###   ###   ###   ###   ###   ###\n",
    "    print(\"mapping done\")\n",
    "    \n",
    "    epsilon = 0.01\n",
    "    # print(f\"Computing H and time evolution\")\n",
    "    H_irrep = irrep_dot(coeffs, generators, mapping, signs, n=n_so, invol_type=\"BDI\")\n",
    "    U = expm(epsilon * H_irrep)\n",
    "\n",
    "    ###   ###   ###   ###   ###   ###   ###   ###   ###\n",
    "    start_decomposing = time.process_time()\n",
    "    recursive_decomp = recursive_bdi(U, n_so, validate=False)\n",
    "    end_decomposing = time.process_time()\n",
    "    ###   ###   ###   ###   ###   ###   ###   ###   ###\n",
    "\n",
    "    \n",
    "    ###   ###   ###   ###   ###   ###   ###   ###   ###\n",
    "    start_mapping_back = time.process_time()\n",
    "    pauli_decomp = map_recursive_decomp_to_reducible(recursive_decomp, mapping, signs, invol_type=\"BDI\", time=epsilon, tol=None, validate=False)\n",
    "\n",
    "    wire_map = {i: i for i in range(n)}\n",
    "    paulirot_decomp = [(coeff, qml.pauli.pauli_word_to_string(pw, wire_map), pw.wires, _type) for pw, coeff, _type in pauli_decomp]\n",
    "    end_mapping_back = time.process_time()\n",
    "    ###   ###   ###   ###   ###   ###   ###   ###   ###\n",
    "    \n",
    "    end = time.process_time()\n",
    "    ################################################\n",
    "\n",
    "    t_map = end_mapping - start_mapping\n",
    "    t_dec = end_decomposing - start_decomposing\n",
    "    t_map_back = end_mapping_back - start_mapping_back\n",
    "    return paulirot_decomp, t_map, t_dec, t_map_back, end - start, end - start - t_map - t_map_back - t_dec"
   ]
  },
  {
   "cell_type": "code",
   "execution_count": null,
   "id": "b61313c3-9220-470a-b4c5-2e145f527889",
   "metadata": {
    "execution": {
     "execution_failed": "2025-01-17T15:43:40.825Z",
     "iopub.execute_input": "2025-01-17T15:35:58.684910Z",
     "iopub.status.busy": "2025-01-17T15:35:58.684700Z"
    },
    "scrolled": true
   },
   "outputs": [
    {
     "name": "stdout",
     "output_type": "stream",
     "text": [
      "algebra done\n"
     ]
    },
    {
     "name": "stderr",
     "output_type": "stream",
     "text": [
      "100%|█████████████████████████████████████████████████████████████████████| 5/5 [00:00<00:00, 679.06it/s]\n"
     ]
    },
    {
     "name": "stdout",
     "output_type": "stream",
     "text": [
      "hamiltonian done\n",
      "mapping done\n",
      "Decomposed exp(iHt) on 4 qubits into 28 Pauli rotations (DLA dimension: 28, Duration: 0.00142s).\n",
      "hamiltonian done\n",
      "mapping done\n",
      "Decomposed exp(iHt) on 4 qubits into 28 Pauli rotations (DLA dimension: 28, Duration: 0.00183s).\n",
      "hamiltonian done\n",
      "mapping done\n",
      "Decomposed exp(iHt) on 4 qubits into 28 Pauli rotations (DLA dimension: 28, Duration: 0.00179s).\n",
      "hamiltonian done\n",
      "mapping done\n",
      "Decomposed exp(iHt) on 4 qubits into 28 Pauli rotations (DLA dimension: 28, Duration: 0.00177s).\n",
      "hamiltonian done\n",
      "mapping done\n",
      "Decomposed exp(iHt) on 4 qubits into 28 Pauli rotations (DLA dimension: 28, Duration: 0.000763s).\n",
      "algebra done\n"
     ]
    },
    {
     "name": "stderr",
     "output_type": "stream",
     "text": [
      "100%|█████████████████████████████████████████████████████████████████████| 5/5 [00:00<00:00, 171.82it/s]\n"
     ]
    },
    {
     "name": "stdout",
     "output_type": "stream",
     "text": [
      "hamiltonian done\n",
      "mapping done\n",
      "Decomposed exp(iHt) on 9 qubits into 153 Pauli rotations (DLA dimension: 153, Duration: 0.00828s).\n",
      "hamiltonian done\n",
      "mapping done\n",
      "Decomposed exp(iHt) on 9 qubits into 153 Pauli rotations (DLA dimension: 153, Duration: 0.0095s).\n",
      "hamiltonian done\n",
      "mapping done\n",
      "Decomposed exp(iHt) on 9 qubits into 153 Pauli rotations (DLA dimension: 153, Duration: 0.0105s).\n",
      "hamiltonian done\n",
      "mapping done\n",
      "Decomposed exp(iHt) on 9 qubits into 153 Pauli rotations (DLA dimension: 153, Duration: 0.0101s).\n",
      "hamiltonian done\n",
      "mapping done\n",
      "Decomposed exp(iHt) on 9 qubits into 153 Pauli rotations (DLA dimension: 153, Duration: 0.00809s).\n",
      "algebra done\n"
     ]
    },
    {
     "name": "stderr",
     "output_type": "stream",
     "text": [
      "100%|██████████████████████████████████████████████████████████████████████| 5/5 [00:00<00:00, 76.96it/s]\n"
     ]
    },
    {
     "name": "stdout",
     "output_type": "stream",
     "text": [
      "hamiltonian done\n",
      "mapping done\n",
      "Decomposed exp(iHt) on 16 qubits into 496 Pauli rotations (DLA dimension: 496, Duration: 0.025s).\n",
      "hamiltonian done\n",
      "mapping done\n",
      "Decomposed exp(iHt) on 16 qubits into 496 Pauli rotations (DLA dimension: 496, Duration: 0.0223s).\n",
      "hamiltonian done\n",
      "mapping done\n",
      "Decomposed exp(iHt) on 16 qubits into 496 Pauli rotations (DLA dimension: 496, Duration: 0.02s).\n",
      "hamiltonian done\n",
      "mapping done\n",
      "Decomposed exp(iHt) on 16 qubits into 496 Pauli rotations (DLA dimension: 496, Duration: 0.0201s).\n",
      "hamiltonian done\n",
      "mapping done\n",
      "Decomposed exp(iHt) on 16 qubits into 496 Pauli rotations (DLA dimension: 496, Duration: 0.0166s).\n",
      "algebra done\n"
     ]
    },
    {
     "name": "stderr",
     "output_type": "stream",
     "text": [
      "  0%|                                                                              | 0/5 [00:00<?, ?it/s]"
     ]
    },
    {
     "name": "stdout",
     "output_type": "stream",
     "text": [
      "hamiltonian done\n",
      "mapping done\n"
     ]
    },
    {
     "name": "stderr",
     "output_type": "stream",
     "text": [
      " 20%|██████████████                                                        | 1/5 [00:00<00:00,  8.12it/s]"
     ]
    },
    {
     "name": "stdout",
     "output_type": "stream",
     "text": [
      "Decomposed exp(iHt) on 25 qubits into 1225 Pauli rotations (DLA dimension: 1225, Duration: 0.23s).\n",
      "hamiltonian done\n",
      "mapping done\n",
      "Decomposed exp(iHt) on 25 qubits into 1225 Pauli rotations (DLA dimension: 1225, Duration: 0.0484s).\n",
      "hamiltonian done\n",
      "mapping done\n",
      "Decomposed exp(iHt) on 25 qubits into 1225 Pauli rotations (DLA dimension: 1225, Duration: 0.0481s).\n",
      "hamiltonian done\n",
      "mapping done\n",
      "Decomposed exp(iHt) on 25 qubits into 1225 Pauli rotations (DLA dimension: 1225, Duration: 0.0502s).\n",
      "hamiltonian done\n",
      "mapping done\n"
     ]
    },
    {
     "name": "stderr",
     "output_type": "stream",
     "text": [
      "100%|██████████████████████████████████████████████████████████████████████| 5/5 [00:00<00:00, 21.30it/s]\n"
     ]
    },
    {
     "name": "stdout",
     "output_type": "stream",
     "text": [
      "Decomposed exp(iHt) on 25 qubits into 1225 Pauli rotations (DLA dimension: 1225, Duration: 0.0517s).\n",
      "algebra done\n"
     ]
    },
    {
     "name": "stderr",
     "output_type": "stream",
     "text": [
      "  0%|                                                                              | 0/5 [00:00<?, ?it/s]"
     ]
    },
    {
     "name": "stdout",
     "output_type": "stream",
     "text": [
      "hamiltonian done\n",
      "mapping done\n",
      "Decomposed exp(iHt) on 36 qubits into 2556 Pauli rotations (DLA dimension: 2556, Duration: 0.104s).\n",
      "hamiltonian done\n",
      "mapping done\n"
     ]
    },
    {
     "name": "stderr",
     "output_type": "stream",
     "text": [
      " 40%|████████████████████████████                                          | 2/5 [00:00<00:00, 18.26it/s]"
     ]
    },
    {
     "name": "stdout",
     "output_type": "stream",
     "text": [
      "Decomposed exp(iHt) on 36 qubits into 2556 Pauli rotations (DLA dimension: 2556, Duration: 0.1s).\n",
      "hamiltonian done\n",
      "mapping done\n",
      "Decomposed exp(iHt) on 36 qubits into 2556 Pauli rotations (DLA dimension: 2556, Duration: 0.131s).\n",
      "hamiltonian done\n"
     ]
    },
    {
     "name": "stderr",
     "output_type": "stream",
     "text": [
      " 80%|████████████████████████████████████████████████████████              | 4/5 [00:00<00:00, 12.39it/s]"
     ]
    },
    {
     "name": "stdout",
     "output_type": "stream",
     "text": [
      "mapping done\n",
      "Decomposed exp(iHt) on 36 qubits into 2556 Pauli rotations (DLA dimension: 2556, Duration: 0.205s).\n",
      "hamiltonian done\n",
      "mapping done\n"
     ]
    },
    {
     "name": "stderr",
     "output_type": "stream",
     "text": [
      "/home/david/repos/kak-tools/kak_tools/dense_cartan.py:154: RuntimeWarning: invalid value encountered in arcsin\n",
      "  angle = np.arcsin(matrix[i, j])\n",
      "100%|██████████████████████████████████████████████████████████████████████| 5/5 [00:00<00:00, 13.67it/s]\n"
     ]
    },
    {
     "name": "stdout",
     "output_type": "stream",
     "text": [
      "Decomposed exp(iHt) on 36 qubits into 2556 Pauli rotations (DLA dimension: 2556, Duration: 0.105s).\n",
      "algebra done\n"
     ]
    },
    {
     "name": "stderr",
     "output_type": "stream",
     "text": [
      "  0%|                                                                              | 0/5 [00:00<?, ?it/s]"
     ]
    },
    {
     "name": "stdout",
     "output_type": "stream",
     "text": [
      "hamiltonian done\n",
      "mapping done\n"
     ]
    },
    {
     "name": "stderr",
     "output_type": "stream",
     "text": [
      " 20%|██████████████                                                        | 1/5 [00:00<00:00,  8.09it/s]"
     ]
    },
    {
     "name": "stdout",
     "output_type": "stream",
     "text": [
      "Decomposed exp(iHt) on 49 qubits into 4753 Pauli rotations (DLA dimension: 4753, Duration: 0.233s).\n",
      "hamiltonian done\n",
      "mapping done\n"
     ]
    },
    {
     "name": "stderr",
     "output_type": "stream",
     "text": [
      " 40%|████████████████████████████                                          | 2/5 [00:00<00:00,  6.17it/s]"
     ]
    },
    {
     "name": "stdout",
     "output_type": "stream",
     "text": [
      "Decomposed exp(iHt) on 49 qubits into 4753 Pauli rotations (DLA dimension: 4753, Duration: 0.293s).\n",
      "hamiltonian done\n"
     ]
    },
    {
     "name": "stderr",
     "output_type": "stream",
     "text": [
      " 60%|██████████████████████████████████████████                            | 3/5 [00:00<00:00,  6.99it/s]"
     ]
    },
    {
     "name": "stdout",
     "output_type": "stream",
     "text": [
      "mapping done\n",
      "Decomposed exp(iHt) on 49 qubits into 4753 Pauli rotations (DLA dimension: 4753, Duration: 0.196s).\n",
      "hamiltonian done\n",
      "mapping done\n",
      "Decomposed exp(iHt) on 49 qubits into 4753 Pauli rotations (DLA dimension: 4753, Duration: 0.208s).\n"
     ]
    },
    {
     "name": "stderr",
     "output_type": "stream",
     "text": [
      "100%|██████████████████████████████████████████████████████████████████████| 5/5 [00:00<00:00,  7.62it/s]\n"
     ]
    },
    {
     "name": "stdout",
     "output_type": "stream",
     "text": [
      "hamiltonian done\n",
      "mapping done\n",
      "Decomposed exp(iHt) on 49 qubits into 4753 Pauli rotations (DLA dimension: 4753, Duration: 0.194s).\n",
      "algebra done\n"
     ]
    },
    {
     "name": "stderr",
     "output_type": "stream",
     "text": [
      "  0%|                                                                              | 0/5 [00:00<?, ?it/s]"
     ]
    },
    {
     "name": "stdout",
     "output_type": "stream",
     "text": [
      "hamiltonian done"
     ]
    },
    {
     "name": "stderr",
     "output_type": "stream",
     "text": [
      " 20%|██████████████                                                        | 1/5 [00:00<00:01,  3.79it/s]"
     ]
    },
    {
     "name": "stdout",
     "output_type": "stream",
     "text": [
      "\n",
      "mapping done\n",
      "Decomposed exp(iHt) on 64 qubits into 8124 Pauli rotations (DLA dimension: 8128, Duration: 0.25s).\n",
      "hamiltonian done\n",
      "mapping done\n"
     ]
    },
    {
     "name": "stderr",
     "output_type": "stream",
     "text": [
      " 60%|██████████████████████████████████████████                            | 3/5 [00:00<00:00,  4.89it/s]"
     ]
    },
    {
     "name": "stdout",
     "output_type": "stream",
     "text": [
      "Decomposed exp(iHt) on 64 qubits into 8128 Pauli rotations (DLA dimension: 8128, Duration: 0.349s).\n",
      "hamiltonian done\n",
      "mapping done\n",
      "Decomposed exp(iHt) on 64 qubits into 8128 Pauli rotations (DLA dimension: 8128, Duration: 0.245s).\n",
      "hamiltonian done\n",
      "mapping done\n"
     ]
    },
    {
     "name": "stderr",
     "output_type": "stream",
     "text": [
      " 80%|████████████████████████████████████████████████████████              | 4/5 [00:00<00:00,  5.47it/s]"
     ]
    },
    {
     "name": "stdout",
     "output_type": "stream",
     "text": [
      "Decomposed exp(iHt) on 64 qubits into 8128 Pauli rotations (DLA dimension: 8128, Duration: 0.25s).\n",
      "hamiltonian done\n",
      "mapping done\n"
     ]
    },
    {
     "name": "stderr",
     "output_type": "stream",
     "text": [
      "100%|██████████████████████████████████████████████████████████████████████| 5/5 [00:01<00:00,  4.64it/s]\n"
     ]
    },
    {
     "name": "stdout",
     "output_type": "stream",
     "text": [
      "Decomposed exp(iHt) on 64 qubits into 8128 Pauli rotations (DLA dimension: 8128, Duration: 0.373s).\n",
      "algebra done\n"
     ]
    },
    {
     "name": "stderr",
     "output_type": "stream",
     "text": [
      "  0%|                                                                              | 0/5 [00:00<?, ?it/s]"
     ]
    },
    {
     "name": "stdout",
     "output_type": "stream",
     "text": [
      "hamiltonian done\n",
      "mapping done\n"
     ]
    },
    {
     "name": "stderr",
     "output_type": "stream",
     "text": [
      " 20%|██████████████                                                        | 1/5 [00:00<00:01,  2.33it/s]"
     ]
    },
    {
     "name": "stdout",
     "output_type": "stream",
     "text": [
      "Decomposed exp(iHt) on 81 qubits into 13041 Pauli rotations (DLA dimension: 13041, Duration: 0.525s).\n",
      "hamiltonian done\n",
      "mapping done\n"
     ]
    },
    {
     "name": "stderr",
     "output_type": "stream",
     "text": [
      " 40%|████████████████████████████                                          | 2/5 [00:00<00:01,  2.17it/s]"
     ]
    },
    {
     "name": "stdout",
     "output_type": "stream",
     "text": [
      "Decomposed exp(iHt) on 81 qubits into 13037 Pauli rotations (DLA dimension: 13041, Duration: 0.574s).\n",
      "hamiltonian done\n",
      "mapping done\n"
     ]
    },
    {
     "name": "stderr",
     "output_type": "stream",
     "text": [
      " 60%|██████████████████████████████████████████                            | 3/5 [00:01<00:00,  2.46it/s]"
     ]
    },
    {
     "name": "stdout",
     "output_type": "stream",
     "text": [
      "Decomposed exp(iHt) on 81 qubits into 13033 Pauli rotations (DLA dimension: 13041, Duration: 0.436s).\n",
      "hamiltonian done\n",
      "mapping done\n"
     ]
    },
    {
     "name": "stderr",
     "output_type": "stream",
     "text": [
      " 80%|████████████████████████████████████████████████████████              | 4/5 [00:01<00:00,  2.47it/s]"
     ]
    },
    {
     "name": "stdout",
     "output_type": "stream",
     "text": [
      "Decomposed exp(iHt) on 81 qubits into 13041 Pauli rotations (DLA dimension: 13041, Duration: 0.501s).\n",
      "hamiltonian done\n",
      "mapping done\n"
     ]
    },
    {
     "name": "stderr",
     "output_type": "stream",
     "text": [
      "100%|██████████████████████████████████████████████████████████████████████| 5/5 [00:02<00:00,  2.45it/s]\n"
     ]
    },
    {
     "name": "stdout",
     "output_type": "stream",
     "text": [
      "Decomposed exp(iHt) on 81 qubits into 13041 Pauli rotations (DLA dimension: 13041, Duration: 0.481s).\n",
      "algebra done\n"
     ]
    },
    {
     "name": "stderr",
     "output_type": "stream",
     "text": [
      "  0%|                                                                              | 0/5 [00:00<?, ?it/s]"
     ]
    },
    {
     "name": "stdout",
     "output_type": "stream",
     "text": [
      "hamiltonian done\n",
      "mapping done\n"
     ]
    },
    {
     "name": "stderr",
     "output_type": "stream",
     "text": [
      " 20%|██████████████                                                        | 1/5 [00:00<00:02,  1.75it/s]"
     ]
    },
    {
     "name": "stdout",
     "output_type": "stream",
     "text": [
      "Decomposed exp(iHt) on 100 qubits into 19884 Pauli rotations (DLA dimension: 19900, Duration: 0.67s).\n",
      "hamiltonian done\n",
      "mapping done\n"
     ]
    },
    {
     "name": "stderr",
     "output_type": "stream",
     "text": [
      " 40%|████████████████████████████                                          | 2/5 [00:01<00:01,  1.80it/s]"
     ]
    },
    {
     "name": "stdout",
     "output_type": "stream",
     "text": [
      "Decomposed exp(iHt) on 100 qubits into 19900 Pauli rotations (DLA dimension: 19900, Duration: 0.642s).\n",
      "hamiltonian done\n",
      "mapping done\n"
     ]
    },
    {
     "name": "stderr",
     "output_type": "stream",
     "text": [
      " 60%|██████████████████████████████████████████                            | 3/5 [00:01<00:01,  1.79it/s]"
     ]
    },
    {
     "name": "stdout",
     "output_type": "stream",
     "text": [
      "Decomposed exp(iHt) on 100 qubits into 19898 Pauli rotations (DLA dimension: 19900, Duration: 0.661s).\n",
      "hamiltonian done\n",
      "mapping done\n"
     ]
    },
    {
     "name": "stderr",
     "output_type": "stream",
     "text": [
      " 80%|████████████████████████████████████████████████████████              | 4/5 [00:02<00:00,  1.79it/s]"
     ]
    },
    {
     "name": "stdout",
     "output_type": "stream",
     "text": [
      "Decomposed exp(iHt) on 100 qubits into 19892 Pauli rotations (DLA dimension: 19900, Duration: 0.658s).\n",
      "hamiltonian done\n",
      "mapping done\n"
     ]
    },
    {
     "name": "stderr",
     "output_type": "stream",
     "text": [
      "100%|██████████████████████████████████████████████████████████████████████| 5/5 [00:02<00:00,  1.78it/s]\n"
     ]
    },
    {
     "name": "stdout",
     "output_type": "stream",
     "text": [
      "Decomposed exp(iHt) on 100 qubits into 19892 Pauli rotations (DLA dimension: 19900, Duration: 0.665s).\n",
      "algebra done\n"
     ]
    },
    {
     "name": "stderr",
     "output_type": "stream",
     "text": [
      "  0%|                                                                              | 0/5 [00:00<?, ?it/s]"
     ]
    },
    {
     "name": "stdout",
     "output_type": "stream",
     "text": [
      "hamiltonian done\n",
      "mapping done\n"
     ]
    },
    {
     "name": "stderr",
     "output_type": "stream",
     "text": [
      " 20%|██████████████                                                        | 1/5 [00:00<00:02,  1.34it/s]"
     ]
    },
    {
     "name": "stdout",
     "output_type": "stream",
     "text": [
      "Decomposed exp(iHt) on 121 qubits into 29153 Pauli rotations (DLA dimension: 29161, Duration: 0.847s).\n",
      "hamiltonian done\n",
      "mapping done\n"
     ]
    },
    {
     "name": "stderr",
     "output_type": "stream",
     "text": [
      " 40%|████████████████████████████                                          | 2/5 [00:01<00:02,  1.35it/s]"
     ]
    },
    {
     "name": "stdout",
     "output_type": "stream",
     "text": [
      "Decomposed exp(iHt) on 121 qubits into 29151 Pauli rotations (DLA dimension: 29161, Duration: 0.846s).\n",
      "hamiltonian done\n",
      "mapping done\n"
     ]
    },
    {
     "name": "stderr",
     "output_type": "stream",
     "text": [
      " 60%|██████████████████████████████████████████                            | 3/5 [00:02<00:01,  1.28it/s]"
     ]
    },
    {
     "name": "stdout",
     "output_type": "stream",
     "text": [
      "Decomposed exp(iHt) on 121 qubits into 29145 Pauli rotations (DLA dimension: 29161, Duration: 0.827s).\n",
      "hamiltonian done\n",
      "mapping done\n"
     ]
    },
    {
     "name": "stderr",
     "output_type": "stream",
     "text": [
      " 80%|████████████████████████████████████████████████████████              | 4/5 [00:03<00:00,  1.32it/s]"
     ]
    },
    {
     "name": "stdout",
     "output_type": "stream",
     "text": [
      "Decomposed exp(iHt) on 121 qubits into 29131 Pauli rotations (DLA dimension: 29161, Duration: 0.821s).\n",
      "hamiltonian done\n",
      "mapping done\n"
     ]
    },
    {
     "name": "stderr",
     "output_type": "stream",
     "text": [
      "100%|██████████████████████████████████████████████████████████████████████| 5/5 [00:03<00:00,  1.34it/s]"
     ]
    },
    {
     "name": "stdout",
     "output_type": "stream",
     "text": [
      "Decomposed exp(iHt) on 121 qubits into 29157 Pauli rotations (DLA dimension: 29161, Duration: 0.801s).\n"
     ]
    },
    {
     "name": "stderr",
     "output_type": "stream",
     "text": [
      "\n"
     ]
    },
    {
     "name": "stdout",
     "output_type": "stream",
     "text": [
      "algebra done\n"
     ]
    },
    {
     "name": "stderr",
     "output_type": "stream",
     "text": [
      "  0%|                                                                              | 0/5 [00:00<?, ?it/s]"
     ]
    },
    {
     "name": "stdout",
     "output_type": "stream",
     "text": [
      "hamiltonian done\n",
      "mapping done\n"
     ]
    },
    {
     "name": "stderr",
     "output_type": "stream",
     "text": [
      " 20%|██████████████                                                        | 1/5 [00:01<00:04,  1.25s/it]"
     ]
    },
    {
     "name": "stdout",
     "output_type": "stream",
     "text": [
      "Decomposed exp(iHt) on 144 qubits into 41306 Pauli rotations (DLA dimension: 41328, Duration: 1.36s).\n",
      "hamiltonian done\n",
      "mapping done\n"
     ]
    },
    {
     "name": "stderr",
     "output_type": "stream",
     "text": [
      " 40%|████████████████████████████                                          | 2/5 [00:02<00:03,  1.18s/it]"
     ]
    },
    {
     "name": "stdout",
     "output_type": "stream",
     "text": [
      "Decomposed exp(iHt) on 144 qubits into 41324 Pauli rotations (DLA dimension: 41328, Duration: 1.24s).\n",
      "hamiltonian done\n",
      "mapping done\n"
     ]
    },
    {
     "name": "stderr",
     "output_type": "stream",
     "text": [
      " 60%|██████████████████████████████████████████                            | 3/5 [00:03<00:02,  1.22s/it]"
     ]
    },
    {
     "name": "stdout",
     "output_type": "stream",
     "text": [
      "Decomposed exp(iHt) on 144 qubits into 41328 Pauli rotations (DLA dimension: 41328, Duration: 1.37s).\n",
      "hamiltonian done\n",
      "mapping done\n"
     ]
    },
    {
     "name": "stderr",
     "output_type": "stream",
     "text": [
      " 80%|████████████████████████████████████████████████████████              | 4/5 [00:04<00:01,  1.21s/it]"
     ]
    },
    {
     "name": "stdout",
     "output_type": "stream",
     "text": [
      "Decomposed exp(iHt) on 144 qubits into 41298 Pauli rotations (DLA dimension: 41328, Duration: 1.32s).\n",
      "hamiltonian done\n",
      "mapping done\n"
     ]
    },
    {
     "name": "stderr",
     "output_type": "stream",
     "text": [
      "100%|██████████████████████████████████████████████████████████████████████| 5/5 [00:06<00:00,  1.22s/it]"
     ]
    },
    {
     "name": "stdout",
     "output_type": "stream",
     "text": [
      "Decomposed exp(iHt) on 144 qubits into 41316 Pauli rotations (DLA dimension: 41328, Duration: 1.38s).\n"
     ]
    },
    {
     "name": "stderr",
     "output_type": "stream",
     "text": [
      "\n"
     ]
    },
    {
     "name": "stdout",
     "output_type": "stream",
     "text": [
      "algebra done\n"
     ]
    },
    {
     "name": "stderr",
     "output_type": "stream",
     "text": [
      "  0%|                                                                              | 0/5 [00:00<?, ?it/s]"
     ]
    },
    {
     "name": "stdout",
     "output_type": "stream",
     "text": [
      "hamiltonian done\n",
      "mapping done\n"
     ]
    },
    {
     "name": "stderr",
     "output_type": "stream",
     "text": [
      " 20%|██████████████                                                        | 1/5 [00:01<00:07,  1.93s/it]"
     ]
    },
    {
     "name": "stdout",
     "output_type": "stream",
     "text": [
      "Decomposed exp(iHt) on 169 qubits into 56933 Pauli rotations (DLA dimension: 56953, Duration: 2.03s).\n",
      "hamiltonian done\n",
      "mapping done\n"
     ]
    },
    {
     "name": "stderr",
     "output_type": "stream",
     "text": [
      " 40%|████████████████████████████                                          | 2/5 [00:03<00:05,  1.94s/it]"
     ]
    },
    {
     "name": "stdout",
     "output_type": "stream",
     "text": [
      "Decomposed exp(iHt) on 169 qubits into 56919 Pauli rotations (DLA dimension: 56953, Duration: 2.03s).\n",
      "hamiltonian done\n",
      "mapping done\n"
     ]
    },
    {
     "name": "stderr",
     "output_type": "stream",
     "text": [
      " 60%|██████████████████████████████████████████                            | 3/5 [00:05<00:03,  1.97s/it]"
     ]
    },
    {
     "name": "stdout",
     "output_type": "stream",
     "text": [
      "Decomposed exp(iHt) on 169 qubits into 56913 Pauli rotations (DLA dimension: 56953, Duration: 2.11s).\n",
      "hamiltonian done\n",
      "mapping done\n"
     ]
    },
    {
     "name": "stderr",
     "output_type": "stream",
     "text": [
      " 80%|████████████████████████████████████████████████████████              | 4/5 [00:08<00:02,  2.03s/it]"
     ]
    },
    {
     "name": "stdout",
     "output_type": "stream",
     "text": [
      "Decomposed exp(iHt) on 169 qubits into 56923 Pauli rotations (DLA dimension: 56953, Duration: 2.24s).\n",
      "hamiltonian done\n",
      "mapping done\n"
     ]
    },
    {
     "name": "stderr",
     "output_type": "stream",
     "text": [
      "100%|██████████████████████████████████████████████████████████████████████| 5/5 [00:10<00:00,  2.03s/it]"
     ]
    },
    {
     "name": "stdout",
     "output_type": "stream",
     "text": [
      "Decomposed exp(iHt) on 169 qubits into 56911 Pauli rotations (DLA dimension: 56953, Duration: 2.11s).\n"
     ]
    },
    {
     "name": "stderr",
     "output_type": "stream",
     "text": [
      "\n"
     ]
    },
    {
     "name": "stdout",
     "output_type": "stream",
     "text": [
      "algebra done\n"
     ]
    },
    {
     "name": "stderr",
     "output_type": "stream",
     "text": [
      "  0%|                                                                              | 0/5 [00:00<?, ?it/s]"
     ]
    },
    {
     "name": "stdout",
     "output_type": "stream",
     "text": [
      "hamiltonian done\n",
      "mapping done\n"
     ]
    },
    {
     "name": "stderr",
     "output_type": "stream",
     "text": [
      " 20%|██████████████                                                        | 1/5 [00:02<00:10,  2.69s/it]"
     ]
    },
    {
     "name": "stdout",
     "output_type": "stream",
     "text": [
      "Decomposed exp(iHt) on 196 qubits into 76626 Pauli rotations (DLA dimension: 76636, Duration: 2.82s).\n",
      "hamiltonian done\n",
      "mapping done\n"
     ]
    },
    {
     "name": "stderr",
     "output_type": "stream",
     "text": [
      " 40%|████████████████████████████                                          | 2/5 [00:05<00:08,  2.83s/it]"
     ]
    },
    {
     "name": "stdout",
     "output_type": "stream",
     "text": [
      "Decomposed exp(iHt) on 196 qubits into 76604 Pauli rotations (DLA dimension: 76636, Duration: 3.05s).\n",
      "hamiltonian done\n",
      "mapping done\n"
     ]
    },
    {
     "name": "stderr",
     "output_type": "stream",
     "text": [
      " 60%|██████████████████████████████████████████                            | 3/5 [00:08<00:05,  2.79s/it]"
     ]
    },
    {
     "name": "stdout",
     "output_type": "stream",
     "text": [
      "Decomposed exp(iHt) on 196 qubits into 76616 Pauli rotations (DLA dimension: 76636, Duration: 2.87s).\n",
      "hamiltonian done\n",
      "mapping done\n"
     ]
    },
    {
     "name": "stderr",
     "output_type": "stream",
     "text": [
      " 80%|████████████████████████████████████████████████████████              | 4/5 [00:11<00:02,  2.77s/it]"
     ]
    },
    {
     "name": "stdout",
     "output_type": "stream",
     "text": [
      "Decomposed exp(iHt) on 196 qubits into 76624 Pauli rotations (DLA dimension: 76636, Duration: 2.87s).\n",
      "hamiltonian done\n",
      "mapping done\n"
     ]
    },
    {
     "name": "stderr",
     "output_type": "stream",
     "text": [
      "100%|██████████████████████████████████████████████████████████████████████| 5/5 [00:13<00:00,  2.76s/it]"
     ]
    },
    {
     "name": "stdout",
     "output_type": "stream",
     "text": [
      "Decomposed exp(iHt) on 196 qubits into 76586 Pauli rotations (DLA dimension: 76636, Duration: 2.83s).\n"
     ]
    },
    {
     "name": "stderr",
     "output_type": "stream",
     "text": [
      "\n"
     ]
    },
    {
     "name": "stdout",
     "output_type": "stream",
     "text": [
      "algebra done\n"
     ]
    },
    {
     "name": "stderr",
     "output_type": "stream",
     "text": [
      "  0%|                                                                              | 0/5 [00:00<?, ?it/s]"
     ]
    },
    {
     "name": "stdout",
     "output_type": "stream",
     "text": [
      "hamiltonian done\n",
      "mapping done\n"
     ]
    },
    {
     "name": "stderr",
     "output_type": "stream",
     "text": [
      " 20%|██████████████                                                        | 1/5 [00:03<00:14,  3.53s/it]"
     ]
    },
    {
     "name": "stdout",
     "output_type": "stream",
     "text": [
      "Decomposed exp(iHt) on 225 qubits into 100949 Pauli rotations (DLA dimension: 101025, Duration: 3.67s).\n",
      "hamiltonian done\n",
      "mapping done\n"
     ]
    },
    {
     "name": "stderr",
     "output_type": "stream",
     "text": [
      " 40%|████████████████████████████                                          | 2/5 [00:07<00:10,  3.63s/it]"
     ]
    },
    {
     "name": "stdout",
     "output_type": "stream",
     "text": [
      "Decomposed exp(iHt) on 225 qubits into 100973 Pauli rotations (DLA dimension: 101025, Duration: 3.85s).\n",
      "hamiltonian done\n",
      "mapping done\n"
     ]
    },
    {
     "name": "stderr",
     "output_type": "stream",
     "text": [
      " 60%|██████████████████████████████████████████                            | 3/5 [00:10<00:07,  3.63s/it]"
     ]
    },
    {
     "name": "stdout",
     "output_type": "stream",
     "text": [
      "Decomposed exp(iHt) on 225 qubits into 100980 Pauli rotations (DLA dimension: 101025, Duration: 3.77s).\n",
      "hamiltonian done\n",
      "mapping done\n"
     ]
    },
    {
     "name": "stderr",
     "output_type": "stream",
     "text": [
      " 80%|████████████████████████████████████████████████████████              | 4/5 [00:14<00:03,  3.61s/it]"
     ]
    },
    {
     "name": "stdout",
     "output_type": "stream",
     "text": [
      "Decomposed exp(iHt) on 225 qubits into 100933 Pauli rotations (DLA dimension: 101025, Duration: 3.74s).\n",
      "hamiltonian done\n",
      "mapping done\n"
     ]
    },
    {
     "name": "stderr",
     "output_type": "stream",
     "text": [
      "100%|██████████████████████████████████████████████████████████████████████| 5/5 [00:17<00:00,  3.59s/it]"
     ]
    },
    {
     "name": "stdout",
     "output_type": "stream",
     "text": [
      "Decomposed exp(iHt) on 225 qubits into 100938 Pauli rotations (DLA dimension: 101025, Duration: 3.64s).\n"
     ]
    },
    {
     "name": "stderr",
     "output_type": "stream",
     "text": [
      "\n"
     ]
    },
    {
     "name": "stdout",
     "output_type": "stream",
     "text": [
      "algebra done\n"
     ]
    },
    {
     "name": "stderr",
     "output_type": "stream",
     "text": [
      "  0%|                                                                              | 0/5 [00:00<?, ?it/s]"
     ]
    },
    {
     "name": "stdout",
     "output_type": "stream",
     "text": [
      "hamiltonian done\n",
      "mapping done\n"
     ]
    },
    {
     "name": "stderr",
     "output_type": "stream",
     "text": [
      " 20%|██████████████                                                        | 1/5 [00:04<00:17,  4.49s/it]"
     ]
    },
    {
     "name": "stdout",
     "output_type": "stream",
     "text": [
      "Decomposed exp(iHt) on 256 qubits into 130674 Pauli rotations (DLA dimension: 130816, Duration: 4.7s).\n",
      "hamiltonian done\n",
      "mapping done\n"
     ]
    },
    {
     "name": "stderr",
     "output_type": "stream",
     "text": [
      " 40%|████████████████████████████                                          | 2/5 [00:09<00:14,  4.74s/it]"
     ]
    },
    {
     "name": "stdout",
     "output_type": "stream",
     "text": [
      "Decomposed exp(iHt) on 256 qubits into 130678 Pauli rotations (DLA dimension: 130816, Duration: 5.11s).\n",
      "hamiltonian done\n",
      "mapping done\n"
     ]
    },
    {
     "name": "stderr",
     "output_type": "stream",
     "text": [
      " 60%|██████████████████████████████████████████                            | 3/5 [00:13<00:09,  4.61s/it]"
     ]
    },
    {
     "name": "stdout",
     "output_type": "stream",
     "text": [
      "Decomposed exp(iHt) on 256 qubits into 130717 Pauli rotations (DLA dimension: 130816, Duration: 4.67s).\n",
      "hamiltonian done\n",
      "mapping done\n"
     ]
    },
    {
     "name": "stderr",
     "output_type": "stream",
     "text": [
      " 80%|████████████████████████████████████████████████████████              | 4/5 [00:18<00:04,  4.74s/it]"
     ]
    },
    {
     "name": "stdout",
     "output_type": "stream",
     "text": [
      "Decomposed exp(iHt) on 256 qubits into 130702 Pauli rotations (DLA dimension: 130816, Duration: 5.13s).\n",
      "hamiltonian done\n",
      "mapping done\n"
     ]
    },
    {
     "name": "stderr",
     "output_type": "stream",
     "text": [
      "100%|██████████████████████████████████████████████████████████████████████| 5/5 [00:23<00:00,  4.63s/it]"
     ]
    },
    {
     "name": "stdout",
     "output_type": "stream",
     "text": [
      "Decomposed exp(iHt) on 256 qubits into 130718 Pauli rotations (DLA dimension: 130816, Duration: 4.54s).\n"
     ]
    },
    {
     "name": "stderr",
     "output_type": "stream",
     "text": [
      "\n"
     ]
    },
    {
     "name": "stdout",
     "output_type": "stream",
     "text": [
      "algebra done\n"
     ]
    },
    {
     "name": "stderr",
     "output_type": "stream",
     "text": [
      "  0%|                                                                              | 0/5 [00:00<?, ?it/s]"
     ]
    },
    {
     "name": "stdout",
     "output_type": "stream",
     "text": [
      "hamiltonian done\n",
      "mapping done\n"
     ]
    },
    {
     "name": "stderr",
     "output_type": "stream",
     "text": [
      " 20%|██████████████                                                        | 1/5 [00:06<00:27,  6.75s/it]"
     ]
    },
    {
     "name": "stdout",
     "output_type": "stream",
     "text": [
      "Decomposed exp(iHt) on 289 qubits into 166671 Pauli rotations (DLA dimension: 166753, Duration: 6.95s).\n",
      "hamiltonian done\n",
      "mapping done\n"
     ]
    },
    {
     "name": "stderr",
     "output_type": "stream",
     "text": [
      " 40%|████████████████████████████                                          | 2/5 [00:13<00:21,  7.04s/it]"
     ]
    },
    {
     "name": "stdout",
     "output_type": "stream",
     "text": [
      "Decomposed exp(iHt) on 289 qubits into 166677 Pauli rotations (DLA dimension: 166753, Duration: 7.52s).\n",
      "hamiltonian done\n",
      "mapping done\n"
     ]
    },
    {
     "name": "stderr",
     "output_type": "stream",
     "text": [
      " 60%|██████████████████████████████████████████                            | 3/5 [00:20<00:13,  6.82s/it]"
     ]
    },
    {
     "name": "stdout",
     "output_type": "stream",
     "text": [
      "Decomposed exp(iHt) on 289 qubits into 166673 Pauli rotations (DLA dimension: 166753, Duration: 6.75s).\n",
      "hamiltonian done\n",
      "mapping done\n"
     ]
    },
    {
     "name": "stderr",
     "output_type": "stream",
     "text": [
      " 80%|████████████████████████████████████████████████████████              | 4/5 [00:26<00:06,  6.67s/it]"
     ]
    },
    {
     "name": "stdout",
     "output_type": "stream",
     "text": [
      "Decomposed exp(iHt) on 289 qubits into 166685 Pauli rotations (DLA dimension: 166753, Duration: 6.64s).\n",
      "hamiltonian done\n",
      "mapping done\n"
     ]
    },
    {
     "name": "stderr",
     "output_type": "stream",
     "text": [
      "100%|██████████████████████████████████████████████████████████████████████| 5/5 [00:34<00:00,  6.80s/it]"
     ]
    },
    {
     "name": "stdout",
     "output_type": "stream",
     "text": [
      "Decomposed exp(iHt) on 289 qubits into 166709 Pauli rotations (DLA dimension: 166753, Duration: 7.23s).\n"
     ]
    },
    {
     "name": "stderr",
     "output_type": "stream",
     "text": [
      "\n"
     ]
    },
    {
     "name": "stdout",
     "output_type": "stream",
     "text": [
      "algebra done\n"
     ]
    },
    {
     "name": "stderr",
     "output_type": "stream",
     "text": [
      "  0%|                                                                              | 0/5 [00:00<?, ?it/s]"
     ]
    },
    {
     "name": "stdout",
     "output_type": "stream",
     "text": [
      "hamiltonian done\n",
      "mapping done\n"
     ]
    },
    {
     "name": "stderr",
     "output_type": "stream",
     "text": [
      " 20%|██████████████                                                        | 1/5 [00:09<00:36,  9.22s/it]"
     ]
    },
    {
     "name": "stdout",
     "output_type": "stream",
     "text": [
      "Decomposed exp(iHt) on 324 qubits into 209460 Pauli rotations (DLA dimension: 209628, Duration: 9.4s).\n",
      "hamiltonian done\n",
      "mapping done\n"
     ]
    },
    {
     "name": "stderr",
     "output_type": "stream",
     "text": [
      " 40%|████████████████████████████                                          | 2/5 [00:18<00:28,  9.52s/it]"
     ]
    },
    {
     "name": "stdout",
     "output_type": "stream",
     "text": [
      "Decomposed exp(iHt) on 324 qubits into 209516 Pauli rotations (DLA dimension: 209628, Duration: 9.99s).\n",
      "hamiltonian done\n",
      "mapping done\n"
     ]
    },
    {
     "name": "stderr",
     "output_type": "stream",
     "text": [
      " 60%|██████████████████████████████████████████                            | 3/5 [00:27<00:18,  9.18s/it]"
     ]
    },
    {
     "name": "stdout",
     "output_type": "stream",
     "text": [
      "Decomposed exp(iHt) on 324 qubits into 209522 Pauli rotations (DLA dimension: 209628, Duration: 8.97s).\n",
      "hamiltonian done\n",
      "mapping done\n"
     ]
    },
    {
     "name": "stderr",
     "output_type": "stream",
     "text": [
      " 80%|████████████████████████████████████████████████████████              | 4/5 [00:36<00:09,  9.05s/it]"
     ]
    },
    {
     "name": "stdout",
     "output_type": "stream",
     "text": [
      "Decomposed exp(iHt) on 324 qubits into 209496 Pauli rotations (DLA dimension: 209628, Duration: 9.03s).\n",
      "hamiltonian done\n",
      "mapping done\n"
     ]
    },
    {
     "name": "stderr",
     "output_type": "stream",
     "text": [
      "100%|██████████████████████████████████████████████████████████████████████| 5/5 [00:45<00:00,  9.07s/it]"
     ]
    },
    {
     "name": "stdout",
     "output_type": "stream",
     "text": [
      "Decomposed exp(iHt) on 324 qubits into 209542 Pauli rotations (DLA dimension: 209628, Duration: 9.01s).\n"
     ]
    },
    {
     "name": "stderr",
     "output_type": "stream",
     "text": [
      "\n"
     ]
    },
    {
     "name": "stdout",
     "output_type": "stream",
     "text": [
      "algebra done\n"
     ]
    },
    {
     "name": "stderr",
     "output_type": "stream",
     "text": [
      "  0%|                                                                              | 0/5 [00:00<?, ?it/s]"
     ]
    },
    {
     "name": "stdout",
     "output_type": "stream",
     "text": [
      "hamiltonian done\n",
      "mapping done\n"
     ]
    },
    {
     "name": "stderr",
     "output_type": "stream",
     "text": [
      " 20%|██████████████                                                        | 1/5 [00:12<00:48, 12.04s/it]"
     ]
    },
    {
     "name": "stdout",
     "output_type": "stream",
     "text": [
      "Decomposed exp(iHt) on 361 qubits into 260213 Pauli rotations (DLA dimension: 260281, Duration: 12.3s).\n",
      "hamiltonian done\n",
      "mapping done\n"
     ]
    },
    {
     "name": "stderr",
     "output_type": "stream",
     "text": [
      " 40%|████████████████████████████                                          | 2/5 [00:23<00:35, 11.87s/it]"
     ]
    },
    {
     "name": "stdout",
     "output_type": "stream",
     "text": [
      "Decomposed exp(iHt) on 361 qubits into 260134 Pauli rotations (DLA dimension: 260281, Duration: 11.9s).\n",
      "hamiltonian done\n",
      "mapping done\n"
     ]
    },
    {
     "name": "stderr",
     "output_type": "stream",
     "text": [
      " 60%|██████████████████████████████████████████                            | 3/5 [00:37<00:25, 12.54s/it]"
     ]
    },
    {
     "name": "stdout",
     "output_type": "stream",
     "text": [
      "Decomposed exp(iHt) on 361 qubits into 260199 Pauli rotations (DLA dimension: 260281, Duration: 13.1s).\n",
      "hamiltonian done\n",
      "mapping done\n"
     ]
    },
    {
     "name": "stderr",
     "output_type": "stream",
     "text": [
      " 80%|████████████████████████████████████████████████████████              | 4/5 [00:49<00:12, 12.37s/it]"
     ]
    },
    {
     "name": "stdout",
     "output_type": "stream",
     "text": [
      "Decomposed exp(iHt) on 361 qubits into 260197 Pauli rotations (DLA dimension: 260281, Duration: 12.3s).\n",
      "hamiltonian done\n",
      "mapping done\n"
     ]
    },
    {
     "name": "stderr",
     "output_type": "stream",
     "text": [
      "100%|██████████████████████████████████████████████████████████████████████| 5/5 [01:01<00:00, 12.22s/it]"
     ]
    },
    {
     "name": "stdout",
     "output_type": "stream",
     "text": [
      "Decomposed exp(iHt) on 361 qubits into 260233 Pauli rotations (DLA dimension: 260281, Duration: 12.0s).\n"
     ]
    },
    {
     "name": "stderr",
     "output_type": "stream",
     "text": [
      "\n"
     ]
    },
    {
     "name": "stdout",
     "output_type": "stream",
     "text": [
      "algebra done\n"
     ]
    },
    {
     "name": "stderr",
     "output_type": "stream",
     "text": [
      "  0%|                                                                              | 0/5 [00:00<?, ?it/s]"
     ]
    },
    {
     "name": "stdout",
     "output_type": "stream",
     "text": [
      "hamiltonian done\n",
      "mapping done\n"
     ]
    },
    {
     "name": "stderr",
     "output_type": "stream",
     "text": [
      " 20%|██████████████                                                        | 1/5 [00:15<01:02, 15.69s/it]"
     ]
    },
    {
     "name": "stdout",
     "output_type": "stream",
     "text": [
      "Decomposed exp(iHt) on 400 qubits into 319458 Pauli rotations (DLA dimension: 319600, Duration: 15.9s).\n",
      "hamiltonian done\n",
      "mapping done\n"
     ]
    },
    {
     "name": "stderr",
     "output_type": "stream",
     "text": [
      " 40%|████████████████████████████                                          | 2/5 [00:31<00:47, 15.90s/it]"
     ]
    },
    {
     "name": "stdout",
     "output_type": "stream",
     "text": [
      "Decomposed exp(iHt) on 400 qubits into 319478 Pauli rotations (DLA dimension: 319600, Duration: 16.2s).\n",
      "hamiltonian done\n",
      "mapping done\n"
     ]
    },
    {
     "name": "stderr",
     "output_type": "stream",
     "text": [
      " 60%|██████████████████████████████████████████                            | 3/5 [00:46<00:30, 15.39s/it]"
     ]
    },
    {
     "name": "stdout",
     "output_type": "stream",
     "text": [
      "Decomposed exp(iHt) on 400 qubits into 319474 Pauli rotations (DLA dimension: 319600, Duration: 14.9s).\n",
      "hamiltonian done\n",
      "mapping done\n"
     ]
    },
    {
     "name": "stderr",
     "output_type": "stream",
     "text": [
      " 80%|████████████████████████████████████████████████████████              | 4/5 [01:02<00:15, 15.71s/it]"
     ]
    },
    {
     "name": "stdout",
     "output_type": "stream",
     "text": [
      "Decomposed exp(iHt) on 400 qubits into 319458 Pauli rotations (DLA dimension: 319600, Duration: 16.4s).\n",
      "hamiltonian done\n",
      "mapping done\n"
     ]
    },
    {
     "name": "stderr",
     "output_type": "stream",
     "text": [
      "100%|██████████████████████████████████████████████████████████████████████| 5/5 [01:18<00:00, 15.68s/it]"
     ]
    },
    {
     "name": "stdout",
     "output_type": "stream",
     "text": [
      "Decomposed exp(iHt) on 400 qubits into 319502 Pauli rotations (DLA dimension: 319600, Duration: 15.9s).\n"
     ]
    },
    {
     "name": "stderr",
     "output_type": "stream",
     "text": [
      "\n"
     ]
    },
    {
     "name": "stdout",
     "output_type": "stream",
     "text": [
      "algebra done\n"
     ]
    },
    {
     "name": "stderr",
     "output_type": "stream",
     "text": [
      "  0%|                                                                              | 0/5 [00:00<?, ?it/s]"
     ]
    },
    {
     "name": "stdout",
     "output_type": "stream",
     "text": [
      "hamiltonian done\n",
      "mapping done\n"
     ]
    },
    {
     "name": "stderr",
     "output_type": "stream",
     "text": [
      " 20%|██████████████                                                        | 1/5 [00:21<01:26, 21.56s/it]"
     ]
    },
    {
     "name": "stdout",
     "output_type": "stream",
     "text": [
      "Decomposed exp(iHt) on 441 qubits into 388342 Pauli rotations (DLA dimension: 388521, Duration: 21.8s).\n",
      "hamiltonian done\n",
      "mapping done\n"
     ]
    },
    {
     "name": "stderr",
     "output_type": "stream",
     "text": [
      " 40%|████████████████████████████                                          | 2/5 [00:41<01:01, 20.58s/it]"
     ]
    },
    {
     "name": "stdout",
     "output_type": "stream",
     "text": [
      "Decomposed exp(iHt) on 441 qubits into 388385 Pauli rotations (DLA dimension: 388521, Duration: 20.1s).\n",
      "hamiltonian done\n",
      "mapping done\n"
     ]
    },
    {
     "name": "stderr",
     "output_type": "stream",
     "text": [
      " 60%|██████████████████████████████████████████                            | 3/5 [01:02<00:41, 20.86s/it]"
     ]
    },
    {
     "name": "stdout",
     "output_type": "stream",
     "text": [
      "Decomposed exp(iHt) on 441 qubits into 388411 Pauli rotations (DLA dimension: 388521, Duration: 21.4s).\n",
      "hamiltonian done\n",
      "mapping done\n"
     ]
    },
    {
     "name": "stderr",
     "output_type": "stream",
     "text": [
      " 80%|████████████████████████████████████████████████████████              | 4/5 [01:24<00:21, 21.09s/it]"
     ]
    },
    {
     "name": "stdout",
     "output_type": "stream",
     "text": [
      "Decomposed exp(iHt) on 441 qubits into 388327 Pauli rotations (DLA dimension: 388521, Duration: 21.2s).\n",
      "hamiltonian done\n",
      "mapping done\n"
     ]
    },
    {
     "name": "stderr",
     "output_type": "stream",
     "text": [
      "100%|██████████████████████████████████████████████████████████████████████| 5/5 [01:43<00:00, 20.70s/it]"
     ]
    },
    {
     "name": "stdout",
     "output_type": "stream",
     "text": [
      "Decomposed exp(iHt) on 441 qubits into 388407 Pauli rotations (DLA dimension: 388521, Duration: 19.0s).\n"
     ]
    },
    {
     "name": "stderr",
     "output_type": "stream",
     "text": [
      "\n"
     ]
    },
    {
     "name": "stdout",
     "output_type": "stream",
     "text": [
      "algebra done\n"
     ]
    },
    {
     "name": "stderr",
     "output_type": "stream",
     "text": [
      "  0%|                                                                              | 0/5 [00:00<?, ?it/s]"
     ]
    },
    {
     "name": "stdout",
     "output_type": "stream",
     "text": [
      "hamiltonian done\n",
      "mapping done\n"
     ]
    }
   ],
   "source": [
    "Times_mapping = []\n",
    "Times_decomposing = []\n",
    "Times_mapping_back = []\n",
    "Times_rest = []\n",
    "Times_total = []\n",
    "\n",
    "for n in ns:\n",
    "    n = int(n)\n",
    "    n_so = 2 * n\n",
    "    so_dim = (n_so**2-n_so) // 2\n",
    "    \n",
    "    times_mapping = []\n",
    "    times_decomposing = []\n",
    "    times_mapping_back = []\n",
    "    times_rest = []\n",
    "    times_total = []\n",
    "    if use_predefined_algebra:\n",
    "        algebra = make_so_2n(n)\n",
    "    else:\n",
    "        algebra = lie_closure_pauli_words(generators, verbose=False)\n",
    "    print(\"algebra done\")\n",
    "    for _ in tqdm(range(num_reps)):\n",
    "        paulirot_decomp, t_map, t_dec, t_map_back, t_tot, t_r = run(n, coefficients, algebra)\n",
    "        times_mapping.append(t_map)\n",
    "        times_decomposing.append(t_dec)\n",
    "        times_mapping_back.append(t_map_back)\n",
    "        times_total.append(t_tot)\n",
    "        times_rest.append(t_r)\n",
    "        \n",
    "        print(f\"Decomposed exp(iHt) on {n} qubits into {len(paulirot_decomp)} Pauli rotations (DLA dimension: {so_dim}, Duration: {times_total[-1]:.3}s).\")\n",
    "    Times_mapping.append(np.mean(times_mapping))\n",
    "    Times_decomposing.append(np.mean(times_decomposing))\n",
    "    Times_mapping_back.append(np.mean(times_mapping_back))\n",
    "    Times_total.append(np.mean(times_total))\n",
    "    Times_rest.append(np.mean(times_rest))"
   ]
  },
  {
   "cell_type": "code",
   "execution_count": null,
   "id": "e1f0de6e-a9a8-4dd0-a34a-e2679305c6e8",
   "metadata": {
    "execution": {
     "execution_failed": "2025-01-17T15:43:40.826Z"
    }
   },
   "outputs": [],
   "source": [
    "fig, axs = plt.subplots(1, 3, figsize=(12, 5))\n",
    "all_times = [Times_total, Times_decomposing, Times_mapping, Times_mapping_back, Times_rest]\n",
    "colors = [\"xkcd:indigo\", \"xkcd:blue violet\", \"xkcd:red pink\", \"xkcd:orange yellow\", \"xkcd:seafoam green\"]\n",
    "labels = [\"Total\", \"Decomposing\", \"Mapping\", \"Mapping back\", \"Rest\"]\n",
    "accum_times = 0\n",
    "for times, label, c in zip(all_times, labels, colors):\n",
    "    # f = lambda x, a, b: a * x + b\n",
    "    f = lambda x, a, b: (b * x)**a\n",
    "    # popt, pcov = curve_fit(f, np.log(ns)[3:], np.log(times)[3:])\n",
    "    skip_fit = False\n",
    "    try:\n",
    "        popt, pcov = curve_fit(f, ns[:len(times)], times)\n",
    "    except:\n",
    "        skip_fit = True\n",
    "    cont_ns = np.linspace(ns[0], ns[-1], 100)\n",
    "    \n",
    "    ax = axs[0]\n",
    "    ax.plot(ns[:len(times)], times, marker=\"s\", c=c, label=label, ls=\"\")\n",
    "    # ax.plot(cont_ns, np.exp(f(np.log(cont_ns), *popt)), ls = \"--\", c=\"xkcd:red pink\", label=f\"${popt[1]:.1f}n^{{{popt[0]:.2f}}}$\")\n",
    "    if not skip_fit:\n",
    "        ax.plot(cont_ns, f(cont_ns, *popt), ls = \"--\", c=c, label=f\"$({popt[1]:.3f}n)^{{{popt[0]:.2f}}}$\")\n",
    "    ax.set_xlabel(\"Number of qubits $n$\")\n",
    "    ax.set_ylabel(\"Decomposition runtime $t$ / s\")\n",
    "    ax.legend()\n",
    "    \n",
    "    ax = axs[1]\n",
    "    ax.plot(np.log(ns[:len(times)]), np.log(times), marker=\"s\", c=c, label=label, ls=\"\")\n",
    "    # ax.plot(np.log(ns), f(np.log(ns), *popt), ls = \"--\", c=\"xkcd:red pink\", label=f\"${popt[0]:.2f}\\ \\log n {popt[1]:.1f}$\")\n",
    "    if not skip_fit:\n",
    "        ax.plot(np.log(cont_ns), np.log(f(cont_ns, *popt)), ls = \"--\", c=c, label=f\"${popt[0]:.2f}\\ \\log n {popt[0] * np.log(popt[1]):.2f}$\")\n",
    "    ax.set_xlabel(\"$\\log n$\")\n",
    "    ax.set_ylabel(\"$\\log (t/\\\\text{s})$\")\n",
    "    ax.legend()\n",
    "    \n",
    "    ax = axs[2]\n",
    "    if label!=\"Total\":\n",
    "        ax.bar(ns[:len(times)], times, bottom=accum_times, width=10, color=c, label=label)\n",
    "        accum_times += np.array(times)\n",
    "    ax.set_xlabel(\"Number of qubits $n$\")\n",
    "    ax.set_ylabel(\"Runtime $t$ / s\")\n",
    "    # ax.set_yscale(\"log\")\n",
    "    ax.legend()\n",
    "plt.savefig(\"../gfx/fdhs_performance.pdf\", dpi=300)"
   ]
  },
  {
   "cell_type": "code",
   "execution_count": null,
   "id": "8847165a-7eec-4b23-a38b-bb99159549c9",
   "metadata": {
    "execution": {
     "execution_failed": "2025-01-16T13:32:49.735Z"
    }
   },
   "outputs": [],
   "source": [
    "print(times_rest[-1])\n",
    "# %prun make_so_2n_full_mapping(n)\n",
    "# %prun make_signs(mapping, n_so, \"BDI\")\n",
    "# %prun irrep_dot(coeffs, generators, mapping, signs, n=n_so, invol_type=\"BDI\") # 0.26\n",
    "# %prun expm(epsilon * H_irrep) # 0.02\n",
    "# %prun [(coeff, qml.pauli.pauli_word_to_string(pw, wire_map), pw.wires, _type) for pw, coeff, _type in pauli_decomp]\n",
    "%prun recursive_bdi(U, n_so, validate=False)"
   ]
  },
  {
   "cell_type": "code",
   "execution_count": null,
   "id": "6a13a7c7-3228-4991-aa40-840e50d36ab9",
   "metadata": {},
   "outputs": [],
   "source": []
  },
  {
   "cell_type": "code",
   "execution_count": null,
   "id": "57e3be96-a8c0-48cb-a610-bb105153b886",
   "metadata": {},
   "outputs": [],
   "source": []
  }
 ],
 "metadata": {
  "kernelspec": {
   "display_name": "Python 3 (ipykernel)",
   "language": "python",
   "name": "python3"
  },
  "language_info": {
   "codemirror_mode": {
    "name": "ipython",
    "version": 3
   },
   "file_extension": ".py",
   "mimetype": "text/x-python",
   "name": "python",
   "nbconvert_exporter": "python",
   "pygments_lexer": "ipython3",
   "version": "3.10.12"
  }
 },
 "nbformat": 4,
 "nbformat_minor": 5
}

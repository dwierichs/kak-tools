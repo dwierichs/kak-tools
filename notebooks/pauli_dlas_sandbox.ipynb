{
 "cells": [
  {
   "cell_type": "code",
   "execution_count": 1,
   "id": "8b5feca4-06ce-451c-b1e3-49a18ae960f1",
   "metadata": {
    "execution": {
     "iopub.execute_input": "2024-12-02T15:30:40.657185Z",
     "iopub.status.busy": "2024-12-02T15:30:40.657063Z",
     "iopub.status.idle": "2024-12-02T15:30:41.510254Z",
     "shell.execute_reply": "2024-12-02T15:30:41.509698Z",
     "shell.execute_reply.started": "2024-12-02T15:30:40.657173Z"
    }
   },
   "outputs": [],
   "source": [
    "import numpy as np\n",
    "import pennylane as qml\n",
    "from pennylane import X, Y, Z, I\n",
    "from kak_tools import identify_algebra, split_pauli_algebra, map_simple_to_irrep, map_irrep_to_matrices"
   ]
  },
  {
   "cell_type": "code",
   "execution_count": 2,
   "id": "6057d157-8f10-4877-94ff-d7dd28f135ae",
   "metadata": {
    "execution": {
     "iopub.execute_input": "2024-12-02T15:30:41.510859Z",
     "iopub.status.busy": "2024-12-02T15:30:41.510673Z",
     "iopub.status.idle": "2024-12-02T15:30:41.514410Z",
     "shell.execute_reply": "2024-12-02T15:30:41.513758Z",
     "shell.execute_reply.started": "2024-12-02T15:30:41.510848Z"
    }
   },
   "outputs": [],
   "source": [
    "def close_and_split(gens, verbose=True):\n",
    "    gens = [list(op.pauli_rep)[0] for op in gens] # Map generators from Operator to PauliWord\n",
    "    dla = qml.lie_closure(gens, pauli=True)\n",
    "    dla = [list(op)[0] for op in dla] # Map dla from PauliSentence to PauliWord\n",
    "    np.random.shuffle(dla)\n",
    "    sub_dlas = split_pauli_algebra(dla, verbose=verbose)\n",
    "    return dla, sub_dlas"
   ]
  },
  {
   "cell_type": "code",
   "execution_count": 3,
   "id": "2306a7da-fbc5-4aa7-9227-c3bac3468929",
   "metadata": {
    "execution": {
     "iopub.execute_input": "2024-12-02T15:30:41.515088Z",
     "iopub.status.busy": "2024-12-02T15:30:41.514914Z",
     "iopub.status.idle": "2024-12-02T15:30:41.573621Z",
     "shell.execute_reply": "2024-12-02T15:30:41.573034Z",
     "shell.execute_reply.started": "2024-12-02T15:30:41.515076Z"
    }
   },
   "outputs": [
    {
     "name": "stdout",
     "output_type": "stream",
     "text": [
      "Found 2 components with dimensions [21, 120].\n",
      "Dimension of component: 21.\n",
      "Component 0 can be one of the following:\n",
      "so(7)\n",
      "sp(3)\n",
      "Dimension of component: 120.\n",
      "Component 1 can be one of the following:\n",
      "so(16)\n",
      "8 copies of so(6)\n",
      "[[(1, 'so', 7), (1, 'sp', 3)], [(1, 'so', 16), (8, 'so', 6)]]\n"
     ]
    }
   ],
   "source": [
    "# Test with so(2n)\n",
    "n = 8\n",
    "m = 7\n",
    "gens = [X(w) @ X(w+1) for w in range(n-1)] + [Y(w) @ Y(w+1) for w in range(n-1)] + [Z(w) for w in range(n)]\n",
    "gens += [X(w) @ Y(w+1) for w in range(n, m+n-1)]\n",
    "dla, sub_dlas = close_and_split(gens)\n",
    "# print(sub_dlas[0])\n",
    "# print(sub_dlas[1])\n",
    "identifiers = identify_algebra(sub_dlas, verbose=True)\n",
    "print(identifiers)"
   ]
  },
  {
   "cell_type": "code",
   "execution_count": 4,
   "id": "82c847d6-dc1a-4cf3-b70a-8fe485e03a80",
   "metadata": {
    "execution": {
     "iopub.execute_input": "2024-12-02T15:30:41.574139Z",
     "iopub.status.busy": "2024-12-02T15:30:41.574012Z",
     "iopub.status.idle": "2024-12-02T15:30:41.576915Z",
     "shell.execute_reply": "2024-12-02T15:30:41.576473Z",
     "shell.execute_reply.started": "2024-12-02T15:30:41.574128Z"
    }
   },
   "outputs": [],
   "source": [
    "# # Test with random generators\n",
    "# def make_random_semisimple_algebra(num_wires=5, num_gens=7, seed=None):\n",
    "#     rng = np.random.default_rng(seed=seed)\n",
    "#     failure = True\n",
    "#     while failure:\n",
    "#         words = rng.choice([I, X, Y, Z], replace=True, size=(num_gens, num_wires))\n",
    "#         gens = [qml.prod(*(P(w) for w, P in enumerate(word))) for word in words]\n",
    "#         dla, sub_dlas = close_and_split(gens, verbose=False)\n",
    "#         dims = [len(sub) for sub in sub_dlas]\n",
    "#         if 1 not in dims:\n",
    "#             failure = False\n",
    "#     return dla\n",
    "    \n",
    "# num_wires = 8\n",
    "# num_gens = 10\n",
    "# seed = 2\n",
    "# gens = make_random_semisimple_algebra(num_wires, num_gens, seed=seed)\n",
    "# # print(f\"Max DLA dimension: {4**num_wires-1}\")\n",
    "# dla, sub_dlas = close_and_split(gens)\n",
    "# # print(sub_dlas)\n",
    "# # identifiers = identify_algebra(sub_dlas, verbose=True)"
   ]
  },
  {
   "cell_type": "markdown",
   "id": "871baf37-fb2e-4bf4-be01-f34a19946008",
   "metadata": {},
   "source": [
    "## Map to irrep and associated matrices"
   ]
  },
  {
   "cell_type": "code",
   "execution_count": 5,
   "id": "a8a82c5a-2048-4669-82e3-233afe5da9da",
   "metadata": {
    "execution": {
     "iopub.execute_input": "2024-12-02T15:30:41.577386Z",
     "iopub.status.busy": "2024-12-02T15:30:41.577279Z",
     "iopub.status.idle": "2024-12-02T15:30:41.590678Z",
     "shell.execute_reply": "2024-12-02T15:30:41.590124Z",
     "shell.execute_reply.started": "2024-12-02T15:30:41.577375Z"
    }
   },
   "outputs": [
    {
     "name": "stdout",
     "output_type": "stream",
     "text": [
      "n=5; so(2n) dim: 45\n"
     ]
    }
   ],
   "source": [
    "import numpy as np\n",
    "from pennylane import X, Y, Z, I, lie_closure\n",
    "from kak_tools import map_simple_to_irrep, map_irrep_to_matrices\n",
    "\n",
    "n = 5 # Number of qubits\n",
    "n_so = 2 * n # The \"n\" in so(n)\n",
    "sub_hor_size = 3 * n # Number of random generators that we demand to be mapped to horizontal space (Hamiltonian terms in app)\n",
    "\n",
    "so_dim = (n_so**2-n_so) // 2 # dimension of so(n_so) = so(2n)\n",
    "print(f\"{n=}; so(2n) dim: {so_dim}\")\n",
    "\n",
    "gens = [X(w) @ X(w+1) for w in range(n-1)] + [Y(w) @ Y(w+1) for w in range(n-1)] + [Z(w) for w in range(n)] # Generators as in FDHS paper\n",
    "gens = [next(iter(op.pauli_rep)) for op in gens] # Map from qml.operation.Operator to qml.pauli.PauliWord\n",
    "\n",
    "dla = lie_closure(gens, pauli=True) # Compute Lie closure\n",
    "dla = [next(iter(op)) for op in dla] # The Lie closure returns PauliSentences, but we want PauliWord's again.\n",
    "assert len(dla) == so_dim # Assert that we indeed got so(n_so) = so(2n)\n",
    "\n",
    "def theta(pw):\n",
    "    \"\"\"Concurrence (\"number of Ys\") involution to be applied to PauliWord instances.\"\"\"\n",
    "    return -(-1) ** sum(p==\"Y\" for p in pw.values())\n",
    "\n",
    "# Make sure we're not trying to squeeze too many operators into the horizontal space (consistency check)\n",
    "if sub_hor_size > (n_so//2) ** 2:\n",
    "    raise ValueError(\"Not enough room in the horizontal space\")\n",
    "\n",
    "# Generate random horizontal Pauli words\n",
    "hor_gens = np.random.choice([op for op in dla if theta(op) == -1], replace=False, size=sub_hor_size)"
   ]
  },
  {
   "cell_type": "code",
   "execution_count": 6,
   "id": "5317c3c5-7f4a-49a1-b51a-2e672665f5e8",
   "metadata": {
    "execution": {
     "iopub.execute_input": "2024-12-02T15:30:41.591667Z",
     "iopub.status.busy": "2024-12-02T15:30:41.591534Z",
     "iopub.status.idle": "2024-12-02T15:30:41.599472Z",
     "shell.execute_reply": "2024-12-02T15:30:41.599062Z",
     "shell.execute_reply.started": "2024-12-02T15:30:41.591656Z"
    }
   },
   "outputs": [
    {
     "name": "stdout",
     "output_type": "stream",
     "text": [
      "E_{0, 4} is mapped to Y(0) @ Z(1) @ Z(2) @ X(3)\n",
      "The same Pauli word (Y(0) @ Z(1) @ Z(2) @ X(3)) is mapped to the matrix\n"
     ]
    },
    {
     "data": {
      "text/plain": [
       "array([[ 0.,  0.,  0.,  0.,  1.,  0.,  0.,  0.,  0.,  0.],\n",
       "       [ 0.,  0.,  0.,  0.,  0.,  0.,  0.,  0.,  0.,  0.],\n",
       "       [ 0.,  0.,  0.,  0.,  0.,  0.,  0.,  0.,  0.,  0.],\n",
       "       [ 0.,  0.,  0.,  0.,  0.,  0.,  0.,  0.,  0.,  0.],\n",
       "       [-1.,  0.,  0.,  0.,  0.,  0.,  0.,  0.,  0.,  0.],\n",
       "       [ 0.,  0.,  0.,  0.,  0.,  0.,  0.,  0.,  0.,  0.],\n",
       "       [ 0.,  0.,  0.,  0.,  0.,  0.,  0.,  0.,  0.,  0.],\n",
       "       [ 0.,  0.,  0.,  0.,  0.,  0.,  0.,  0.,  0.,  0.],\n",
       "       [ 0.,  0.,  0.,  0.,  0.,  0.,  0.,  0.,  0.,  0.],\n",
       "       [ 0.,  0.,  0.,  0.,  0.,  0.,  0.,  0.,  0.,  0.]])"
      ]
     },
     "execution_count": 6,
     "metadata": {},
     "output_type": "execute_result"
    }
   ],
   "source": [
    "# Map index pairs corresponding to E_{ij} matrices to operators in the DLA\n",
    "mapping, signs = map_simple_to_irrep(dla, hor_gens, n=n_so, invol_type=\"BDI\")\n",
    "ex_op = mapping[(0, 4)]\n",
    "print(f\"E_{{0, 4}} is mapped to {ex_op}\")\n",
    "# Get rid of the index pairs and map operators in the DLA to matrices directly\n",
    "matrix_map = map_irrep_to_matrices(mapping, signs, n_so, invol_type=\"BDI\")\n",
    "print(f\"The same Pauli word ({ex_op}) is mapped to the matrix\")\n",
    "matrix_map[ex_op]"
   ]
  },
  {
   "cell_type": "code",
   "execution_count": 7,
   "id": "8cae21ff-e75c-4554-b329-d6244d301559",
   "metadata": {
    "execution": {
     "iopub.execute_input": "2024-12-02T15:30:41.599966Z",
     "iopub.status.busy": "2024-12-02T15:30:41.599848Z",
     "iopub.status.idle": "2024-12-02T15:30:41.602384Z",
     "shell.execute_reply": "2024-12-02T15:30:41.602108Z",
     "shell.execute_reply.started": "2024-12-02T15:30:41.599954Z"
    }
   },
   "outputs": [],
   "source": [
    "H_coeffs = np.random.normal(0, 1., sub_hor_size) # Make up some Hamiltonian coefficients\n",
    "H = np.tensordot(H_coeffs, np.stack([matrix_map[op] for op in hor_gens]), axes=[[0], [0]]) # Compute Hamiltonian matrix"
   ]
  },
  {
   "cell_type": "code",
   "execution_count": 8,
   "id": "1b1d6835-e652-48ec-9f16-7b713464cc27",
   "metadata": {
    "execution": {
     "iopub.execute_input": "2024-12-02T15:30:41.602769Z",
     "iopub.status.busy": "2024-12-02T15:30:41.602658Z",
     "iopub.status.idle": "2024-12-02T15:30:41.607453Z",
     "shell.execute_reply": "2024-12-02T15:30:41.606797Z",
     "shell.execute_reply.started": "2024-12-02T15:30:41.602758Z"
    }
   },
   "outputs": [
    {
     "data": {
      "text/plain": [
       "array([[ 0. +0.j,  0. +0.j,  0. +0.j,  0. +0.j,  0. +0.j,  0.6+0.j,\n",
       "         0.5+0.j,  0.3+0.j,  0. +0.j, -0.6+0.j],\n",
       "       [ 0. +0.j,  0. +0.j,  0. +0.j,  0. +0.j,  0. +0.j,  0.9+0.j,\n",
       "         0. +0.j,  0. +0.j,  0. +0.j,  0. +0.j],\n",
       "       [ 0. +0.j,  0. +0.j,  0. +0.j,  0. +0.j,  0. +0.j, -0.8+0.j,\n",
       "         0. +0.j, -0.7+0.j, -0.6+0.j,  0.4+0.j],\n",
       "       [ 0. +0.j,  0. +0.j,  0. +0.j,  0. +0.j,  0. +0.j, -0.6+0.j,\n",
       "         0. +0.j,  0. +0.j,  0. +0.j,  0.4+0.j],\n",
       "       [ 0. +0.j,  0. +0.j,  0. +0.j,  0. +0.j,  0. +0.j,  0.1+0.j,\n",
       "        -1.5+0.j,  1.5+0.j,  0. +0.j,  0.6+0.j],\n",
       "       [-0.6+0.j, -0.9+0.j,  0.8+0.j,  0.6+0.j, -0.1+0.j,  0. +0.j,\n",
       "         0. +0.j,  0. +0.j,  0. +0.j,  0. +0.j],\n",
       "       [-0.5+0.j,  0. +0.j,  0. +0.j,  0. +0.j,  1.5+0.j,  0. +0.j,\n",
       "         0. +0.j,  0. +0.j,  0. +0.j,  0. +0.j],\n",
       "       [-0.3+0.j,  0. +0.j,  0.7+0.j,  0. +0.j, -1.5+0.j,  0. +0.j,\n",
       "         0. +0.j,  0. +0.j,  0. +0.j,  0. +0.j],\n",
       "       [ 0. +0.j,  0. +0.j,  0.6+0.j,  0. +0.j,  0. +0.j,  0. +0.j,\n",
       "         0. +0.j,  0. +0.j,  0. +0.j,  0. +0.j],\n",
       "       [ 0.6+0.j,  0. +0.j, -0.4+0.j, -0.4+0.j, -0.6+0.j,  0. +0.j,\n",
       "         0. +0.j,  0. +0.j,  0. +0.j,  0. +0.j]])"
      ]
     },
     "execution_count": 8,
     "metadata": {},
     "output_type": "execute_result"
    }
   ],
   "source": [
    "np.round(H, 1) # Print Hamiltonian matrix"
   ]
  },
  {
   "cell_type": "code",
   "execution_count": 9,
   "id": "1dc73066-3cf4-415c-bb84-c3e85fe36e12",
   "metadata": {
    "execution": {
     "iopub.execute_input": "2024-12-02T15:30:41.608158Z",
     "iopub.status.busy": "2024-12-02T15:30:41.607942Z",
     "iopub.status.idle": "2024-12-02T15:30:41.671008Z",
     "shell.execute_reply": "2024-12-02T15:30:41.670440Z",
     "shell.execute_reply.started": "2024-12-02T15:30:41.608143Z"
    }
   },
   "outputs": [
    {
     "name": "stdout",
     "output_type": "stream",
     "text": [
      "(45, 10, 10)\n",
      "True\n",
      "True\n"
     ]
    }
   ],
   "source": [
    "from pennylane.labs.dla import structure_constants_dense\n",
    "\n",
    "all_mats = -1j * np.stack([matrix_map[pw] for pw in dla])\n",
    "print(all_mats.shape)\n",
    "for i in range(len(all_mats)):\n",
    "    if not np.allclose(all_mats[i].conj().T, all_mats[i]):\n",
    "        print(all_mats[i])\n",
    "adj_pw = qml.structure_constants(dla)\n",
    "adj_mat = structure_constants_dense(all_mats) * n_so\n",
    "print(np.allclose(adj_pw, adj_mat))\n",
    "print(np.allclose(np.abs(adj_pw), np.abs(adj_mat)))\n",
    "for i in range(len(adj_mat)):\n",
    "    if not np.allclose(adj_mat[i], adj_pw[i]):\n",
    "        ids = np.where(~(adj_mat[i]==adj_pw[i]))\n",
    "        print(i, ids)\n",
    "        # print(adj_mat[i][ids])\n",
    "        # print(adj_pw[i][ids])\n",
    "        # print()\n",
    "        # break"
   ]
  },
  {
   "cell_type": "code",
   "execution_count": null,
   "id": "34a4a7c5-52fc-441a-a569-836db38616e1",
   "metadata": {},
   "outputs": [],
   "source": []
  }
 ],
 "metadata": {
  "kernelspec": {
   "display_name": "Python 3 (ipykernel)",
   "language": "python",
   "name": "python3"
  },
  "language_info": {
   "codemirror_mode": {
    "name": "ipython",
    "version": 3
   },
   "file_extension": ".py",
   "mimetype": "text/x-python",
   "name": "python",
   "nbconvert_exporter": "python",
   "pygments_lexer": "ipython3",
   "version": "3.10.12"
  }
 },
 "nbformat": 4,
 "nbformat_minor": 5
}

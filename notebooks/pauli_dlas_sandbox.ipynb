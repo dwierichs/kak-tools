{
 "cells": [
  {
   "cell_type": "code",
   "execution_count": 1,
   "id": "8b5feca4-06ce-451c-b1e3-49a18ae960f1",
   "metadata": {
    "execution": {
     "iopub.execute_input": "2024-11-28T11:26:36.714654Z",
     "iopub.status.busy": "2024-11-28T11:26:36.714420Z",
     "iopub.status.idle": "2024-11-28T11:26:37.660725Z",
     "shell.execute_reply": "2024-11-28T11:26:37.660284Z",
     "shell.execute_reply.started": "2024-11-28T11:26:36.714630Z"
    }
   },
   "outputs": [],
   "source": [
    "import numpy as np\n",
    "import pennylane as qml\n",
    "from pennylane import X, Y, Z, I\n",
    "from kak_tools import identify_algebra, split_pauli_algebra"
   ]
  },
  {
   "cell_type": "code",
   "execution_count": 2,
   "id": "6057d157-8f10-4877-94ff-d7dd28f135ae",
   "metadata": {
    "execution": {
     "iopub.execute_input": "2024-11-28T11:26:37.661200Z",
     "iopub.status.busy": "2024-11-28T11:26:37.661001Z",
     "iopub.status.idle": "2024-11-28T11:26:37.664074Z",
     "shell.execute_reply": "2024-11-28T11:26:37.663637Z",
     "shell.execute_reply.started": "2024-11-28T11:26:37.661189Z"
    }
   },
   "outputs": [],
   "source": [
    "def run(gens, verbose=True):\n",
    "    gens = [list(op.pauli_rep)[0] for op in gens] # Map generators from Operator to PauliWord\n",
    "    dla = qml.lie_closure(gens, pauli=True)\n",
    "    dla = [list(op)[0] for op in dla] # Map dla from PauliSentence to PauliWord\n",
    "    np.random.shuffle(dla)\n",
    "    sub_dlas = split_pauli_algebra(dla, verbose=verbose)\n",
    "    return identify_algebra(sub_dlas, verbose=verbose)"
   ]
  },
  {
   "cell_type": "code",
   "execution_count": 3,
   "id": "2306a7da-fbc5-4aa7-9227-c3bac3468929",
   "metadata": {
    "execution": {
     "iopub.execute_input": "2024-11-28T11:26:37.664641Z",
     "iopub.status.busy": "2024-11-28T11:26:37.664496Z",
     "iopub.status.idle": "2024-11-28T11:26:37.799175Z",
     "shell.execute_reply": "2024-11-28T11:26:37.798312Z",
     "shell.execute_reply.started": "2024-11-28T11:26:37.664622Z"
    }
   },
   "outputs": [
    {
     "name": "stdout",
     "output_type": "stream",
     "text": [
      "Found 190 components with dimensions 190.\n",
      "Dimension of component: 190.\n",
      "It can be one of the following:\n",
      "so(20)\n"
     ]
    }
   ],
   "source": [
    "# Test with so(2n)\n",
    "n = 10\n",
    "gens = [X(w) @ X(w+1) for w in range(n-1)] + [Y(w) @ Y(w+1) for w in range(n-1)] + [Z(w) for w in range(n)]\n",
    "identifiers = run(gens)"
   ]
  },
  {
   "cell_type": "code",
   "execution_count": 9,
   "id": "82c847d6-dc1a-4cf3-b70a-8fe485e03a80",
   "metadata": {
    "execution": {
     "iopub.execute_input": "2024-11-28T11:27:23.561575Z",
     "iopub.status.busy": "2024-11-28T11:27:23.561121Z",
     "iopub.status.idle": "2024-11-28T11:27:23.576421Z",
     "shell.execute_reply": "2024-11-28T11:27:23.575862Z",
     "shell.execute_reply.started": "2024-11-28T11:27:23.561538Z"
    }
   },
   "outputs": [
    {
     "name": "stdout",
     "output_type": "stream",
     "text": [
      "Found 36 components with dimensions 36.\n",
      "Dimension of component: 36.\n",
      "It can be one of the following:\n",
      "so(9)\n",
      "sp(4)\n"
     ]
    }
   ],
   "source": [
    "# Test with random generators\n",
    "np.random.seed(6135)\n",
    "num_wires = 4\n",
    "k = 6\n",
    "words = np.random.choice([I, X, Y, Z], replace=True, size=(k, num_wires))\n",
    "gens = [qml.prod(*(P(w) for w, P in enumerate(word))) for word in words]\n",
    "identifiers = run(gens)"
   ]
  },
  {
   "cell_type": "code",
   "execution_count": null,
   "id": "a8a82c5a-2048-4669-82e3-233afe5da9da",
   "metadata": {},
   "outputs": [],
   "source": []
  }
 ],
 "metadata": {
  "kernelspec": {
   "display_name": "Python 3 (ipykernel)",
   "language": "python",
   "name": "python3"
  },
  "language_info": {
   "codemirror_mode": {
    "name": "ipython",
    "version": 3
   },
   "file_extension": ".py",
   "mimetype": "text/x-python",
   "name": "python",
   "nbconvert_exporter": "python",
   "pygments_lexer": "ipython3",
   "version": "3.10.12"
  }
 },
 "nbformat": 4,
 "nbformat_minor": 5
}

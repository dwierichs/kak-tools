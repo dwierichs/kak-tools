{
 "cells": [
  {
   "cell_type": "code",
   "execution_count": 1,
   "id": "8b5feca4-06ce-451c-b1e3-49a18ae960f1",
   "metadata": {
    "execution": {
     "iopub.execute_input": "2024-12-03T13:14:33.724678Z",
     "iopub.status.busy": "2024-12-03T13:14:33.724390Z",
     "iopub.status.idle": "2024-12-03T13:14:34.610801Z",
     "shell.execute_reply": "2024-12-03T13:14:34.610338Z",
     "shell.execute_reply.started": "2024-12-03T13:14:33.724648Z"
    }
   },
   "outputs": [],
   "source": [
    "import numpy as np\n",
    "from scipy.linalg import expm\n",
    "import pennylane as qml\n",
    "from pennylane import X, Y, Z, I\n",
    "from kak_tools import identify_algebra, split_pauli_algebra, map_simple_to_irrep, map_irrep_to_matrices"
   ]
  },
  {
   "cell_type": "code",
   "execution_count": 2,
   "id": "6057d157-8f10-4877-94ff-d7dd28f135ae",
   "metadata": {
    "execution": {
     "iopub.execute_input": "2024-12-03T13:14:34.611438Z",
     "iopub.status.busy": "2024-12-03T13:14:34.611245Z",
     "iopub.status.idle": "2024-12-03T13:14:34.614303Z",
     "shell.execute_reply": "2024-12-03T13:14:34.613973Z",
     "shell.execute_reply.started": "2024-12-03T13:14:34.611427Z"
    }
   },
   "outputs": [],
   "source": [
    "def close_and_split(gens, verbose=True):\n",
    "    gens = [list(op.pauli_rep)[0] for op in gens] # Map generators from Operator to PauliWord\n",
    "    dla = qml.lie_closure(gens, pauli=True)\n",
    "    dla = [list(op)[0] for op in dla] # Map dla from PauliSentence to PauliWord\n",
    "    np.random.shuffle(dla)\n",
    "    sub_dlas = split_pauli_algebra(dla, verbose=verbose)\n",
    "    return dla, sub_dlas"
   ]
  },
  {
   "cell_type": "code",
   "execution_count": 83,
   "id": "2306a7da-fbc5-4aa7-9227-c3bac3468929",
   "metadata": {
    "execution": {
     "iopub.execute_input": "2024-12-03T22:09:20.631244Z",
     "iopub.status.busy": "2024-12-03T22:09:20.631022Z",
     "iopub.status.idle": "2024-12-03T22:09:20.691928Z",
     "shell.execute_reply": "2024-12-03T22:09:20.691097Z",
     "shell.execute_reply.started": "2024-12-03T22:09:20.631227Z"
    }
   },
   "outputs": [
    {
     "name": "stdout",
     "output_type": "stream",
     "text": [
      "Found 2 components with dimensions [120, 21].\n",
      "Dimension of component: 120.\n",
      "Component 0 can be one of the following:\n",
      "so(16)\n",
      "8 copies of so(6)\n",
      "Dimension of component: 21.\n",
      "Component 1 can be one of the following:\n",
      "so(7)\n",
      "sp(3)\n",
      "[[(1, 'so', 16), (8, 'so', 6)], [(1, 'so', 7), (1, 'sp', 3)]]\n"
     ]
    }
   ],
   "source": [
    "# Test with so(2n)\n",
    "n = 8\n",
    "m = 7\n",
    "gens = [X(w) @ X(w+1) for w in range(n-1)] + [Y(w) @ Y(w+1) for w in range(n-1)] + [Z(w) for w in range(n)]\n",
    "gens += [X(w) @ Y(w+1) for w in range(n, m+n-1)]\n",
    "dla, sub_dlas = close_and_split(gens)\n",
    "# print(sub_dlas[0])\n",
    "# print(sub_dlas[1])\n",
    "identifiers = identify_algebra(sub_dlas, verbose=True)\n",
    "print(identifiers)"
   ]
  },
  {
   "cell_type": "code",
   "execution_count": 84,
   "id": "82c847d6-dc1a-4cf3-b70a-8fe485e03a80",
   "metadata": {
    "execution": {
     "iopub.execute_input": "2024-12-03T22:09:21.850120Z",
     "iopub.status.busy": "2024-12-03T22:09:21.849832Z",
     "iopub.status.idle": "2024-12-03T22:09:21.853647Z",
     "shell.execute_reply": "2024-12-03T22:09:21.853005Z",
     "shell.execute_reply.started": "2024-12-03T22:09:21.850096Z"
    }
   },
   "outputs": [],
   "source": [
    "# # Test with random generators\n",
    "# def make_random_semisimple_algebra(num_wires=5, num_gens=7, seed=None):\n",
    "#     rng = np.random.default_rng(seed=seed)\n",
    "#     failure = True\n",
    "#     while failure:\n",
    "#         words = rng.choice([I, X, Y, Z], replace=True, size=(num_gens, num_wires))\n",
    "#         gens = [qml.prod(*(P(w) for w, P in enumerate(word))) for word in words]\n",
    "#         dla, sub_dlas = close_and_split(gens, verbose=False)\n",
    "#         dims = [len(sub) for sub in sub_dlas]\n",
    "#         if 1 not in dims:\n",
    "#             failure = False\n",
    "#     return dla\n",
    "    \n",
    "# num_wires = 8\n",
    "# num_gens = 10\n",
    "# seed = 2\n",
    "# gens = make_random_semisimple_algebra(num_wires, num_gens, seed=seed)\n",
    "# # print(f\"Max DLA dimension: {4**num_wires-1}\")\n",
    "# dla, sub_dlas = close_and_split(gens)\n",
    "# # print(sub_dlas)\n",
    "# # identifiers = identify_algebra(sub_dlas, verbose=True)"
   ]
  },
  {
   "cell_type": "markdown",
   "id": "871baf37-fb2e-4bf4-be01-f34a19946008",
   "metadata": {},
   "source": [
    "## Map to irrep and associated matrices"
   ]
  },
  {
   "cell_type": "code",
   "execution_count": 100,
   "id": "0de0423a-95b3-48dc-919b-bbcd018ede19",
   "metadata": {
    "execution": {
     "iopub.execute_input": "2024-12-03T22:16:58.782764Z",
     "iopub.status.busy": "2024-12-03T22:16:58.782431Z",
     "iopub.status.idle": "2024-12-03T22:17:00.357007Z",
     "shell.execute_reply": "2024-12-03T22:17:00.356321Z",
     "shell.execute_reply.started": "2024-12-03T22:16:58.782740Z"
    }
   },
   "outputs": [
    {
     "name": "stdout",
     "output_type": "stream",
     "text": [
      "n=32; so(2n) dim: 2016\n",
      "epoch 1 of lie_closure, DLA size is 94\n",
      "epoch 2 of lie_closure, DLA size is 216\n",
      "epoch 3 of lie_closure, DLA size is 448\n",
      "epoch 4 of lie_closure, DLA size is 864\n",
      "epoch 5 of lie_closure, DLA size is 1504\n",
      "After 5 epochs, reached a DLA size of 2016\n",
      "Closed DLA\n"
     ]
    }
   ],
   "source": [
    "import numpy as np\n",
    "from itertools import combinations, product\n",
    "from pennylane import X, Y, Z, I, lie_closure\n",
    "from kak_tools import map_simple_to_irrep, map_irrep_to_matrices, identify_algebra, split_pauli_algebra, bdi, lie_closure_pauli_words\n",
    "\n",
    "n = 32 # Number of qubits\n",
    "n_so = 2 * n # The \"n\" in so(n)\n",
    "sub_hor_size = 3 * n # Number of random generators that we demand to be mapped to horizontal space (Hamiltonian terms in app)\n",
    "\n",
    "so_dim = (n_so**2-n_so) // 2 # dimension of so(n_so) = so(2n)\n",
    "print(f\"{n=}; so(2n) dim: {so_dim}\")\n",
    "\n",
    "gens = [X(w) @ X(w+1) for w in range(n-1)] + [Y(w) @ Y(w+1) for w in range(n-1)] + [Z(w) for w in range(n)] # Generators as in FDHS paper\n",
    "# gens = [Y(w) @ X(w+1) for w in range(n-1)] + [X(w) @ Y(w+1) for w in range(n-1)] + [Y(w) for w in range(n)]\n",
    "gens = [next(iter(op.pauli_rep)) for op in gens] # Map from qml.operation.Operator to qml.pauli.PauliWord\n",
    "\n",
    "\n",
    "dla = lie_closure_pauli_words(gens, verbose=True, full_size=so_dim) # Compute Lie closure\n",
    "print(\"Closed DLA\")"
   ]
  },
  {
   "cell_type": "code",
   "execution_count": 101,
   "id": "447d8937-0441-4ff9-833a-a56ac8cdc26c",
   "metadata": {
    "execution": {
     "iopub.execute_input": "2024-12-03T22:17:01.013860Z",
     "iopub.status.busy": "2024-12-03T22:17:01.013440Z",
     "iopub.status.idle": "2024-12-03T22:17:01.024068Z",
     "shell.execute_reply": "2024-12-03T22:17:01.023603Z",
     "shell.execute_reply.started": "2024-12-03T22:17:01.013832Z"
    }
   },
   "outputs": [
    {
     "name": "stdout",
     "output_type": "stream",
     "text": [
      "1024\n"
     ]
    }
   ],
   "source": [
    "# dla = [next(iter(op)) for op in dla] # The Lie closure returns PauliSentences, but we want PauliWord's again.\n",
    "assert len(dla) == so_dim, f\"{len(dla)}, {so_dim}\" # Assert that we indeed got so(n_so) = so(2n)\n",
    "\n",
    "invol_type = \"BDI\"\n",
    "\n",
    "if invol_type == \"BDI\":\n",
    "    def theta(pw):\n",
    "        \"\"\"Concurrence (\"number of Ys\") involution to be applied to PauliWord instances.\"\"\"\n",
    "        return -(-1) ** sum(p==\"Y\" for p in pw.values())\n",
    "\n",
    "    hor_dim = (n_so//2) ** 2\n",
    "\n",
    "elif invol_type == \"DIII\":\n",
    "\n",
    "    def theta(pw):\n",
    "        \"\"\"Even-Odd involution to be applied to PauliWord instances.\"\"\"\n",
    "        # return -(-1) ** sum(p==\"X\" for p in pw.values())\n",
    "        return -(-1) ** (pw.commutes_with(qml.pauli.PauliWord({i: \"Y\" for i in pw})))\n",
    "\n",
    "    hor_dim = (n_so//2) ** 2 - n_so // 2\n",
    "\n",
    "# for pw in dla:\n",
    "#     print(pw, theta(pw))\n",
    "\n",
    "# k = [pw for pw in dla if theta(pw) == 1]\n",
    "# m = [pw for pw in dla if theta(pw) == -1]\n",
    "# for pw1, pw2 in combinations(k, r=2):\n",
    "#     if pw1.commutes_with(pw2):\n",
    "#         continue\n",
    "#     assert (com:=pw1._commutator(pw2)[0]) in k, f\"{pw1} | {pw2} => {com}\"\n",
    "\n",
    "# for pw1, pw2 in product(k, m):\n",
    "#     if pw1.commutes_with(pw2):\n",
    "#         continue\n",
    "#     assert (com:=pw1._commutator(pw2)[0]) in m, f\"{pw1} | {pw2} => {com}\"\n",
    "\n",
    "# for pw1, pw2 in combinations(m, r=2):\n",
    "#     if pw1.commutes_with(pw2):\n",
    "#         continue\n",
    "#     assert (com:=pw1._commutator(pw2)[0]) in k, f\"{pw1} | {pw2} => {com}\"\n",
    "\n",
    "# assert len(k) == len(lie_closure(k, pauli=True))\n",
    "# print(identify_algebra(dla, verbose=True))\n",
    "# comps = split_pauli_algebra(k)\n",
    "# print(*comps, sep=\"\\n\")\n",
    "# print(f\"k={identify_algebra(comps, verbose=True)}\")\n",
    "# print(len(k))\n",
    "# print(len(m))\n",
    "# print(len(dla))\n",
    "\n",
    "# Make sure we're not trying to squeeze too many operators into the horizontal space (consistency check)\n",
    "print(hor_dim)\n",
    "if sub_hor_size > hor_dim:\n",
    "    raise ValueError(\"Not enough room in the horizontal space\")\n",
    "\n",
    "# Generate random horizontal Pauli words\n",
    "hor_gens = gens\n",
    "sub_hor_size = len(gens)\n",
    "hor_gens = np.random.choice([op for op in dla if theta(op) == -1], replace=False, size=sub_hor_size)"
   ]
  },
  {
   "cell_type": "code",
   "execution_count": 102,
   "id": "5317c3c5-7f4a-49a1-b51a-2e672665f5e8",
   "metadata": {
    "execution": {
     "iopub.execute_input": "2024-12-03T22:17:03.756706Z",
     "iopub.status.busy": "2024-12-03T22:17:03.756487Z",
     "iopub.status.idle": "2024-12-03T22:17:04.211220Z",
     "shell.execute_reply": "2024-12-03T22:17:04.210368Z",
     "shell.execute_reply.started": "2024-12-03T22:17:03.756689Z"
    }
   },
   "outputs": [],
   "source": [
    "# Map index pairs corresponding to E_{ij} matrices to operators in the DLA\n",
    "mapping, signs = map_simple_to_irrep(dla, hor_gens, n=n_so, invol_type=invol_type)\n",
    "# ex_op = mapping[(0, 4)]\n",
    "# print(f\"E_{{0, 4}} is mapped to {ex_op}\")\n",
    "# Get rid of the index pairs and map operators in the DLA to matrices directly\n",
    "matrix_map = map_irrep_to_matrices(mapping, signs, n_so, invol_type=invol_type)"
   ]
  },
  {
   "cell_type": "code",
   "execution_count": 103,
   "id": "8cae21ff-e75c-4554-b329-d6244d301559",
   "metadata": {
    "execution": {
     "iopub.execute_input": "2024-12-03T22:17:04.959688Z",
     "iopub.status.busy": "2024-12-03T22:17:04.959493Z",
     "iopub.status.idle": "2024-12-03T22:17:04.966804Z",
     "shell.execute_reply": "2024-12-03T22:17:04.965556Z",
     "shell.execute_reply.started": "2024-12-03T22:17:04.959673Z"
    }
   },
   "outputs": [],
   "source": [
    "H_coeffs = np.random.normal(0, 1., sub_hor_size) # Make up some Hamiltonian coefficients\n",
    "H = np.tensordot(H_coeffs, np.stack([matrix_map[op] for op in hor_gens]), axes=[[0], [0]]) # Compute Hamiltonian matrix"
   ]
  },
  {
   "cell_type": "code",
   "execution_count": 104,
   "id": "1b1d6835-e652-48ec-9f16-7b713464cc27",
   "metadata": {
    "execution": {
     "iopub.execute_input": "2024-12-03T22:17:05.647923Z",
     "iopub.status.busy": "2024-12-03T22:17:05.647453Z",
     "iopub.status.idle": "2024-12-03T22:17:06.025348Z",
     "shell.execute_reply": "2024-12-03T22:17:06.024691Z",
     "shell.execute_reply.started": "2024-12-03T22:17:05.647908Z"
    }
   },
   "outputs": [
    {
     "name": "stdout",
     "output_type": "stream",
     "text": [
      "1\n",
      "16 16\n",
      "2\n",
      "8 8\n",
      "3\n",
      "4 4\n",
      "4\n",
      "2 2\n",
      "5\n",
      "1 1\n",
      "Decomposed into 3413 blocks with (partially large) CSA blocks and K blocks of size 1\n",
      "i=0\n",
      "3, 3\n",
      "i=1\n",
      "13, 13\n",
      "i=2\n",
      "53, 53\n",
      "i=3\n",
      "213, 213\n",
      "i=4\n",
      "853, 853\n",
      "i=5\n",
      "3413, 3413\n"
     ]
    }
   ],
   "source": [
    "time = 0.6\n",
    "U = expm(-time * H)\n",
    "\n",
    "def embed(op, start, end, n):\n",
    "    mat = np.zeros((n, n), dtype=complex)\n",
    "    mat[:start, :start] = np.eye(start)\n",
    "    mat[start:end, start:end] = op\n",
    "    mat[end:, end:] = np.eye(n-end)\n",
    "    return mat\n",
    "\n",
    "def recursive_bdi(U, n, num_iter=1):\n",
    "    p = q = n // 2\n",
    "    k1, a, k2 = bdi(U, p, q)\n",
    "    ops = {-1: [(U, 0, n, None)], 0: [(k1, 0, n, \"k\"), (a, 0, n, \"a\"), (k2, 0, n, \"k\")]}\n",
    "    for i in range(1, num_iter+1):\n",
    "        print(i)\n",
    "        p = q = p // 2\n",
    "        print(p, q)\n",
    "        new_ops = []\n",
    "        for k, (op, start, end, _type) in enumerate(ops[i-1]):\n",
    "            # print(np.round(op,1))\n",
    "            if _type == \"a\":\n",
    "                # CSA element\n",
    "                new_ops.append((op, start, end, \"a\"))\n",
    "                continue\n",
    "            width = end - start\n",
    "            assert width % 2 == 0\n",
    "            for s, e in [(start, start+width//2), (start+width//2, end)]:\n",
    "                # print(p, q, s, e, op.shape)\n",
    "                k1, a, k2 = bdi(op[s:e, s:e], p, q, is_horizontal=False)\n",
    "                # print(f\"With {p=} and {q=}, decomposed {op[s:e, s:e]} into\\n{k1}\\n{a}\\n{k2}\")\n",
    "                k1, a, k2 = embed(k1, s, e, n), embed(a, s, e, n), embed(k2, s, e, n)\n",
    "                new_ops.extend([(k1, s, e, \"k\"), (a, s, e, \"a\"), (k2, s, e, \"k\")])\n",
    "        ops[i] = new_ops\n",
    "        # ops[(i, 1)] = bdi(ops[(0, 0)][0][2*p:, 2*p:], p, q, is_horizontal=False)\n",
    "        # ops[(i, 2)] = (ops[(1, 1)][2].T, ops[(1, 1)][1].T, ops[(1, 1)][0].T)\n",
    "        # ops[(i, 3)] = (ops[(1, 0)][2].T, ops[(1, 0)][1].T, ops[(1, 0)][0].T)\n",
    "        \n",
    "        # rec_k1 = np.block([[ops[(1, 0)][0] @ ops[(1, 0)][1] @ ops[(1, 0)][2], np.zeros(ops[(1, 0)][2].shape)], [np.zeros(ops[(1, 0)][2].shape), ops[(1, 1)][0] @ ops[(1, 1)][1] @ ops[(1, 1)][2]]])\n",
    "        # rec_k2 = np.block([[ops[(1, 3)][0] @ ops[(1, 3)][1] @ ops[(1, 3)][2], np.zeros(ops[(1, 2)][2].shape)], [np.zeros(ops[(1, 2)][2].shape), ops[(1, 2)][0] @ ops[(1, 2)][1] @ ops[(1, 2)][2]]])\n",
    "        # rec = rec_k1 @ ops[(0, 0)][1] @ rec_k2\n",
    "        # np.allclose(rec, U)\n",
    "    return ops, width // 4\n",
    "\n",
    "\n",
    "num_iter = 5\n",
    "ops, smallest_block_size = recursive_bdi(U, n_so, num_iter=num_iter)\n",
    "print(f\"Decomposed into {len(ops[num_iter])} blocks with (partially large) CSA blocks and K blocks of size {smallest_block_size}\")\n",
    "\n",
    "def num_ops(_iter):\n",
    "    if _iter==0:\n",
    "        return 3\n",
    "    return num_ops(_iter - 1) + 4 ** _iter * 5 // 2\n",
    "\n",
    "# Validate\n",
    "for i in range(num_iter+1):\n",
    "    print(f\"{i=}\")\n",
    "    print(f\"{len(ops[i])}, {num_ops(i)}\")\n",
    "    assert len(ops[i]) == num_ops(i), f\"{len(ops[i])}, {num_ops(i)}\"\n",
    "    for tup in ops[i]:\n",
    "        assert isinstance(tup, tuple) and len(tup) == 4\n",
    "        assert isinstance(tup[0], np.ndarray) and tup[0].shape == (n_so, n_so)\n",
    "        for val in tup[1:3]:\n",
    "            assert isinstance(val, int) and 0<=val<=n_so\n",
    "        assert tup[3] in \"ak\"\n",
    "\n",
    "    pos = 0\n",
    "    if i > 0:\n",
    "        for j in range(len(ops[i-1])):\n",
    "            if ops[i-1][j][3] == \"k\":\n",
    "                rec = ops[i][pos][0] @ ops[i][pos+1][0] @ ops[i][pos+2][0] @ ops[i][pos+3][0] @ ops[i][pos+4][0] @ ops[i][pos+5][0]\n",
    "                assert np.allclose(rec, ops[i-1][j][0])\n",
    "                pos += 6\n",
    "            else:\n",
    "                assert ops[i-1][j][3] == \"a\"\n",
    "                assert np.allclose(ops[i][pos][0], ops[i-1][j][0])\n",
    "                pos += 1"
   ]
  },
  {
   "cell_type": "code",
   "execution_count": 90,
   "id": "1dc73066-3cf4-415c-bb84-c3e85fe36e12",
   "metadata": {
    "execution": {
     "iopub.execute_input": "2024-12-03T22:09:32.998498Z",
     "iopub.status.busy": "2024-12-03T22:09:32.998197Z",
     "iopub.status.idle": "2024-12-03T22:09:33.001774Z",
     "shell.execute_reply": "2024-12-03T22:09:33.001169Z",
     "shell.execute_reply.started": "2024-12-03T22:09:32.998470Z"
    }
   },
   "outputs": [],
   "source": [
    "# from pennylane.labs.dla import structure_constants_dense\n",
    "\n",
    "# all_mats = -1j * np.stack([matrix_map[pw] for pw in dla])\n",
    "# print(all_mats.shape)\n",
    "# for i in range(len(all_mats)):\n",
    "#     if not np.allclose(all_mats[i].conj().T, all_mats[i]):\n",
    "#         print(all_mats[i])\n",
    "# adj_pw = qml.structure_constants(dla)\n",
    "# adj_mat = structure_constants_dense(all_mats) * n_so\n",
    "# print(np.allclose(adj_pw, adj_mat))\n",
    "# print(np.allclose(np.abs(adj_pw), np.abs(adj_mat)))\n",
    "# for i in range(len(adj_mat)):\n",
    "#     if not np.allclose(adj_mat[i], adj_pw[i]):\n",
    "#         ids = np.where(~(adj_mat[i]==adj_pw[i]))\n",
    "#         print(i, ids)\n",
    "#         # print(adj_mat[i][ids])\n",
    "#         # print(adj_pw[i][ids])\n",
    "#         # print()\n",
    "#         # break"
   ]
  },
  {
   "cell_type": "code",
   "execution_count": null,
   "id": "34a4a7c5-52fc-441a-a569-836db38616e1",
   "metadata": {},
   "outputs": [],
   "source": []
  }
 ],
 "metadata": {
  "kernelspec": {
   "display_name": "Python 3 (ipykernel)",
   "language": "python",
   "name": "python3"
  },
  "language_info": {
   "codemirror_mode": {
    "name": "ipython",
    "version": 3
   },
   "file_extension": ".py",
   "mimetype": "text/x-python",
   "name": "python",
   "nbconvert_exporter": "python",
   "pygments_lexer": "ipython3",
   "version": "3.10.12"
  }
 },
 "nbformat": 4,
 "nbformat_minor": 5
}

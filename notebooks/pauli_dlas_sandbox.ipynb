{
 "cells": [
  {
   "cell_type": "code",
   "execution_count": 1,
   "id": "8b5feca4-06ce-451c-b1e3-49a18ae960f1",
   "metadata": {
    "execution": {
     "iopub.execute_input": "2024-11-28T12:58:21.421514Z",
     "iopub.status.busy": "2024-11-28T12:58:21.421292Z",
     "iopub.status.idle": "2024-11-28T12:58:22.273543Z",
     "shell.execute_reply": "2024-11-28T12:58:22.272960Z",
     "shell.execute_reply.started": "2024-11-28T12:58:21.421497Z"
    }
   },
   "outputs": [],
   "source": [
    "import numpy as np\n",
    "import pennylane as qml\n",
    "from pennylane import X, Y, Z, I\n",
    "from kak_tools import identify_algebra, split_pauli_algebra"
   ]
  },
  {
   "cell_type": "code",
   "execution_count": 2,
   "id": "6057d157-8f10-4877-94ff-d7dd28f135ae",
   "metadata": {
    "execution": {
     "iopub.execute_input": "2024-11-28T12:58:22.274297Z",
     "iopub.status.busy": "2024-11-28T12:58:22.274020Z",
     "iopub.status.idle": "2024-11-28T12:58:22.278155Z",
     "shell.execute_reply": "2024-11-28T12:58:22.277619Z",
     "shell.execute_reply.started": "2024-11-28T12:58:22.274280Z"
    }
   },
   "outputs": [],
   "source": [
    "def close_and_split(gens, verbose=True):\n",
    "    gens = [list(op.pauli_rep)[0] for op in gens] # Map generators from Operator to PauliWord\n",
    "    dla = qml.lie_closure(gens, pauli=True)\n",
    "    dla = [list(op)[0] for op in dla] # Map dla from PauliSentence to PauliWord\n",
    "    np.random.shuffle(dla)\n",
    "    sub_dlas = split_pauli_algebra(dla, verbose=verbose)\n",
    "    return dla, sub_dlas"
   ]
  },
  {
   "cell_type": "code",
   "execution_count": 3,
   "id": "2306a7da-fbc5-4aa7-9227-c3bac3468929",
   "metadata": {
    "execution": {
     "iopub.execute_input": "2024-11-28T12:58:22.278760Z",
     "iopub.status.busy": "2024-11-28T12:58:22.278613Z",
     "iopub.status.idle": "2024-11-28T12:58:22.404008Z",
     "shell.execute_reply": "2024-11-28T12:58:22.403449Z",
     "shell.execute_reply.started": "2024-11-28T12:58:22.278734Z"
    }
   },
   "outputs": [
    {
     "name": "stdout",
     "output_type": "stream",
     "text": [
      "Found 1 component with dimension 190.\n",
      "Dimension of component: 190.\n",
      "Component 0 can be one of the following:\n",
      "so(20)\n"
     ]
    }
   ],
   "source": [
    "# Test with so(2n)\n",
    "n = 10\n",
    "gens = [X(w) @ X(w+1) for w in range(n-1)] + [Y(w) @ Y(w+1) for w in range(n-1)] + [Z(w) for w in range(n)]\n",
    "dla, sub_dlas = close_and_split(gens)\n",
    "identifiers = identify_algebra(sub_dlas, verbose=True)"
   ]
  },
  {
   "cell_type": "code",
   "execution_count": 5,
   "id": "82c847d6-dc1a-4cf3-b70a-8fe485e03a80",
   "metadata": {
    "execution": {
     "iopub.execute_input": "2024-11-28T12:58:47.686803Z",
     "iopub.status.busy": "2024-11-28T12:58:47.686497Z",
     "iopub.status.idle": "2024-11-28T12:58:49.348144Z",
     "shell.execute_reply": "2024-11-28T12:58:49.347485Z",
     "shell.execute_reply.started": "2024-11-28T12:58:47.686779Z"
    }
   },
   "outputs": [
    {
     "name": "stdout",
     "output_type": "stream",
     "text": [
      "Max DLA dimension: 16383\n",
      "Found 1 component with dimension 255.\n",
      "Dimension of component: 255.\n",
      "Component 0 can be one of the following:\n",
      "su(16)\n"
     ]
    }
   ],
   "source": [
    "# Test with random generators\n",
    "def make_random_semisimple_algebra(num_wires=5, num_gens=7, seed=None):\n",
    "    rng = np.random.default_rng(seed=seed)\n",
    "    failure = True\n",
    "    while failure:\n",
    "        words = rng.choice([I, X, Y, Z], replace=True, size=(num_gens, num_wires))\n",
    "        gens = [qml.prod(*(P(w) for w, P in enumerate(word))) for word in words]\n",
    "        dla, sub_dlas = close_and_split(gens, verbose=False)\n",
    "        dims = [len(sub) for sub in sub_dlas]\n",
    "        if 1 not in dims:\n",
    "            failure = False\n",
    "    return dla\n",
    "    \n",
    "num_wires = 7\n",
    "num_gens = 10\n",
    "seed = 285\n",
    "gens = make_random_semisimple_algebra(num_wires, num_gens, seed=seed)\n",
    "print(f\"Max DLA dimension: {4**num_wires-1}\")\n",
    "dla, sub_dlas = close_and_split(gens)\n",
    "identifiers = identify_algebra(sub_dlas, verbose=True)"
   ]
  },
  {
   "cell_type": "code",
   "execution_count": null,
   "id": "a8a82c5a-2048-4669-82e3-233afe5da9da",
   "metadata": {},
   "outputs": [],
   "source": []
  }
 ],
 "metadata": {
  "kernelspec": {
   "display_name": "Python 3 (ipykernel)",
   "language": "python",
   "name": "python3"
  },
  "language_info": {
   "codemirror_mode": {
    "name": "ipython",
    "version": 3
   },
   "file_extension": ".py",
   "mimetype": "text/x-python",
   "name": "python",
   "nbconvert_exporter": "python",
   "pygments_lexer": "ipython3",
   "version": "3.10.12"
  }
 },
 "nbformat": 4,
 "nbformat_minor": 5
}

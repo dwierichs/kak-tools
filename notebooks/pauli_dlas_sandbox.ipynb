{
 "cells": [
  {
   "cell_type": "code",
   "execution_count": 1,
   "id": "8b5feca4-06ce-451c-b1e3-49a18ae960f1",
   "metadata": {
    "execution": {
     "iopub.execute_input": "2024-12-02T13:10:55.396378Z",
     "iopub.status.busy": "2024-12-02T13:10:55.396256Z",
     "iopub.status.idle": "2024-12-02T13:10:56.265527Z",
     "shell.execute_reply": "2024-12-02T13:10:56.265045Z",
     "shell.execute_reply.started": "2024-12-02T13:10:55.396364Z"
    }
   },
   "outputs": [],
   "source": [
    "import numpy as np\n",
    "import pennylane as qml\n",
    "from pennylane import X, Y, Z, I\n",
    "from kak_tools import identify_algebra, split_pauli_algebra, map_simple_to_irrep, map_irrep_to_matrices"
   ]
  },
  {
   "cell_type": "code",
   "execution_count": 2,
   "id": "6057d157-8f10-4877-94ff-d7dd28f135ae",
   "metadata": {
    "execution": {
     "iopub.execute_input": "2024-12-02T13:10:56.266139Z",
     "iopub.status.busy": "2024-12-02T13:10:56.265861Z",
     "iopub.status.idle": "2024-12-02T13:10:56.269021Z",
     "shell.execute_reply": "2024-12-02T13:10:56.268511Z",
     "shell.execute_reply.started": "2024-12-02T13:10:56.266126Z"
    }
   },
   "outputs": [],
   "source": [
    "def close_and_split(gens, verbose=True):\n",
    "    gens = [list(op.pauli_rep)[0] for op in gens] # Map generators from Operator to PauliWord\n",
    "    dla = qml.lie_closure(gens, pauli=True)\n",
    "    dla = [list(op)[0] for op in dla] # Map dla from PauliSentence to PauliWord\n",
    "    np.random.shuffle(dla)\n",
    "    sub_dlas = split_pauli_algebra(dla, verbose=verbose)\n",
    "    return dla, sub_dlas"
   ]
  },
  {
   "cell_type": "code",
   "execution_count": 3,
   "id": "2306a7da-fbc5-4aa7-9227-c3bac3468929",
   "metadata": {
    "execution": {
     "iopub.execute_input": "2024-12-02T13:10:56.269547Z",
     "iopub.status.busy": "2024-12-02T13:10:56.269415Z",
     "iopub.status.idle": "2024-12-02T13:10:56.333572Z",
     "shell.execute_reply": "2024-12-02T13:10:56.332967Z",
     "shell.execute_reply.started": "2024-12-02T13:10:56.269535Z"
    }
   },
   "outputs": [
    {
     "name": "stdout",
     "output_type": "stream",
     "text": [
      "Found 2 components with dimensions [120, 21].\n",
      "Dimension of component: 120.\n",
      "Component 0 can be one of the following:\n",
      "so(16)\n",
      "8 copies of so(6)\n",
      "Dimension of component: 21.\n",
      "Component 1 can be one of the following:\n",
      "so(7)\n",
      "sp(3)\n",
      "[[(1, 'so', 16), (8, 'so', 6)], [(1, 'so', 7), (1, 'sp', 3)]]\n"
     ]
    }
   ],
   "source": [
    "# Test with so(2n)\n",
    "n = 8\n",
    "m = 7\n",
    "gens = [X(w) @ X(w+1) for w in range(n-1)] + [Y(w) @ Y(w+1) for w in range(n-1)] + [Z(w) for w in range(n)]\n",
    "gens += [X(w) @ Y(w+1) for w in range(n, m+n-1)]\n",
    "dla, sub_dlas = close_and_split(gens)\n",
    "# print(sub_dlas[0])\n",
    "# print(sub_dlas[1])\n",
    "identifiers = identify_algebra(sub_dlas, verbose=True)\n",
    "print(identifiers)"
   ]
  },
  {
   "cell_type": "code",
   "execution_count": 4,
   "id": "82c847d6-dc1a-4cf3-b70a-8fe485e03a80",
   "metadata": {
    "execution": {
     "iopub.execute_input": "2024-12-02T13:10:56.334254Z",
     "iopub.status.busy": "2024-12-02T13:10:56.334120Z",
     "iopub.status.idle": "2024-12-02T13:10:56.337548Z",
     "shell.execute_reply": "2024-12-02T13:10:56.336639Z",
     "shell.execute_reply.started": "2024-12-02T13:10:56.334242Z"
    }
   },
   "outputs": [],
   "source": [
    "# # Test with random generators\n",
    "# def make_random_semisimple_algebra(num_wires=5, num_gens=7, seed=None):\n",
    "#     rng = np.random.default_rng(seed=seed)\n",
    "#     failure = True\n",
    "#     while failure:\n",
    "#         words = rng.choice([I, X, Y, Z], replace=True, size=(num_gens, num_wires))\n",
    "#         gens = [qml.prod(*(P(w) for w, P in enumerate(word))) for word in words]\n",
    "#         dla, sub_dlas = close_and_split(gens, verbose=False)\n",
    "#         dims = [len(sub) for sub in sub_dlas]\n",
    "#         if 1 not in dims:\n",
    "#             failure = False\n",
    "#     return dla\n",
    "    \n",
    "# num_wires = 8\n",
    "# num_gens = 10\n",
    "# seed = 2\n",
    "# gens = make_random_semisimple_algebra(num_wires, num_gens, seed=seed)\n",
    "# # print(f\"Max DLA dimension: {4**num_wires-1}\")\n",
    "# dla, sub_dlas = close_and_split(gens)\n",
    "# # print(sub_dlas)\n",
    "# # identifiers = identify_algebra(sub_dlas, verbose=True)"
   ]
  },
  {
   "cell_type": "markdown",
   "id": "871baf37-fb2e-4bf4-be01-f34a19946008",
   "metadata": {},
   "source": [
    "## Map to irrep and associated matrices"
   ]
  },
  {
   "cell_type": "code",
   "execution_count": 13,
   "id": "a8a82c5a-2048-4669-82e3-233afe5da9da",
   "metadata": {
    "execution": {
     "iopub.execute_input": "2024-12-02T13:13:37.421926Z",
     "iopub.status.busy": "2024-12-02T13:13:37.421618Z",
     "iopub.status.idle": "2024-12-02T13:13:37.590284Z",
     "shell.execute_reply": "2024-12-02T13:13:37.589541Z",
     "shell.execute_reply.started": "2024-12-02T13:13:37.421902Z"
    }
   },
   "outputs": [
    {
     "name": "stdout",
     "output_type": "stream",
     "text": [
      "n=11; so(2n) dim: 231\n"
     ]
    }
   ],
   "source": [
    "import numpy as np\n",
    "from pennylane import X, Y, Z, I, lie_closure\n",
    "from kak_tools import map_simple_to_irrep, map_irrep_to_matrices\n",
    "\n",
    "\n",
    "n = 11\n",
    "n_so = 2 * n\n",
    "sub_hor_size = 3 * n\n",
    "\n",
    "so_dim = (n_so**2-n_so) // 2\n",
    "print(f\"{n=}; so(2n) dim: {so_dim}\")\n",
    "\n",
    "gens = [X(w) @ X(w+1) for w in range(n-1)] + [Y(w) @ Y(w+1) for w in range(n-1)] + [Z(w) for w in range(n)]\n",
    "gens = [next(iter(op.pauli_rep)) for op in gens]\n",
    "\n",
    "dla = lie_closure(gens, pauli=True)\n",
    "dla = [next(iter(op.pauli_rep)) for op in dla]\n",
    "assert len(dla) == so_dim\n",
    "\n",
    "def theta(op):\n",
    "    \"\"\"Even Odd\"\"\"\n",
    "    return -(-1) ** sum(p==\"Y\" for p in op.values())\n",
    "\n",
    "\n",
    "if sub_hor_size > (n_so//2) ** 2:\n",
    "    raise ValueError(\"Not enough room in the horizontal space\")\n",
    "\n",
    "hor_gens = np.random.choice([op for op in dla if theta(op) == -1], replace=False, size=sub_hor_size)\n",
    "H_coeffs = np.random.normal(0, 1., sub_hor_size)"
   ]
  },
  {
   "cell_type": "code",
   "execution_count": 14,
   "id": "5317c3c5-7f4a-49a1-b51a-2e672665f5e8",
   "metadata": {
    "execution": {
     "iopub.execute_input": "2024-12-02T13:13:38.772510Z",
     "iopub.status.busy": "2024-12-02T13:13:38.772046Z",
     "iopub.status.idle": "2024-12-02T13:13:38.795606Z",
     "shell.execute_reply": "2024-12-02T13:13:38.794640Z",
     "shell.execute_reply.started": "2024-12-02T13:13:38.772475Z"
    }
   },
   "outputs": [],
   "source": [
    "mapping = map_simple_to_irrep(dla, hor_gens, n=n_so, invol_type=\"BDI\")\n",
    "matrix_map = map_irrep_to_matrices(mapping, n_so, invol_type=\"BDI\")\n",
    "matrices_in_order = np.stack([matrix_map[op] for op in dla])"
   ]
  },
  {
   "cell_type": "code",
   "execution_count": 15,
   "id": "8cae21ff-e75c-4554-b329-d6244d301559",
   "metadata": {
    "execution": {
     "iopub.execute_input": "2024-12-02T13:14:03.497677Z",
     "iopub.status.busy": "2024-12-02T13:14:03.497388Z",
     "iopub.status.idle": "2024-12-02T13:14:03.511579Z",
     "shell.execute_reply": "2024-12-02T13:14:03.510723Z",
     "shell.execute_reply.started": "2024-12-02T13:14:03.497653Z"
    }
   },
   "outputs": [
    {
     "ename": "ValueError",
     "evalue": "matmul: Input operand 1 has a mismatch in its core dimension 0, with gufunc signature (n?,k),(k,m?)->(n?,m?) (size 22 is different from 33)",
     "output_type": "error",
     "traceback": [
      "\u001b[0;31m---------------------------------------------------------------------------\u001b[0m",
      "\u001b[0;31mValueError\u001b[0m                                Traceback (most recent call last)",
      "Cell \u001b[0;32mIn[15], line 1\u001b[0m\n\u001b[0;32m----> 1\u001b[0m H \u001b[38;5;241m=\u001b[39m \u001b[43mH_coeffs\u001b[49m\u001b[43m \u001b[49m\u001b[38;5;241;43m@\u001b[39;49m\u001b[43m \u001b[49m\u001b[43mnp\u001b[49m\u001b[38;5;241;43m.\u001b[39;49m\u001b[43mstack\u001b[49m\u001b[43m(\u001b[49m\u001b[43m[\u001b[49m\u001b[43mmatrix_map\u001b[49m\u001b[43m[\u001b[49m\u001b[43mop\u001b[49m\u001b[43m]\u001b[49m\u001b[43m \u001b[49m\u001b[38;5;28;43;01mfor\u001b[39;49;00m\u001b[43m \u001b[49m\u001b[43mop\u001b[49m\u001b[43m \u001b[49m\u001b[38;5;129;43;01min\u001b[39;49;00m\u001b[43m \u001b[49m\u001b[43mhor_gens\u001b[49m\u001b[43m]\u001b[49m\u001b[43m)\u001b[49m\n",
      "\u001b[0;31mValueError\u001b[0m: matmul: Input operand 1 has a mismatch in its core dimension 0, with gufunc signature (n?,k),(k,m?)->(n?,m?) (size 22 is different from 33)"
     ]
    }
   ],
   "source": [
    "H = H_coeffs @ np.stack([matrix_map[op] for op in hor_gens])"
   ]
  },
  {
   "cell_type": "code",
   "execution_count": null,
   "id": "1b1d6835-e652-48ec-9f16-7b713464cc27",
   "metadata": {},
   "outputs": [],
   "source": []
  }
 ],
 "metadata": {
  "kernelspec": {
   "display_name": "Python 3 (ipykernel)",
   "language": "python",
   "name": "python3"
  },
  "language_info": {
   "codemirror_mode": {
    "name": "ipython",
    "version": 3
   },
   "file_extension": ".py",
   "mimetype": "text/x-python",
   "name": "python",
   "nbconvert_exporter": "python",
   "pygments_lexer": "ipython3",
   "version": "3.10.12"
  }
 },
 "nbformat": 4,
 "nbformat_minor": 5
}

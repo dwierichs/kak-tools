{
 "cells": [
  {
   "cell_type": "markdown",
   "id": "bb67515b-5892-478c-b31f-77a20c4ef72c",
   "metadata": {},
   "source": [
    "## Non-variational fixed-depth Hamiltonian simulation\n",
    "\n",
    "Here we reproduce the the main demonstration example of \"Fixed-depth Hamiltonian simulation via Cartan decomposition\"\n",
    "with our recursive KAK decomposition tool."
   ]
  },
  {
   "cell_type": "code",
   "execution_count": 1,
   "id": "a78e07f6-0c7a-4b6d-9b67-7b7bbad8bc3d",
   "metadata": {
    "execution": {
     "iopub.execute_input": "2025-03-25T13:18:00.902095Z",
     "iopub.status.busy": "2025-03-25T13:18:00.901810Z",
     "iopub.status.idle": "2025-03-25T13:18:01.873729Z",
     "shell.execute_reply": "2025-03-25T13:18:01.873053Z",
     "shell.execute_reply.started": "2025-03-25T13:18:00.902075Z"
    }
   },
   "outputs": [],
   "source": [
    "import pennylane as qml\n",
    "import numpy as np\n",
    "from itertools import combinations, product\n",
    "from functools import partial\n",
    "from pennylane import X, Y, Z, I\n",
    "from scipy.linalg import expm, logm\n",
    "import matplotlib.pyplot as plt\n",
    "import jax\n",
    "jax.config.update(\"jax_enable_x64\", True)\n",
    "np.random.seed(2415)\n",
    "from kak_tools import map_simple_to_irrep, map_irrep_to_matrices, identify_algebra, split_pauli_algebra, bdi, lie_closure_pauli_words, recursive_bdi, map_recursive_decomp_to_reducible, map_matrix_to_reducible, make_so_2n_full_mapping, make_signs"
   ]
  },
  {
   "cell_type": "markdown",
   "id": "0cf0151d-c9a0-4abd-acd1-0ca8c3cc1f80",
   "metadata": {},
   "source": [
    "We begin by defining the Pauli words in the Hamiltonian \n",
    "\n",
    "$\n",
    "H = \\sum_{j=1}^{n-1} \\alpha_j X_j X_{j+1} + \\beta_j Y_j Y_{j+1} + \\sum_{j=1}^n \\gamma_j Z_j\n",
    "$\n",
    "\n",
    "and computing their Lie closure. We obtain a reducible representation of $\\mathfrak{so}(2n)$ on $\\mathbb{C}^{2^n}$."
   ]
  },
  {
   "cell_type": "code",
   "execution_count": 2,
   "id": "5c8941c0-0a27-4fe6-b3c3-c74db10aee60",
   "metadata": {
    "execution": {
     "iopub.execute_input": "2025-03-25T13:18:01.874447Z",
     "iopub.status.busy": "2025-03-25T13:18:01.874226Z",
     "iopub.status.idle": "2025-03-25T13:18:01.902800Z",
     "shell.execute_reply": "2025-03-25T13:18:01.902394Z",
     "shell.execute_reply.started": "2025-03-25T13:18:01.874434Z"
    }
   },
   "outputs": [
    {
     "name": "stdout",
     "output_type": "stream",
     "text": [
      "Hamiltonian algebra on 10 qubits with size 190; expected size is 190\n"
     ]
    }
   ],
   "source": [
    "n = 10 # Number of qubits\n",
    "\n",
    "# Hamiltonian terms\n",
    "generators = [X(w) @ X(w+1) for w in range(n-1)] + [Y(w) @ Y(w+1) for w in range(n-1)] + [Z(w) for w in range(n)]\n",
    "# Map from general qml.operation.Operator instances to qml.pauli.PauliWord instances\n",
    "generators = [next(iter(op.pauli_rep)) for op in generators]\n",
    "\n",
    "# Compute Hamiltonian Lie algebra\n",
    "algebra = lie_closure_pauli_words(generators, verbose=False)\n",
    "\n",
    "# Compare algebra size to expected size of so(2n)\n",
    "n_so = 2 * n # The \"n\" in so(n)\n",
    "so_dim = (n_so**2-n_so) // 2\n",
    "\n",
    "print(f\"Hamiltonian algebra on {n} qubits with size {len(algebra)}; expected size is {so_dim}\")"
   ]
  },
  {
   "cell_type": "code",
   "execution_count": 3,
   "id": "31c00c25-5ba7-498d-aa4b-7dc908b8cdfd",
   "metadata": {
    "execution": {
     "iopub.execute_input": "2025-03-25T13:18:01.903189Z",
     "iopub.status.busy": "2025-03-25T13:18:01.903083Z",
     "iopub.status.idle": "2025-03-25T13:18:01.908891Z",
     "shell.execute_reply": "2025-03-25T13:18:01.908365Z",
     "shell.execute_reply.started": "2025-03-25T13:18:01.903179Z"
    }
   },
   "outputs": [],
   "source": [
    "# generators = [X(w) @ X(w+1) + Y(w) @ Y(w+1) for w in range(n-1)] + [Z(w) for w in range(n)]\n",
    "# algebra = qml.lie_closure(generators)\n",
    "# print(len(algebra))\n",
    "# identify_algebra(algebra)\n"
   ]
  },
  {
   "cell_type": "markdown",
   "id": "a0e6b35c-f824-4122-a5c6-3bf8a2e45113",
   "metadata": {},
   "source": [
    "Next, we map this irreducible representation to an irreducible representation on $\\mathbb{R}^{2n}$,\n",
    "by creating a `mapping` of each Pauli word to a basis element $F_{ij} = E_{ij} - E_{ji}$, where $E_{ij}$ is the real $2n \\times 2n$ matrix with a $1$\n",
    "at position $(i, j)$ and zeros else (we will use zero-based indexing). This mapping does not contain the signs required to make it an algebra homomorphism,\n",
    "but we compute them in a separate lookup table `signs`.\n",
    "\n",
    "We have one more requirement for this mapping, though:\n",
    "The Pauli words from $H$ stored in `generators` are horizontal with respect to an involution on the reducible representation.\n",
    "In order to use the KAK theorem for the mapping of $H$, we need to make sure that these generators are mapped to basis elements that\n",
    "are horizontal with respect to the involution on the irreducible representation of the same type.\n",
    "We will use an involution of type BDI and in the irreducible representation, we choose the canonical form of the involution\n",
    "\n",
    "$\n",
    "\\theta(x) = I_{n, n} x I_{n, n} \\text{ with } I_{n, n} = \\operatorname{diag}(\\underset{\\times n}{\\underbrace{1, \\cdots, 1}}, \\underset{\\times n}{\\underbrace{-1, \\cdots, -1}}).\n",
    "$\n",
    "\n",
    "The basis elements $F_{ij}$ above are eigenstates of this involution, and the horizontal (eigenvalue $-1$) elements are those with $i<n$ and $j\\geq n$:\n",
    "\n",
    "$$\n",
    "\\theta(F_{ij}) \n",
    "= \\delta_{k\\ell} (\\lambda(k<n) - \\lambda(k>=n)) (E_{ij} - E_{ji})_{\\ell m} \\delta_{mp} (\\lambda(m<n) - \\lambda(m>=n))\n",
    "= (-1)^{i>n} (-1)^{j>n} F_{ij} \n",
    "$$\n",
    "\n",
    "We therefore make sure to map the Hamiltonian Pauli words to such elements with $i<n$ and $j\\geq n$, by passing `generators` to `map_simple_to_irrep`\n",
    "and the involution type `\"BDI\"`."
   ]
  },
  {
   "cell_type": "code",
   "execution_count": 4,
   "id": "13d10284-67c9-4fb9-8c8e-85f8c8f4c21a",
   "metadata": {
    "execution": {
     "iopub.execute_input": "2025-03-25T13:18:01.909676Z",
     "iopub.status.busy": "2025-03-25T13:18:01.909451Z",
     "iopub.status.idle": "2025-03-25T13:18:02.090023Z",
     "shell.execute_reply": "2025-03-25T13:18:02.088357Z",
     "shell.execute_reply.started": "2025-03-25T13:18:01.909658Z"
    }
   },
   "outputs": [
    {
     "ename": "AssertionError",
     "evalue": "",
     "output_type": "error",
     "traceback": [
      "\u001b[0;31m---------------------------------------------------------------------------\u001b[0m",
      "\u001b[0;31mAssertionError\u001b[0m                            Traceback (most recent call last)",
      "Cell \u001b[0;32mIn[4], line 3\u001b[0m\n\u001b[1;32m      1\u001b[0m mapping, signs \u001b[38;5;241m=\u001b[39m map_simple_to_irrep(algebra, horizontal_ops\u001b[38;5;241m=\u001b[39mgenerators, n\u001b[38;5;241m=\u001b[39mn_so, invol_type\u001b[38;5;241m=\u001b[39m\u001b[38;5;124m\"\u001b[39m\u001b[38;5;124mBDI\u001b[39m\u001b[38;5;124m\"\u001b[39m)\n\u001b[1;32m      2\u001b[0m mapping \u001b[38;5;241m=\u001b[39m make_so_2n_full_mapping(n)\n\u001b[0;32m----> 3\u001b[0m signs \u001b[38;5;241m=\u001b[39m \u001b[43mmake_signs\u001b[49m\u001b[43m(\u001b[49m\u001b[43mmapping\u001b[49m\u001b[43m,\u001b[49m\u001b[43m \u001b[49m\u001b[43mn\u001b[49m\u001b[38;5;241;43m=\u001b[39;49m\u001b[43mn_so\u001b[49m\u001b[43m,\u001b[49m\u001b[43m \u001b[49m\u001b[43minvol_type\u001b[49m\u001b[38;5;241;43m=\u001b[39;49m\u001b[38;5;124;43m\"\u001b[39;49m\u001b[38;5;124;43mBDI\u001b[39;49m\u001b[38;5;124;43m\"\u001b[39;49m\u001b[43m)\u001b[49m\n",
      "File \u001b[0;32m~/repos/kak-tools/kak_tools/map_to_irrep.py:342\u001b[0m, in \u001b[0;36mmake_signs\u001b[0;34m(mapping, n, invol_type)\u001b[0m\n\u001b[1;32m    340\u001b[0m \u001b[38;5;28;01mdef\u001b[39;00m\u001b[38;5;250m \u001b[39m\u001b[38;5;21mmake_signs\u001b[39m(mapping, n, invol_type):\n\u001b[1;32m    341\u001b[0m     \u001b[38;5;28;01massert\u001b[39;00m invol_type \u001b[38;5;241m==\u001b[39m \u001b[38;5;124m\"\u001b[39m\u001b[38;5;124mBDI\u001b[39m\u001b[38;5;124m\"\u001b[39m\n\u001b[0;32m--> 342\u001b[0m     \u001b[38;5;28;01massert\u001b[39;00m \u001b[38;5;28mlen\u001b[39m(mapping) \u001b[38;5;241m==\u001b[39m (n\u001b[38;5;241m*\u001b[39m\u001b[38;5;241m*\u001b[39m\u001b[38;5;241m2\u001b[39m \u001b[38;5;241m-\u001b[39m n) \u001b[38;5;241m/\u001b[39m\u001b[38;5;241m/\u001b[39m \u001b[38;5;241m2\u001b[39m\n\u001b[1;32m    343\u001b[0m     signs \u001b[38;5;241m=\u001b[39m {(\u001b[38;5;241m0\u001b[39m, i): \u001b[38;5;241m1\u001b[39m \u001b[38;5;28;01mfor\u001b[39;00m i \u001b[38;5;129;01min\u001b[39;00m \u001b[38;5;28mrange\u001b[39m(\u001b[38;5;241m1\u001b[39m, n)}\n\u001b[1;32m    344\u001b[0m     signs[(\u001b[38;5;241m0\u001b[39m, n \u001b[38;5;241m/\u001b[39m\u001b[38;5;241m/\u001b[39m \u001b[38;5;241m2\u001b[39m)] \u001b[38;5;241m=\u001b[39m \u001b[38;5;241m-\u001b[39m\u001b[38;5;241m1\u001b[39m\n",
      "\u001b[0;31mAssertionError\u001b[0m: "
     ]
    }
   ],
   "source": [
    "mapping, signs = map_simple_to_irrep(algebra, horizontal_ops=generators, n=n_so, invol_type=\"BDI\")\n",
    "mapping = make_so_2n_full_mapping(n)\n",
    "signs = make_signs(mapping, n=n_so, invol_type=\"BDI\")"
   ]
  },
  {
   "cell_type": "markdown",
   "id": "ba1150a5-03b6-465f-af13-e338374b715b",
   "metadata": {},
   "source": [
    "This mapping can now be used to create dense matrices in the irreducible representation:"
   ]
  },
  {
   "cell_type": "code",
   "execution_count": null,
   "id": "c47d9f2c-5cca-462d-87df-fe1e1f7d0c6a",
   "metadata": {
    "execution": {
     "iopub.status.busy": "2025-03-25T13:18:02.090425Z",
     "iopub.status.idle": "2025-03-25T13:18:02.090560Z",
     "shell.execute_reply": "2025-03-25T13:18:02.090497Z",
     "shell.execute_reply.started": "2025-03-25T13:18:02.090491Z"
    }
   },
   "outputs": [],
   "source": [
    "matrix_map = map_irrep_to_matrices(mapping, signs, n_so, invol_type=\"BDI\")\n",
    "terms_irrep = np.stack([matrix_map[gen] for gen in algebra])\n"
   ]
  },
  {
   "cell_type": "code",
   "execution_count": null,
   "id": "043c2c8d-b2c4-4f29-97ee-9e8a4136e012",
   "metadata": {
    "execution": {
     "iopub.status.busy": "2025-03-25T13:18:02.091516Z",
     "iopub.status.idle": "2025-03-25T13:18:02.091739Z",
     "shell.execute_reply": "2025-03-25T13:18:02.091669Z",
     "shell.execute_reply.started": "2025-03-25T13:18:02.091662Z"
    }
   },
   "outputs": [],
   "source": [
    "\n",
    "def tau(x, n):\n",
    "    if isinstance(x, qml.pauli.PauliSentence):\n",
    "        return qml.pauli.PauliSentence({tau(pw, n): val for pw, val in x.items()})\n",
    "    assert isinstance(x, qml.pauli.PauliWord), f\"{type(x)}\"\n",
    "    return qml.pauli.PauliWord({n-1-w: pauli for w, pauli in x.items()})\n",
    "\n",
    "J = np.eye(n_so)[::-1]\n",
    "Z_0 = np.diag(np.concatenate([np.ones(n), -np.ones(n)]))\n",
    "\n",
    "def tau_bar(x):\n",
    "    return Z_0 @ J @ x @ J @ Z_0\n",
    "\n",
    "def to_mat(x):\n",
    "    return sum([matrix_map[pw] * val / 1j for pw, val in x.pauli_rep.items()])"
   ]
  },
  {
   "cell_type": "code",
   "execution_count": null,
   "id": "d89cf035-4db4-410f-97bf-184daea0bf4a",
   "metadata": {
    "execution": {
     "iopub.status.busy": "2025-03-25T13:18:02.092322Z",
     "iopub.status.idle": "2025-03-25T13:18:02.092484Z",
     "shell.execute_reply": "2025-03-25T13:18:02.092415Z",
     "shell.execute_reply.started": "2025-03-25T13:18:02.092407Z"
    }
   },
   "outputs": [],
   "source": [
    "coeffs1, coeffs2 = np.random.random((2, len(algebra)))\n",
    "rep_op1 = qml.dot(1j * coeffs1, algebra).pauli_rep\n",
    "rep_op2 = qml.dot(1j * coeffs2, algebra).pauli_rep\n",
    "\n",
    "A = to_mat(qml.commutator(tau(rep_op1, n), tau(rep_op2, n)))\n",
    "B = to_mat(tau(qml.commutator(rep_op1, rep_op2).pauli_rep, n))\n",
    "print(\"A, B\", np.allclose(A, B))\n",
    "rep_com = qml.commutator(rep_op1, rep_op2)\n",
    "irrep_com_from_rep = to_mat(rep_com)\n",
    "\n",
    "irrep_op1 = np.tensordot(coeffs1, terms_irrep, axes=[[0], [0]])\n",
    "irrep_op2 = np.tensordot(coeffs2, terms_irrep, axes=[[0], [0]])\n",
    "C = tau_bar(irrep_op1) @ tau_bar(irrep_op2) - tau_bar(irrep_op2) @ tau_bar(irrep_op1)\n",
    "print(\"A, C\", np.allclose(A, C))\n",
    "print(\"B, C\", np.allclose(B, C))\n",
    "D = tau_bar(irrep_op1 @ irrep_op2 - irrep_op2 @ irrep_op1)\n",
    "print(\"A, D\", np.allclose(A, D))\n",
    "print(\"B, D\", np.allclose(B, D))\n",
    "print(\"C, D\", np.allclose(C, D))\n",
    "\n",
    "irrep_com = irrep_op1 @ irrep_op2 - irrep_op2 @ irrep_op1\n",
    "# print(irrep_com_from_rep)\n",
    "# print(irrep_com)\n",
    "print(np.allclose(irrep_com, irrep_com_from_rep))"
   ]
  },
  {
   "cell_type": "code",
   "execution_count": null,
   "id": "422a2e8e-65e7-4560-8c35-3bc259898b8e",
   "metadata": {},
   "outputs": [],
   "source": []
  },
  {
   "cell_type": "code",
   "execution_count": null,
   "id": "17117e2b-4ffb-4815-9410-f78efda25ede",
   "metadata": {
    "execution": {
     "iopub.status.busy": "2025-03-25T13:18:02.093040Z",
     "iopub.status.idle": "2025-03-25T13:18:02.093172Z",
     "shell.execute_reply": "2025-03-25T13:18:02.093112Z",
     "shell.execute_reply.started": "2025-03-25T13:18:02.093105Z"
    }
   },
   "outputs": [],
   "source": [
    "# from pennylane.labs.dla import structure_constants_dense\n",
    "# adj_dense = structure_constants_dense([matrix_map[op]/1j for op in algebra], is_orthonormal=False)\n",
    "# adj = qml.pauli.dla.structure_constants(algebra, pauli=True)\n",
    "# print(np.allclose(np.abs(adj), np.abs(adj_dense)))\n",
    "# print(np.allclose(np.sign(adj), np.sign(adj_dense)))\n",
    "# print(np.allclose(adj, adj_dense))\n",
    "# print(np.unique(adj_dense), np.unique(adj))"
   ]
  },
  {
   "cell_type": "markdown",
   "id": "020c0134-40e6-470c-8eb9-f896f229e0a7",
   "metadata": {},
   "source": [
    "Now we can map individual Pauli operators to basis elements $F_{ij}$ in a homomorphic manner:"
   ]
  },
  {
   "cell_type": "code",
   "execution_count": null,
   "id": "59a73fbe-972b-44c3-ab27-8791ec159037",
   "metadata": {
    "execution": {
     "iopub.status.busy": "2025-03-25T13:18:02.093583Z",
     "iopub.status.idle": "2025-03-25T13:18:02.093705Z",
     "shell.execute_reply": "2025-03-25T13:18:02.093648Z",
     "shell.execute_reply.started": "2025-03-25T13:18:02.093642Z"
    }
   },
   "outputs": [],
   "source": [
    "op1, op2 = algebra[0], algebra[n]\n",
    "# Compute operator commutator, taking imaginary unit into account\n",
    "ops_com = (qml.commutator(1j * op1, 1j * op2) / 1j).pauli_rep\n",
    "# Make sure the commutator really is just a rescaled Pauli word\n",
    "assert len(ops_com) == 1\n",
    "# Extract Pauli word and scalar prefactor from operator commutator\n",
    "[(ops_com_pw, ops_com_prefactor)] = ops_com.items()\n",
    "# Map the Pauli word to irreducible basis element and include scalar prefactor\n",
    "commutator_from_ops = matrix_map[ops_com_pw] * ops_com_prefactor\n",
    "\n",
    "# Map the original operators to matrices directly and compute the matrix commutator\n",
    "mat1, mat2 = matrix_map[op1], matrix_map[op2]\n",
    "commutator_from_mats = mat1 @ mat2 - mat2 @ mat1\n",
    "\n",
    "# Check whether the commutators agree\n",
    "print(np.allclose(commutator_from_ops, commutator_from_mats))"
   ]
  },
  {
   "cell_type": "code",
   "execution_count": null,
   "id": "08f206cd-e079-4ef8-9229-12fea863aaeb",
   "metadata": {
    "execution": {
     "iopub.status.busy": "2025-03-25T13:18:02.094079Z",
     "iopub.status.idle": "2025-03-25T13:18:02.094199Z",
     "shell.execute_reply": "2025-03-25T13:18:02.094143Z",
     "shell.execute_reply.started": "2025-03-25T13:18:02.094137Z"
    }
   },
   "outputs": [],
   "source": [
    "# signs\n",
    "# mat = np.ones((n_so, n_so)) - np.diag(np.ones(n_so))\n",
    "# for (i, j), val in signs.items():\n",
    "#     mat[i, j] = val\n",
    "# mat"
   ]
  },
  {
   "cell_type": "markdown",
   "id": "51994db1-e9d8-40a3-b09d-d39232e37dab",
   "metadata": {},
   "source": [
    "Here we had to take into account that we store Pauli words in `algebra` but mathematically, the algebra consists of Pauli words multiplied\n",
    "by the imaginary unit.\n",
    "\n",
    "Next, we can construct the Hamiltonian operator in the irreducible representation. For this, we map the Hamiltonian generators to matrices and\n",
    "combine them with coefficients $\\alpha$, $\\beta$, $\\gamma$."
   ]
  },
  {
   "cell_type": "code",
   "execution_count": null,
   "id": "8d1fc5df-90a9-4f04-9998-b52e4d5e4e0a",
   "metadata": {
    "execution": {
     "iopub.status.busy": "2025-03-25T13:18:02.094441Z",
     "iopub.status.idle": "2025-03-25T13:18:02.094559Z",
     "shell.execute_reply": "2025-03-25T13:18:02.094505Z",
     "shell.execute_reply.started": "2025-03-25T13:18:02.094499Z"
    }
   },
   "outputs": [],
   "source": [
    "alphas = np.random.normal(0.6, 1., size=n-1)\n",
    "betas = np.random.normal(0.3, 1.2, size=n-1)\n",
    "gammas = np.random.normal(0.8, 1., size=n)\n",
    "coeffs = np.concatenate([alphas, betas, gammas])\n",
    "# coeffs = np.eye(3*n-2)[0] * 1e-2\n",
    "print(coeffs)\n",
    "H = qml.dot(coeffs, generators)\n",
    "terms_irrep = np.stack([matrix_map[gen] for gen in generators])\n",
    "H_irrep = np.tensordot(coeffs, terms_irrep, axes=[[0], [0]])\n",
    "assert np.allclose(H_irrep.imag, 0.)\n",
    "H_irrep = H_irrep.real\n",
    "print(np.round(H_irrep, 5))"
   ]
  },
  {
   "cell_type": "markdown",
   "id": "fe59ce7d-40ee-492f-84ff-d967c0378811",
   "metadata": {},
   "source": [
    "Now we can move on to the KAK decomposition. For this we create an \"exemplary\" time evolution operator\n",
    "$\\exp(-itH)$ with, say, $t=1$. Note that we will not have to include the imaginary unit here, because the implemented matrix is an _algebra_ element, so that `H_irrep` already corresponds to $iH$. As we are moving in the irreducible representation of $\\mathfrak{so}(2n)=\\mathfrak{so}(32)$ here, `H_irrep` and the time evolution operator are just real $32 \\times 32$ matrices."
   ]
  },
  {
   "cell_type": "code",
   "execution_count": null,
   "id": "59d92406-4d66-4527-9d95-ac7c60e953f7",
   "metadata": {
    "execution": {
     "iopub.status.busy": "2025-03-25T13:18:02.095487Z",
     "iopub.status.idle": "2025-03-25T13:18:02.095778Z",
     "shell.execute_reply": "2025-03-25T13:18:02.095645Z",
     "shell.execute_reply.started": "2025-03-25T13:18:02.095632Z"
    }
   },
   "outputs": [],
   "source": [
    "time = 0.01\n",
    "U = expm(time * H_irrep)\n",
    "print(U.shape, n_so)"
   ]
  },
  {
   "cell_type": "markdown",
   "id": "ef3c7970-c913-4c27-ae16-ff5358cdf5d3",
   "metadata": {},
   "source": [
    "Then we apply our recursive BDI KAK decomposition to the time evolution operator, which will decompose the vertical operators in each step until we arrive at matrices of the form\n",
    "\n",
    "$\n",
    "\\left(\\begin{array}{cccc}\n",
    "    \\cos(a) & -\\sin(a) & 0 & 0 \\\\\n",
    "    \\sin(a) & \\cos(a) & 0 & 0 \\\\\n",
    "    0 & 0 & \\cos(b) & -\\sin(b) \\\\\n",
    "    0 & 0 & \\sin(b) & \\cos(b)\n",
    "\\end{array}\\right),\n",
    "$\n",
    "\n",
    "corresponding to the operation $\\exp(-i(aP_1+bP_2))$ where $P_1$ ($P_2$)is the Pauli word mapped to the basis element $F_{ij}$ matching the entry $-\\sin(a)$ ($-\\sin(b)$) in the matrix above. In particular, because those basis elements commute, $P_1$ and $P_2$ will, too, allowing us to pull the exponential apart into individual Pauli rotations, $\\exp(-iaP_1)\\exp(-ibP_2)$."
   ]
  },
  {
   "cell_type": "code",
   "execution_count": null,
   "id": "ea3e58be-b2ea-4358-8e29-7fc920e05716",
   "metadata": {
    "execution": {
     "iopub.status.busy": "2025-03-25T13:18:02.096162Z",
     "iopub.status.idle": "2025-03-25T13:18:02.096302Z",
     "shell.execute_reply": "2025-03-25T13:18:02.096240Z",
     "shell.execute_reply.started": "2025-03-25T13:18:02.096234Z"
    }
   },
   "outputs": [],
   "source": [
    "recursive_decomp = recursive_bdi(U, n_so)\n",
    "num_iter = max(recursive_decomp.keys())"
   ]
  },
  {
   "cell_type": "code",
   "execution_count": null,
   "id": "0d638585-fdf1-4ee3-a91d-3e2bc55a35bf",
   "metadata": {
    "execution": {
     "iopub.status.busy": "2025-03-25T13:18:02.097282Z",
     "iopub.status.idle": "2025-03-25T13:18:02.097787Z",
     "shell.execute_reply": "2025-03-25T13:18:02.097663Z",
     "shell.execute_reply.started": "2025-03-25T13:18:02.097651Z"
    }
   },
   "outputs": [],
   "source": [
    "angles = []\n",
    "for mat, s, e, t in recursive_decomp[num_iter]:\n",
    "    if t == \"a0\":\n",
    "        assert len(angles) == 0\n",
    "        for i, j in zip(*np.where(mat)):\n",
    "            if i < j:\n",
    "                assert np.sign(mat[i, i]) > 0. \n",
    "                assert np.sign(mat[j, j]) > 0. \n",
    "                angles.append(np.arcsin(mat[i, j]) / 2)\n",
    "min_eigval = -np.sum(np.abs(angles)) / time"
   ]
  },
  {
   "cell_type": "code",
   "execution_count": null,
   "id": "760770a4-a921-433d-b53b-8ce4232b8b7c",
   "metadata": {
    "execution": {
     "iopub.status.busy": "2025-03-25T13:18:02.098258Z",
     "iopub.status.idle": "2025-03-25T13:18:02.098604Z",
     "shell.execute_reply": "2025-03-25T13:18:02.098496Z",
     "shell.execute_reply.started": "2025-03-25T13:18:02.098485Z"
    }
   },
   "outputs": [],
   "source": [
    "print(min_eigval)\n",
    "print(qml.eigvals(H))"
   ]
  },
  {
   "cell_type": "markdown",
   "id": "0021e53a-2cb3-4d46-8645-6df1465e355b",
   "metadata": {},
   "source": [
    "To arrive at a circuit that can be implemented in terms of Pauli rotation, we need to map back to the reducible representation.\n",
    "This is done by the following function:"
   ]
  },
  {
   "cell_type": "code",
   "execution_count": null,
   "id": "9398e0dc-2f31-42fe-96f1-b5b803cb0f34",
   "metadata": {
    "execution": {
     "iopub.status.busy": "2025-03-25T13:18:02.099112Z",
     "iopub.status.idle": "2025-03-25T13:18:02.099526Z",
     "shell.execute_reply": "2025-03-25T13:18:02.099413Z",
     "shell.execute_reply.started": "2025-03-25T13:18:02.099401Z"
    },
    "scrolled": true
   },
   "outputs": [],
   "source": [
    "pauli_decomp = map_recursive_decomp_to_reducible(recursive_decomp, mapping, signs, \"BDI\", time=time, assertions=True)"
   ]
  },
  {
   "cell_type": "code",
   "execution_count": null,
   "id": "e3c6e74d-a9be-4629-9406-eae38e0b8c3c",
   "metadata": {
    "execution": {
     "iopub.status.busy": "2025-03-25T13:18:02.099929Z",
     "iopub.status.idle": "2025-03-25T13:18:02.100519Z",
     "shell.execute_reply": "2025-03-25T13:18:02.100398Z",
     "shell.execute_reply.started": "2025-03-25T13:18:02.100386Z"
    }
   },
   "outputs": [],
   "source": [
    "np.cos(3.307582192828685*2)"
   ]
  },
  {
   "cell_type": "code",
   "execution_count": null,
   "id": "4fc65fdc-f06f-46d0-a85b-75d068ffbd13",
   "metadata": {
    "execution": {
     "iopub.status.busy": "2025-03-25T13:18:02.101036Z",
     "iopub.status.idle": "2025-03-25T13:18:02.101337Z",
     "shell.execute_reply": "2025-03-25T13:18:02.101237Z",
     "shell.execute_reply.started": "2025-03-25T13:18:02.101227Z"
    }
   },
   "outputs": [],
   "source": [
    "def all_commuting(pws1, pws2):\n",
    "    for pw1, pw2 in product(pws1, pws2):\n",
    "        if not pw1.commutes_with(pw2):\n",
    "            return False\n",
    "    return True\n",
    "\n",
    "pws_from_pauli_decomp = [pw for pw, *_ in pauli_decomp]\n",
    "assert all_commuting(pws_from_pauli_decomp[:6], pws_from_pauli_decomp[6:12])\n",
    "assert all_commuting(pws_from_pauli_decomp[12:16], pws_from_pauli_decomp[12:16])\n",
    "assert all_commuting(pws_from_pauli_decomp[16:22], pws_from_pauli_decomp[22:28])     \n",
    "        "
   ]
  },
  {
   "cell_type": "code",
   "execution_count": null,
   "id": "28e856a5-83fe-4a38-961a-2b1001207616",
   "metadata": {
    "execution": {
     "iopub.status.busy": "2025-03-25T13:18:02.101806Z",
     "iopub.status.idle": "2025-03-25T13:18:02.102138Z",
     "shell.execute_reply": "2025-03-25T13:18:02.102019Z",
     "shell.execute_reply.started": "2025-03-25T13:18:02.102003Z"
    },
    "scrolled": true
   },
   "outputs": [],
   "source": [
    "postproc = []\n",
    "for pauli_word, coeff, t in pauli_decomp:\n",
    "    assert np.isclose(coeff.imag, 0.), f\"{coeff}\"\n",
    "    postproc.append((coeff.real, qml.pauli.pauli_word_to_string(pauli_word), pauli_word.wires, t))\n",
    "    # print(pauli_word, qml.pauli.pauli_word_to_string(pauli_word), pauli_word.wires)\n",
    "print(*postproc, sep=\"\\n\")"
   ]
  },
  {
   "cell_type": "code",
   "execution_count": null,
   "id": "0b808bce-4624-41ee-acb4-d9bb38623e68",
   "metadata": {
    "execution": {
     "iopub.status.busy": "2025-03-25T13:18:02.102545Z",
     "iopub.status.idle": "2025-03-25T13:18:02.102804Z",
     "shell.execute_reply": "2025-03-25T13:18:02.102705Z",
     "shell.execute_reply.started": "2025-03-25T13:18:02.102696Z"
    },
    "scrolled": true
   },
   "outputs": [],
   "source": [
    "print(*recursive_decomp[0], sep=\"\\n\")"
   ]
  },
  {
   "cell_type": "code",
   "execution_count": null,
   "id": "3c249ff8-281c-43fb-b866-fc65a045950d",
   "metadata": {
    "execution": {
     "iopub.status.busy": "2025-03-25T13:18:02.103291Z",
     "iopub.status.idle": "2025-03-25T13:18:02.103493Z",
     "shell.execute_reply": "2025-03-25T13:18:02.103396Z",
     "shell.execute_reply.started": "2025-03-25T13:18:02.103387Z"
    }
   },
   "outputs": [],
   "source": [
    "len(postproc)"
   ]
  },
  {
   "cell_type": "code",
   "execution_count": null,
   "id": "870258c3-a2fc-407a-a216-2075eb8bc78f",
   "metadata": {
    "execution": {
     "iopub.status.busy": "2025-03-25T13:18:02.104035Z",
     "iopub.status.idle": "2025-03-25T13:18:02.104257Z",
     "shell.execute_reply": "2025-03-25T13:18:02.104156Z",
     "shell.execute_reply.started": "2025-03-25T13:18:02.104147Z"
    },
    "scrolled": true
   },
   "outputs": [],
   "source": [
    "if n == 2:\n",
    "    assert len(postproc) == len(pauli_decomp) == 6\n",
    "    splits = [2, 4, 6]\n",
    "elif n== 4:\n",
    "    assert len(postproc) == len(pauli_decomp) == 28\n",
    "    splits = [12, 16, 28]\n",
    "elif n== 8:\n",
    "    assert len(postproc) == len(pauli_decomp) == 120\n",
    "    splits = [56, 64, 120]\n",
    "\n",
    "K_1 = np.eye(2**n, dtype=\"complex\")\n",
    "for coeff, pauli_str, wires, t in postproc[:splits[0]]:\n",
    "    assert t in \"ak\"\n",
    "    K_1 = K_1 @ qml.matrix(qml.PauliRot(-2 * coeff, pauli_word=pauli_str, wires=wires), wire_order=range(n))\n",
    "    print(\"\".join([pauli_str[wires.index(w)] if w in wires else \"I\" for w in range(n)]))\n",
    "\n",
    "K_2 = np.eye(2**n, dtype=\"complex\")\n",
    "for coeff, pauli_str, wires, t in postproc[splits[1]:splits[2]]:\n",
    "    assert t in \"ak\"\n",
    "    K_2 = K_2 @ qml.matrix(qml.PauliRot(-2 * coeff, pauli_word=pauli_str, wires=wires), wire_order=range(n))\n",
    "\n",
    "a = 0\n",
    "a_irrep = 0\n",
    "for pauli_word, coeff, t in pauli_decomp[splits[0]:splits[1]]:\n",
    "    assert t==\"a0\"\n",
    "    a = a + pauli_word * coeff\n",
    "    a_irrep = a_irrep + matrix_map[pauli_word] * coeff\n",
    "\n",
    "\n",
    "U_rec = np.eye(2*n)\n",
    "        \n",
    "for pauli_word, coeff, t in pauli_decomp:\n",
    "    print(pauli_word, coeff, t)\n",
    "    T = time if t==\"a0\" else 1.\n",
    "    print(expm(matrix_map[pauli_word] * coeff * T))\n",
    "    U_rec = U_rec @ expm(matrix_map[pauli_word] * coeff * T)\n",
    "\n",
    "for th in recursive_decomp[0]:\n",
    "    print(th)\n",
    "\n",
    "assert np.allclose(expm(time * H_irrep), U_rec)\n",
    "\n",
    "a_mat = qml.matrix(a, wire_order=range(n))\n",
    "H_mat = qml.matrix(H, wire_order=range(n))\n",
    "a_eigvals = qml.eigvals(a.operation())\n",
    "H_eigvals = qml.eigvals(H)\n",
    "# print(np.exp(1j * a_eigvals), np.exp(1j * H_eigvals))\n",
    "print((a_eigvals, H_eigvals))\n",
    "# print(a_eigvals[1]-a_eigvals[0])\n",
    "# print(H_eigvals[1]-H_eigvals[0])\n",
    "# print(a_eigvals[0]-H_eigvals[0])\n",
    "assert np.allclose(a_eigvals, H_eigvals)\n",
    "\n",
    "\n",
    "A = np.eye(2**n, dtype=\"complex\")\n",
    "for coeff, pauli_str, wires, t in postproc[splits[0]:splits[1]]:\n",
    "    assert t == \"a0\"\n",
    "    A = A @ qml.matrix(qml.PauliRot(-2 * coeff, pauli_word=pauli_str, wires=wires), wire_order=range(n))\n",
    "    print(\"\".join([pauli_str[wires.index(w)] if w in wires else \"I\" for w in range(n)]))\n",
    "\n",
    "assert np.allclose(expm(1j * a_mat), A)\n",
    "assert np.allclose(K_1 @ K_1.conj().T, np.eye(2**n))\n",
    "assert np.allclose(K_2 @ K_2.conj().T, np.eye(2**n))\n",
    "print(np.allclose(K_1, K_2.conj().T), np.allclose(K_1, K_2))\n",
    "assert np.allclose(recursive_decomp[0][0][0], recursive_decomp[0][2][0].T)\n",
    "assert np.allclose(recursive_decomp[0][0][0] @ recursive_decomp[0][1][0] @ recursive_decomp[0][2][0], U)\n",
    "# assert np.allclose(np.linalg.multi_dot([entry[0] for entry in recursive_decomp[1][:6]]), recursive_decomp[0][0][0])\n",
    "# assert np.allclose(recursive_decomp[1][6][0], recursive_decomp[0][1][0])\n",
    "# assert np.allclose(np.linalg.multi_dot([entry[0] for entry in recursive_decomp[1][7:13]]), recursive_decomp[0][2][0])\n",
    "for _iter in range(max(recursive_decomp.keys())):\n",
    "    assert all(entry[0].shape==(n_so, n_so) for entry in recursive_decomp[_iter])\n",
    "\n",
    "H_from_H_irrep = map_matrix_to_reducible(H_irrep, mapping, signs, \"BDI\")\n",
    "assert np.allclose(qml.matrix(H_from_H_irrep, wire_order=range(n)), H_mat)\n",
    "print(np.allclose(recursive_decomp[0][0][0] @ a_irrep @ recursive_decomp[0][2][0], H_irrep))\n",
    "print(np.allclose(K_1 @ a_mat @ K_2, H_mat))\n",
    "print(np.round(K_1 @ a_mat @ K_2, 5))\n",
    "print(np.round(H_mat, 5))\n",
    "print(np.allclose(K_1 @ a_mat @ K_1.conj().T, H_mat))"
   ]
  },
  {
   "cell_type": "code",
   "execution_count": null,
   "id": "134d9bbf-cb61-481d-83cb-39ce24a43242",
   "metadata": {
    "execution": {
     "iopub.status.busy": "2025-03-25T13:18:02.104640Z",
     "iopub.status.idle": "2025-03-25T13:18:02.104828Z",
     "shell.execute_reply": "2025-03-25T13:18:02.104737Z",
     "shell.execute_reply.started": "2025-03-25T13:18:02.104728Z"
    },
    "scrolled": true
   },
   "outputs": [],
   "source": [
    "print(np.round(K_1, 4))\n",
    "print(np.round(K_2, 4))\n",
    "print()\n",
    "print(recursive_decomp[0][0][0])\n",
    "print(recursive_decomp[0][2][0])"
   ]
  },
  {
   "cell_type": "code",
   "execution_count": null,
   "id": "5864d9c8-fe22-4f6c-908f-fba809bb3108",
   "metadata": {},
   "outputs": [],
   "source": []
  },
  {
   "cell_type": "markdown",
   "id": "de75dee6-a3ad-4299-b3f4-fc08b0bc0d4b",
   "metadata": {},
   "source": [
    "With this decomposition in our hands, we can construct a circuit implementing the time evolution operator. For\n",
    "this we implement a convenience function that maps from our Pauli word output to `PauliRot` gates.\n",
    "It also takes into account that for a flexible-time evolution operator $\\exp(-itH)$ with $t$ other than $1$, the central\n",
    "CSA element needs to be rescaled by $t$."
   ]
  },
  {
   "cell_type": "code",
   "execution_count": null,
   "id": "915ee65b-b589-4322-853c-3c7141cab3a7",
   "metadata": {
    "execution": {
     "iopub.status.busy": "2025-03-25T13:18:02.105301Z",
     "iopub.status.idle": "2025-03-25T13:18:02.105861Z",
     "shell.execute_reply": "2025-03-25T13:18:02.105738Z",
     "shell.execute_reply.started": "2025-03-25T13:18:02.105725Z"
    }
   },
   "outputs": [],
   "source": [
    "def pauli_rot(coeff, pauli_str, wires, t, time):\n",
    "    if t == \"a0\":\n",
    "        coeff = coeff * time\n",
    "    qml.PauliRot(-2 * coeff, pauli_word=pauli_str, wires=wires)"
   ]
  },
  {
   "cell_type": "code",
   "execution_count": null,
   "id": "c323e295-113c-436d-b474-75afddf646a5",
   "metadata": {
    "execution": {
     "iopub.status.busy": "2025-03-25T13:18:02.106367Z",
     "iopub.status.idle": "2025-03-25T13:18:02.106681Z",
     "shell.execute_reply": "2025-03-25T13:18:02.106579Z",
     "shell.execute_reply.started": "2025-03-25T13:18:02.106569Z"
    }
   },
   "outputs": [],
   "source": [
    "def time_evolution(time):\n",
    "    for pauli_term in postproc[::-1]:\n",
    "        pauli_rot(*pauli_term, time)\n",
    "\n",
    "obs = Z(0)\n",
    "dev = qml.device(\"lightning.qubit\", wires=n)\n",
    "dev_def = qml.device(\"default.qubit\", wires=n)\n",
    "\n",
    "@qml.qnode(dev, grad_on_execution=False)\n",
    "def kak_circuit(time):\n",
    "    qml.X(0)\n",
    "    time_evolution(-time)\n",
    "    return qml.expval(obs)\n",
    "\n",
    "H_red = qml.dot(coeffs, generators)\n",
    "H_red_ps = H_red.pauli_rep\n",
    "H_red_ps.simplify()\n",
    "H_red_rec = map_matrix_to_reducible(H_irrep, mapping, signs, \"BDI\")\n",
    "H_red_rec.simplify()\n",
    "assert set(H_red_ps) == set(H_red_rec)\n",
    "for k in H_red_ps:\n",
    "    assert np.isclose(H_red_ps[k], H_red_rec[k])\n",
    "\n",
    "from pennylane.devices.default_qubit import stopping_condition as sc_def\n",
    "\n",
    "def stopping_condition(obj):\n",
    "    return sc_def(obj) and not isinstance(obj, qml.ops.Exp)\n",
    "\n",
    "@partial(qml.devices.preprocess.decompose, stopping_condition=stopping_condition)\n",
    "@qml.qnode(dev, grad_on_execution=False)\n",
    "def trotter_circuit(time, num_steps):\n",
    "    qml.X(0)\n",
    "    qml.exp(-1j * time * H_red, num_steps=num_steps)\n",
    "    return qml.expval(obs)\n",
    "\n",
    "@qml.qnode(dev_def, interface=\"jax\", grad_on_execution=False)\n",
    "def exact_circuit(time):\n",
    "    qml.X(0)\n",
    "    qml.exp(-1j * time * H_red)\n",
    "    return qml.expval(obs)"
   ]
  },
  {
   "cell_type": "code",
   "execution_count": null,
   "id": "a65e15ff-83ab-48eb-b8b8-0b2e7fbd731f",
   "metadata": {},
   "outputs": [],
   "source": []
  },
  {
   "cell_type": "code",
   "execution_count": null,
   "id": "f3f0b184-ab24-47a2-8e70-a35d40480d1e",
   "metadata": {
    "execution": {
     "iopub.status.busy": "2025-03-25T13:18:02.107094Z",
     "iopub.status.idle": "2025-03-25T13:18:02.107362Z",
     "shell.execute_reply": "2025-03-25T13:18:02.107255Z",
     "shell.execute_reply.started": "2025-03-25T13:18:02.107245Z"
    }
   },
   "outputs": [],
   "source": [
    "times = np.linspace(0, 1, 200)\n",
    "all_num_steps = [2, 5, 10, 20, 100]\n",
    "kak_out = jax.vmap(kak_circuit, in_axes=0)(times)"
   ]
  },
  {
   "cell_type": "code",
   "execution_count": null,
   "id": "9384ee27-6d77-4186-bcf1-841e92684875",
   "metadata": {
    "execution": {
     "iopub.status.busy": "2025-03-25T13:18:02.107822Z",
     "iopub.status.idle": "2025-03-25T13:18:02.108162Z",
     "shell.execute_reply": "2025-03-25T13:18:02.108047Z",
     "shell.execute_reply.started": "2025-03-25T13:18:02.108036Z"
    }
   },
   "outputs": [],
   "source": [
    "exact_out = jax.vmap(exact_circuit, in_axes=0)(times)"
   ]
  },
  {
   "cell_type": "code",
   "execution_count": null,
   "id": "eab69e41-3c32-4373-abfe-d3667c0787b4",
   "metadata": {
    "execution": {
     "iopub.status.busy": "2025-03-25T13:18:02.108592Z",
     "iopub.status.idle": "2025-03-25T13:18:02.108908Z",
     "shell.execute_reply": "2025-03-25T13:18:02.108808Z",
     "shell.execute_reply.started": "2025-03-25T13:18:02.108798Z"
    }
   },
   "outputs": [],
   "source": [
    "trotter_out = [\n",
    "    jax.vmap(partial(trotter_circuit, num_steps=ns), in_axes=0)(times)\n",
    "    for ns in all_num_steps\n",
    "]"
   ]
  },
  {
   "cell_type": "code",
   "execution_count": null,
   "id": "5a8538c1-53f0-4e36-b934-1775efc6c2e5",
   "metadata": {
    "execution": {
     "iopub.status.busy": "2025-03-25T13:18:02.109321Z",
     "iopub.status.idle": "2025-03-25T13:18:02.109576Z",
     "shell.execute_reply": "2025-03-25T13:18:02.109476Z",
     "shell.execute_reply.started": "2025-03-25T13:18:02.109466Z"
    }
   },
   "outputs": [],
   "source": [
    "fig, axs = plt.subplots(2, 1)\n",
    "ax = axs[0]\n",
    "ax.plot(times, kak_out, label=\"KAK decomposition\", color=\"xkcd:spring green\")\n",
    "ax.plot(times, exact_out, label=\"Exact\", color=\"xkcd:brick red\", ls=\":\")\n",
    "for ns, out in zip(all_num_steps, trotter_out):\n",
    "    ax.plot(times, out, label=f\"Trotter ({ns} steps)\", ls=\"--\")\n",
    "ax.legend()\n",
    "ax.set_ylabel(\"$\\\\langle X_0Y_1\\\\rangle$\")\n",
    "ax.set_xlabel(\"Time\")\n",
    "\n",
    "ax = axs[1]\n",
    "ax.plot(times, np.abs(kak_out-exact_out), label=\"KAK decomposition\", color=\"xkcd:spring green\")\n",
    "for ns, out in zip(all_num_steps, trotter_out):\n",
    "    ax.plot(times, np.abs(out-exact_out), label=f\"Trotter ({ns} steps)\", ls=\"--\")\n",
    "ax.legend()\n",
    "ax.set_yscale(\"log\")\n",
    "ax.set_ylabel(\"Error in $\\\\langle X_0Y_1\\\\rangle$\")\n",
    "ax.set_xlabel(\"Time\");\n"
   ]
  },
  {
   "cell_type": "code",
   "execution_count": null,
   "id": "ead12b72-22b1-4d3a-a743-dbccb2ad28fb",
   "metadata": {
    "execution": {
     "iopub.status.busy": "2025-03-25T13:18:02.110015Z",
     "iopub.status.idle": "2025-03-25T13:18:02.110279Z",
     "shell.execute_reply": "2025-03-25T13:18:02.110178Z",
     "shell.execute_reply.started": "2025-03-25T13:18:02.110167Z"
    }
   },
   "outputs": [],
   "source": [
    "def get_paulirot_count(qnode):\n",
    "    var_types = {\"PauliRot\", \"IsingXX\", \"IsingYY\", \"RZ\"}\n",
    "    def wrapper(*args, **kwargs):\n",
    "        specs = qml.specs(qnode)(*args, **kwargs)\n",
    "        gate_count = specs['resources'].num_gates\n",
    "        gate_types = specs['resources'].gate_types\n",
    "        assert set(gate_types).issubset(var_types | {\"PauliX\"}), f\"{gate_types}\"\n",
    "        assert gate_types[\"PauliX\"] == 1\n",
    "        var_gate_count = 0\n",
    "        for t in var_types:\n",
    "            var_gate_count += gate_types.get(t, 0) \n",
    "        assert gate_count == var_gate_count + 1\n",
    "        return var_gate_count\n",
    "    return wrapper\n",
    "\n",
    "print(get_paulirot_count(kak_circuit)(times[-1]))\n",
    "for ns in all_num_steps:\n",
    "    print(get_paulirot_count(trotter_circuit)(times[-1], num_steps=ns))"
   ]
  },
  {
   "cell_type": "code",
   "execution_count": null,
   "id": "ba4082ee-5579-4a55-9ce5-9ca179fae141",
   "metadata": {
    "execution": {
     "iopub.status.busy": "2025-03-25T13:18:02.110775Z",
     "iopub.status.idle": "2025-03-25T13:18:02.111150Z",
     "shell.execute_reply": "2025-03-25T13:18:02.111022Z",
     "shell.execute_reply.started": "2025-03-25T13:18:02.111005Z"
    }
   },
   "outputs": [],
   "source": [
    "op0 = algebra[n]\n",
    "print(op0)\n",
    "mat0 = matrix_map[op0]\n",
    "from kak_tools import map_matrix_to_reducible, group_matrix_to_reducible\n",
    "map_matrix_to_reducible(mat0, mapping, signs, \"BDI\")"
   ]
  },
  {
   "cell_type": "code",
   "execution_count": null,
   "id": "55353bda-037c-4272-ac5a-05d8d63208c3",
   "metadata": {
    "execution": {
     "iopub.status.busy": "2025-03-25T13:18:02.111593Z",
     "iopub.status.idle": "2025-03-25T13:18:02.111882Z",
     "shell.execute_reply": "2025-03-25T13:18:02.111764Z",
     "shell.execute_reply.started": "2025-03-25T13:18:02.111753Z"
    }
   },
   "outputs": [],
   "source": [
    "c1 = np.random.random(len(algebra))\n",
    "op1 = qml.dot(c1, algebra).pauli_rep\n",
    "mat1 = np.tensordot(c1, [matrix_map[op] for op in algebra], axes=[[0], [0]])\n",
    "# u1 = expm(mat1)\n",
    "# op1_out = group_matrix_to_reducible(u1, mapping, signs, \"BDI\").pauli_rep\n",
    "op1_out = map_matrix_to_reducible(mat1, mapping, signs, \"BDI\").pauli_rep\n",
    "assert set(op1_out) == set(op1), f\"{set(op1_out)}\\n{set(op1)}\"\n",
    "for k in op1:\n",
    "    assert np.isclose(op1_out[k], op1[k]), f\"{op1_out[k]}, {op1[k]}\""
   ]
  },
  {
   "cell_type": "code",
   "execution_count": null,
   "id": "41d5bb27-8faf-4c8d-b3ee-2b672e605e9e",
   "metadata": {
    "execution": {
     "iopub.status.busy": "2025-03-25T13:18:02.112402Z",
     "iopub.status.idle": "2025-03-25T13:18:02.112625Z",
     "shell.execute_reply": "2025-03-25T13:18:02.112550Z",
     "shell.execute_reply.started": "2025-03-25T13:18:02.112541Z"
    }
   },
   "outputs": [],
   "source": [
    "time = 0.613\n",
    "op2 = algebra[n]\n",
    "print(op2)\n",
    "mat2 = matrix_map[op2]\n",
    "gmat2 = expm(-time * mat2)\n",
    "from kak_tools import group_matrix_to_reducible\n",
    "group_matrix_to_reducible(gmat2, mapping, signs, \"BDI\") / (-time)"
   ]
  },
  {
   "cell_type": "code",
   "execution_count": null,
   "id": "04c267ad-0daf-4cd1-b90a-01bbdbac88a3",
   "metadata": {
    "execution": {
     "iopub.status.busy": "2025-03-25T13:18:02.113086Z",
     "iopub.status.idle": "2025-03-25T13:18:02.113212Z",
     "shell.execute_reply": "2025-03-25T13:18:02.113153Z",
     "shell.execute_reply.started": "2025-03-25T13:18:02.113147Z"
    }
   },
   "outputs": [],
   "source": [
    "com_set = [algebra[0], algebra[n//2], algebra[n-1]]\n",
    "for a, b in combinations(com_set, r=2):\n",
    "    assert a.commutes_with(b)\n",
    "c3 = np.random.random(len(com_set))\n",
    "op3 = qml.dot(c3, com_set).pauli_rep\n",
    "mat3 = np.tensordot(c3, [matrix_map[op] for op in com_set], axes=[[0], [0]])\n",
    "gmat3 = expm(-time * mat3)\n",
    "op3_out = group_matrix_to_reducible(gmat3, mapping, signs, \"BDI\") / (-time)\n",
    "op3_out.simplify()\n",
    "\n",
    "print(op3)\n",
    "print(op3_out)\n",
    "# for pw, val in op3_out.items():\n",
    "#     print(pw, val)\n",
    "reconstruct_mat3 = np.sum([val.real * matrix_map[pw] for pw, val in op3_out.items()], axis=0)\n",
    "assert np.allclose(expm(-time * reconstruct_mat3), gmat3), f\"\\n{expm(-time * reconstruct_mat3)}\\n{gmat3}\"\n",
    "\n",
    "assert set(op3_out) == set(op3), f\"{set(op3_out)}\\n{set(op3)}\"\n",
    "op_mat3 = qml.matrix(op3, wire_order=range(n))\n",
    "op_mat3_out = qml.matrix(op3_out, wire_order=range(n))\n",
    "for k in op3:\n",
    "    assert np.isclose(op3_out[k], op3[k]), f\"{expm(op_mat3-op_mat3_out)}\"\n",
    "#f\"{np.divide(op_mat3, op_mat3_out, out=np.ones_like(op_mat3), where=np.abs(op_mat3_out)>1e-15)}\""
   ]
  },
  {
   "cell_type": "code",
   "execution_count": null,
   "id": "017dd3db-a40a-403b-83c1-60fa2ba187f6",
   "metadata": {
    "execution": {
     "iopub.status.busy": "2025-03-25T13:18:02.113547Z",
     "iopub.status.idle": "2025-03-25T13:18:02.113668Z",
     "shell.execute_reply": "2025-03-25T13:18:02.113613Z",
     "shell.execute_reply.started": "2025-03-25T13:18:02.113607Z"
    }
   },
   "outputs": [],
   "source": [
    "# Check that products are compatible with representations\n",
    "def matrix(op):\n",
    "    return qml.matrix(op, wire_order=range(n))\n",
    "\n",
    "op1 = algebra[0]\n",
    "op2 = algebra[n]\n",
    "c1, c2 = 0.63, -0.215\n",
    "assert not op1.commutes_with(op2)\n",
    "exp_prod_red = qml.pauli_decompose(logm(expm(1j * matrix(op1) * c1) @ expm(1j * matrix(op2) * c2))/1j)\n",
    "print(type(exp_prod_red))\n",
    "print(exp_prod_red)\n",
    "\n",
    "expm(matrix_map[op1] * c1) @ expm(matrix_map[op2] * c2)"
   ]
  },
  {
   "cell_type": "code",
   "execution_count": null,
   "id": "aab4f3ae-4ad7-4c9d-aac6-b209c18cfdef",
   "metadata": {
    "execution": {
     "iopub.status.busy": "2025-03-25T13:18:02.113913Z",
     "iopub.status.idle": "2025-03-25T13:18:02.114031Z",
     "shell.execute_reply": "2025-03-25T13:18:02.113973Z",
     "shell.execute_reply.started": "2025-03-25T13:18:02.113968Z"
    }
   },
   "outputs": [],
   "source": [
    "# time = 0.6\n",
    "# # U = expm(-time * H)\n",
    "\n",
    "# ops = recursive_bdi(U, n_so, num_iter=None)\n",
    "# num_iter = max(ops.keys())\n",
    "\n",
    "# widths = [e-s for _, s, e, _ in ops[num_iter]]\n",
    "# widths, counts = np.unique(widths, return_counts=True)\n",
    "# widths_dict = dict(zip(map(int, widths), map(int, counts)))\n",
    "    \n",
    "# print(f\"Decomposed into {len(ops[num_iter])} blocks with (partially large) CSA blocks and K blocks with sizes\\n{widths_dict}\")\n",
    "\n",
    "# num_paulirots = 0\n",
    "# for op, s, e, t in ops[num_iter]:\n",
    "#     if e - s > 4:\n",
    "#         assert t.startswith(\"a\")\n",
    "#     num_paulirots += (e - s) // 2\n",
    "\n",
    "# print(f\"This decomposition consists of {num_paulirots} individual Pauli rotations\")\n",
    "\n",
    "# def num_ops(_iter):\n",
    "#     if _iter==0:\n",
    "#         return 3\n",
    "#     return num_ops(_iter - 1) + 4 ** _iter * 5 // 2\n",
    "\n",
    "# # Validate\n",
    "# for i in range(num_iter+1):\n",
    "#     print(f\"{i=}\")\n",
    "#     print(f\"{len(ops[i])}, {num_ops(i)}\")\n",
    "#     assert len(ops[i]) == num_ops(i), f\"{len(ops[i])}, {num_ops(i)}\"\n",
    "#     for tup in ops[i]:\n",
    "#         assert isinstance(tup, tuple) and len(tup) == 4\n",
    "#         assert isinstance(tup[0], np.ndarray) and tup[0].shape == (n_so, n_so)\n",
    "#         for val in tup[1:3]:\n",
    "#             assert isinstance(val, int) and 0<=val<=n_so\n",
    "#         assert tup[3] in {\"a\", \"k\", \"a0\"}\n",
    "\n",
    "#     pos = 0\n",
    "#     if i > 0:\n",
    "#         for j in range(len(ops[i-1])):\n",
    "#             if ops[i-1][j][3] == \"k\":\n",
    "#                 rec = ops[i][pos][0] @ ops[i][pos+1][0] @ ops[i][pos+2][0] @ ops[i][pos+3][0] @ ops[i][pos+4][0] @ ops[i][pos+5][0]\n",
    "#                 assert np.allclose(rec, ops[i-1][j][0])\n",
    "#                 pos += 6\n",
    "#             else:\n",
    "#                 assert ops[i-1][j][3].startswith(\"a\")\n",
    "#                 assert np.allclose(ops[i][pos][0], ops[i-1][j][0])\n",
    "#                 pos += 1"
   ]
  },
  {
   "cell_type": "code",
   "execution_count": null,
   "id": "78a5a9e0-47b8-4976-8033-3c040d94a3e1",
   "metadata": {},
   "outputs": [],
   "source": []
  }
 ],
 "metadata": {
  "kernelspec": {
   "display_name": "Python 3 (ipykernel)",
   "language": "python",
   "name": "python3"
  },
  "language_info": {
   "codemirror_mode": {
    "name": "ipython",
    "version": 3
   },
   "file_extension": ".py",
   "mimetype": "text/x-python",
   "name": "python",
   "nbconvert_exporter": "python",
   "pygments_lexer": "ipython3",
   "version": "3.10.12"
  }
 },
 "nbformat": 4,
 "nbformat_minor": 5
}

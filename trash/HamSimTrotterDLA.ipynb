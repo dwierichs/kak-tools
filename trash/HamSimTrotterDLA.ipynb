{
 "cells": [
  {
   "cell_type": "code",
   "execution_count": 2,
   "id": "21a171c9-d9eb-4306-a952-5505d1d6b2f2",
   "metadata": {
    "execution": {
     "iopub.execute_input": "2024-12-12T12:02:42.115240Z",
     "iopub.status.busy": "2024-12-12T12:02:42.115064Z",
     "iopub.status.idle": "2024-12-12T12:02:42.118820Z",
     "shell.execute_reply": "2024-12-12T12:02:42.118348Z",
     "shell.execute_reply.started": "2024-12-12T12:02:42.115225Z"
    }
   },
   "outputs": [],
   "source": [
    "import numpy as np\n",
    "import jax\n",
    "from scipy.linalg import expm\n",
    "import pennylane as qml\n",
    "from pennylane import X, Y, Z\n",
    "from functools import partial\n",
    "import matplotlib.pyplot as plt\n",
    "\n",
    "from pennylane.labs.dla import AI, cartan_decomp, cartan_subalgebra, check_cartan_decomp, variational_kak, validate_kak, op_to_adjvec, adjvec_to_op, check_all_commuting, orthonormalize, batched_pauli_decompose\n",
    "from pennylane.labs.dla.cartan_subalgebra import _orthogonal_complement_basis\n",
    "\n",
    "seed = 624\n",
    "np.random.seed(seed)"
   ]
  },
  {
   "cell_type": "code",
   "execution_count": 3,
   "id": "a6924909-9303-4874-830e-ecbad89059e2",
   "metadata": {
    "execution": {
     "iopub.execute_input": "2024-12-12T12:02:43.054789Z",
     "iopub.status.busy": "2024-12-12T12:02:43.054590Z",
     "iopub.status.idle": "2024-12-12T12:02:43.066943Z",
     "shell.execute_reply": "2024-12-12T12:02:43.066451Z",
     "shell.execute_reply.started": "2024-12-12T12:02:43.054776Z"
    }
   },
   "outputs": [],
   "source": [
    "from itertools import combinations, product\n",
    "import numpy as np\n",
    "import time\n",
    "np.random.seed(2415)\n",
    "from scipy.linalg import expm\n",
    "from scipy.optimize import curve_fit\n",
    "import matplotlib.pyplot as plt\n",
    "\n",
    "import jax\n",
    "jax.config.update(\"jax_enable_x64\", True)\n",
    "\n",
    "import pennylane as qml\n",
    "from pennylane import X, Y, Z, I\n",
    "\n",
    "from kak_tools import (\n",
    "    map_simple_to_irrep,\n",
    "    map_irrep_to_matrices,\n",
    "    lie_closure_pauli_words,\n",
    "    recursive_bdi,\n",
    "    map_recursive_decomp_to_reducible,\n",
    "    irrep_dot,\n",
    ")"
   ]
  },
  {
   "cell_type": "markdown",
   "id": "eada3970-592f-4024-9b7c-427699ab1514",
   "metadata": {},
   "source": [
    "### Model\n",
    "\n",
    "If we use the non-summed model:\n",
    "\n",
    "$$\n",
    "H = \\sum_{i=1}^n h^x_i X_i X_{i+1} + h^y_i Y_i Y_{i+1} + h^z_i Z_i Z_{i+1} + \\alpha_i Z_i\n",
    "$$\n",
    "\n",
    "If we use the summed model:\n",
    "\n",
    "$$\n",
    "H = \\sum_{i=1}^n h_i \\left(X_i X_{i+1} + Y_i Y_{i+1} + Z_i Z_{i+1}\\right) + \\alpha_i Z_i\n",
    "$$"
   ]
  },
  {
   "cell_type": "code",
   "execution_count": null,
   "id": "c0a14a39-d117-4920-95ea-b5a81a8d6361",
   "metadata": {},
   "outputs": [],
   "source": [
    "generators"
   ]
  },
  {
   "cell_type": "code",
   "execution_count": null,
   "id": "ceaff66d-df3d-4343-a740-5fb822d4eadd",
   "metadata": {},
   "outputs": [],
   "source": []
  },
  {
   "cell_type": "code",
   "execution_count": 2,
   "id": "85afb082-e310-4dcd-a8a8-ed38de6eb9cb",
   "metadata": {
    "execution": {
     "iopub.execute_input": "2024-11-20T20:00:35.713929Z",
     "iopub.status.busy": "2024-11-20T20:00:35.713557Z",
     "iopub.status.idle": "2024-11-20T20:00:35.717241Z",
     "shell.execute_reply": "2024-11-20T20:00:35.716870Z",
     "shell.execute_reply.started": "2024-11-20T20:00:35.713909Z"
    }
   },
   "outputs": [],
   "source": [
    "n = 6\n",
    "summed_model = False\n",
    "transverse_field = True\n",
    "pbc = False\n",
    "mu_h = 1.\n",
    "sigma_h = 0.\n",
    "mu_alpha = 0.5\n",
    "sigma_alpha = 0.\n",
    "\n",
    "tol = 1e-7\n"
   ]
  },
  {
   "cell_type": "code",
   "execution_count": 3,
   "id": "4f3904a7-5824-4b33-8aa8-b0911c7472ce",
   "metadata": {
    "execution": {
     "iopub.execute_input": "2024-11-20T20:00:35.717849Z",
     "iopub.status.busy": "2024-11-20T20:00:35.717701Z",
     "iopub.status.idle": "2024-11-20T20:00:35.723251Z",
     "shell.execute_reply": "2024-11-20T20:00:35.722809Z",
     "shell.execute_reply.started": "2024-11-20T20:00:35.717837Z"
    }
   },
   "outputs": [],
   "source": [
    "num_couplings = n if pbc else n-1\n",
    "\n",
    "if summed_model==1:\n",
    "    h = np.random.normal(mu_h, sigma_h, size=(num_couplings,))\n",
    "elif summed_model==2:\n",
    "    h = np.random.normal(mu_h, sigma_h, size=(num_couplings,)) #?\n",
    "else:\n",
    "    h = np.random.normal(mu_h, sigma_h, size=(3, num_couplings))\n",
    "\n",
    "if transverse_field:\n",
    "    alpha = np.random.normal(mu_alpha, sigma_alpha, size=(n,))"
   ]
  },
  {
   "cell_type": "code",
   "execution_count": 4,
   "id": "b64bec48-c3aa-401c-9614-d193e3c8a111",
   "metadata": {
    "execution": {
     "iopub.execute_input": "2024-11-20T20:00:35.723971Z",
     "iopub.status.busy": "2024-11-20T20:00:35.723745Z",
     "iopub.status.idle": "2024-11-20T20:00:35.739766Z",
     "shell.execute_reply": "2024-11-20T20:00:35.739001Z",
     "shell.execute_reply.started": "2024-11-20T20:00:35.723958Z"
    }
   },
   "outputs": [],
   "source": [
    "XX = [X(i) @ X((i+1)%n) for i in range(num_couplings)]\n",
    "YY = [Y(i) @ Y((i+1)%n) for i in range(num_couplings)]\n",
    "ZZ = [Z(i) @ Z((i+1)%n) for i in range(num_couplings)]\n",
    "if summed_model==1:\n",
    "    XXYY = [X(i) @ X((i+1)%n) + Y(i) @ Y((i+1)%n) for i in range(num_couplings)]\n",
    "    H_XXYY = qml.dot(h, XXYY)\n",
    "    H_XX = qml.dot(h, XX)\n",
    "    H_YY = qml.dot(h, YY)\n",
    "    H_ZZ = qml.dot(h, ZZ)\n",
    "    if transverse_field:\n",
    "        Zs = [Z(i) for i in range(n)]\n",
    "        H_Z = qml.dot(alpha, Zs)\n",
    "        ops = [op.pauli_rep for op in XXYY + Zs]\n",
    "    else:\n",
    "        ops = [op.pauli_rep for op in XXYY]\n",
    "    \n",
    "    H_trotter = qml.sum(H_XX, H_YY, H_ZZ+H_Z)\n",
    "    H_sub = qml.sum(H_XXYY, H_Z, lazy=False)\n",
    "    H_ext = H_ZZ\n",
    "    H_full = H_sub + H_ext\n",
    "elif summed_model==2:\n",
    "    # XXYY = [X(i) @ X((i+1)%n) + Y(i) @ Y((i+1)%n) for i in range(num_couplings)]\n",
    "    # H_XXYY = qml.dot(h, XXYY)\n",
    "    H_XX = qml.dot(h, XX)\n",
    "    H_YY = qml.dot(h, YY)\n",
    "    H_ZZ = qml.dot(h, ZZ)\n",
    "    if transverse_field:\n",
    "        Zs = [Z(i) for i in range(n)]\n",
    "        H_Z = qml.dot(alpha, Zs)\n",
    "        ops = [op.pauli_rep for op in [H_XX, H_YY, H_Z]]\n",
    "    else:\n",
    "        ops = [op.pauli_rep for op in [H_XX, H_YY]]\n",
    "    \n",
    "    H_trotter = qml.sum(H_XX, H_YY, H_ZZ+H_Z)\n",
    "    H_sub = qml.sum(H_XX, H_YY, H_Z, lazy=False)\n",
    "    H_ext = H_ZZ\n",
    "    H_full = H_sub + H_ext\n",
    "else:\n",
    "    XX = [X(i) @ X((i+1)%n) for i in range(num_couplings)]\n",
    "    YY = [Y(i) @ Y((i+1)%n) for i in range(num_couplings)]\n",
    "    ZZ = [Z(i) @ Z((i+1)%n) for i in range(num_couplings)]\n",
    "    H_XX = qml.dot(h[0], XX)\n",
    "    H_YY = qml.dot(h[1], YY)\n",
    "    H_ZZ = qml.dot(h[2], ZZ)\n",
    "    if transverse_field:\n",
    "        Zs = [Z(i) for i in range(n)]\n",
    "        H_Z = qml.dot(alpha, Zs)\n",
    "        ops = [op.pauli_rep for op in XX + YY + Zs]\n",
    "    else:\n",
    "        ops = [op.pauli_rep for op in XX + YY]\n",
    "        \n",
    "    H_trotter = qml.sum(H_XX, H_YY, H_ZZ+H_Z)\n",
    "    H_sub = qml.sum(H_XX, H_YY, H_Z, lazy=False)\n",
    "    H_ext = H_ZZ\n",
    "    H_full = H_sub + H_ext\n",
    "\n",
    "assert len(H_trotter.operands) == 3\n",
    "assert qml.equal(qml.simplify(H_trotter), qml.simplify(H_full))"
   ]
  },
  {
   "cell_type": "code",
   "execution_count": 5,
   "id": "4ffa0d6a-2ef6-458d-b93f-b272c35fbee8",
   "metadata": {
    "execution": {
     "iopub.execute_input": "2024-11-20T20:00:35.740659Z",
     "iopub.status.busy": "2024-11-20T20:00:35.740412Z",
     "iopub.status.idle": "2024-11-20T20:00:35.746788Z",
     "shell.execute_reply": "2024-11-20T20:00:35.746283Z",
     "shell.execute_reply.started": "2024-11-20T20:00:35.740643Z"
    }
   },
   "outputs": [],
   "source": [
    "def unitary_distance(U_0, U_1):\n",
    "    assert U_0.shape[-2:] == U_1.shape[-2:]\n",
    "    return 1 - np.abs(np.tensordot(U_0.conj(), U_1, axes=[[0, 1], [0, 1]])) / U_0.shape[-1]\n",
    "\n",
    "def get_unitary_error(qnode, U_target):\n",
    "\n",
    "    def wrapper(*args, **kwargs):\n",
    "        mat = qml.matrix(qnode, wire_order=range(n))(*args, **kwargs)\n",
    "        return unitary_distance(U_target, mat)\n",
    "\n",
    "    return wrapper\n",
    "\n",
    "def get_paulirot_count(qnode):\n",
    "\n",
    "    def wrapper(*args, **kwargs):\n",
    "        specs = qml.specs(qnode)(*args, **kwargs)\n",
    "        gate_count = specs['resources'].num_gates\n",
    "        gate_types = specs['resources'].gate_types\n",
    "        assert len(gate_types) == 1, f\"{gate_types}\"\n",
    "        assert list(gate_types)[0] == \"PauliRot\"\n",
    "        assert list(gate_types.values())[0] == gate_count\n",
    "        return gate_count\n",
    "    return wrapper\n",
    "\n",
    "def exp_as_pauli_rots(operand, time):\n",
    "    \"\"\"Implements exp(1j * time * operand) by implementing Pauli rotations.\n",
    "    This is only valid if the Pauli words in the sentence commute, which is\n",
    "    *not* certified by this function.\n",
    "    \"\"\"\n",
    "    # for k, val in operand.pauli_rep.items():\n",
    "    #     print(\"\".join([k[key] for key in sorted(k.keys())]), sorted(k.keys()))\n",
    "    return [qml.PauliRot(-2 * time * val, pauli_word=\"\".join([k[key] for key in sorted(k.keys())]), wires=sorted(k.keys())) for k, val in operand.pauli_rep.items()]"
   ]
  },
  {
   "cell_type": "code",
   "execution_count": 6,
   "id": "e5699df3-6055-4ec1-8128-1a08e7321043",
   "metadata": {
    "execution": {
     "iopub.execute_input": "2024-11-20T20:00:35.748207Z",
     "iopub.status.busy": "2024-11-20T20:00:35.748010Z",
     "iopub.status.idle": "2024-11-20T20:00:35.752089Z",
     "shell.execute_reply": "2024-11-20T20:00:35.751293Z",
     "shell.execute_reply.started": "2024-11-20T20:00:35.748196Z"
    }
   },
   "outputs": [],
   "source": [
    "dev = qml.device('default.qubit')\n",
    "\n",
    "@qml.qnode(dev)\n",
    "def trotter_circuit(operands, time, n, order):\n",
    "    assert order==2\n",
    "\n",
    "    for step in range(n):\n",
    "        for operand in operands:\n",
    "            exp_as_pauli_rots(operand, time / n / 2)\n",
    "        for operand in operands[::-1]:\n",
    "            exp_as_pauli_rots(operand, time / n / 2)\n",
    "    return qml.probs(wires=0)\n"
   ]
  },
  {
   "cell_type": "code",
   "execution_count": 7,
   "id": "f1f48539-77d6-48d7-b4e3-968ac5e60870",
   "metadata": {
    "execution": {
     "iopub.execute_input": "2024-11-20T20:00:35.753461Z",
     "iopub.status.busy": "2024-11-20T20:00:35.752808Z",
     "iopub.status.idle": "2024-11-20T20:00:35.757149Z",
     "shell.execute_reply": "2024-11-20T20:00:35.756087Z",
     "shell.execute_reply.started": "2024-11-20T20:00:35.753426Z"
    }
   },
   "outputs": [],
   "source": [
    "# print(qml.draw(trotter_circuit, max_length=250)(H_trotter.operands, -time, n=2, order=trotter_order))"
   ]
  },
  {
   "cell_type": "code",
   "execution_count": 18,
   "id": "42d3f20e-c82b-4d53-8614-83fe7e9336c3",
   "metadata": {
    "execution": {
     "iopub.execute_input": "2024-11-20T20:32:27.806097Z",
     "iopub.status.busy": "2024-11-20T20:32:27.805880Z",
     "iopub.status.idle": "2024-11-20T20:32:27.811070Z",
     "shell.execute_reply": "2024-11-20T20:32:27.810312Z",
     "shell.execute_reply.started": "2024-11-20T20:32:27.806081Z"
    }
   },
   "outputs": [],
   "source": [
    "use_paulirot = True\n",
    "\n",
    "@qml.qnode(dev)\n",
    "def subalgebra_circuit(csa_operand, other_operand, time, K_ansatz, K_params, n, k, use_paulirot=use_paulirot):\n",
    "    assert k==2\n",
    "\n",
    "    if use_paulirot:\n",
    "        exp_as_pauli_rots(other_operand, -time / n / 2)\n",
    "    else:\n",
    "        qml.exp(-1j * time / (2*n) * other_operand)\n",
    "    for step in range(n):\n",
    "        K_ansatz(K_params)\n",
    "\n",
    "        if use_paulirot:\n",
    "            exp_as_pauli_rots(csa_operand, -time / n)\n",
    "        else:\n",
    "            qml.exp(-1j * time / n * csa_operand)\n",
    "        qml.adjoint(K_ansatz, lazy=False)(K_params)\n",
    "        if step == n-1:\n",
    "            if use_paulirot:\n",
    "                exp_as_pauli_rots(other_operand, -time / n / 2)\n",
    "            else:\n",
    "                qml.exp(-1j * time / (n * 2) * other_operand)\n",
    "        else:\n",
    "            if use_paulirot:\n",
    "                exp_as_pauli_rots(other_operand, -time / n)\n",
    "            else:\n",
    "                qml.exp(-1j * time / n * other_operand)\n",
    "\n",
    "    return qml.probs(wires=0)\n"
   ]
  },
  {
   "cell_type": "code",
   "execution_count": 19,
   "id": "c564c5b7-4f3c-453f-bba1-d0e4ff06ac9b",
   "metadata": {
    "execution": {
     "iopub.execute_input": "2024-11-20T20:32:28.213118Z",
     "iopub.status.busy": "2024-11-20T20:32:28.212807Z",
     "iopub.status.idle": "2024-11-20T20:32:28.688019Z",
     "shell.execute_reply": "2024-11-20T20:32:28.687386Z",
     "shell.execute_reply.started": "2024-11-20T20:32:28.213096Z"
    }
   },
   "outputs": [
    {
     "name": "stdout",
     "output_type": "stream",
     "text": [
      "6 66 132\n",
      "Gram:\n",
      "[[1. 0. 0. ... 0. 0. 0.]\n",
      " [0. 1. 0. ... 0. 0. 0.]\n",
      " [0. 0. 1. ... 0. 0. 0.]\n",
      " ...\n",
      " [0. 0. 0. ... 1. 0. 0.]\n",
      " [0. 0. 0. ... 0. 1. 0.]\n",
      " [0. 0. 0. ... 0. 0. 1.]]\n",
      "-1.0 * Z(0)\n",
      "\n",
      "-1.0 * Z(1)\n",
      "\n",
      "-1.0 * Z(2)\n",
      "\n",
      "-1.0 * Z(3)\n",
      "\n",
      "-1.0 * Z(4)\n",
      "\n",
      "-1.0 * Z(5)\n"
     ]
    }
   ],
   "source": [
    "g = qml.lie_closure(ops, pauli=True)\n",
    "# print(H_sub.operands)\n",
    "# print(len(g))\n",
    "if cen:=qml.center(g):\n",
    "    old_len_g = len(g)\n",
    "    print(f\"There is a center in this DLA: {cen}\")\n",
    "    g = adjvec_to_op(_orthogonal_complement_basis(op_to_adjvec(cen, g, is_orthogonal=False), op_to_adjvec(g, g, is_orthogonal=False), tol=tol), g, is_orthogonal=False)\n",
    "    print(f\"Removed center from algebra\")\n",
    "    assert len(g) == old_len_g - len(cen)\n",
    "    assert not qml.center(g)\n",
    "    H_center = sum(adjvec_to_op(op_to_adjvec([H_sub], cen, is_orthogonal=False), cen, is_orthogonal=False))\n",
    "    H_sub = H_sub - H_center\n",
    "    H_trotter = H_trotter - H_center\n",
    "    H_full = H_full - H_center\n",
    "\n",
    "print(n, len(g), 2 * (((2 * n) ** 2 - (2 * n)) // 2))\n",
    "if summed_model==1:\n",
    "    assert len(g) == n ** 2 - 1 # su(n)\n",
    "elif summed_model==2 and np.isclose(sigma_alpha, 0.):\n",
    "    assert len(g) == n**2 # so(n) + so(n)\n",
    "elif summed_model==2 and not np.isclose(sigma_alpha, 0.):\n",
    "    assert len(g) == ((2 * n) ** 2 - (2 * n)) // 2 # so(2n)\n",
    "else:\n",
    "    assert len(g) == ((2 * n) ** 2 - (2 * n)) // 2\n",
    "\n",
    "k, m = cartan_decomposition(g, AI)\n",
    "g = k + m\n",
    "# print(g)\n",
    "# print(k)\n",
    "assert len(k) > 0 and len(m) > 0\n",
    "assert check_cartan_decomp(k, m)\n",
    "\n",
    "# Make sure H_sub is within m\n",
    "[remapped_H_sub] = adjvec_to_op(op_to_adjvec([H_sub], m, is_orthogonal=False), m, is_orthogonal=False)\n",
    "assert np.allclose(qml.matrix(H_sub, wire_order=range(n)), qml.matrix(remapped_H_sub, wire_order=range(n)))\n",
    "\n",
    "\n",
    "\n",
    "if summed_model==1:\n",
    "    manual_a = [Z(w) - Z(w+1) for w in range(n-1)]Skip to main panel\n",
    ">\n",
    "/devdevs/\n",
    "Name\n",
    "Modified\n",
    "\n",
    "Selection deleted\n",
    "import numpy as np\n",
    "import pennylane as qml\n",
    "from pennylane import X, Y, Z\n",
    "\n",
    "from pennylane.labs.dla import AI, cartan_decomposition, variational_kak, check_cartan_decomp, op_to_adjvec, adjvec_to_op, check_all_commuting\n",
    "from pennylane.labs.dla.cartan_subalgebra import _orthogonal_complement_basis\n",
    "Last executed at 2024-11-21 11:20:34 in 5ms\n",
    "Selection deleted\n",
    "def check_subspace(sub, basis, n):\n",
    "    if not isinstance(sub, (list, tuple)):\n",
    "        sub = [sub]\n",
    "    remapped = adjvec_to_op(op_to_adjvec(sub, basis, is_orthogonal=False), basis, is_orthogonal=False)\n",
    "    for orig_op, remapped_op in zip(sub, remapped):\n",
    "        if not np.allclose(qml.matrix(orig_op, wire_order=range(n)), qml.matrix(remapped_op, wire_order=range(n))):\n",
    "            return False\n",
    "    return True\n",
    "Last executed at 2024-11-21 11:20:37 in 6ms\n",
    "\n",
    "elif summed_model==2:\n",
    "    adj = qml.structure_constants(g, is_orthogonal=False)\n",
    "    g, k, mtilde, a, adj = cartan_subalgebra(g, k, m, adj)\n",
    "    print(a)\n",
    "    manual_a = a # No manual solution available\n",
    "else:\n",
    "    manual_a = [Z(w) for w in range(n)]\n",
    "\n",
    "\n",
    "# Make sure manual_a is within m\n",
    "remapped_a = adjvec_to_op(op_to_adjvec(manual_a, m, is_orthogonal=False), m, is_orthogonal=False)\n",
    "for manual_op, remapped_op in zip(manual_a, remapped_a):\n",
    "    assert np.allclose(qml.matrix(manual_op, wire_order=range(n)), qml.matrix(remapped_op, wire_order=range(n)))\n",
    "\n",
    "manual_a = [op.pauli_rep for op in manual_a]\n",
    "assert check_all_commuting(manual_a)\n",
    "manual_a = orthonormalize(manual_a)\n",
    "\n",
    "mtilde = adjvec_to_op(_orthogonal_complement_basis(op_to_adjvec(manual_a, g, is_orthogonal=False), op_to_adjvec(m, g, is_orthogonal=False), tol=tol), g, is_orthogonal=False)\n",
    "g = k + mtilde + manual_a\n",
    "\n",
    "from pennylane.labs.dla.dense_util import _gram_ps\n",
    "print(f\"Gram:\\n{np.round(_gram_ps(g), 5)}\")\n",
    "\n",
    "adj = qml.structure_constants(g, is_orthogonal=False)\n",
    "print(*manual_a, sep=\"\\n\"*2)\n",
    "assert check_cartan_decomp(k, mtilde + manual_a)"
   ]
  },
  {
   "cell_type": "code",
   "execution_count": 20,
   "id": "b5854092-0e32-4d62-aa16-6c36d3836ec2",
   "metadata": {
    "execution": {
     "iopub.execute_input": "2024-11-20T20:32:29.533539Z",
     "iopub.status.busy": "2024-11-20T20:32:29.533069Z",
     "iopub.status.idle": "2024-11-20T20:32:29.639822Z",
     "shell.execute_reply": "2024-11-20T20:32:29.639075Z",
     "shell.execute_reply.started": "2024-11-20T20:32:29.533495Z"
    }
   },
   "outputs": [],
   "source": [
    "def test_adjoint_identity(adj, g, k, n, verbose=False):\n",
    "    random_theta = np.random.random(len(k))\n",
    "    random_coeffs = np.random.random(adj.shape[-1])\n",
    "    \n",
    "    [random_in] = adjvec_to_op(random_coeffs[None], g)\n",
    "    random_in_m = qml.matrix(random_in, wire_order=range(n))\n",
    "    if verbose:\n",
    "        print(f\"We will transform\\n{random_in}\\nby applying Ad_\\exp(x) with x=\\n{-1j * random_theta[0] * k[0]}\")\n",
    "    scale, *_ = k[0].values()\n",
    "    if verbose:\n",
    "        print(f\"(Note cos(2 * theta * scale) = {np.cos(2 * random_theta[0] * scale)}\")\n",
    "        print(f\"      sin(2 * theta * scale) = {np.sin(2 * random_theta[0] * scale)})\")\n",
    "    \n",
    "    for i in range(len(k)):\n",
    "        random_coeffs = jax.scipy.linalg.expm(random_theta[i] * adj[:, i]) @ random_coeffs\n",
    "        break\n",
    "    [random_out] = adjvec_to_op(random_coeffs[None], g)\n",
    "    if verbose:\n",
    "        print(f\"With the adjoint representation we got out\\n{random_out}\")\n",
    "    random_out_m = qml.matrix(random_out, wire_order=range(n))\n",
    "    \n",
    "    for i in range(len(k)):\n",
    "        op_mat = k[i].operation().matrix(wire_order=range(n))\n",
    "        exp_mat = jax.scipy.linalg.expm(1j * op_mat * random_theta[i])\n",
    "        random_in_m = exp_mat @ random_in_m @ exp_mat.conj().T\n",
    "        break\n",
    "    random_in_m_op = pauli_decompose(random_in_m, pauli=True)\n",
    "    if verbose:\n",
    "        print(f\"With the operator computation we got out\\n{random_in_m_op}\")\n",
    "    assert np.allclose(random_out_m, random_in_m)\n",
    "\n",
    "test_adjoint_identity(adj, g, k, n)"
   ]
  },
  {
   "cell_type": "code",
   "execution_count": 21,
   "id": "80ec89fa-8e94-426c-bd26-43c0d115d70d",
   "metadata": {
    "execution": {
     "iopub.execute_input": "2024-11-20T20:32:29.793897Z",
     "iopub.status.busy": "2024-11-20T20:32:29.793373Z",
     "iopub.status.idle": "2024-11-20T20:33:55.683723Z",
     "shell.execute_reply": "2024-11-20T20:33:55.682949Z",
     "shell.execute_reply.started": "2024-11-20T20:32:29.793841Z"
    }
   },
   "outputs": [
    {
     "name": "stdout",
     "output_type": "stream",
     "text": [
      "final loss: -926.707050362397; min loss: -926.7070503624096; after 0:01:25.509557\n"
     ]
    },
    {
     "data": {
      "image/png": "[encoded data removed]",
      "text/plain": [
       "<Figure size 640x480 with 1 Axes>"
      ]
     },
     "metadata": {},
     "output_type": "display_data"
    }
   ],
   "source": [
    "dims = (len(k), len(mtilde), len(manual_a))\n",
    "assert sum(dims) == len(g)\n",
    "kak_res = variational_kak(H_sub, g, dims, adj, verbose=2, opt_kwargs={\"n_epochs\": 3000}, pick_min=True)"
   ]
  },
  {
   "cell_type": "code",
   "execution_count": 22,
   "id": "5b4b01f7-667a-45b4-9bc5-521ce978cc47",
   "metadata": {
    "execution": {
     "iopub.execute_input": "2024-11-20T20:33:55.684815Z",
     "iopub.status.busy": "2024-11-20T20:33:55.684656Z",
     "iopub.status.idle": "2024-11-20T20:33:55.755353Z",
     "shell.execute_reply": "2024-11-20T20:33:55.754243Z",
     "shell.execute_reply.started": "2024-11-20T20:33:55.684801Z"
    }
   },
   "outputs": [],
   "source": [
    "assert validate_kak(H_sub, g, k, kak_res, n, tol)\n",
    "vec_a, theta_opt = kak_res\n",
    "vec_a = np.array(vec_a)\n",
    "theta_opt = np.array(theta_opt)\n",
    "assert np.allclose(vec_a[:-len(manual_a)], 0., atol=26*tol), f\"In k:\\n{vec_a[:len(k)]}\\nIn mtilde:\\n{vec_a[len(k):-len(manual_a)]}\\nIn a:\\n{vec_a[-len(manual_a):]}\""
   ]
  },
  {
   "cell_type": "code",
   "execution_count": 23,
   "id": "a85018e9-6246-4ed5-aa8e-58cb904a6d13",
   "metadata": {
    "execution": {
     "iopub.execute_input": "2024-11-20T20:34:00.881205Z",
     "iopub.status.busy": "2024-11-20T20:34:00.880075Z",
     "iopub.status.idle": "2024-11-20T20:34:00.888192Z",
     "shell.execute_reply": "2024-11-20T20:34:00.886911Z",
     "shell.execute_reply.started": "2024-11-20T20:34:00.881172Z"
    }
   },
   "outputs": [],
   "source": [
    "k_ops = [ps.operation() for ps in k]\n",
    "k_pws = [\n",
    "    (\n",
    "        \"\".join([list(ps)[0][key] for key in sorted(list(ps)[0].keys())]),\n",
    "        sorted(list(ps)[0].keys()),\n",
    "        list(ps.values())[0],\n",
    "    )\n",
    "    for ps in k\n",
    "]\n",
    "# if use_paulirot:\n",
    "    # assert all(len(ps)==1 for ps in k)\n",
    "\n",
    "def K_ansatz(K_params, use_paulirot=use_paulirot):\n",
    "    assert len(K_params) == len(k_ops) == len(k_pws)\n",
    "    if use_paulirot:\n",
    "        for par, op in zip(K_params[::-1], k_ops[::-1]):\n",
    "            exp_as_pauli_rots(op, par)\n",
    "        # for par, (pw, wires, pref) in zip(K_params[::-1], k_pws[::-1]):\n",
    "        #     qml.PauliRot(-2 * pref * par, pw, wires=wires)\n",
    "    else:\n",
    "        for par, op in zip(K_params[::-1], k_ops[::-1]):\n",
    "            qml.exp(1j * par * op)\n",
    "\n",
    "csa_operand = qml.dot(vec_a[-len(manual_a):], manual_a)"
   ]
  },
  {
   "cell_type": "code",
   "execution_count": 24,
   "id": "35785eb9-2fd8-487b-88e6-2fd6acb1326f",
   "metadata": {
    "execution": {
     "iopub.execute_input": "2024-11-20T20:34:01.417793Z",
     "iopub.status.busy": "2024-11-20T20:34:01.417364Z",
     "iopub.status.idle": "2024-11-20T20:34:01.421169Z",
     "shell.execute_reply": "2024-11-20T20:34:01.420203Z",
     "shell.execute_reply.started": "2024-11-20T20:34:01.417767Z"
    }
   },
   "outputs": [],
   "source": [
    "# U_subalgebra = qml.matrix(subalgebra_circuit, wire_order=range(n))(csa_operand, H_ext, time, K_ansatz, theta_opt, trotter_steps, trotter_order)\n",
    "# err_subalgebra = unitary_distance(U_subalgebra, U_target)\n",
    "# print(f\"Subalgebra technique using Trotter of order {trotter_order} with {trotter_steps} steps makes an error of {err_subalgebra:.6f}\")"
   ]
  },
  {
   "cell_type": "code",
   "execution_count": 25,
   "id": "66a78f6c-f7ca-4c4b-9ffa-6dec16967937",
   "metadata": {
    "execution": {
     "iopub.execute_input": "2024-11-20T20:34:01.743128Z",
     "iopub.status.busy": "2024-11-20T20:34:01.742658Z",
     "iopub.status.idle": "2024-11-20T20:34:01.751244Z",
     "shell.execute_reply": "2024-11-20T20:34:01.750566Z",
     "shell.execute_reply.started": "2024-11-20T20:34:01.743101Z"
    }
   },
   "outputs": [],
   "source": [
    "# Compute target exp(-iHt)\n",
    "time = 0.7\n",
    "U_target = expm(-1j * qml.matrix(H_full) * time)"
   ]
  },
  {
   "cell_type": "code",
   "execution_count": 30,
   "id": "a7f51980-d23b-4f4f-8185-8c7eae250c8b",
   "metadata": {
    "execution": {
     "iopub.execute_input": "2024-11-20T20:36:16.228710Z",
     "iopub.status.busy": "2024-11-20T20:36:16.228199Z",
     "iopub.status.idle": "2024-11-20T20:36:16.248069Z",
     "shell.execute_reply": "2024-11-20T20:36:16.247502Z",
     "shell.execute_reply.started": "2024-11-20T20:36:16.228690Z"
    }
   },
   "outputs": [
    {
     "name": "stdout",
     "output_type": "stream",
     "text": [
      "0: ─╭RZZ(0.35)─────────────────────────────────────────────╭RYZZZZX(-4.28)─╭RXZZZZY(-1.93)────────────────────────────────────────────────────────────────────\n",
      "1: ─╰RZZ(0.35)─╭RZZ(0.35)──────────────────────────────────├RYZZZZX(-4.28)─├RXZZZZY(-1.93)────────────────────────────╭RYZZZX(0.80)─╭RYZZX(-0.22)─╭RXZZY(3.44)\n",
      "2: ────────────╰RZZ(0.35)─╭RZZ(0.35)───────────────────────├RYZZZZX(-4.28)─├RXZZZZY(-1.93)─╭RYZZX(-1.79)─╭RXZZY(1.82)─├RYZZZX(0.80)─├RYZZX(-0.22)─├RXZZY(3.44)\n",
      "3: ───────────────────────╰RZZ(0.35)─╭RZZ(0.35)────────────├RYZZZZX(-4.28)─├RXZZZZY(-1.93)─├RYZZX(-1.79)─├RXZZY(1.82)─├RYZZZX(0.80)─├RYZZX(-0.22)─├RXZZY(3.44)\n",
      "4: ──────────────────────────────────╰RZZ(0.35)─╭RZZ(0.35)─├RYZZZZX(-4.28)─├RXZZZZY(-1.93)─├RYZZX(-1.79)─├RXZZY(1.82)─├RYZZZX(0.80)─╰RYZZX(-0.22)─╰RXZZY(3.44)\n",
      "5: ─────────────────────────────────────────────╰RZZ(0.35)─╰RYZZZZX(-4.28)─╰RXZZZZY(-1.93)─╰RYZZX(-1.79)─╰RXZZY(1.82)─╰RYZZZX(0.80)───────────────────────────\n",
      "\n",
      "────────────────╭RYZZZX(0.19)─╭RYZZX(2.74)─╭RXZZY(-2.71)─╭RXZZZY(-0.19)─────────────────────────────────────────────────────────────────────────────────────────────────\n",
      "──╭RXZZZY(0.77)─├RYZZZX(0.19)─├RYZZX(2.74)─├RXZZY(-2.71)─├RXZZZY(-0.19)─────────────────────────────────────────────────────────────────────────────────────────────────\n",
      "──├RXZZZY(0.77)─├RYZZZX(0.19)─├RYZZX(2.74)─├RXZZY(-2.71)─├RXZZZY(-0.19)─────────────────────────────────────────────────────────────────────────╭RYZX(-0.51)─╭RXY(-0.00)\n",
      "──├RXZZZY(0.77)─├RYZZZX(0.19)─╰RYZZX(2.74)─╰RXZZY(-2.71)─├RXZZZY(-0.19)────────────────────────╭RYZX(-2.54)─╭RXY(-0.36)─╭RYX(-6.64)─╭RXZY(0.69)─├RYZX(-0.51)─╰RXY(-0.00)\n",
      "──├RXZZZY(0.77)─╰RYZZZX(0.19)────────────────────────────╰RXZZZY(-0.19)─╭RXY(-0.65)─╭RYX(2.52)─├RYZX(-2.54)─╰RXY(-0.36)─╰RYX(-6.64)─├RXZY(0.69)─╰RYZX(-0.51)────────────\n",
      "──╰RXZZZY(0.77)─────────────────────────────────────────────────────────╰RXY(-0.65)─╰RYX(2.52)─╰RYZX(-2.54)─────────────────────────╰RXZY(0.69)──RZ(1.61)───────────────\n",
      "\n",
      "───────────────────────────────────────────────────────────────────────╭RYZX(-4.01)─╭RXY(-2.68)─╭RYX(-10.26)─╭RXZY(2.16)──RZ(0.04)─╭RXZY(-2.16)─╭RYX(10.26)─╭RXY(2.68)\n",
      "─────────────────────────╭RYZX(0.64)─╭RXY(0.29)─╭RYX(2.07)─╭RXZY(3.82)─├RYZX(-4.01)─╰RXY(-2.68)─╰RYX(-10.26)─├RXZY(2.16)──RZ(0.52)─├RXZY(-2.16)─╰RYX(10.26)─╰RXY(2.68)\n",
      "──╭RYX(2.87)─╭RXZY(0.48)─├RYZX(0.64)─╰RXY(0.29)─╰RYX(2.07)─├RXZY(3.82)─╰RYZX(-4.01)──────────────────────────╰RXZY(2.16)──RZ(0.66)─╰RXZY(-2.16)───────────────────────\n",
      "──╰RYX(2.87)─├RXZY(0.48)─╰RYZX(0.64)───────────────────────╰RXZY(3.82)──RZ(0.91)──────────────────────────────────────────────────────────────────────────────────────\n",
      "─────────────╰RXZY(0.48)──RZ(1.22)────────────────────────────────────────────────────────────────────────────────────────────────────────────────────────────────────\n",
      "──────────────────────────────────────────────────────────────────────────────────────────────────────────────────────────────────────────────────────────────────────\n",
      "\n",
      "──╭RYZX(4.01)─────────────────────────────────────────────────────────────────────────────────────────────────────────────────────────────────────────────────────────────\n",
      "──├RYZX(4.01)─╭RXZY(-3.82)─╭RYX(-2.07)─╭RXY(-0.29)─╭RYZX(-0.64)───────────────────────────────────────────────────────────────────────────────────────────────────────────\n",
      "──╰RYZX(4.01)─├RXZY(-3.82)─╰RYX(-2.07)─╰RXY(-0.29)─├RYZX(-0.64)─╭RXZY(-0.48)─╭RYX(-2.87)─╭RXY(0.00)─╭RYZX(0.51)───────────────────────────────────────────────────────────\n",
      "──────────────╰RXZY(-3.82)─────────────────────────╰RYZX(-0.64)─├RXZY(-0.48)─╰RYX(-2.87)─╰RXY(0.00)─├RYZX(0.51)─╭RXZY(-0.69)─╭RYX(6.64)─╭RXY(0.36)─╭RYZX(2.54)────────────\n",
      "────────────────────────────────────────────────────────────────╰RXZY(-0.48)────────────────────────╰RYZX(0.51)─├RXZY(-0.69)─╰RYX(6.64)─╰RXY(0.36)─├RYZX(2.54)─╭RYX(-2.52)\n",
      "────────────────────────────────────────────────────────────────────────────────────────────────────────────────╰RXZY(-0.69)───────────────────────╰RYZX(2.54)─╰RYX(-2.52)\n",
      "\n",
      "─────────────╭RXZZZY(0.19)─╭RXZZY(2.71)─╭RYZZX(-2.74)─╭RYZZZX(-0.19)─────────────────────────────────────────────────────────────────────────────────────╭RXZZZZY(1.93)\n",
      "─────────────├RXZZZY(0.19)─├RXZZY(2.71)─├RYZZX(-2.74)─├RYZZZX(-0.19)─╭RXZZZY(-0.77)─╭RXZZY(-3.44)─╭RYZZX(0.22)─╭RYZZZX(-0.80)────────────────────────────├RXZZZZY(1.93)\n",
      "─────────────├RXZZZY(0.19)─├RXZZY(2.71)─├RYZZX(-2.74)─├RYZZZX(-0.19)─├RXZZZY(-0.77)─├RXZZY(-3.44)─├RYZZX(0.22)─├RYZZZX(-0.80)─╭RXZZY(-1.82)─╭RYZZX(1.79)─├RXZZZZY(1.93)\n",
      "─────────────├RXZZZY(0.19)─╰RXZZY(2.71)─╰RYZZX(-2.74)─├RYZZZX(-0.19)─├RXZZZY(-0.77)─├RXZZY(-3.44)─├RYZZX(0.22)─├RYZZZX(-0.80)─├RXZZY(-1.82)─├RYZZX(1.79)─├RXZZZZY(1.93)\n",
      "──╭RXY(0.65)─╰RXZZZY(0.19)────────────────────────────╰RYZZZX(-0.19)─├RXZZZY(-0.77)─╰RXZZY(-3.44)─╰RYZZX(0.22)─├RYZZZX(-0.80)─├RXZZY(-1.82)─├RYZZX(1.79)─├RXZZZZY(1.93)\n",
      "──╰RXY(0.65)─────────────────────────────────────────────────────────╰RXZZZY(-0.77)────────────────────────────╰RYZZZX(-0.80)─╰RXZZY(-1.82)─╰RYZZX(1.79)─╰RXZZZZY(1.93)\n",
      "\n",
      "──╭RYZZZZX(4.28)─╭RZZ(0.70)─────────────────────────────────────────────╭RYZZZZX(-4.28)─╭RXZZZZY(-1.93)───────────────────────────────────────────────────────\n",
      "──├RYZZZZX(4.28)─╰RZZ(0.70)─╭RZZ(0.70)──────────────────────────────────├RYZZZZX(-4.28)─├RXZZZZY(-1.93)────────────────────────────╭RYZZZX(0.80)─╭RYZZX(-0.22)\n",
      "──├RYZZZZX(4.28)────────────╰RZZ(0.70)─╭RZZ(0.70)───────────────────────├RYZZZZX(-4.28)─├RXZZZZY(-1.93)─╭RYZZX(-1.79)─╭RXZZY(1.82)─├RYZZZX(0.80)─├RYZZX(-0.22)\n",
      "──├RYZZZZX(4.28)───────────────────────╰RZZ(0.70)─╭RZZ(0.70)────────────├RYZZZZX(-4.28)─├RXZZZZY(-1.93)─├RYZZX(-1.79)─├RXZZY(1.82)─├RYZZZX(0.80)─├RYZZX(-0.22)\n",
      "──├RYZZZZX(4.28)──────────────────────────────────╰RZZ(0.70)─╭RZZ(0.70)─├RYZZZZX(-4.28)─├RXZZZZY(-1.93)─├RYZZX(-1.79)─├RXZZY(1.82)─├RYZZZX(0.80)─╰RYZZX(-0.22)\n",
      "──╰RYZZZZX(4.28)─────────────────────────────────────────────╰RZZ(0.70)─╰RYZZZZX(-4.28)─╰RXZZZZY(-1.93)─╰RYZZX(-1.79)─╰RXZZY(1.82)─╰RYZZZX(0.80)──────────────\n",
      "\n",
      "─────────────────────────────╭RYZZZX(0.19)─╭RYZZX(2.74)─╭RXZZY(-2.71)─╭RXZZZY(-0.19)─────────────────────────────────────────────────────────────────────────────────────\n",
      "──╭RXZZY(3.44)─╭RXZZZY(0.77)─├RYZZZX(0.19)─├RYZZX(2.74)─├RXZZY(-2.71)─├RXZZZY(-0.19)─────────────────────────────────────────────────────────────────────────────────────\n",
      "──├RXZZY(3.44)─├RXZZZY(0.77)─├RYZZZX(0.19)─├RYZZX(2.74)─├RXZZY(-2.71)─├RXZZZY(-0.19)─────────────────────────────────────────────────────────────────────────╭RYZX(-0.51)\n",
      "──├RXZZY(3.44)─├RXZZZY(0.77)─├RYZZZX(0.19)─╰RYZZX(2.74)─╰RXZZY(-2.71)─├RXZZZY(-0.19)────────────────────────╭RYZX(-2.54)─╭RXY(-0.36)─╭RYX(-6.64)─╭RXZY(0.69)─├RYZX(-0.51)\n",
      "──╰RXZZY(3.44)─├RXZZZY(0.77)─╰RYZZZX(0.19)────────────────────────────╰RXZZZY(-0.19)─╭RXY(-0.65)─╭RYX(2.52)─├RYZX(-2.54)─╰RXY(-0.36)─╰RYX(-6.64)─├RXZY(0.69)─╰RYZX(-0.51)\n",
      "───────────────╰RXZZZY(0.77)─────────────────────────────────────────────────────────╰RXY(-0.65)─╰RYX(2.52)─╰RYZX(-2.54)─────────────────────────╰RXZY(0.69)──RZ(1.61)───\n",
      "\n",
      "───────────────────────────────────────────────────────────────────────────────────╭RYZX(-4.01)─╭RXY(-2.68)─╭RYX(-10.26)─╭RXZY(2.16)──RZ(0.04)─╭RXZY(-2.16)─╭RYX(10.26)\n",
      "─────────────────────────────────────╭RYZX(0.64)─╭RXY(0.29)─╭RYX(2.07)─╭RXZY(3.82)─├RYZX(-4.01)─╰RXY(-2.68)─╰RYX(-10.26)─├RXZY(2.16)──RZ(0.52)─├RXZY(-2.16)─╰RYX(10.26)\n",
      "──╭RXY(-0.00)─╭RYX(2.87)─╭RXZY(0.48)─├RYZX(0.64)─╰RXY(0.29)─╰RYX(2.07)─├RXZY(3.82)─╰RYZX(-4.01)──────────────────────────╰RXZY(2.16)──RZ(0.66)─╰RXZY(-2.16)────────────\n",
      "──╰RXY(-0.00)─╰RYX(2.87)─├RXZY(0.48)─╰RYZX(0.64)───────────────────────╰RXZY(3.82)──RZ(0.91)───────────────────────────────────────────────────────────────────────────\n",
      "─────────────────────────╰RXZY(0.48)──RZ(1.22)─────────────────────────────────────────────────────────────────────────────────────────────────────────────────────────\n",
      "───────────────────────────────────────────────────────────────────────────────────────────────────────────────────────────────────────────────────────────────────────\n",
      "\n",
      "──╭RXY(2.68)─╭RYZX(4.01)─────────────────────────────────────────────────────────────────────────────────────────────────────────────────────────────────────────────────\n",
      "──╰RXY(2.68)─├RYZX(4.01)─╭RXZY(-3.82)─╭RYX(-2.07)─╭RXY(-0.29)─╭RYZX(-0.64)───────────────────────────────────────────────────────────────────────────────────────────────\n",
      "─────────────╰RYZX(4.01)─├RXZY(-3.82)─╰RYX(-2.07)─╰RXY(-0.29)─├RYZX(-0.64)─╭RXZY(-0.48)─╭RYX(-2.87)─╭RXY(0.00)─╭RYZX(0.51)───────────────────────────────────────────────\n",
      "─────────────────────────╰RXZY(-3.82)─────────────────────────╰RYZX(-0.64)─├RXZY(-0.48)─╰RYX(-2.87)─╰RXY(0.00)─├RYZX(0.51)─╭RXZY(-0.69)─╭RYX(6.64)─╭RXY(0.36)─╭RYZX(2.54)\n",
      "───────────────────────────────────────────────────────────────────────────╰RXZY(-0.48)────────────────────────╰RYZX(0.51)─├RXZY(-0.69)─╰RYX(6.64)─╰RXY(0.36)─├RYZX(2.54)\n",
      "───────────────────────────────────────────────────────────────────────────────────────────────────────────────────────────╰RXZY(-0.69)───────────────────────╰RYZX(2.54)\n",
      "\n",
      "─────────────────────────╭RXZZZY(0.19)─╭RXZZY(2.71)─╭RYZZX(-2.74)─╭RYZZZX(-0.19)────────────────────────────────────────────────────────────────────────────────────\n",
      "─────────────────────────├RXZZZY(0.19)─├RXZZY(2.71)─├RYZZX(-2.74)─├RYZZZX(-0.19)─╭RXZZZY(-0.77)─╭RXZZY(-3.44)─╭RYZZX(0.22)─╭RYZZZX(-0.80)───────────────────────────\n",
      "─────────────────────────├RXZZZY(0.19)─├RXZZY(2.71)─├RYZZX(-2.74)─├RYZZZX(-0.19)─├RXZZZY(-0.77)─├RXZZY(-3.44)─├RYZZX(0.22)─├RYZZZX(-0.80)─╭RXZZY(-1.82)─╭RYZZX(1.79)\n",
      "─────────────────────────├RXZZZY(0.19)─╰RXZZY(2.71)─╰RYZZX(-2.74)─├RYZZZX(-0.19)─├RXZZZY(-0.77)─├RXZZY(-3.44)─├RYZZX(0.22)─├RYZZZX(-0.80)─├RXZZY(-1.82)─├RYZZX(1.79)\n",
      "──╭RYX(-2.52)─╭RXY(0.65)─╰RXZZZY(0.19)────────────────────────────╰RYZZZX(-0.19)─├RXZZZY(-0.77)─╰RXZZY(-3.44)─╰RYZZX(0.22)─├RYZZZX(-0.80)─├RXZZY(-1.82)─├RYZZX(1.79)\n",
      "──╰RYX(-2.52)─╰RXY(0.65)─────────────────────────────────────────────────────────╰RXZZZY(-0.77)────────────────────────────╰RYZZZX(-0.80)─╰RXZZY(-1.82)─╰RYZZX(1.79)\n",
      "\n",
      "──╭RXZZZZY(1.93)─╭RYZZZZX(4.28)─╭RZZ(0.35)─────────────────────────────────────────────┤  Probs\n",
      "──├RXZZZZY(1.93)─├RYZZZZX(4.28)─╰RZZ(0.35)─╭RZZ(0.35)──────────────────────────────────┤       \n",
      "──├RXZZZZY(1.93)─├RYZZZZX(4.28)────────────╰RZZ(0.35)─╭RZZ(0.35)───────────────────────┤       \n",
      "──├RXZZZZY(1.93)─├RYZZZZX(4.28)───────────────────────╰RZZ(0.35)─╭RZZ(0.35)────────────┤       \n",
      "──├RXZZZZY(1.93)─├RYZZZZX(4.28)──────────────────────────────────╰RZZ(0.35)─╭RZZ(0.35)─┤       \n",
      "──╰RXZZZZY(1.93)─╰RYZZZZX(4.28)─────────────────────────────────────────────╰RZZ(0.35)─┤       \n"
     ]
    }
   ],
   "source": [
    "print(qml.draw(subalgebra_circuit, max_length=170)(csa_operand, H_ext, time, K_ansatz, theta_opt, 2, 2))"
   ]
  },
  {
   "cell_type": "code",
   "execution_count": 27,
   "id": "06047c57-19a9-4f2a-ae4d-74f9be9141fb",
   "metadata": {
    "execution": {
     "iopub.execute_input": "2024-11-20T20:34:03.196888Z",
     "iopub.status.busy": "2024-11-20T20:34:03.196472Z",
     "iopub.status.idle": "2024-11-20T20:34:06.092022Z",
     "shell.execute_reply": "2024-11-20T20:34:06.091191Z",
     "shell.execute_reply.started": "2024-11-20T20:34:03.196856Z"
    }
   },
   "outputs": [
    {
     "data": {
      "text/plain": [
       "<matplotlib.legend.Legend at 0x7480d80ce2f0>"
      ]
     },
     "execution_count": 27,
     "metadata": {},
     "output_type": "execute_result"
    },
    {
     "data": {
      "image/png": "[encoded data removed]",
      "text/plain": [
       "<Figure size 640x480 with 1 Axes>"
      ]
     },
     "metadata": {},
     "output_type": "display_data"
    }
   ],
   "source": [
    "trotter_order = 2\n",
    "\n",
    "all_trotter_steps_trotter = list(range(1, 10))\n",
    "errors_trotter = []\n",
    "rot_counts_trotter = []\n",
    "\n",
    "for trotter_steps in all_trotter_steps_trotter:\n",
    "    \n",
    "    err_trotter = get_unitary_error(trotter_circuit, U_target)(H_trotter.operands, -time, n=trotter_steps, order=trotter_order)\n",
    "    errors_trotter.append(err_trotter)\n",
    "    rot_count_trotter = get_paulirot_count(trotter_circuit)(H_trotter.operands, -time, n=trotter_steps, order=trotter_order)\n",
    "    rot_counts_trotter.append(rot_count_trotter)\n",
    "\n",
    "all_trotter_steps_subalgebra = list(range(1, 10))\n",
    "errors_subalgebra = []\n",
    "rot_counts_subalgebra = []\n",
    "\n",
    "for trotter_steps in all_trotter_steps_subalgebra:\n",
    "    \n",
    "    err_subalgebra = get_unitary_error(subalgebra_circuit, U_target)(csa_operand, H_ext, time, K_ansatz, theta_opt, trotter_steps, trotter_order)\n",
    "    errors_subalgebra.append(err_subalgebra)\n",
    "    rot_count_subalgebra = get_paulirot_count(subalgebra_circuit)(csa_operand, H_ext, time, K_ansatz, theta_opt, trotter_steps, trotter_order)\n",
    "    rot_counts_subalgebra.append(rot_count_subalgebra)\n",
    "\n",
    "\n",
    "\n",
    "fig, ax = plt.subplots()\n",
    "ax.plot(rot_counts_trotter, errors_trotter, label=\"Trotter\")\n",
    "ax.plot(rot_counts_subalgebra, errors_subalgebra, label=\"Subalgebra\")\n",
    "ax.set_xlabel(\"# Rotations\")\n",
    "ax.set_ylabel(\"$\\|U_{target}-U_{impl}\\|^2$\")\n",
    "ax.set_xscale(\"log\")\n",
    "ax.set_yscale(\"log\")\n",
    "ax.legend()"
   ]
  },
  {
   "cell_type": "code",
   "execution_count": 28,
   "id": "2fdf187a-dbcf-4dc4-8c67-e55a86ad5905",
   "metadata": {
    "execution": {
     "iopub.execute_input": "2024-11-20T20:34:06.093359Z",
     "iopub.status.busy": "2024-11-20T20:34:06.093030Z",
     "iopub.status.idle": "2024-11-20T20:34:06.096421Z",
     "shell.execute_reply": "2024-11-20T20:34:06.095850Z",
     "shell.execute_reply.started": "2024-11-20T20:34:06.093340Z"
    }
   },
   "outputs": [],
   "source": [
    "# g_1 = qml.lie_closure(ops_sub)\n",
    "\n",
    "# if pbc:\n",
    "#     so_2n_dim = ((2 * n) ** 2 - (2 * n)) // 2\n",
    "#     print(f\"The small DLA has dimension {len(g_1)}. Dimension of so(2n) (+) so(2n): {2 * so_2n_dim}\")\n",
    "# else:\n",
    "#     so_n_dim = ((n) ** 2 - (n)) // 2\n",
    "#     print(f\"The small DLA has dimension {len(g_1)}. Dimension of so(n) (+) so(n): {2 * so_n_dim}\")\n",
    "\n",
    "# print(((2 * n) ** 2 - (2 * n)) // 2)"
   ]
  },
  {
   "cell_type": "code",
   "execution_count": null,
   "id": "f9538266-db24-4181-b0d8-532933302b3a",
   "metadata": {
    "execution": {
     "iopub.status.busy": "2024-11-20T20:01:57.935329Z",
     "iopub.status.idle": "2024-11-20T20:01:57.935502Z",
     "shell.execute_reply": "2024-11-20T20:01:57.935422Z",
     "shell.execute_reply.started": "2024-11-20T20:01:57.935413Z"
    }
   },
   "outputs": [],
   "source": [
    "# [op for op in g_1 if all(all(v==\"Z\" for v in pw.values()) for pw in op.pauli_rep)]"
   ]
  },
  {
   "cell_type": "code",
   "execution_count": null,
   "id": "f994696d-1f1a-464b-ba32-9525075a29b4",
   "metadata": {
    "execution": {
     "iopub.status.busy": "2024-11-20T20:01:57.935932Z",
     "iopub.status.idle": "2024-11-20T20:01:57.936140Z",
     "shell.execute_reply": "2024-11-20T20:01:57.936044Z",
     "shell.execute_reply.started": "2024-11-20T20:01:57.936034Z"
    }
   },
   "outputs": [],
   "source": [
    "# def involution_AI(x):\n",
    "#     \"\"\"AI involution.\"\"\"\n",
    "#     if isinstance(x, np.ndarray):\n",
    "#         return x.conj()\n",
    "        \n",
    "#     if is_ps:=isinstance(x, qml.pauli.PauliSentence):\n",
    "#         ps = x\n",
    "#     if isinstance(x, qml.operation.Operator):\n",
    "#         if getattr(x, \"pauli_rep\", None) is not None:\n",
    "#             ps = x.pauli_rep\n",
    "#     ps.simplify()\n",
    "#     new_ps = {}\n",
    "#     for pw, val in ps.items():\n",
    "#         num_y = sum(p == \"Y\" for p in pw.values())\n",
    "#         new_ps[pw] = val * (-1)**(1 + num_y)\n",
    "#     new_ps = qml.pauli.PauliSentence(new_ps)\n",
    "#     if is_ps:\n",
    "#         return new_ps\n",
    "#     return new_ps.operation()\n",
    "    \n",
    "# assert qml.equal(involution_AI(H_sub), qml.simplify(-H_sub))\n",
    "# assert qml.equal(involution_AI(H), qml.simplify(-H))"
   ]
  },
  {
   "cell_type": "code",
   "execution_count": null,
   "id": "1f61c5a3-af6e-4187-a606-6eb35f42e553",
   "metadata": {
    "execution": {
     "iopub.status.busy": "2024-11-20T20:01:57.936825Z",
     "iopub.status.idle": "2024-11-20T20:01:57.936996Z",
     "shell.execute_reply": "2024-11-20T20:01:57.936918Z",
     "shell.execute_reply.started": "2024-11-20T20:01:57.936911Z"
    }
   },
   "outputs": [],
   "source": [
    "# from pennylane.labs.dla import AI, cartan_decomposition\n",
    "\n",
    "# k_1, m_1 = cartan_decomposition(g_1, AI)\n",
    "# g_1_dec = k_1 + m_1\n",
    "\n",
    "# so_n_dim = (n ** 2 - n) // 2\n",
    "# print(f\"Subalgebra has dimension {len(k_1)}. Dimension of [so(n) (+) so(n)] (+) [so(n) (+) so(n)]: {4 * so_n_dim}\")"
   ]
  },
  {
   "cell_type": "code",
   "execution_count": null,
   "id": "b189d226-4cb6-4e77-a3e6-84ea35b9b554",
   "metadata": {
    "execution": {
     "iopub.status.busy": "2024-11-20T20:01:57.937668Z",
     "iopub.status.idle": "2024-11-20T20:01:57.937832Z",
     "shell.execute_reply": "2024-11-20T20:01:57.937762Z",
     "shell.execute_reply.started": "2024-11-20T20:01:57.937755Z"
    }
   },
   "outputs": [],
   "source": [
    "# from pennylane.labs.dla import cartan_subalgebra\n",
    "\n",
    "# adj = qml.structure_constants(g_1_dec)\n",
    "# g_1_dec, k_1, mtilde_1, a_1, adj = cartan_subalgebra(g_1_dec, k_1, m_1, adj)\n",
    "# print(len(a_1))"
   ]
  },
  {
   "cell_type": "code",
   "execution_count": null,
   "id": "d01f1afc-e3f3-41d4-8a48-76375a306ba9",
   "metadata": {
    "execution": {
     "iopub.status.busy": "2024-11-20T20:01:57.938149Z",
     "iopub.status.idle": "2024-11-20T20:01:57.938302Z",
     "shell.execute_reply": "2024-11-20T20:01:57.938228Z",
     "shell.execute_reply.started": "2024-11-20T20:01:57.938221Z"
    }
   },
   "outputs": [],
   "source": [
    "# from pennylane.labs.dla import variational_kak\n",
    "\n",
    "# dims = (len(k_1), len(mtilde_1), len(a_1))\n",
    "# vec_a, theta_opt = variational_kak(H_sub, g_1_dec, dims, adj, verbose=2, opt_kwargs={\"n_epochs\": 3000}, pick_min=True)\n"
   ]
  },
  {
   "cell_type": "code",
   "execution_count": null,
   "id": "40c301cc-423f-4ebe-a0ec-a7328aee072d",
   "metadata": {
    "execution": {
     "iopub.status.busy": "2024-11-20T20:01:57.938814Z",
     "iopub.status.idle": "2024-11-20T20:01:57.938973Z",
     "shell.execute_reply": "2024-11-20T20:01:57.938904Z",
     "shell.execute_reply.started": "2024-11-20T20:01:57.938895Z"
    }
   },
   "outputs": [],
   "source": [
    "# g_min = qml.lie_closure(ops_sub + ops_ext[:1])\n",
    "# print(len(g_min))\n",
    "# g_max = qml.lie_closure(ops_sub + ops_ext)\n",
    "# print(len(g_max))\n",
    "# print(2*(4**(n-1)-1)) # su(n-1) (+) su(n-1)  with transverse field\n",
    "# print((4**(n-1)-1)) # su(n-1) without transverse field odd n\n",
    "# print(4 * (4**(n-2)-1)) # su(n-1) (+) su(n-1) (+) su(n-1) (+) su(n-1) without transverse field even n"
   ]
  },
  {
   "cell_type": "code",
   "execution_count": null,
   "id": "75821fcd-96b4-458f-8559-9ede5f7ba2ad",
   "metadata": {
    "execution": {
     "iopub.status.busy": "2024-11-20T20:01:57.939557Z",
     "iopub.status.idle": "2024-11-20T20:01:57.939747Z",
     "shell.execute_reply": "2024-11-20T20:01:57.939653Z",
     "shell.execute_reply.started": "2024-11-20T20:01:57.939645Z"
    }
   },
   "outputs": [],
   "source": [
    "# idx = 14\n",
    "# import matplotlib.pyplot as plt\n",
    "\n",
    "# g = g_max\n",
    "# adj = qml.structure_constants(g)\n",
    "\n",
    "# ncol = 5\n",
    "# fig, axs = plt.subplots(int(np.ceil(len(g)/ncol)), ncol, figsize=(15, 15))\n",
    "\n",
    "# seps = [8, 16]\n",
    "\n",
    "# for idx in range(len(g)):\n",
    "#     idx_row = idx // ncol\n",
    "#     idx_col = idx % ncol\n",
    "#     ax = axs[idx_row, idx_col]\n",
    "#     ax.imshow(adj[:, idx], cmap=\"PiYG\")\n",
    "#     for sep in seps:\n",
    "#         ax.plot([sep-0.5] * 2, [-0.5, len(g)-0.5], c=\"k\", lw=0.5)\n",
    "#         ax.plot([-0.5, len(g)-0.5], [sep-0.5] * 2, c=\"k\", lw=0.5)"
   ]
  },
  {
   "cell_type": "code",
   "execution_count": null,
   "id": "015123f5-bd71-4fa0-9013-a622536a8377",
   "metadata": {
    "execution": {
     "iopub.status.busy": "2024-11-20T20:01:57.940408Z",
     "iopub.status.idle": "2024-11-20T20:01:57.940559Z",
     "shell.execute_reply": "2024-11-20T20:01:57.940491Z",
     "shell.execute_reply.started": "2024-11-20T20:01:57.940484Z"
    }
   },
   "outputs": [],
   "source": [
    "# maxs = []\n",
    "# for n in range(2, 12):\n",
    "#     pbc = False\n",
    "#     transverse_field = True\n",
    "#     num_couplings = n if pbc else n-1\n",
    "    \n",
    "#     h = np.ones((2, num_couplings))\n",
    "#     alpha = np.ones(n)\n",
    "    \n",
    "#     ops_sub = [X(i) @ X((i+1)%n) for i in range(num_couplings)] + [Y(i) @ Y((i+1)%n) for i in range(num_couplings)]\n",
    "#     if transverse_field:\n",
    "#         ops_sub += [Z(i) for i in range(n)]\n",
    "#     # ops_ext = [Z(i) @ Z((i+1)%n) for i in range(num_couplings)]\n",
    "#     if transverse_field:\n",
    "#         H_sub = qml.dot(np.concatenate([h[0], h[1], alpha]), ops_sub)\n",
    "#     else:\n",
    "#         H_sub = qml.dot(np.concatenate([h[0], h[1]]), ops_sub)\n",
    "#     # H_ext = qml.dot(h[2], ops_ext)\n",
    "#     # H = H_sub + H_ext\n",
    "#     eigvals = qml.eigvals(H_sub)\n",
    "#     print(f\"{n=}: {np.min(eigvals)}     {np.max(eigvals)/n}\")\n",
    "#     maxs.append(np.max(eigvals)/n)"
   ]
  },
  {
   "cell_type": "code",
   "execution_count": null,
   "id": "66983b62-726a-4f92-89ab-6abb74d9dec2",
   "metadata": {
    "execution": {
     "iopub.status.busy": "2024-11-20T20:01:57.940873Z",
     "iopub.status.idle": "2024-11-20T20:01:57.941099Z",
     "shell.execute_reply": "2024-11-20T20:01:57.941025Z",
     "shell.execute_reply.started": "2024-11-20T20:01:57.941018Z"
    }
   },
   "outputs": [],
   "source": [
    "# plt.plot(maxs)"
   ]
  },
  {
   "cell_type": "code",
   "execution_count": null,
   "id": "9d7c21e2-51fa-4f64-86a7-3c9ef67b71cf",
   "metadata": {},
   "outputs": [],
   "source": []
  }
 ],
 "metadata": {
  "kernelspec": {
   "display_name": "Python 3 (ipykernel)",
   "language": "python",
   "name": "python3"
  },
  "language_info": {
   "codemirror_mode": {
    "name": "ipython",
    "version": 3
   },
   "file_extension": ".py",
   "mimetype": "text/x-python",
   "name": "python",
   "nbconvert_exporter": "python",
   "pygments_lexer": "ipython3",
   "version": "3.10.12"
  }
 },
 "nbformat": 4,
 "nbformat_minor": 5
}

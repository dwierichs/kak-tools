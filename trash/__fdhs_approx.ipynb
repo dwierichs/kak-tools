{
 "cells": [
  {
   "cell_type": "markdown",
   "id": "bb67515b-5892-478c-b31f-77a20c4ef72c",
   "metadata": {},
   "source": [
    "## Non-variational fixed-depth Hamiltonian simulation\n",
    "\n",
    "Here we time the FDHS example with non-variational KAK decomposition."
   ]
  },
  {
   "cell_type": "code",
   "execution_count": 17,
   "id": "a78e07f6-0c7a-4b6d-9b67-7b7bbad8bc3d",
   "metadata": {
    "execution": {
     "iopub.execute_input": "2025-01-28T10:36:11.066306Z",
     "iopub.status.busy": "2025-01-28T10:36:11.065943Z",
     "iopub.status.idle": "2025-01-28T10:36:11.070452Z",
     "shell.execute_reply": "2025-01-28T10:36:11.069632Z",
     "shell.execute_reply.started": "2025-01-28T10:36:11.066294Z"
    }
   },
   "outputs": [],
   "source": [
    "from itertools import combinations, product\n",
    "import numpy as np\n",
    "import time\n",
    "np.random.seed(2415)\n",
    "from scipy.linalg import expm, logm\n",
    "from scipy.optimize import curve_fit\n",
    "import matplotlib.pyplot as plt\n",
    "from tqdm import tqdm\n",
    "import jax\n",
    "jax.config.update(\"jax_enable_x64\", True)\n",
    "\n",
    "import pennylane as qml\n",
    "from pennylane import X, Y, Z, I\n",
    "\n",
    "from kak_tools import (\n",
    "    map_simple_to_irrep,\n",
    "    map_irrep_to_matrices,\n",
    "    lie_closure_pauli_words,\n",
    "    recursive_bdi,\n",
    "    map_recursive_decomp_to_reducible,\n",
    "    map_recursive_decomp_to_reducible_str,\n",
    "    irrep_dot,\n",
    "    make_signs,\n",
    "    make_so_2n,\n",
    "    make_so_2n_horizontal_mapping,\n",
    "    make_so_2n_full_mapping,\n",
    "    make_so_2n_full_mapping_str,\n",
    "    round_mult_recursive_decomp_str,\n",
    ")\n",
    "from memory_profiler import profile"
   ]
  },
  {
   "cell_type": "code",
   "execution_count": 18,
   "id": "03bc9084-c269-4e46-b6fb-7c0ed0948173",
   "metadata": {
    "execution": {
     "iopub.execute_input": "2025-01-28T10:36:13.521112Z",
     "iopub.status.busy": "2025-01-28T10:36:13.520875Z",
     "iopub.status.idle": "2025-01-28T10:36:13.532252Z",
     "shell.execute_reply": "2025-01-28T10:36:13.531813Z",
     "shell.execute_reply.started": "2025-01-28T10:36:13.521093Z"
    }
   },
   "outputs": [],
   "source": [
    "# Helper functions\n",
    "def make_so_2n_hamiltonian(n, coefficients=\"random\"):\n",
    "    couplings = [X(w) @ X(w+1) for w in range(n-1)] + [Y(w) @ Y(w+1) for w in range(n-1)]\n",
    "    Zs = [Z(w) for w in range(n)]\n",
    "    generators = couplings + Zs\n",
    "    if coefficients == \"random\":\n",
    "        alphas = np.random.normal(0.6, 1., size=n-1)\n",
    "        betas = np.random.normal(0.3, 1.2, size=n-1)\n",
    "        gammas = np.random.normal(0., 0.3, size=n)\n",
    "    elif coefficients == \"random TF\":\n",
    "        alphas = np.ones(n-1)\n",
    "        betas = np.ones(n-1)\n",
    "        gammas = np.random.normal(0., 0.3, size=n)\n",
    "    elif coefficients == \"uniform\":\n",
    "        alphas = np.ones(n-1)\n",
    "        betas = np.ones(n-1)\n",
    "        gammas = np.ones(n)\n",
    "    \n",
    "    coeffs = np.concatenate([alphas, betas, gammas])\n",
    "    coeffs /= np.linalg.norm(coeffs) # Normalization\n",
    "    H = qml.dot(coeffs, generators)\n",
    "    generators = [next(iter(op.pauli_rep)) for op in generators]\n",
    "    return H, generators, coeffs\n",
    "\n",
    "\n",
    "# Helper functions\n",
    "def make_so_2n_hamiltonian_str(n, coefficients=\"random\"):\n",
    "    generators = (\n",
    "        [f\"{i}X0X{n-i-2}\" for i in range(n-1)]\n",
    "        + [f\"{i}Y0Y{n-i-2}\" for i in range(n-1)]\n",
    "        + [f\"{i}Z{n-i-1}\" for i in range(n-1)]\n",
    "    )\n",
    "    # print(generators)\n",
    "    if coefficients == \"random\":\n",
    "        alphas = np.random.normal(0.6, 1., size=n-1)\n",
    "        betas = np.random.normal(0.3, 1.2, size=n-1)\n",
    "        gammas = np.random.normal(0., 0.3, size=n)\n",
    "    elif coefficients == \"random TF\":\n",
    "        alphas = np.ones(n-1)\n",
    "        betas = np.ones(n-1)\n",
    "        gammas = np.random.normal(0., 0.3, size=n)\n",
    "    elif coefficients == \"uniform\":\n",
    "        alphas = np.ones(n-1)\n",
    "        betas = np.ones(n-1)\n",
    "        gammas = np.ones(n)\n",
    "    \n",
    "    coeffs = np.concatenate([alphas, betas, gammas])\n",
    "    coeffs /= np.linalg.norm(coeffs) # Normalization\n",
    "    return generators, coeffs"
   ]
  },
  {
   "cell_type": "code",
   "execution_count": 19,
   "id": "a560da69-fcf0-4ccb-9d32-48e2b414b9f6",
   "metadata": {
    "execution": {
     "iopub.execute_input": "2025-01-28T10:36:18.818895Z",
     "iopub.status.busy": "2025-01-28T10:36:18.818693Z",
     "iopub.status.idle": "2025-01-28T10:36:18.822212Z",
     "shell.execute_reply": "2025-01-28T10:36:18.821893Z",
     "shell.execute_reply.started": "2025-01-28T10:36:18.818881Z"
    }
   },
   "outputs": [
    {
     "name": "stdout",
     "output_type": "stream",
     "text": [
      "[50]\n"
     ]
    }
   ],
   "source": [
    "# Config\n",
    "\n",
    "coefficients = \"random\"\n",
    "use_predefined_algebra = True\n",
    "use_predefined_horizontal_mapping = True\n",
    "use_hardcoded_mapping = True\n",
    "ns = np.arange(2, 23, dtype=int) ** 2\n",
    "num_reps = 1\n",
    "tols = list(10.**np.linspace(-3, -1, 10))\n",
    "ns = [50]\n",
    "print(ns)"
   ]
  },
  {
   "cell_type": "code",
   "execution_count": 20,
   "id": "814eb5a4-5913-4692-a295-eceb091d1337",
   "metadata": {
    "execution": {
     "iopub.execute_input": "2025-01-28T10:36:20.286728Z",
     "iopub.status.busy": "2025-01-28T10:36:20.286292Z",
     "iopub.status.idle": "2025-01-28T10:36:20.292169Z",
     "shell.execute_reply": "2025-01-28T10:36:20.291630Z",
     "shell.execute_reply.started": "2025-01-28T10:36:20.286697Z"
    }
   },
   "outputs": [],
   "source": [
    "# @profile\n",
    "def run(n, coefficients, tol, algebra=None):\n",
    "    if algebra is not None:\n",
    "        raise ValueError\n",
    "    # H, generators, coeffs = make_so_2n_hamiltonian(n, coefficients)\n",
    "    generators, coeffs = make_so_2n_hamiltonian_str(n, coefficients)\n",
    "    n_so = 2 * n\n",
    "    so_dim = (n_so**2-n_so) // 2\n",
    "    print(\"hamiltonian done\")\n",
    "    \n",
    "    ################################################\n",
    "    start = time.process_time()\n",
    "    # assert len(algebra) == so_dim, f\"{len(algebra)}, {so_dim}\"\n",
    "\n",
    "    ###   ###   ###   ###   ###   ###   ###   ###   ###\n",
    "    start_mapping = time.process_time()\n",
    "    \n",
    "    # if not use_hardcoded_mapping:\n",
    "    #     if use_predefined_horizontal_mapping:\n",
    "    #         horizontal_ops = make_so_2n_horizontal_mapping(n)\n",
    "    #     else:\n",
    "    #         horizontal_ops = generators\n",
    "    #     # print(f\"Mapping simple to irrep\")\n",
    "    #     mapping, signs = map_simple_to_irrep(algebra, horizontal_ops=horizontal_ops, n=n_so, invol_type=\"BDI\", invol_kwargs={\"p\": n_so//2, \"q\": (n_so+1)//2})\n",
    "    #     # print(f\"Mapping irrep to matrices\")\n",
    "    # else:\n",
    "    mapping = make_so_2n_full_mapping_str(n)\n",
    "    # signs = make_signs(mapping, n_so, \"BDI\")\n",
    "\n",
    "    end_mapping = time.process_time()\n",
    "    ###   ###   ###   ###   ###   ###   ###   ###   ###\n",
    "    print(\"mapping done\")\n",
    "    \n",
    "    epsilon = 0.01\n",
    "    # print(f\"Computing H and time evolution\")\n",
    "    H_irrep = irrep_dot(coeffs, generators, mapping, n=n_so, invol_type=\"BDI\")\n",
    "    U = expm(epsilon * H_irrep)\n",
    "\n",
    "    ###   ###   ###   ###   ###   ###   ###   ###   ###\n",
    "    start_decomposing = time.process_time()\n",
    "    recursive_decomp = recursive_bdi(U, n_so, validate=True)\n",
    "    end_decomposing = time.process_time()\n",
    "    ###   ###   ###   ###   ###   ###   ###   ###   ###\n",
    "\n",
    "    \n",
    "    ###   ###   ###   ###   ###   ###   ###   ###   ###\n",
    "    start_mapping_back = time.process_time()\n",
    "    pauli_decomp = map_recursive_decomp_to_reducible_str(recursive_decomp, mapping, time=epsilon, tol=tol)\n",
    "\n",
    "    U_rounded = round_mult_recursive_decomp_str(recursive_decomp, time=epsilon, n_so=n_so, tol=tol)\n",
    "    assert np.allclose(U_rounded @ U_rounded.T, np.eye(n_so))\n",
    "    \n",
    "    error_unitary = expm(-H_irrep) @ U_rounded\n",
    "    assert np.allclose(error_unitary @ error_unitary.T, np.eye(n_so))\n",
    "    # print(error_unitary)\n",
    "    error_generator = logm(error_unitary)\n",
    "    error_norm = np.linalg.norm(np.triu(error_generator / 2), ord=\"fro\")\n",
    "    print(f\"tol: {tol}, error: {error_norm}\")\n",
    "    # wire_map = {i: i for i in range(n)}\n",
    "    # paulirot_decomp = [(coeff, qml.pauli.pauli_word_to_string(pw, wire_map), pw.wires, _type) for pw, coeff, _type in pauli_decomp]\n",
    "    end_mapping_back = time.process_time()\n",
    "    ###   ###   ###   ###   ###   ###   ###   ###   ###\n",
    "    \n",
    "    end = time.process_time()\n",
    "    ################################################\n",
    "\n",
    "    t_map = end_mapping - start_mapping\n",
    "    t_dec = end_decomposing - start_decomposing\n",
    "    t_map_back = end_mapping_back - start_mapping_back\n",
    "    return pauli_decomp, t_map, t_dec, t_map_back, end - start, end - start - t_map - t_map_back - t_dec"
   ]
  },
  {
   "cell_type": "code",
   "execution_count": 21,
   "id": "b61313c3-9220-470a-b4c5-2e145f527889",
   "metadata": {
    "execution": {
     "iopub.execute_input": "2025-01-28T10:36:21.360082Z",
     "iopub.status.busy": "2025-01-28T10:36:21.359890Z",
     "iopub.status.idle": "2025-01-28T10:36:26.794896Z",
     "shell.execute_reply": "2025-01-28T10:36:26.794491Z",
     "shell.execute_reply.started": "2025-01-28T10:36:21.360066Z"
    }
   },
   "outputs": [
    {
     "name": "stdout",
     "output_type": "stream",
     "text": [
      "algebra done\n"
     ]
    },
    {
     "name": "stderr",
     "output_type": "stream",
     "text": [
      "  0%|                                                                                                                                                                                        | 0/1 [00:00<?, ?it/s]"
     ]
    },
    {
     "name": "stdout",
     "output_type": "stream",
     "text": [
      "hamiltonian done\n",
      "mapping done\n"
     ]
    },
    {
     "name": "stderr",
     "output_type": "stream",
     "text": [
      "/home/david/repos/kak-tools/kak_tools/dense_cartan.py:205: RuntimeWarning: invalid value encountered in arcsin\n",
      "  angle = np.arcsin(matrix[i, j])\n",
      "100%|████████████████████████████████████████████████████████████████████████████████████████████████████████████████████████████████████████████████████████████████████████████████| 1/1 [00:00<00:00,  1.87it/s]\n"
     ]
    },
    {
     "name": "stdout",
     "output_type": "stream",
     "text": [
      "tol: 0.001, error: 1.2133720811855278\n",
      "Decomposed exp(iHt) on 50 qubits into 4612 Pauli rotations (DLA dimension: 4950, Duration: 1.02s).\n",
      "algebra done\n"
     ]
    },
    {
     "name": "stderr",
     "output_type": "stream",
     "text": [
      "  0%|                                                                                                                                                                                        | 0/1 [00:00<?, ?it/s]"
     ]
    },
    {
     "name": "stdout",
     "output_type": "stream",
     "text": [
      "hamiltonian done\n",
      "mapping done\n"
     ]
    },
    {
     "name": "stderr",
     "output_type": "stream",
     "text": [
      "100%|████████████████████████████████████████████████████████████████████████████████████████████████████████████████████████████████████████████████████████████████████████████████| 1/1 [00:00<00:00,  1.80it/s]\n"
     ]
    },
    {
     "name": "stdout",
     "output_type": "stream",
     "text": [
      "tol: 0.0016681005372000592, error: 1.434715483348094\n",
      "Decomposed exp(iHt) on 50 qubits into 4545 Pauli rotations (DLA dimension: 4950, Duration: 1.08s).\n",
      "algebra done\n"
     ]
    },
    {
     "name": "stderr",
     "output_type": "stream",
     "text": [
      "  0%|                                                                                                                                                                                        | 0/1 [00:00<?, ?it/s]"
     ]
    },
    {
     "name": "stdout",
     "output_type": "stream",
     "text": [
      "hamiltonian done\n",
      "mapping done\n"
     ]
    },
    {
     "name": "stderr",
     "output_type": "stream",
     "text": [
      "100%|████████████████████████████████████████████████████████████████████████████████████████████████████████████████████████████████████████████████████████████████████████████████| 1/1 [00:00<00:00,  1.81it/s]\n"
     ]
    },
    {
     "name": "stdout",
     "output_type": "stream",
     "text": [
      "tol: 0.0027825594022071257, error: 1.4623264433801133\n",
      "Decomposed exp(iHt) on 50 qubits into 4574 Pauli rotations (DLA dimension: 4950, Duration: 1.06s).\n",
      "algebra done\n"
     ]
    },
    {
     "name": "stderr",
     "output_type": "stream",
     "text": [
      "  0%|                                                                                                                                                                                        | 0/1 [00:00<?, ?it/s]"
     ]
    },
    {
     "name": "stdout",
     "output_type": "stream",
     "text": [
      "hamiltonian done\n",
      "mapping done\n"
     ]
    },
    {
     "name": "stderr",
     "output_type": "stream",
     "text": [
      "100%|████████████████████████████████████████████████████████████████████████████████████████████████████████████████████████████████████████████████████████████████████████████████| 1/1 [00:00<00:00,  1.74it/s]\n"
     ]
    },
    {
     "name": "stdout",
     "output_type": "stream",
     "text": [
      "tol: 0.004641588833612777, error: 1.3018430811674524\n",
      "Decomposed exp(iHt) on 50 qubits into 4500 Pauli rotations (DLA dimension: 4950, Duration: 1.12s).\n",
      "algebra done\n"
     ]
    },
    {
     "name": "stderr",
     "output_type": "stream",
     "text": [
      "  0%|                                                                                                                                                                                        | 0/1 [00:00<?, ?it/s]"
     ]
    },
    {
     "name": "stdout",
     "output_type": "stream",
     "text": [
      "hamiltonian done\n",
      "mapping done\n"
     ]
    },
    {
     "name": "stderr",
     "output_type": "stream",
     "text": [
      "100%|████████████████████████████████████████████████████████████████████████████████████████████████████████████████████████████████████████████████████████████████████████████████| 1/1 [00:00<00:00,  1.93it/s]\n"
     ]
    },
    {
     "name": "stdout",
     "output_type": "stream",
     "text": [
      "tol: 0.007742636826811269, error: 1.2984035527245381\n",
      "Decomposed exp(iHt) on 50 qubits into 4467 Pauli rotations (DLA dimension: 4950, Duration: 1.01s).\n",
      "algebra done\n"
     ]
    },
    {
     "name": "stderr",
     "output_type": "stream",
     "text": [
      "  0%|                                                                                                                                                                                        | 0/1 [00:00<?, ?it/s]"
     ]
    },
    {
     "name": "stdout",
     "output_type": "stream",
     "text": [
      "hamiltonian done\n",
      "mapping done\n"
     ]
    },
    {
     "name": "stderr",
     "output_type": "stream",
     "text": [
      "100%|████████████████████████████████████████████████████████████████████████████████████████████████████████████████████████████████████████████████████████████████████████████████| 1/1 [00:00<00:00,  1.74it/s]\n"
     ]
    },
    {
     "name": "stdout",
     "output_type": "stream",
     "text": [
      "tol: 0.01291549665014884, error: 1.4051445309018107\n",
      "Decomposed exp(iHt) on 50 qubits into 4446 Pauli rotations (DLA dimension: 4950, Duration: 1.09s).\n",
      "algebra done\n"
     ]
    },
    {
     "name": "stderr",
     "output_type": "stream",
     "text": [
      "  0%|                                                                                                                                                                                        | 0/1 [00:00<?, ?it/s]"
     ]
    },
    {
     "name": "stdout",
     "output_type": "stream",
     "text": [
      "hamiltonian done\n",
      "mapping done\n"
     ]
    },
    {
     "name": "stderr",
     "output_type": "stream",
     "text": [
      "100%|████████████████████████████████████████████████████████████████████████████████████████████████████████████████████████████████████████████████████████████████████████████████| 1/1 [00:00<00:00,  1.93it/s]\n"
     ]
    },
    {
     "name": "stdout",
     "output_type": "stream",
     "text": [
      "tol: 0.021544346900318832, error: 1.4294152488362606\n",
      "Decomposed exp(iHt) on 50 qubits into 4398 Pauli rotations (DLA dimension: 4950, Duration: 1.02s).\n",
      "algebra done\n"
     ]
    },
    {
     "name": "stderr",
     "output_type": "stream",
     "text": [
      "  0%|                                                                                                                                                                                        | 0/1 [00:00<?, ?it/s]"
     ]
    },
    {
     "name": "stdout",
     "output_type": "stream",
     "text": [
      "hamiltonian done\n",
      "mapping done\n"
     ]
    },
    {
     "name": "stderr",
     "output_type": "stream",
     "text": [
      "100%|████████████████████████████████████████████████████████████████████████████████████████████████████████████████████████████████████████████████████████████████████████████████| 1/1 [00:00<00:00,  1.82it/s]\n"
     ]
    },
    {
     "name": "stdout",
     "output_type": "stream",
     "text": [
      "tol: 0.03593813663804626, error: 1.4461703811669544\n",
      "Decomposed exp(iHt) on 50 qubits into 4345 Pauli rotations (DLA dimension: 4950, Duration: 1.08s).\n",
      "algebra done\n"
     ]
    },
    {
     "name": "stderr",
     "output_type": "stream",
     "text": [
      "  0%|                                                                                                                                                                                        | 0/1 [00:00<?, ?it/s]"
     ]
    },
    {
     "name": "stdout",
     "output_type": "stream",
     "text": [
      "hamiltonian done\n",
      "mapping done\n"
     ]
    },
    {
     "name": "stderr",
     "output_type": "stream",
     "text": [
      "100%|████████████████████████████████████████████████████████████████████████████████████████████████████████████████████████████████████████████████████████████████████████████████| 1/1 [00:00<00:00,  1.91it/s]\n"
     ]
    },
    {
     "name": "stdout",
     "output_type": "stream",
     "text": [
      "tol: 0.05994842503189409, error: 1.4336192985194618\n",
      "Decomposed exp(iHt) on 50 qubits into 4185 Pauli rotations (DLA dimension: 4950, Duration: 1.03s).\n",
      "algebra done\n"
     ]
    },
    {
     "name": "stderr",
     "output_type": "stream",
     "text": [
      "  0%|                                                                                                                                                                                        | 0/1 [00:00<?, ?it/s]"
     ]
    },
    {
     "name": "stdout",
     "output_type": "stream",
     "text": [
      "hamiltonian done\n",
      "mapping done\n"
     ]
    },
    {
     "name": "stderr",
     "output_type": "stream",
     "text": [
      "100%|████████████████████████████████████████████████████████████████████████████████████████████████████████████████████████████████████████████████████████████████████████████████| 1/1 [00:00<00:00,  1.98it/s]"
     ]
    },
    {
     "name": "stdout",
     "output_type": "stream",
     "text": [
      "tol: 0.1, error: 1.376749604594342\n",
      "Decomposed exp(iHt) on 50 qubits into 4036 Pauli rotations (DLA dimension: 4950, Duration: 0.989s).\n"
     ]
    },
    {
     "name": "stderr",
     "output_type": "stream",
     "text": [
      "\n"
     ]
    }
   ],
   "source": [
    "Times_mapping = []\n",
    "Times_decomposing = []\n",
    "Times_mapping_back = []\n",
    "Times_rest = []\n",
    "Times_total = []\n",
    "\n",
    "\n",
    "for tol in tols:\n",
    "    for n in ns:\n",
    "        n = int(n)\n",
    "        n_so = 2 * n\n",
    "        so_dim = (n_so**2-n_so) // 2\n",
    "        \n",
    "        times_mapping = []\n",
    "        times_decomposing = []\n",
    "        times_mapping_back = []\n",
    "        times_rest = []\n",
    "        times_total = []\n",
    "        # if use_predefined_algebra:\n",
    "        #     algebra = make_so_2n(n)\n",
    "        # else:\n",
    "        #     algebra = lie_closure_pauli_words(generators, verbose=False)\n",
    "        print(\"algebra done\")\n",
    "        for _ in tqdm(range(num_reps)):\n",
    "            paulirot_decomp, t_map, t_dec, t_map_back, t_tot, t_r = run(n, coefficients, algebra=None, tol=tol)\n",
    "            times_mapping.append(t_map)\n",
    "            times_decomposing.append(t_dec)\n",
    "            times_mapping_back.append(t_map_back)\n",
    "            times_total.append(t_tot)\n",
    "            times_rest.append(t_r)\n",
    "            \n",
    "            print(f\"Decomposed exp(iHt) on {n} qubits into {len(paulirot_decomp)} Pauli rotations (DLA dimension: {so_dim}, Duration: {times_total[-1]:.3}s).\")\n",
    "        Times_mapping.append(np.mean(times_mapping))\n",
    "        Times_decomposing.append(np.mean(times_decomposing))\n",
    "        Times_mapping_back.append(np.mean(times_mapping_back))\n",
    "        Times_total.append(np.mean(times_total))\n",
    "        Times_rest.append(np.mean(times_rest))"
   ]
  },
  {
   "cell_type": "code",
   "execution_count": 6,
   "id": "e1f0de6e-a9a8-4dd0-a34a-e2679305c6e8",
   "metadata": {
    "execution": {
     "iopub.execute_input": "2025-01-28T10:26:33.157239Z",
     "iopub.status.busy": "2025-01-28T10:26:33.157054Z",
     "iopub.status.idle": "2025-01-28T10:26:33.895425Z",
     "shell.execute_reply": "2025-01-28T10:26:33.894692Z",
     "shell.execute_reply.started": "2025-01-28T10:26:33.157224Z"
    }
   },
   "outputs": [
    {
     "name": "stderr",
     "output_type": "stream",
     "text": [
      "/tmp/ipykernel_162604/25188044.py:8: RuntimeWarning: invalid value encountered in power\n",
      "  f = lambda x, a, b: (b * x)**a\n",
      "/tmp/ipykernel_162604/25188044.py:12: OptimizeWarning: Covariance of the parameters could not be estimated\n",
      "  popt, pcov = curve_fit(f, ns[:len(times)], times)\n"
     ]
    },
    {
     "ename": "ValueError",
     "evalue": "x and y must have same first dimension, but have shapes (1,) and (2,)",
     "output_type": "error",
     "traceback": [
      "\u001b[0;31m---------------------------------------------------------------------------\u001b[0m",
      "\u001b[0;31mValueError\u001b[0m                                Traceback (most recent call last)",
      "Cell \u001b[0;32mIn[6], line 18\u001b[0m\n\u001b[1;32m     15\u001b[0m cont_ns \u001b[38;5;241m=\u001b[39m np\u001b[38;5;241m.\u001b[39mlinspace(ns[\u001b[38;5;241m0\u001b[39m], ns[\u001b[38;5;241m-\u001b[39m\u001b[38;5;241m1\u001b[39m], \u001b[38;5;241m100\u001b[39m)\n\u001b[1;32m     17\u001b[0m ax \u001b[38;5;241m=\u001b[39m axs[\u001b[38;5;241m0\u001b[39m]\n\u001b[0;32m---> 18\u001b[0m \u001b[43max\u001b[49m\u001b[38;5;241;43m.\u001b[39;49m\u001b[43mplot\u001b[49m\u001b[43m(\u001b[49m\u001b[43mns\u001b[49m\u001b[43m[\u001b[49m\u001b[43m:\u001b[49m\u001b[38;5;28;43mlen\u001b[39;49m\u001b[43m(\u001b[49m\u001b[43mtimes\u001b[49m\u001b[43m)\u001b[49m\u001b[43m]\u001b[49m\u001b[43m,\u001b[49m\u001b[43m \u001b[49m\u001b[43mtimes\u001b[49m\u001b[43m,\u001b[49m\u001b[43m \u001b[49m\u001b[43mmarker\u001b[49m\u001b[38;5;241;43m=\u001b[39;49m\u001b[38;5;124;43m\"\u001b[39;49m\u001b[38;5;124;43ms\u001b[39;49m\u001b[38;5;124;43m\"\u001b[39;49m\u001b[43m,\u001b[49m\u001b[43m \u001b[49m\u001b[43mc\u001b[49m\u001b[38;5;241;43m=\u001b[39;49m\u001b[43mc\u001b[49m\u001b[43m,\u001b[49m\u001b[43m \u001b[49m\u001b[43mlabel\u001b[49m\u001b[38;5;241;43m=\u001b[39;49m\u001b[43mlabel\u001b[49m\u001b[43m,\u001b[49m\u001b[43m \u001b[49m\u001b[43mls\u001b[49m\u001b[38;5;241;43m=\u001b[39;49m\u001b[38;5;124;43m\"\u001b[39;49m\u001b[38;5;124;43m\"\u001b[39;49m\u001b[43m)\u001b[49m\n\u001b[1;32m     19\u001b[0m \u001b[38;5;66;03m# ax.plot(cont_ns, np.exp(f(np.log(cont_ns), *popt)), ls = \"--\", c=\"xkcd:red pink\", label=f\"${popt[1]:.1f}n^{{{popt[0]:.2f}}}$\")\u001b[39;00m\n\u001b[1;32m     20\u001b[0m \u001b[38;5;28;01mif\u001b[39;00m \u001b[38;5;129;01mnot\u001b[39;00m skip_fit:\n",
      "File \u001b[0;32m~/venvs/dev/lib/python3.10/site-packages/matplotlib/axes/_axes.py:1777\u001b[0m, in \u001b[0;36mAxes.plot\u001b[0;34m(self, scalex, scaley, data, *args, **kwargs)\u001b[0m\n\u001b[1;32m   1534\u001b[0m \u001b[38;5;250m\u001b[39m\u001b[38;5;124;03m\"\"\"\u001b[39;00m\n\u001b[1;32m   1535\u001b[0m \u001b[38;5;124;03mPlot y versus x as lines and/or markers.\u001b[39;00m\n\u001b[1;32m   1536\u001b[0m \n\u001b[0;32m   (...)\u001b[0m\n\u001b[1;32m   1774\u001b[0m \u001b[38;5;124;03m(``'green'``) or hex strings (``'#008000'``).\u001b[39;00m\n\u001b[1;32m   1775\u001b[0m \u001b[38;5;124;03m\"\"\"\u001b[39;00m\n\u001b[1;32m   1776\u001b[0m kwargs \u001b[38;5;241m=\u001b[39m cbook\u001b[38;5;241m.\u001b[39mnormalize_kwargs(kwargs, mlines\u001b[38;5;241m.\u001b[39mLine2D)\n\u001b[0;32m-> 1777\u001b[0m lines \u001b[38;5;241m=\u001b[39m [\u001b[38;5;241m*\u001b[39m\u001b[38;5;28mself\u001b[39m\u001b[38;5;241m.\u001b[39m_get_lines(\u001b[38;5;28mself\u001b[39m, \u001b[38;5;241m*\u001b[39margs, data\u001b[38;5;241m=\u001b[39mdata, \u001b[38;5;241m*\u001b[39m\u001b[38;5;241m*\u001b[39mkwargs)]\n\u001b[1;32m   1778\u001b[0m \u001b[38;5;28;01mfor\u001b[39;00m line \u001b[38;5;129;01min\u001b[39;00m lines:\n\u001b[1;32m   1779\u001b[0m     \u001b[38;5;28mself\u001b[39m\u001b[38;5;241m.\u001b[39madd_line(line)\n",
      "File \u001b[0;32m~/venvs/dev/lib/python3.10/site-packages/matplotlib/axes/_base.py:297\u001b[0m, in \u001b[0;36m_process_plot_var_args.__call__\u001b[0;34m(self, axes, data, return_kwargs, *args, **kwargs)\u001b[0m\n\u001b[1;32m    295\u001b[0m     this \u001b[38;5;241m+\u001b[39m\u001b[38;5;241m=\u001b[39m args[\u001b[38;5;241m0\u001b[39m],\n\u001b[1;32m    296\u001b[0m     args \u001b[38;5;241m=\u001b[39m args[\u001b[38;5;241m1\u001b[39m:]\n\u001b[0;32m--> 297\u001b[0m \u001b[38;5;28;01myield from\u001b[39;00m \u001b[38;5;28;43mself\u001b[39;49m\u001b[38;5;241;43m.\u001b[39;49m\u001b[43m_plot_args\u001b[49m\u001b[43m(\u001b[49m\n\u001b[1;32m    298\u001b[0m \u001b[43m    \u001b[49m\u001b[43maxes\u001b[49m\u001b[43m,\u001b[49m\u001b[43m \u001b[49m\u001b[43mthis\u001b[49m\u001b[43m,\u001b[49m\u001b[43m \u001b[49m\u001b[43mkwargs\u001b[49m\u001b[43m,\u001b[49m\u001b[43m \u001b[49m\u001b[43mambiguous_fmt_datakey\u001b[49m\u001b[38;5;241;43m=\u001b[39;49m\u001b[43mambiguous_fmt_datakey\u001b[49m\u001b[43m,\u001b[49m\n\u001b[1;32m    299\u001b[0m \u001b[43m    \u001b[49m\u001b[43mreturn_kwargs\u001b[49m\u001b[38;5;241;43m=\u001b[39;49m\u001b[43mreturn_kwargs\u001b[49m\n\u001b[1;32m    300\u001b[0m \u001b[43m\u001b[49m\u001b[43m)\u001b[49m\n",
      "File \u001b[0;32m~/venvs/dev/lib/python3.10/site-packages/matplotlib/axes/_base.py:494\u001b[0m, in \u001b[0;36m_process_plot_var_args._plot_args\u001b[0;34m(self, axes, tup, kwargs, return_kwargs, ambiguous_fmt_datakey)\u001b[0m\n\u001b[1;32m    491\u001b[0m     axes\u001b[38;5;241m.\u001b[39myaxis\u001b[38;5;241m.\u001b[39mupdate_units(y)\n\u001b[1;32m    493\u001b[0m \u001b[38;5;28;01mif\u001b[39;00m x\u001b[38;5;241m.\u001b[39mshape[\u001b[38;5;241m0\u001b[39m] \u001b[38;5;241m!=\u001b[39m y\u001b[38;5;241m.\u001b[39mshape[\u001b[38;5;241m0\u001b[39m]:\n\u001b[0;32m--> 494\u001b[0m     \u001b[38;5;28;01mraise\u001b[39;00m \u001b[38;5;167;01mValueError\u001b[39;00m(\u001b[38;5;124mf\u001b[39m\u001b[38;5;124m\"\u001b[39m\u001b[38;5;124mx and y must have same first dimension, but \u001b[39m\u001b[38;5;124m\"\u001b[39m\n\u001b[1;32m    495\u001b[0m                      \u001b[38;5;124mf\u001b[39m\u001b[38;5;124m\"\u001b[39m\u001b[38;5;124mhave shapes \u001b[39m\u001b[38;5;132;01m{\u001b[39;00mx\u001b[38;5;241m.\u001b[39mshape\u001b[38;5;132;01m}\u001b[39;00m\u001b[38;5;124m and \u001b[39m\u001b[38;5;132;01m{\u001b[39;00my\u001b[38;5;241m.\u001b[39mshape\u001b[38;5;132;01m}\u001b[39;00m\u001b[38;5;124m\"\u001b[39m)\n\u001b[1;32m    496\u001b[0m \u001b[38;5;28;01mif\u001b[39;00m x\u001b[38;5;241m.\u001b[39mndim \u001b[38;5;241m>\u001b[39m \u001b[38;5;241m2\u001b[39m \u001b[38;5;129;01mor\u001b[39;00m y\u001b[38;5;241m.\u001b[39mndim \u001b[38;5;241m>\u001b[39m \u001b[38;5;241m2\u001b[39m:\n\u001b[1;32m    497\u001b[0m     \u001b[38;5;28;01mraise\u001b[39;00m \u001b[38;5;167;01mValueError\u001b[39;00m(\u001b[38;5;124mf\u001b[39m\u001b[38;5;124m\"\u001b[39m\u001b[38;5;124mx and y can be no greater than 2D, but have \u001b[39m\u001b[38;5;124m\"\u001b[39m\n\u001b[1;32m    498\u001b[0m                      \u001b[38;5;124mf\u001b[39m\u001b[38;5;124m\"\u001b[39m\u001b[38;5;124mshapes \u001b[39m\u001b[38;5;132;01m{\u001b[39;00mx\u001b[38;5;241m.\u001b[39mshape\u001b[38;5;132;01m}\u001b[39;00m\u001b[38;5;124m and \u001b[39m\u001b[38;5;132;01m{\u001b[39;00my\u001b[38;5;241m.\u001b[39mshape\u001b[38;5;132;01m}\u001b[39;00m\u001b[38;5;124m\"\u001b[39m)\n",
      "\u001b[0;31mValueError\u001b[0m: x and y must have same first dimension, but have shapes (1,) and (2,)"
     ]
    },
    {
     "data": {
      "image/png": "[encoded data removed]",
      "text/plain": [
       "<Figure size 1200x500 with 3 Axes>"
      ]
     },
     "metadata": {},
     "output_type": "display_data"
    }
   ],
   "source": [
    "fig, axs = plt.subplots(1, 3, figsize=(12, 5))\n",
    "all_times = [Times_total, Times_decomposing, Times_mapping, Times_mapping_back, Times_rest]\n",
    "colors = [\"xkcd:indigo\", \"xkcd:blue violet\", \"xkcd:red pink\", \"xkcd:orange yellow\", \"xkcd:seafoam green\"]\n",
    "labels = [\"Total\", \"Decomposing\", \"Mapping\", \"Mapping back\", \"Rest\"]\n",
    "accum_times = 0\n",
    "for times, label, c in zip(all_times, labels, colors):\n",
    "    # f = lambda x, a, b: a * x + b\n",
    "    f = lambda x, a, b: (b * x)**a\n",
    "    # popt, pcov = curve_fit(f, np.log(ns)[3:], np.log(times)[3:])\n",
    "    skip_fit = False\n",
    "    try:\n",
    "        popt, pcov = curve_fit(f, ns[:len(times)], times)\n",
    "    except:\n",
    "        skip_fit = True\n",
    "    cont_ns = np.linspace(ns[0], ns[-1], 100)\n",
    "    \n",
    "    ax = axs[0]\n",
    "    ax.plot(ns[:len(times)], times, marker=\"s\", c=c, label=label, ls=\"\")\n",
    "    # ax.plot(cont_ns, np.exp(f(np.log(cont_ns), *popt)), ls = \"--\", c=\"xkcd:red pink\", label=f\"${popt[1]:.1f}n^{{{popt[0]:.2f}}}$\")\n",
    "    if not skip_fit:\n",
    "        ax.plot(cont_ns, f(cont_ns, *popt), ls = \"--\", c=c, label=f\"$({popt[1]:.3f}n)^{{{popt[0]:.2f}}}$\")\n",
    "    ax.set_xlabel(\"Number of qubits $n$\")\n",
    "    ax.set_ylabel(\"Decomposition runtime $t$ / s\")\n",
    "    ax.legend()\n",
    "    \n",
    "    ax = axs[1]\n",
    "    ax.plot(np.log(ns[:len(times)]), np.log(times), marker=\"s\", c=c, label=label, ls=\"\")\n",
    "    # ax.plot(np.log(ns), f(np.log(ns), *popt), ls = \"--\", c=\"xkcd:red pink\", label=f\"${popt[0]:.2f}\\ \\log n {popt[1]:.1f}$\")\n",
    "    if not skip_fit:\n",
    "        ax.plot(np.log(cont_ns), np.log(f(cont_ns, *popt)), ls = \"--\", c=c, label=f\"${popt[0]:.2f}\\ \\log n {popt[0] * np.log(popt[1]):.2f}$\")\n",
    "    ax.set_xlabel(\"$\\log n$\")\n",
    "    ax.set_ylabel(\"$\\log (t/\\\\text{s})$\")\n",
    "    ax.legend()\n",
    "    \n",
    "    ax = axs[2]\n",
    "    if label!=\"Total\":\n",
    "        ax.bar(ns[:len(times)], times, bottom=accum_times, width=10, color=c, label=label)\n",
    "        accum_times += np.array(times)\n",
    "    ax.set_xlabel(\"Number of qubits $n$\")\n",
    "    ax.set_ylabel(\"Runtime $t$ / s\")\n",
    "    # ax.set_yscale(\"log\")\n",
    "    ax.legend()\n",
    "plt.savefig(\"../gfx/fdhs_performance.pdf\", dpi=300)"
   ]
  },
  {
   "cell_type": "code",
   "execution_count": null,
   "id": "8847165a-7eec-4b23-a38b-bb99159549c9",
   "metadata": {
    "execution": {
     "iopub.status.busy": "2025-01-28T10:26:33.895713Z",
     "iopub.status.idle": "2025-01-28T10:26:33.895872Z",
     "shell.execute_reply": "2025-01-28T10:26:33.895797Z",
     "shell.execute_reply.started": "2025-01-28T10:26:33.895791Z"
    }
   },
   "outputs": [],
   "source": [
    "print(times_rest[-1])\n",
    "# %prun make_so_2n_full_mapping(n)\n",
    "# %prun make_signs(mapping, n_so, \"BDI\")\n",
    "# %prun irrep_dot(coeffs, generators, mapping, signs, n=n_so, invol_type=\"BDI\") # 0.26\n",
    "# %prun expm(epsilon * H_irrep) # 0.02\n",
    "# %prun [(coeff, qml.pauli.pauli_word_to_string(pw, wire_map), pw.wires, _type) for pw, coeff, _type in pauli_decomp]\n",
    "# %prun recursive_bdi(U, n_so, validate=False)"
   ]
  },
  {
   "cell_type": "code",
   "execution_count": null,
   "id": "6a13a7c7-3228-4991-aa40-840e50d36ab9",
   "metadata": {},
   "outputs": [],
   "source": []
  },
  {
   "cell_type": "code",
   "execution_count": null,
   "id": "57e3be96-a8c0-48cb-a610-bb105153b886",
   "metadata": {},
   "outputs": [],
   "source": []
  }
 ],
 "metadata": {
  "kernelspec": {
   "display_name": "Python 3 (ipykernel)",
   "language": "python",
   "name": "python3"
  },
  "language_info": {
   "codemirror_mode": {
    "name": "ipython",
    "version": 3
   },
   "file_extension": ".py",
   "mimetype": "text/x-python",
   "name": "python",
   "nbconvert_exporter": "python",
   "pygments_lexer": "ipython3",
   "version": "3.10.12"
  }
 },
 "nbformat": 4,
 "nbformat_minor": 5
}
